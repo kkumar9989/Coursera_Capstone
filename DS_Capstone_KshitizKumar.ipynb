{
 "cells": [
  {
   "cell_type": "markdown",
   "metadata": {},
   "source": [
    "# Analysis: Ideal Location to Launch an Ice Cream Shop"
   ]
  },
  {
   "cell_type": "markdown",
   "metadata": {},
   "source": [
    "## Table of contents\n",
    "* [Introduction: Business Problem](#introduction)\n",
    "* [Data](#data)\n",
    "* [Methodology](#methodology)\n",
    "* [Analysis](#analysis)\n",
    "* [Results and Discussion](#results)\n",
    "* [Conclusion](#conclusion)"
   ]
  },
  {
   "cell_type": "markdown",
   "metadata": {},
   "source": [
    "## Introduction: Business Problem <a name=\"introduction\"></a>"
   ]
  },
  {
   "cell_type": "markdown",
   "metadata": {},
   "source": [
    "In this project we will be trying to find an optimal place to open a new ice cream shop. We will be focusing on the famous localities of the city of __Bangalore, India__ to find the best place.\n",
    "\n",
    "Our study will be based upon the thumb rule that ice cream is most popular among kids and youngsters compare to other age groups. Considering the same, we will try to find out which locality of Bangalore is the best combination of maximum number of schools and least number of ice cream shops (certainly to avoid the competition and make most profit).\n",
    "\n",
    "Later part we will also try to find the best match with respect to the land price, and check if the obtained result is also falling in your budget. \n",
    "\n",
    "This study can be used by any budding business man, who wants to open a new ice cream outlet in the city."
   ]
  },
  {
   "cell_type": "markdown",
   "metadata": {},
   "source": [
    "## Data <a name=\"data\"></a>"
   ]
  },
  {
   "cell_type": "markdown",
   "metadata": {},
   "source": [
    "Based upon the requirement we will be using below data sources for fetching our data:\n",
    "\n",
    "<li> For fetching the location information of Bangalore city and neighborhood areas we will be using <b>geopy</b> library</li>\n",
    "<li> For fetching the neighborhoods in the city we will be using data from <b>Citizen Matters</b> website</li>\n",
    "<li> For fetching the number of schools and number of ice cream shops we will be using <b>Foursquare API</b></li>\n",
    "<li> For comparing the results with the commercial shop rate we will be using data from <b>Citizen Matters</b> website</li>\n"
   ]
  },
  {
   "cell_type": "markdown",
   "metadata": {},
   "source": [
    "## Methodology <a name=\"methodology\"></a>"
   ]
  },
  {
   "cell_type": "markdown",
   "metadata": {},
   "source": [
    "##### Import Required Libraries"
   ]
  },
  {
   "cell_type": "code",
   "execution_count": 2,
   "metadata": {},
   "outputs": [
    {
     "name": "stdout",
     "output_type": "stream",
     "text": [
      "Collecting package metadata (current_repodata.json): done\n",
      "Solving environment: done\n",
      "\n",
      "## Package Plan ##\n",
      "\n",
      "  environment location: /home/jupyterlab/conda/envs/python\n",
      "\n",
      "  added / updated specs:\n",
      "    - geopy\n",
      "\n",
      "\n",
      "The following packages will be downloaded:\n",
      "\n",
      "    package                    |            build\n",
      "    ---------------------------|-----------------\n",
      "    geographiclib-1.50         |             py_0          34 KB  conda-forge\n",
      "    geopy-1.21.0               |             py_0          58 KB  conda-forge\n",
      "    openssl-1.1.1g             |       h516909a_0         2.1 MB  conda-forge\n",
      "    ------------------------------------------------------------\n",
      "                                           Total:         2.2 MB\n",
      "\n",
      "The following NEW packages will be INSTALLED:\n",
      "\n",
      "  geographiclib      conda-forge/noarch::geographiclib-1.50-py_0\n",
      "  geopy              conda-forge/noarch::geopy-1.21.0-py_0\n",
      "\n",
      "The following packages will be UPDATED:\n",
      "\n",
      "  openssl                                 1.1.1f-h516909a_0 --> 1.1.1g-h516909a_0\n",
      "\n",
      "\n",
      "\n",
      "Downloading and Extracting Packages\n",
      "openssl-1.1.1g       | 2.1 MB    | ##################################### | 100% \n",
      "geopy-1.21.0         | 58 KB     | ##################################### | 100% \n",
      "geographiclib-1.50   | 34 KB     | ##################################### | 100% \n",
      "Preparing transaction: done\n",
      "Verifying transaction: done\n",
      "Executing transaction: done\n"
     ]
    }
   ],
   "source": [
    "import pandas as pd # library for data analsysis\n",
    "import numpy as np # library to handle data in a vectorized manner\n",
    "\n",
    "!conda install -c conda-forge geopy --yes \n",
    "from geopy.geocoders import Nominatim # module to convert an address into latitude and longitude values"
   ]
  },
  {
   "cell_type": "code",
   "execution_count": 3,
   "metadata": {},
   "outputs": [
    {
     "name": "stdout",
     "output_type": "stream",
     "text": [
      "Collecting package metadata (current_repodata.json): done\n",
      "Solving environment: failed with initial frozen solve. Retrying with flexible solve.\n",
      "Collecting package metadata (repodata.json): done\n",
      "Solving environment: done\n",
      "\n",
      "## Package Plan ##\n",
      "\n",
      "  environment location: /home/jupyterlab/conda/envs/python\n",
      "\n",
      "  added / updated specs:\n",
      "    - folium=0.5.0\n",
      "\n",
      "\n",
      "The following packages will be downloaded:\n",
      "\n",
      "    package                    |            build\n",
      "    ---------------------------|-----------------\n",
      "    altair-4.1.0               |             py_1         614 KB  conda-forge\n",
      "    branca-0.4.0               |             py_0          26 KB  conda-forge\n",
      "    brotlipy-0.7.0             |py36h8c4c3a4_1000         346 KB  conda-forge\n",
      "    chardet-3.0.4              |py36h9f0ad1d_1006         188 KB  conda-forge\n",
      "    cryptography-2.9.2         |   py36h45558ae_0         613 KB  conda-forge\n",
      "    folium-0.5.0               |             py_0          45 KB  conda-forge\n",
      "    pandas-1.0.3               |   py36h830a2c2_1        11.1 MB  conda-forge\n",
      "    pysocks-1.7.1              |   py36h9f0ad1d_1          27 KB  conda-forge\n",
      "    pytz-2020.1                |     pyh9f0ad1d_0         227 KB  conda-forge\n",
      "    toolz-0.10.0               |             py_0          46 KB  conda-forge\n",
      "    urllib3-1.25.9             |             py_0          92 KB  conda-forge\n",
      "    vincent-0.4.4              |             py_1          28 KB  conda-forge\n",
      "    ------------------------------------------------------------\n",
      "                                           Total:        13.3 MB\n",
      "\n",
      "The following NEW packages will be INSTALLED:\n",
      "\n",
      "  altair             conda-forge/noarch::altair-4.1.0-py_1\n",
      "  attrs              conda-forge/noarch::attrs-19.3.0-py_0\n",
      "  branca             conda-forge/noarch::branca-0.4.0-py_0\n",
      "  brotlipy           conda-forge/linux-64::brotlipy-0.7.0-py36h8c4c3a4_1000\n",
      "  chardet            conda-forge/linux-64::chardet-3.0.4-py36h9f0ad1d_1006\n",
      "  cryptography       conda-forge/linux-64::cryptography-2.9.2-py36h45558ae_0\n",
      "  entrypoints        conda-forge/linux-64::entrypoints-0.3-py36h9f0ad1d_1001\n",
      "  folium             conda-forge/noarch::folium-0.5.0-py_0\n",
      "  idna               conda-forge/noarch::idna-2.9-py_1\n",
      "  importlib-metadata conda-forge/linux-64::importlib-metadata-1.6.0-py36h9f0ad1d_0\n",
      "  importlib_metadata conda-forge/noarch::importlib_metadata-1.6.0-0\n",
      "  jinja2             conda-forge/noarch::jinja2-2.11.2-pyh9f0ad1d_0\n",
      "  jsonschema         conda-forge/linux-64::jsonschema-3.2.0-py36h9f0ad1d_1\n",
      "  markupsafe         conda-forge/linux-64::markupsafe-1.1.1-py36h8c4c3a4_1\n",
      "  pandas             conda-forge/linux-64::pandas-1.0.3-py36h830a2c2_1\n",
      "  pyopenssl          conda-forge/noarch::pyopenssl-19.1.0-py_1\n",
      "  pyrsistent         conda-forge/linux-64::pyrsistent-0.16.0-py36h8c4c3a4_0\n",
      "  pysocks            conda-forge/linux-64::pysocks-1.7.1-py36h9f0ad1d_1\n",
      "  pytz               conda-forge/noarch::pytz-2020.1-pyh9f0ad1d_0\n",
      "  requests           conda-forge/noarch::requests-2.23.0-pyh8c360ce_2\n",
      "  toolz              conda-forge/noarch::toolz-0.10.0-py_0\n",
      "  urllib3            conda-forge/noarch::urllib3-1.25.9-py_0\n",
      "  vincent            conda-forge/noarch::vincent-0.4.4-py_1\n",
      "  zipp               conda-forge/noarch::zipp-3.1.0-py_0\n",
      "\n",
      "\n",
      "\n",
      "Downloading and Extracting Packages\n",
      "pysocks-1.7.1        | 27 KB     | ##################################### | 100% \n",
      "toolz-0.10.0         | 46 KB     | ##################################### | 100% \n",
      "pytz-2020.1          | 227 KB    | ##################################### | 100% \n",
      "chardet-3.0.4        | 188 KB    | ##################################### | 100% \n",
      "folium-0.5.0         | 45 KB     | ##################################### | 100% \n",
      "urllib3-1.25.9       | 92 KB     | ##################################### | 100% \n",
      "cryptography-2.9.2   | 613 KB    | ##################################### | 100% \n",
      "brotlipy-0.7.0       | 346 KB    | ##################################### | 100% \n",
      "pandas-1.0.3         | 11.1 MB   | ##################################### | 100% \n",
      "altair-4.1.0         | 614 KB    | ##################################### | 100% \n",
      "branca-0.4.0         | 26 KB     | ##################################### | 100% \n",
      "vincent-0.4.4        | 28 KB     | ##################################### | 100% \n",
      "Preparing transaction: done\n",
      "Verifying transaction: done\n",
      "Executing transaction: done\n"
     ]
    }
   ],
   "source": [
    "!conda install -c conda-forge folium=0.5.0 --yes\n",
    "import folium # plotting library"
   ]
  },
  {
   "cell_type": "code",
   "execution_count": 4,
   "metadata": {},
   "outputs": [
    {
     "name": "stdout",
     "output_type": "stream",
     "text": [
      "Collecting lxml\n",
      "\u001b[?25l  Downloading https://files.pythonhosted.org/packages/dd/ba/a0e6866057fc0bbd17192925c1d63a3b85cf522965de9bc02364d08e5b84/lxml-4.5.0-cp36-cp36m-manylinux1_x86_64.whl (5.8MB)\n",
      "\u001b[K     |████████████████████████████████| 5.8MB 10.0MB/s eta 0:00:01\n",
      "\u001b[?25hInstalling collected packages: lxml\n",
      "Successfully installed lxml-4.5.0\n"
     ]
    }
   ],
   "source": [
    "!pip install lxml # for reading html table data"
   ]
  },
  {
   "cell_type": "markdown",
   "metadata": {},
   "source": [
    "##### Fetch Neighborhood details\n",
    "List of neighborhood and their real estate prices will be fetched from __Citizen Matters__ website. This website contains a table to neighborhood/area and details of their Residential rates and Commercial rates."
   ]
  },
  {
   "cell_type": "code",
   "execution_count": 90,
   "metadata": {},
   "outputs": [],
   "source": [
    "n_url = 'https://bengaluru.citizenmatters.in/615-real-estate-rates-615'\n",
    "df_master = pd.read_html(n_url,header=0)"
   ]
  },
  {
   "cell_type": "markdown",
   "metadata": {},
   "source": [
    "Read the required columns from the table"
   ]
  },
  {
   "cell_type": "code",
   "execution_count": 91,
   "metadata": {},
   "outputs": [],
   "source": [
    "df_master = pd.DataFrame(df_master[0],columns=[\"Area\",\"Commercial rates(All numbers in Rs Sq/ft)\"]).dropna(axis=0)\n",
    "df_master.rename(columns={\"Commercial rates(All numbers in Rs Sq/ft)\":\"Commercial_Rates\"}, inplace=True)"
   ]
  },
  {
   "cell_type": "code",
   "execution_count": 92,
   "metadata": {},
   "outputs": [
    {
     "data": {
      "text/html": [
       "<div>\n",
       "<style scoped>\n",
       "    .dataframe tbody tr th:only-of-type {\n",
       "        vertical-align: middle;\n",
       "    }\n",
       "\n",
       "    .dataframe tbody tr th {\n",
       "        vertical-align: top;\n",
       "    }\n",
       "\n",
       "    .dataframe thead th {\n",
       "        text-align: right;\n",
       "    }\n",
       "</style>\n",
       "<table border=\"1\" class=\"dataframe\">\n",
       "  <thead>\n",
       "    <tr style=\"text-align: right;\">\n",
       "      <th></th>\n",
       "      <th>Area</th>\n",
       "      <th>Commercial_Rates</th>\n",
       "    </tr>\n",
       "  </thead>\n",
       "  <tbody>\n",
       "    <tr>\n",
       "      <th>0</th>\n",
       "      <td>BLR – Central business Districts</td>\n",
       "      <td>BLR – Central business Districts</td>\n",
       "    </tr>\n",
       "    <tr>\n",
       "      <th>1</th>\n",
       "      <td>MG Road</td>\n",
       "      <td>20000</td>\n",
       "    </tr>\n",
       "    <tr>\n",
       "      <th>2</th>\n",
       "      <td>Kasturba Rd</td>\n",
       "      <td>15000</td>\n",
       "    </tr>\n",
       "    <tr>\n",
       "      <th>4</th>\n",
       "      <td>Church Street</td>\n",
       "      <td>15000</td>\n",
       "    </tr>\n",
       "    <tr>\n",
       "      <th>5</th>\n",
       "      <td>Dickenson Rd</td>\n",
       "      <td>12500</td>\n",
       "    </tr>\n",
       "    <tr>\n",
       "      <th>6</th>\n",
       "      <td>Ashokanagar</td>\n",
       "      <td>5000</td>\n",
       "    </tr>\n",
       "    <tr>\n",
       "      <th>7</th>\n",
       "      <td>Victoria Layout</td>\n",
       "      <td>8000</td>\n",
       "    </tr>\n",
       "    <tr>\n",
       "      <th>8</th>\n",
       "      <td>Commercial Street</td>\n",
       "      <td>25000</td>\n",
       "    </tr>\n",
       "    <tr>\n",
       "      <th>9</th>\n",
       "      <td>Infantry Rd</td>\n",
       "      <td>15000</td>\n",
       "    </tr>\n",
       "    <tr>\n",
       "      <th>10</th>\n",
       "      <td>K Kamraj Rd</td>\n",
       "      <td>5000-8000</td>\n",
       "    </tr>\n",
       "  </tbody>\n",
       "</table>\n",
       "</div>"
      ],
      "text/plain": [
       "                                Area                  Commercial_Rates\n",
       "0   BLR – Central business Districts  BLR – Central business Districts\n",
       "1                            MG Road                             20000\n",
       "2                        Kasturba Rd                             15000\n",
       "4                      Church Street                             15000\n",
       "5                       Dickenson Rd                             12500\n",
       "6                        Ashokanagar                              5000\n",
       "7                    Victoria Layout                              8000\n",
       "8                  Commercial Street                             25000\n",
       "9                        Infantry Rd                             15000\n",
       "10                       K Kamraj Rd                         5000-8000"
      ]
     },
     "execution_count": 92,
     "metadata": {},
     "output_type": "execute_result"
    }
   ],
   "source": [
    "df_master.head(10)"
   ]
  },
  {
   "cell_type": "code",
   "execution_count": 93,
   "metadata": {},
   "outputs": [
    {
     "data": {
      "text/plain": [
       "(169, 2)"
      ]
     },
     "execution_count": 93,
     "metadata": {},
     "output_type": "execute_result"
    }
   ],
   "source": [
    "df_master.shape"
   ]
  },
  {
   "cell_type": "markdown",
   "metadata": {},
   "source": [
    "For some of the areas like 'K Kamraj Rd' have range defined for Commercial Rates. We need to take their average for our further study."
   ]
  },
  {
   "cell_type": "code",
   "execution_count": 94,
   "metadata": {},
   "outputs": [],
   "source": [
    "# loop each row and find out which are ranges\n",
    "for index,row in df_master.iterrows():\n",
    "      if('-' in row.Commercial_Rates):\n",
    "        split = row.Commercial_Rates.split('-')\n",
    "        if(split[0].isnumeric()):\n",
    "            row.Commercial_Rates = round((int(split[0])+int(split[1]))/2)"
   ]
  },
  {
   "cell_type": "code",
   "execution_count": 95,
   "metadata": {},
   "outputs": [],
   "source": [
    "# Remove non-numeric/invalid values\n",
    "df_master['Commercial_Rates'] = pd.to_numeric(df_master['Commercial_Rates'], errors='coerce')\n",
    "df_master.dropna(axis=0, inplace=True)"
   ]
  },
  {
   "cell_type": "code",
   "execution_count": 96,
   "metadata": {},
   "outputs": [
    {
     "data": {
      "text/html": [
       "<div>\n",
       "<style scoped>\n",
       "    .dataframe tbody tr th:only-of-type {\n",
       "        vertical-align: middle;\n",
       "    }\n",
       "\n",
       "    .dataframe tbody tr th {\n",
       "        vertical-align: top;\n",
       "    }\n",
       "\n",
       "    .dataframe thead th {\n",
       "        text-align: right;\n",
       "    }\n",
       "</style>\n",
       "<table border=\"1\" class=\"dataframe\">\n",
       "  <thead>\n",
       "    <tr style=\"text-align: right;\">\n",
       "      <th></th>\n",
       "      <th>Area</th>\n",
       "      <th>Commercial_Rates</th>\n",
       "    </tr>\n",
       "  </thead>\n",
       "  <tbody>\n",
       "    <tr>\n",
       "      <th>1</th>\n",
       "      <td>MG Road</td>\n",
       "      <td>20000.0</td>\n",
       "    </tr>\n",
       "    <tr>\n",
       "      <th>2</th>\n",
       "      <td>Kasturba Rd</td>\n",
       "      <td>15000.0</td>\n",
       "    </tr>\n",
       "    <tr>\n",
       "      <th>4</th>\n",
       "      <td>Church Street</td>\n",
       "      <td>15000.0</td>\n",
       "    </tr>\n",
       "    <tr>\n",
       "      <th>5</th>\n",
       "      <td>Dickenson Rd</td>\n",
       "      <td>12500.0</td>\n",
       "    </tr>\n",
       "    <tr>\n",
       "      <th>6</th>\n",
       "      <td>Ashokanagar</td>\n",
       "      <td>5000.0</td>\n",
       "    </tr>\n",
       "    <tr>\n",
       "      <th>7</th>\n",
       "      <td>Victoria Layout</td>\n",
       "      <td>8000.0</td>\n",
       "    </tr>\n",
       "    <tr>\n",
       "      <th>8</th>\n",
       "      <td>Commercial Street</td>\n",
       "      <td>25000.0</td>\n",
       "    </tr>\n",
       "    <tr>\n",
       "      <th>9</th>\n",
       "      <td>Infantry Rd</td>\n",
       "      <td>15000.0</td>\n",
       "    </tr>\n",
       "    <tr>\n",
       "      <th>10</th>\n",
       "      <td>K Kamraj Rd</td>\n",
       "      <td>6500.0</td>\n",
       "    </tr>\n",
       "    <tr>\n",
       "      <th>11</th>\n",
       "      <td>Shivajinagar</td>\n",
       "      <td>5000.0</td>\n",
       "    </tr>\n",
       "  </tbody>\n",
       "</table>\n",
       "</div>"
      ],
      "text/plain": [
       "                 Area  Commercial_Rates\n",
       "1             MG Road           20000.0\n",
       "2         Kasturba Rd           15000.0\n",
       "4       Church Street           15000.0\n",
       "5        Dickenson Rd           12500.0\n",
       "6         Ashokanagar            5000.0\n",
       "7     Victoria Layout            8000.0\n",
       "8   Commercial Street           25000.0\n",
       "9         Infantry Rd           15000.0\n",
       "10        K Kamraj Rd            6500.0\n",
       "11       Shivajinagar            5000.0"
      ]
     },
     "execution_count": 96,
     "metadata": {},
     "output_type": "execute_result"
    }
   ],
   "source": [
    "df_master.head(10)"
   ]
  },
  {
   "cell_type": "markdown",
   "metadata": {},
   "source": [
    "##### Now, let's fetch the longitude and latitude data for each Neighborhood"
   ]
  },
  {
   "cell_type": "code",
   "execution_count": 97,
   "metadata": {},
   "outputs": [],
   "source": [
    "# Method to get lat, log data \n",
    "def get_address(address):\n",
    "    try:\n",
    "        geolocator = Nominatim(user_agent=\"foursquare_agent\")\n",
    "        location = geolocator.geocode(address)\n",
    "        latitude = location.latitude\n",
    "        longitude = location.longitude\n",
    "        return latitude, longitude\n",
    "    except:\n",
    "        return None, None"
   ]
  },
  {
   "cell_type": "code",
   "execution_count": 98,
   "metadata": {},
   "outputs": [],
   "source": [
    "df_master['Longitude']=\"\"\n",
    "df_master['Latitude']=\"\""
   ]
  },
  {
   "cell_type": "code",
   "execution_count": 99,
   "metadata": {},
   "outputs": [],
   "source": [
    "#loop through each row\n",
    "for index,row in df_master.iterrows():\n",
    "    address = row.Area + \",Bangalore\"\n",
    "    lat, log = get_address(address)\n",
    "    df_master.at[index, 'Longitude']=log\n",
    "    df_master.at[index, 'Latitude']=lat"
   ]
  },
  {
   "cell_type": "code",
   "execution_count": 123,
   "metadata": {},
   "outputs": [],
   "source": [
    "#Remove entries for which lat,log info is missing\n",
    "df_master.dropna(axis=0, inplace=True)"
   ]
  },
  {
   "cell_type": "code",
   "execution_count": 125,
   "metadata": {},
   "outputs": [
    {
     "data": {
      "text/plain": [
       "(118, 4)"
      ]
     },
     "execution_count": 125,
     "metadata": {},
     "output_type": "execute_result"
    }
   ],
   "source": [
    "df_master.shape"
   ]
  },
  {
   "cell_type": "code",
   "execution_count": 130,
   "metadata": {},
   "outputs": [
    {
     "data": {
      "text/html": [
       "<div style=\"width:100%;\"><div style=\"position:relative;width:100%;height:0;padding-bottom:60%;\"><iframe src=\"about:blank\" style=\"position:absolute;width:100%;height:100%;left:0;top:0;border:none !important;\" data-html=PCFET0NUWVBFIGh0bWw+CjxoZWFkPiAgICAKICAgIDxtZXRhIGh0dHAtZXF1aXY9ImNvbnRlbnQtdHlwZSIgY29udGVudD0idGV4dC9odG1sOyBjaGFyc2V0PVVURi04IiAvPgogICAgPHNjcmlwdD5MX1BSRUZFUl9DQU5WQVMgPSBmYWxzZTsgTF9OT19UT1VDSCA9IGZhbHNlOyBMX0RJU0FCTEVfM0QgPSBmYWxzZTs8L3NjcmlwdD4KICAgIDxzY3JpcHQgc3JjPSJodHRwczovL2Nkbi5qc2RlbGl2ci5uZXQvbnBtL2xlYWZsZXRAMS4yLjAvZGlzdC9sZWFmbGV0LmpzIj48L3NjcmlwdD4KICAgIDxzY3JpcHQgc3JjPSJodHRwczovL2FqYXguZ29vZ2xlYXBpcy5jb20vYWpheC9saWJzL2pxdWVyeS8xLjExLjEvanF1ZXJ5Lm1pbi5qcyI+PC9zY3JpcHQ+CiAgICA8c2NyaXB0IHNyYz0iaHR0cHM6Ly9tYXhjZG4uYm9vdHN0cmFwY2RuLmNvbS9ib290c3RyYXAvMy4yLjAvanMvYm9vdHN0cmFwLm1pbi5qcyI+PC9zY3JpcHQ+CiAgICA8c2NyaXB0IHNyYz0iaHR0cHM6Ly9jZG5qcy5jbG91ZGZsYXJlLmNvbS9hamF4L2xpYnMvTGVhZmxldC5hd2Vzb21lLW1hcmtlcnMvMi4wLjIvbGVhZmxldC5hd2Vzb21lLW1hcmtlcnMuanMiPjwvc2NyaXB0PgogICAgPGxpbmsgcmVsPSJzdHlsZXNoZWV0IiBocmVmPSJodHRwczovL2Nkbi5qc2RlbGl2ci5uZXQvbnBtL2xlYWZsZXRAMS4yLjAvZGlzdC9sZWFmbGV0LmNzcyIvPgogICAgPGxpbmsgcmVsPSJzdHlsZXNoZWV0IiBocmVmPSJodHRwczovL21heGNkbi5ib290c3RyYXBjZG4uY29tL2Jvb3RzdHJhcC8zLjIuMC9jc3MvYm9vdHN0cmFwLm1pbi5jc3MiLz4KICAgIDxsaW5rIHJlbD0ic3R5bGVzaGVldCIgaHJlZj0iaHR0cHM6Ly9tYXhjZG4uYm9vdHN0cmFwY2RuLmNvbS9ib290c3RyYXAvMy4yLjAvY3NzL2Jvb3RzdHJhcC10aGVtZS5taW4uY3NzIi8+CiAgICA8bGluayByZWw9InN0eWxlc2hlZXQiIGhyZWY9Imh0dHBzOi8vbWF4Y2RuLmJvb3RzdHJhcGNkbi5jb20vZm9udC1hd2Vzb21lLzQuNi4zL2Nzcy9mb250LWF3ZXNvbWUubWluLmNzcyIvPgogICAgPGxpbmsgcmVsPSJzdHlsZXNoZWV0IiBocmVmPSJodHRwczovL2NkbmpzLmNsb3VkZmxhcmUuY29tL2FqYXgvbGlicy9MZWFmbGV0LmF3ZXNvbWUtbWFya2Vycy8yLjAuMi9sZWFmbGV0LmF3ZXNvbWUtbWFya2Vycy5jc3MiLz4KICAgIDxsaW5rIHJlbD0ic3R5bGVzaGVldCIgaHJlZj0iaHR0cHM6Ly9yYXdnaXQuY29tL3B5dGhvbi12aXN1YWxpemF0aW9uL2ZvbGl1bS9tYXN0ZXIvZm9saXVtL3RlbXBsYXRlcy9sZWFmbGV0LmF3ZXNvbWUucm90YXRlLmNzcyIvPgogICAgPHN0eWxlPmh0bWwsIGJvZHkge3dpZHRoOiAxMDAlO2hlaWdodDogMTAwJTttYXJnaW46IDA7cGFkZGluZzogMDt9PC9zdHlsZT4KICAgIDxzdHlsZT4jbWFwIHtwb3NpdGlvbjphYnNvbHV0ZTt0b3A6MDtib3R0b206MDtyaWdodDowO2xlZnQ6MDt9PC9zdHlsZT4KICAgIAogICAgICAgICAgICA8c3R5bGU+ICNtYXBfMmFjMDQ4OWRmNDVmNGY2ZjkyY2Y2YTI2OWI3N2EzMDEgewogICAgICAgICAgICAgICAgcG9zaXRpb24gOiByZWxhdGl2ZTsKICAgICAgICAgICAgICAgIHdpZHRoIDogMTAwLjAlOwogICAgICAgICAgICAgICAgaGVpZ2h0OiAxMDAuMCU7CiAgICAgICAgICAgICAgICBsZWZ0OiAwLjAlOwogICAgICAgICAgICAgICAgdG9wOiAwLjAlOwogICAgICAgICAgICAgICAgfQogICAgICAgICAgICA8L3N0eWxlPgogICAgICAgIAo8L2hlYWQ+Cjxib2R5PiAgICAKICAgIAogICAgICAgICAgICA8ZGl2IGNsYXNzPSJmb2xpdW0tbWFwIiBpZD0ibWFwXzJhYzA0ODlkZjQ1ZjRmNmY5MmNmNmEyNjliNzdhMzAxIiA+PC9kaXY+CiAgICAgICAgCjwvYm9keT4KPHNjcmlwdD4gICAgCiAgICAKCiAgICAgICAgICAgIAogICAgICAgICAgICAgICAgdmFyIGJvdW5kcyA9IG51bGw7CiAgICAgICAgICAgIAoKICAgICAgICAgICAgdmFyIG1hcF8yYWMwNDg5ZGY0NWY0ZjZmOTJjZjZhMjY5Yjc3YTMwMSA9IEwubWFwKAogICAgICAgICAgICAgICAgICAgICAgICAgICAgICAgICAgJ21hcF8yYWMwNDg5ZGY0NWY0ZjZmOTJjZjZhMjY5Yjc3YTMwMScsCiAgICAgICAgICAgICAgICAgICAgICAgICAgICAgICAgICB7Y2VudGVyOiBbMTIuOTc5MTE5OCw3Ny41OTEyOTk3XSwKICAgICAgICAgICAgICAgICAgICAgICAgICAgICAgICAgIHpvb206IDEyLAogICAgICAgICAgICAgICAgICAgICAgICAgICAgICAgICAgbWF4Qm91bmRzOiBib3VuZHMsCiAgICAgICAgICAgICAgICAgICAgICAgICAgICAgICAgICBsYXllcnM6IFtdLAogICAgICAgICAgICAgICAgICAgICAgICAgICAgICAgICAgd29ybGRDb3B5SnVtcDogZmFsc2UsCiAgICAgICAgICAgICAgICAgICAgICAgICAgICAgICAgICBjcnM6IEwuQ1JTLkVQU0czODU3CiAgICAgICAgICAgICAgICAgICAgICAgICAgICAgICAgIH0pOwogICAgICAgICAgICAKICAgICAgICAKICAgIAogICAgICAgICAgICB2YXIgdGlsZV9sYXllcl83ZTYyNzhiNmYyMDk0YWU0YWJkYWQxYmRhYjM0ZmRiZSA9IEwudGlsZUxheWVyKAogICAgICAgICAgICAgICAgJ2h0dHBzOi8ve3N9LnRpbGUub3BlbnN0cmVldG1hcC5vcmcve3p9L3t4fS97eX0ucG5nJywKICAgICAgICAgICAgICAgIHsKICAiYXR0cmlidXRpb24iOiBudWxsLAogICJkZXRlY3RSZXRpbmEiOiBmYWxzZSwKICAibWF4Wm9vbSI6IDE4LAogICJtaW5ab29tIjogMSwKICAibm9XcmFwIjogZmFsc2UsCiAgInN1YmRvbWFpbnMiOiAiYWJjIgp9CiAgICAgICAgICAgICAgICApLmFkZFRvKG1hcF8yYWMwNDg5ZGY0NWY0ZjZmOTJjZjZhMjY5Yjc3YTMwMSk7CiAgICAgICAgCiAgICAKICAgICAgICAgICAgdmFyIGNpcmNsZV9tYXJrZXJfNDc2NGM3NmE4ODJlNDdlZDllNDZlMjQ5MDQzNDFiMzUgPSBMLmNpcmNsZU1hcmtlcigKICAgICAgICAgICAgICAgIFsxMi45NzQxODU0LDc3LjYxMjQxMzVdLAogICAgICAgICAgICAgICAgewogICJidWJibGluZ01vdXNlRXZlbnRzIjogdHJ1ZSwKICAiY29sb3IiOiAiYmx1ZSIsCiAgImRhc2hBcnJheSI6IG51bGwsCiAgImRhc2hPZmZzZXQiOiBudWxsLAogICJmaWxsIjogdHJ1ZSwKICAiZmlsbENvbG9yIjogIiMzMTg2Y2MiLAogICJmaWxsT3BhY2l0eSI6IDAuNywKICAiZmlsbFJ1bGUiOiAiZXZlbm9kZCIsCiAgImxpbmVDYXAiOiAicm91bmQiLAogICJsaW5lSm9pbiI6ICJyb3VuZCIsCiAgIm9wYWNpdHkiOiAxLjAsCiAgInJhZGl1cyI6IDUsCiAgInN0cm9rZSI6IHRydWUsCiAgIndlaWdodCI6IDMKfQogICAgICAgICAgICAgICAgKS5hZGRUbyhtYXBfMmFjMDQ4OWRmNDVmNGY2ZjkyY2Y2YTI2OWI3N2EzMDEpOwogICAgICAgICAgICAKICAgIAogICAgICAgICAgICB2YXIgcG9wdXBfZDIzZTlkMzJkNjE3NDY4YjgyZWQ0MGFjYjVlNDBhODUgPSBMLnBvcHVwKHttYXhXaWR0aDogJzMwMCd9KTsKCiAgICAgICAgICAgIAogICAgICAgICAgICAgICAgdmFyIGh0bWxfNDJhNTA4YzY0NTJhNDhiYjgyMGVkODhiMDc0NmE0ZjIgPSAkKCc8ZGl2IGlkPSJodG1sXzQyYTUwOGM2NDUyYTQ4YmI4MjBlZDg4YjA3NDZhNGYyIiBzdHlsZT0id2lkdGg6IDEwMC4wJTsgaGVpZ2h0OiAxMDAuMCU7Ij5NRyBSb2FkPC9kaXY+JylbMF07CiAgICAgICAgICAgICAgICBwb3B1cF9kMjNlOWQzMmQ2MTc0NjhiODJlZDQwYWNiNWU0MGE4NS5zZXRDb250ZW50KGh0bWxfNDJhNTA4YzY0NTJhNDhiYjgyMGVkODhiMDc0NmE0ZjIpOwogICAgICAgICAgICAKCiAgICAgICAgICAgIGNpcmNsZV9tYXJrZXJfNDc2NGM3NmE4ODJlNDdlZDllNDZlMjQ5MDQzNDFiMzUuYmluZFBvcHVwKHBvcHVwX2QyM2U5ZDMyZDYxNzQ2OGI4MmVkNDBhY2I1ZTQwYTg1KTsKCiAgICAgICAgICAgIAogICAgICAgIAogICAgCiAgICAgICAgICAgIHZhciBjaXJjbGVfbWFya2VyX2Y0ZmYwMzA4MjUwMzQ2YWViNWJiY2I1N2JhNTQ5YWYyID0gTC5jaXJjbGVNYXJrZXIoCiAgICAgICAgICAgICAgICBbMTIuOTc2NzE5MSw3Ny41OTkyNzc1XSwKICAgICAgICAgICAgICAgIHsKICAiYnViYmxpbmdNb3VzZUV2ZW50cyI6IHRydWUsCiAgImNvbG9yIjogImJsdWUiLAogICJkYXNoQXJyYXkiOiBudWxsLAogICJkYXNoT2Zmc2V0IjogbnVsbCwKICAiZmlsbCI6IHRydWUsCiAgImZpbGxDb2xvciI6ICIjMzE4NmNjIiwKICAiZmlsbE9wYWNpdHkiOiAwLjcsCiAgImZpbGxSdWxlIjogImV2ZW5vZGQiLAogICJsaW5lQ2FwIjogInJvdW5kIiwKICAibGluZUpvaW4iOiAicm91bmQiLAogICJvcGFjaXR5IjogMS4wLAogICJyYWRpdXMiOiA1LAogICJzdHJva2UiOiB0cnVlLAogICJ3ZWlnaHQiOiAzCn0KICAgICAgICAgICAgICAgICkuYWRkVG8obWFwXzJhYzA0ODlkZjQ1ZjRmNmY5MmNmNmEyNjliNzdhMzAxKTsKICAgICAgICAgICAgCiAgICAKICAgICAgICAgICAgdmFyIHBvcHVwX2JkYjUzZTc4YTJmNDQ2NWJiY2E0MmM3ZGQ2YjFlMDE3ID0gTC5wb3B1cCh7bWF4V2lkdGg6ICczMDAnfSk7CgogICAgICAgICAgICAKICAgICAgICAgICAgICAgIHZhciBodG1sX2NkYmJhZGIzYTE5MjQ1ZjNiMDI1NjliN2QxNWIxODA0ID0gJCgnPGRpdiBpZD0iaHRtbF9jZGJiYWRiM2ExOTI0NWYzYjAyNTY5YjdkMTViMTgwNCIgc3R5bGU9IndpZHRoOiAxMDAuMCU7IGhlaWdodDogMTAwLjAlOyI+S2FzdHVyYmEgUmQ8L2Rpdj4nKVswXTsKICAgICAgICAgICAgICAgIHBvcHVwX2JkYjUzZTc4YTJmNDQ2NWJiY2E0MmM3ZGQ2YjFlMDE3LnNldENvbnRlbnQoaHRtbF9jZGJiYWRiM2ExOTI0NWYzYjAyNTY5YjdkMTViMTgwNCk7CiAgICAgICAgICAgIAoKICAgICAgICAgICAgY2lyY2xlX21hcmtlcl9mNGZmMDMwODI1MDM0NmFlYjViYmNiNTdiYTU0OWFmMi5iaW5kUG9wdXAocG9wdXBfYmRiNTNlNzhhMmY0NDY1YmJjYTQyYzdkZDZiMWUwMTcpOwoKICAgICAgICAgICAgCiAgICAgICAgCiAgICAKICAgICAgICAgICAgdmFyIGNpcmNsZV9tYXJrZXJfNWEzOWM1ODYxYjM3NGEyMjhkNzg0NTNhODQ3NzY4NzkgPSBMLmNpcmNsZU1hcmtlcigKICAgICAgICAgICAgICAgIFsxMi45NzQyOTM5LDc3LjY1MjUxODldLAogICAgICAgICAgICAgICAgewogICJidWJibGluZ01vdXNlRXZlbnRzIjogdHJ1ZSwKICAiY29sb3IiOiAiYmx1ZSIsCiAgImRhc2hBcnJheSI6IG51bGwsCiAgImRhc2hPZmZzZXQiOiBudWxsLAogICJmaWxsIjogdHJ1ZSwKICAiZmlsbENvbG9yIjogIiMzMTg2Y2MiLAogICJmaWxsT3BhY2l0eSI6IDAuNywKICAiZmlsbFJ1bGUiOiAiZXZlbm9kZCIsCiAgImxpbmVDYXAiOiAicm91bmQiLAogICJsaW5lSm9pbiI6ICJyb3VuZCIsCiAgIm9wYWNpdHkiOiAxLjAsCiAgInJhZGl1cyI6IDUsCiAgInN0cm9rZSI6IHRydWUsCiAgIndlaWdodCI6IDMKfQogICAgICAgICAgICAgICAgKS5hZGRUbyhtYXBfMmFjMDQ4OWRmNDVmNGY2ZjkyY2Y2YTI2OWI3N2EzMDEpOwogICAgICAgICAgICAKICAgIAogICAgICAgICAgICB2YXIgcG9wdXBfMTM0N2JjMTY4ZmQzNDNjODg2NTZjYTA0ZWQ5ZDE2MDQgPSBMLnBvcHVwKHttYXhXaWR0aDogJzMwMCd9KTsKCiAgICAgICAgICAgIAogICAgICAgICAgICAgICAgdmFyIGh0bWxfODU1OWU5MmU5YzExNDliN2FhMGZmOWVkOTEzNzJhYTMgPSAkKCc8ZGl2IGlkPSJodG1sXzg1NTllOTJlOWMxMTQ5YjdhYTBmZjllZDkxMzcyYWEzIiBzdHlsZT0id2lkdGg6IDEwMC4wJTsgaGVpZ2h0OiAxMDAuMCU7Ij5DaHVyY2ggU3RyZWV0PC9kaXY+JylbMF07CiAgICAgICAgICAgICAgICBwb3B1cF8xMzQ3YmMxNjhmZDM0M2M4ODY1NmNhMDRlZDlkMTYwNC5zZXRDb250ZW50KGh0bWxfODU1OWU5MmU5YzExNDliN2FhMGZmOWVkOTEzNzJhYTMpOwogICAgICAgICAgICAKCiAgICAgICAgICAgIGNpcmNsZV9tYXJrZXJfNWEzOWM1ODYxYjM3NGEyMjhkNzg0NTNhODQ3NzY4NzkuYmluZFBvcHVwKHBvcHVwXzEzNDdiYzE2OGZkMzQzYzg4NjU2Y2EwNGVkOWQxNjA0KTsKCiAgICAgICAgICAgIAogICAgICAgIAogICAgCiAgICAgICAgICAgIHZhciBjaXJjbGVfbWFya2VyXzAwYjQ3Yzk4NmI4ZjRiMzRhMWQ5ZDA5YTk3YWE0YzcxID0gTC5jaXJjbGVNYXJrZXIoCiAgICAgICAgICAgICAgICBbMTIuOTgwODYwNSw3Ny42MTA2ODUyXSwKICAgICAgICAgICAgICAgIHsKICAiYnViYmxpbmdNb3VzZUV2ZW50cyI6IHRydWUsCiAgImNvbG9yIjogImJsdWUiLAogICJkYXNoQXJyYXkiOiBudWxsLAogICJkYXNoT2Zmc2V0IjogbnVsbCwKICAiZmlsbCI6IHRydWUsCiAgImZpbGxDb2xvciI6ICIjMzE4NmNjIiwKICAiZmlsbE9wYWNpdHkiOiAwLjcsCiAgImZpbGxSdWxlIjogImV2ZW5vZGQiLAogICJsaW5lQ2FwIjogInJvdW5kIiwKICAibGluZUpvaW4iOiAicm91bmQiLAogICJvcGFjaXR5IjogMS4wLAogICJyYWRpdXMiOiA1LAogICJzdHJva2UiOiB0cnVlLAogICJ3ZWlnaHQiOiAzCn0KICAgICAgICAgICAgICAgICkuYWRkVG8obWFwXzJhYzA0ODlkZjQ1ZjRmNmY5MmNmNmEyNjliNzdhMzAxKTsKICAgICAgICAgICAgCiAgICAKICAgICAgICAgICAgdmFyIHBvcHVwX2I5ZDRjMjBiYWE2OTRmM2JhMGUyNTE5ODdhNjhlNWQwID0gTC5wb3B1cCh7bWF4V2lkdGg6ICczMDAnfSk7CgogICAgICAgICAgICAKICAgICAgICAgICAgICAgIHZhciBodG1sXzZiMDVkNDAwN2RlYzQ2Nzk5M2E4Zjk3MzE3MDJlYzY3ID0gJCgnPGRpdiBpZD0iaHRtbF82YjA1ZDQwMDdkZWM0Njc5OTNhOGY5NzMxNzAyZWM2NyIgc3R5bGU9IndpZHRoOiAxMDAuMCU7IGhlaWdodDogMTAwLjAlOyI+RGlja2Vuc29uIFJkPC9kaXY+JylbMF07CiAgICAgICAgICAgICAgICBwb3B1cF9iOWQ0YzIwYmFhNjk0ZjNiYTBlMjUxOTg3YTY4ZTVkMC5zZXRDb250ZW50KGh0bWxfNmIwNWQ0MDA3ZGVjNDY3OTkzYThmOTczMTcwMmVjNjcpOwogICAgICAgICAgICAKCiAgICAgICAgICAgIGNpcmNsZV9tYXJrZXJfMDBiNDdjOTg2YjhmNGIzNGExZDlkMDlhOTdhYTRjNzEuYmluZFBvcHVwKHBvcHVwX2I5ZDRjMjBiYWE2OTRmM2JhMGUyNTE5ODdhNjhlNWQwKTsKCiAgICAgICAgICAgIAogICAgICAgIAogICAgCiAgICAgICAgICAgIHZhciBjaXJjbGVfbWFya2VyXzc1MTUyM2JlY2M2MzQ0M2E4OGI2ZDQzODNkNzU0NjM1ID0gTC5jaXJjbGVNYXJrZXIoCiAgICAgICAgICAgICAgICBbMTIuOTM3NzMxOCw3Ny41NjQ2NDA1NTExNjE3Ml0sCiAgICAgICAgICAgICAgICB7CiAgImJ1YmJsaW5nTW91c2VFdmVudHMiOiB0cnVlLAogICJjb2xvciI6ICJibHVlIiwKICAiZGFzaEFycmF5IjogbnVsbCwKICAiZGFzaE9mZnNldCI6IG51bGwsCiAgImZpbGwiOiB0cnVlLAogICJmaWxsQ29sb3IiOiAiIzMxODZjYyIsCiAgImZpbGxPcGFjaXR5IjogMC43LAogICJmaWxsUnVsZSI6ICJldmVub2RkIiwKICAibGluZUNhcCI6ICJyb3VuZCIsCiAgImxpbmVKb2luIjogInJvdW5kIiwKICAib3BhY2l0eSI6IDEuMCwKICAicmFkaXVzIjogNSwKICAic3Ryb2tlIjogdHJ1ZSwKICAid2VpZ2h0IjogMwp9CiAgICAgICAgICAgICAgICApLmFkZFRvKG1hcF8yYWMwNDg5ZGY0NWY0ZjZmOTJjZjZhMjY5Yjc3YTMwMSk7CiAgICAgICAgICAgIAogICAgCiAgICAgICAgICAgIHZhciBwb3B1cF83OGJjMDEzZDkyYmY0NzBiYjEwYWUxZDE4YWY5N2Q2ZiA9IEwucG9wdXAoe21heFdpZHRoOiAnMzAwJ30pOwoKICAgICAgICAgICAgCiAgICAgICAgICAgICAgICB2YXIgaHRtbF9hM2EwMjI0OWVkOTA0NDZmOGE1Nzc4Y2NhZWExNmYzZiA9ICQoJzxkaXYgaWQ9Imh0bWxfYTNhMDIyNDllZDkwNDQ2ZjhhNTc3OGNjYWVhMTZmM2YiIHN0eWxlPSJ3aWR0aDogMTAwLjAlOyBoZWlnaHQ6IDEwMC4wJTsiPkFzaG9rYW5hZ2FyPC9kaXY+JylbMF07CiAgICAgICAgICAgICAgICBwb3B1cF83OGJjMDEzZDkyYmY0NzBiYjEwYWUxZDE4YWY5N2Q2Zi5zZXRDb250ZW50KGh0bWxfYTNhMDIyNDllZDkwNDQ2ZjhhNTc3OGNjYWVhMTZmM2YpOwogICAgICAgICAgICAKCiAgICAgICAgICAgIGNpcmNsZV9tYXJrZXJfNzUxNTIzYmVjYzYzNDQzYTg4YjZkNDM4M2Q3NTQ2MzUuYmluZFBvcHVwKHBvcHVwXzc4YmMwMTNkOTJiZjQ3MGJiMTBhZTFkMThhZjk3ZDZmKTsKCiAgICAgICAgICAgIAogICAgICAgIAogICAgCiAgICAgICAgICAgIHZhciBjaXJjbGVfbWFya2VyXzVjZTk0YjhkODBkNzQ5YWM5NGIxNjgxOWYwZDZjNzQ2ID0gTC5jaXJjbGVNYXJrZXIoCiAgICAgICAgICAgICAgICBbMTIuOTY1NjU3OSw3Ny42MTQyNjgyXSwKICAgICAgICAgICAgICAgIHsKICAiYnViYmxpbmdNb3VzZUV2ZW50cyI6IHRydWUsCiAgImNvbG9yIjogImJsdWUiLAogICJkYXNoQXJyYXkiOiBudWxsLAogICJkYXNoT2Zmc2V0IjogbnVsbCwKICAiZmlsbCI6IHRydWUsCiAgImZpbGxDb2xvciI6ICIjMzE4NmNjIiwKICAiZmlsbE9wYWNpdHkiOiAwLjcsCiAgImZpbGxSdWxlIjogImV2ZW5vZGQiLAogICJsaW5lQ2FwIjogInJvdW5kIiwKICAibGluZUpvaW4iOiAicm91bmQiLAogICJvcGFjaXR5IjogMS4wLAogICJyYWRpdXMiOiA1LAogICJzdHJva2UiOiB0cnVlLAogICJ3ZWlnaHQiOiAzCn0KICAgICAgICAgICAgICAgICkuYWRkVG8obWFwXzJhYzA0ODlkZjQ1ZjRmNmY5MmNmNmEyNjliNzdhMzAxKTsKICAgICAgICAgICAgCiAgICAKICAgICAgICAgICAgdmFyIHBvcHVwX2RhMDRhZmI0ZjY1MzRjZWE4MDBmZTgxNGYwM2QwMTZiID0gTC5wb3B1cCh7bWF4V2lkdGg6ICczMDAnfSk7CgogICAgICAgICAgICAKICAgICAgICAgICAgICAgIHZhciBodG1sXzQ4NGExOTNhYzQ4YzQ5NzY4MjU5YTNmYWQ1MjMwZjU4ID0gJCgnPGRpdiBpZD0iaHRtbF80ODRhMTkzYWM0OGM0OTc2ODI1OWEzZmFkNTIzMGY1OCIgc3R5bGU9IndpZHRoOiAxMDAuMCU7IGhlaWdodDogMTAwLjAlOyI+VmljdG9yaWEgTGF5b3V0PC9kaXY+JylbMF07CiAgICAgICAgICAgICAgICBwb3B1cF9kYTA0YWZiNGY2NTM0Y2VhODAwZmU4MTRmMDNkMDE2Yi5zZXRDb250ZW50KGh0bWxfNDg0YTE5M2FjNDhjNDk3NjgyNTlhM2ZhZDUyMzBmNTgpOwogICAgICAgICAgICAKCiAgICAgICAgICAgIGNpcmNsZV9tYXJrZXJfNWNlOTRiOGQ4MGQ3NDlhYzk0YjE2ODE5ZjBkNmM3NDYuYmluZFBvcHVwKHBvcHVwX2RhMDRhZmI0ZjY1MzRjZWE4MDBmZTgxNGYwM2QwMTZiKTsKCiAgICAgICAgICAgIAogICAgICAgIAogICAgCiAgICAgICAgICAgIHZhciBjaXJjbGVfbWFya2VyXzYwODRmN2I5MDg0ZjRjYjJiMGFlYjNhY2ZiODY1OWI1ID0gTC5jaXJjbGVNYXJrZXIoCiAgICAgICAgICAgICAgICBbMTIuOTgyMTkzMSw3Ny42MDgzMTMyXSwKICAgICAgICAgICAgICAgIHsKICAiYnViYmxpbmdNb3VzZUV2ZW50cyI6IHRydWUsCiAgImNvbG9yIjogImJsdWUiLAogICJkYXNoQXJyYXkiOiBudWxsLAogICJkYXNoT2Zmc2V0IjogbnVsbCwKICAiZmlsbCI6IHRydWUsCiAgImZpbGxDb2xvciI6ICIjMzE4NmNjIiwKICAiZmlsbE9wYWNpdHkiOiAwLjcsCiAgImZpbGxSdWxlIjogImV2ZW5vZGQiLAogICJsaW5lQ2FwIjogInJvdW5kIiwKICAibGluZUpvaW4iOiAicm91bmQiLAogICJvcGFjaXR5IjogMS4wLAogICJyYWRpdXMiOiA1LAogICJzdHJva2UiOiB0cnVlLAogICJ3ZWlnaHQiOiAzCn0KICAgICAgICAgICAgICAgICkuYWRkVG8obWFwXzJhYzA0ODlkZjQ1ZjRmNmY5MmNmNmEyNjliNzdhMzAxKTsKICAgICAgICAgICAgCiAgICAKICAgICAgICAgICAgdmFyIHBvcHVwXzM4OTY0MjFmODhmYjQxYjNhYmUxMmUzZDM0OTQ1NzMwID0gTC5wb3B1cCh7bWF4V2lkdGg6ICczMDAnfSk7CgogICAgICAgICAgICAKICAgICAgICAgICAgICAgIHZhciBodG1sXzk4MjUyMTJlZDAzZTRjMTc5Njk2YWY4ODk1OWU0NmVmID0gJCgnPGRpdiBpZD0iaHRtbF85ODI1MjEyZWQwM2U0YzE3OTY5NmFmODg5NTllNDZlZiIgc3R5bGU9IndpZHRoOiAxMDAuMCU7IGhlaWdodDogMTAwLjAlOyI+Q29tbWVyY2lhbCBTdHJlZXQ8L2Rpdj4nKVswXTsKICAgICAgICAgICAgICAgIHBvcHVwXzM4OTY0MjFmODhmYjQxYjNhYmUxMmUzZDM0OTQ1NzMwLnNldENvbnRlbnQoaHRtbF85ODI1MjEyZWQwM2U0YzE3OTY5NmFmODg5NTllNDZlZik7CiAgICAgICAgICAgIAoKICAgICAgICAgICAgY2lyY2xlX21hcmtlcl82MDg0ZjdiOTA4NGY0Y2IyYjBhZWIzYWNmYjg2NTliNS5iaW5kUG9wdXAocG9wdXBfMzg5NjQyMWY4OGZiNDFiM2FiZTEyZTNkMzQ5NDU3MzApOwoKICAgICAgICAgICAgCiAgICAgICAgCiAgICAKICAgICAgICAgICAgdmFyIGNpcmNsZV9tYXJrZXJfOTMzYjk0MDg2NTM5NDMxMTllNTQ3YzkzYWJjNTlmODUgPSBMLmNpcmNsZU1hcmtlcigKICAgICAgICAgICAgICAgIFsxMi45ODMxNzc0LDc3LjU5NTgzMV0sCiAgICAgICAgICAgICAgICB7CiAgImJ1YmJsaW5nTW91c2VFdmVudHMiOiB0cnVlLAogICJjb2xvciI6ICJibHVlIiwKICAiZGFzaEFycmF5IjogbnVsbCwKICAiZGFzaE9mZnNldCI6IG51bGwsCiAgImZpbGwiOiB0cnVlLAogICJmaWxsQ29sb3IiOiAiIzMxODZjYyIsCiAgImZpbGxPcGFjaXR5IjogMC43LAogICJmaWxsUnVsZSI6ICJldmVub2RkIiwKICAibGluZUNhcCI6ICJyb3VuZCIsCiAgImxpbmVKb2luIjogInJvdW5kIiwKICAib3BhY2l0eSI6IDEuMCwKICAicmFkaXVzIjogNSwKICAic3Ryb2tlIjogdHJ1ZSwKICAid2VpZ2h0IjogMwp9CiAgICAgICAgICAgICAgICApLmFkZFRvKG1hcF8yYWMwNDg5ZGY0NWY0ZjZmOTJjZjZhMjY5Yjc3YTMwMSk7CiAgICAgICAgICAgIAogICAgCiAgICAgICAgICAgIHZhciBwb3B1cF80YTc2OTUxOTZlN2E0ZjEyYmNiMzNiM2I4NDkxMDIwYyA9IEwucG9wdXAoe21heFdpZHRoOiAnMzAwJ30pOwoKICAgICAgICAgICAgCiAgICAgICAgICAgICAgICB2YXIgaHRtbF8wMDgyMTY1NjAzZTI0ZTk4YTVjZmMzZDJjODAyZmM4MiA9ICQoJzxkaXYgaWQ9Imh0bWxfMDA4MjE2NTYwM2UyNGU5OGE1Y2ZjM2QyYzgwMmZjODIiIHN0eWxlPSJ3aWR0aDogMTAwLjAlOyBoZWlnaHQ6IDEwMC4wJTsiPkluZmFudHJ5IFJkPC9kaXY+JylbMF07CiAgICAgICAgICAgICAgICBwb3B1cF80YTc2OTUxOTZlN2E0ZjEyYmNiMzNiM2I4NDkxMDIwYy5zZXRDb250ZW50KGh0bWxfMDA4MjE2NTYwM2UyNGU5OGE1Y2ZjM2QyYzgwMmZjODIpOwogICAgICAgICAgICAKCiAgICAgICAgICAgIGNpcmNsZV9tYXJrZXJfOTMzYjk0MDg2NTM5NDMxMTllNTQ3YzkzYWJjNTlmODUuYmluZFBvcHVwKHBvcHVwXzRhNzY5NTE5NmU3YTRmMTJiY2IzM2IzYjg0OTEwMjBjKTsKCiAgICAgICAgICAgIAogICAgICAgIAogICAgCiAgICAgICAgICAgIHZhciBjaXJjbGVfbWFya2VyXzUwNzAzZWVhZmZlMDRiYzliZjNjZWRlMjI1MmRiMGNmID0gTC5jaXJjbGVNYXJrZXIoCiAgICAgICAgICAgICAgICBbMTIuOTg2MzkxLDc3LjYwNzU0MTZdLAogICAgICAgICAgICAgICAgewogICJidWJibGluZ01vdXNlRXZlbnRzIjogdHJ1ZSwKICAiY29sb3IiOiAiYmx1ZSIsCiAgImRhc2hBcnJheSI6IG51bGwsCiAgImRhc2hPZmZzZXQiOiBudWxsLAogICJmaWxsIjogdHJ1ZSwKICAiZmlsbENvbG9yIjogIiMzMTg2Y2MiLAogICJmaWxsT3BhY2l0eSI6IDAuNywKICAiZmlsbFJ1bGUiOiAiZXZlbm9kZCIsCiAgImxpbmVDYXAiOiAicm91bmQiLAogICJsaW5lSm9pbiI6ICJyb3VuZCIsCiAgIm9wYWNpdHkiOiAxLjAsCiAgInJhZGl1cyI6IDUsCiAgInN0cm9rZSI6IHRydWUsCiAgIndlaWdodCI6IDMKfQogICAgICAgICAgICAgICAgKS5hZGRUbyhtYXBfMmFjMDQ4OWRmNDVmNGY2ZjkyY2Y2YTI2OWI3N2EzMDEpOwogICAgICAgICAgICAKICAgIAogICAgICAgICAgICB2YXIgcG9wdXBfNmJmNjg0ZmU5NzA5NDNhYzliNjAxZTY4ZDdmMWUwMWYgPSBMLnBvcHVwKHttYXhXaWR0aDogJzMwMCd9KTsKCiAgICAgICAgICAgIAogICAgICAgICAgICAgICAgdmFyIGh0bWxfYWI1ZjBjMWZjZjc3NGIxOTk2ZDgwNDJkZjQzNmM2NTggPSAkKCc8ZGl2IGlkPSJodG1sX2FiNWYwYzFmY2Y3NzRiMTk5NmQ4MDQyZGY0MzZjNjU4IiBzdHlsZT0id2lkdGg6IDEwMC4wJTsgaGVpZ2h0OiAxMDAuMCU7Ij5TaGl2YWppbmFnYXI8L2Rpdj4nKVswXTsKICAgICAgICAgICAgICAgIHBvcHVwXzZiZjY4NGZlOTcwOTQzYWM5YjYwMWU2OGQ3ZjFlMDFmLnNldENvbnRlbnQoaHRtbF9hYjVmMGMxZmNmNzc0YjE5OTZkODA0MmRmNDM2YzY1OCk7CiAgICAgICAgICAgIAoKICAgICAgICAgICAgY2lyY2xlX21hcmtlcl81MDcwM2VlYWZmZTA0YmM5YmYzY2VkZTIyNTJkYjBjZi5iaW5kUG9wdXAocG9wdXBfNmJmNjg0ZmU5NzA5NDNhYzliNjAxZTY4ZDdmMWUwMWYpOwoKICAgICAgICAgICAgCiAgICAgICAgCiAgICAKICAgICAgICAgICAgdmFyIGNpcmNsZV9tYXJrZXJfMmI0ZGNhNjgxMzk0NDJkYzg3YjA3NWU0MWZhMGJhZDQgPSBMLmNpcmNsZU1hcmtlcigKICAgICAgICAgICAgICAgIFsxMi45OTEwNzMyLDc3LjU4NTg4NDhdLAogICAgICAgICAgICAgICAgewogICJidWJibGluZ01vdXNlRXZlbnRzIjogdHJ1ZSwKICAiY29sb3IiOiAiYmx1ZSIsCiAgImRhc2hBcnJheSI6IG51bGwsCiAgImRhc2hPZmZzZXQiOiBudWxsLAogICJmaWxsIjogdHJ1ZSwKICAiZmlsbENvbG9yIjogIiMzMTg2Y2MiLAogICJmaWxsT3BhY2l0eSI6IDAuNywKICAiZmlsbFJ1bGUiOiAiZXZlbm9kZCIsCiAgImxpbmVDYXAiOiAicm91bmQiLAogICJsaW5lSm9pbiI6ICJyb3VuZCIsCiAgIm9wYWNpdHkiOiAxLjAsCiAgInJhZGl1cyI6IDUsCiAgInN0cm9rZSI6IHRydWUsCiAgIndlaWdodCI6IDMKfQogICAgICAgICAgICAgICAgKS5hZGRUbyhtYXBfMmFjMDQ4OWRmNDVmNGY2ZjkyY2Y2YTI2OWI3N2EzMDEpOwogICAgICAgICAgICAKICAgIAogICAgICAgICAgICB2YXIgcG9wdXBfY2FkYTY2ZWY4MmQ3NDkyMTllZWMxMTljZjNhMTEwYzQgPSBMLnBvcHVwKHttYXhXaWR0aDogJzMwMCd9KTsKCiAgICAgICAgICAgIAogICAgICAgICAgICAgICAgdmFyIGh0bWxfOTBhZDEwYzRiODU2NDM4YzgyNTdmMmE3ZDgwMGU0NWUgPSAkKCc8ZGl2IGlkPSJodG1sXzkwYWQxMGM0Yjg1NjQzOGM4MjU3ZjJhN2Q4MDBlNDVlIiBzdHlsZT0id2lkdGg6IDEwMC4wJTsgaGVpZ2h0OiAxMDAuMCU7Ij5DdW5uaW5naGFtIFJkPC9kaXY+JylbMF07CiAgICAgICAgICAgICAgICBwb3B1cF9jYWRhNjZlZjgyZDc0OTIxOWVlYzExOWNmM2ExMTBjNC5zZXRDb250ZW50KGh0bWxfOTBhZDEwYzRiODU2NDM4YzgyNTdmMmE3ZDgwMGU0NWUpOwogICAgICAgICAgICAKCiAgICAgICAgICAgIGNpcmNsZV9tYXJrZXJfMmI0ZGNhNjgxMzk0NDJkYzg3YjA3NWU0MWZhMGJhZDQuYmluZFBvcHVwKHBvcHVwX2NhZGE2NmVmODJkNzQ5MjE5ZWVjMTE5Y2YzYTExMGM0KTsKCiAgICAgICAgICAgIAogICAgICAgIAogICAgCiAgICAgICAgICAgIHZhciBjaXJjbGVfbWFya2VyXzYzYzdjNjNhMmRhYTRlNzE4MTFlNjU4ZTNmYjEyZjYwID0gTC5jaXJjbGVNYXJrZXIoCiAgICAgICAgICAgICAgICBbMTIuOTgzOTc5LDc3LjU5NzExMDVdLAogICAgICAgICAgICAgICAgewogICJidWJibGluZ01vdXNlRXZlbnRzIjogdHJ1ZSwKICAiY29sb3IiOiAiYmx1ZSIsCiAgImRhc2hBcnJheSI6IG51bGwsCiAgImRhc2hPZmZzZXQiOiBudWxsLAogICJmaWxsIjogdHJ1ZSwKICAiZmlsbENvbG9yIjogIiMzMTg2Y2MiLAogICJmaWxsT3BhY2l0eSI6IDAuNywKICAiZmlsbFJ1bGUiOiAiZXZlbm9kZCIsCiAgImxpbmVDYXAiOiAicm91bmQiLAogICJsaW5lSm9pbiI6ICJyb3VuZCIsCiAgIm9wYWNpdHkiOiAxLjAsCiAgInJhZGl1cyI6IDUsCiAgInN0cm9rZSI6IHRydWUsCiAgIndlaWdodCI6IDMKfQogICAgICAgICAgICAgICAgKS5hZGRUbyhtYXBfMmFjMDQ4OWRmNDVmNGY2ZjkyY2Y2YTI2OWI3N2EzMDEpOwogICAgICAgICAgICAKICAgIAogICAgICAgICAgICB2YXIgcG9wdXBfZDVjMTA2YTMzMDFlNGFhYmE5NzEyNmYxNDZiZWY0MDkgPSBMLnBvcHVwKHttYXhXaWR0aDogJzMwMCd9KTsKCiAgICAgICAgICAgIAogICAgICAgICAgICAgICAgdmFyIGh0bWxfZDU3MjJlNzk4MDY5NDBlODg2Y2YwMWY1N2JjNTU0M2UgPSAkKCc8ZGl2IGlkPSJodG1sX2Q1NzIyZTc5ODA2OTQwZTg4NmNmMDFmNTdiYzU1NDNlIiBzdHlsZT0id2lkdGg6IDEwMC4wJTsgaGVpZ2h0OiAxMDAuMCU7Ij5RdWVlbnMgUmQ8L2Rpdj4nKVswXTsKICAgICAgICAgICAgICAgIHBvcHVwX2Q1YzEwNmEzMzAxZTRhYWJhOTcxMjZmMTQ2YmVmNDA5LnNldENvbnRlbnQoaHRtbF9kNTcyMmU3OTgwNjk0MGU4ODZjZjAxZjU3YmM1NTQzZSk7CiAgICAgICAgICAgIAoKICAgICAgICAgICAgY2lyY2xlX21hcmtlcl82M2M3YzYzYTJkYWE0ZTcxODExZTY1OGUzZmIxMmY2MC5iaW5kUG9wdXAocG9wdXBfZDVjMTA2YTMzMDFlNGFhYmE5NzEyNmYxNDZiZWY0MDkpOwoKICAgICAgICAgICAgCiAgICAgICAgCiAgICAKICAgICAgICAgICAgdmFyIGNpcmNsZV9tYXJrZXJfMmNmNDc4M2Y0MzQ4NDIyNmJhMWE4YjZjMDczNGIzOWIgPSBMLmNpcmNsZU1hcmtlcigKICAgICAgICAgICAgICAgIFsxMi45ODU2NTMzLDc3LjU4OTIxNF0sCiAgICAgICAgICAgICAgICB7CiAgImJ1YmJsaW5nTW91c2VFdmVudHMiOiB0cnVlLAogICJjb2xvciI6ICJibHVlIiwKICAiZGFzaEFycmF5IjogbnVsbCwKICAiZGFzaE9mZnNldCI6IG51bGwsCiAgImZpbGwiOiB0cnVlLAogICJmaWxsQ29sb3IiOiAiIzMxODZjYyIsCiAgImZpbGxPcGFjaXR5IjogMC43LAogICJmaWxsUnVsZSI6ICJldmVub2RkIiwKICAibGluZUNhcCI6ICJyb3VuZCIsCiAgImxpbmVKb2luIjogInJvdW5kIiwKICAib3BhY2l0eSI6IDEuMCwKICAicmFkaXVzIjogNSwKICAic3Ryb2tlIjogdHJ1ZSwKICAid2VpZ2h0IjogMwp9CiAgICAgICAgICAgICAgICApLmFkZFRvKG1hcF8yYWMwNDg5ZGY0NWY0ZjZmOTJjZjZhMjY5Yjc3YTMwMSk7CiAgICAgICAgICAgIAogICAgCiAgICAgICAgICAgIHZhciBwb3B1cF8wNmFmYjNmNThjZTM0NzdkYTMxOGIwYTg2MzhlYzIzYSA9IEwucG9wdXAoe21heFdpZHRoOiAnMzAwJ30pOwoKICAgICAgICAgICAgCiAgICAgICAgICAgICAgICB2YXIgaHRtbF82YzRkNjkxYjY4ZTY0OTI5YWU5NGYwMjZmYWU2ZTI1MyA9ICQoJzxkaXYgaWQ9Imh0bWxfNmM0ZDY5MWI2OGU2NDkyOWFlOTRmMDI2ZmFlNmUyNTMiIHN0eWxlPSJ3aWR0aDogMTAwLjAlOyBoZWlnaHQ6IDEwMC4wJTsiPk1pbGxlcnMgUmQ8L2Rpdj4nKVswXTsKICAgICAgICAgICAgICAgIHBvcHVwXzA2YWZiM2Y1OGNlMzQ3N2RhMzE4YjBhODYzOGVjMjNhLnNldENvbnRlbnQoaHRtbF82YzRkNjkxYjY4ZTY0OTI5YWU5NGYwMjZmYWU2ZTI1Myk7CiAgICAgICAgICAgIAoKICAgICAgICAgICAgY2lyY2xlX21hcmtlcl8yY2Y0NzgzZjQzNDg0MjI2YmExYThiNmMwNzM0YjM5Yi5iaW5kUG9wdXAocG9wdXBfMDZhZmIzZjU4Y2UzNDc3ZGEzMThiMGE4NjM4ZWMyM2EpOwoKICAgICAgICAgICAgCiAgICAgICAgCiAgICAKICAgICAgICAgICAgdmFyIGNpcmNsZV9tYXJrZXJfOTcyMTVjNmJjYzBkNDY0Y2FlYWFiMjliZWJkZTQ2NjQgPSBMLmNpcmNsZU1hcmtlcigKICAgICAgICAgICAgICAgIFsxMi45OTM0MjgzLDc3LjU5MDIxNDVdLAogICAgICAgICAgICAgICAgewogICJidWJibGluZ01vdXNlRXZlbnRzIjogdHJ1ZSwKICAiY29sb3IiOiAiYmx1ZSIsCiAgImRhc2hBcnJheSI6IG51bGwsCiAgImRhc2hPZmZzZXQiOiBudWxsLAogICJmaWxsIjogdHJ1ZSwKICAiZmlsbENvbG9yIjogIiMzMTg2Y2MiLAogICJmaWxsT3BhY2l0eSI6IDAuNywKICAiZmlsbFJ1bGUiOiAiZXZlbm9kZCIsCiAgImxpbmVDYXAiOiAicm91bmQiLAogICJsaW5lSm9pbiI6ICJyb3VuZCIsCiAgIm9wYWNpdHkiOiAxLjAsCiAgInJhZGl1cyI6IDUsCiAgInN0cm9rZSI6IHRydWUsCiAgIndlaWdodCI6IDMKfQogICAgICAgICAgICAgICAgKS5hZGRUbyhtYXBfMmFjMDQ4OWRmNDVmNGY2ZjkyY2Y2YTI2OWI3N2EzMDEpOwogICAgICAgICAgICAKICAgIAogICAgICAgICAgICB2YXIgcG9wdXBfN2Q4MDQxNWUwZjY0NGYwNDhhMWEwMzE2NWY1OTMxODEgPSBMLnBvcHVwKHttYXhXaWR0aDogJzMwMCd9KTsKCiAgICAgICAgICAgIAogICAgICAgICAgICAgICAgdmFyIGh0bWxfOGIxZGY5MDQzNTlmNDFkMmFkYzJiZmNmYzNkZWUwMzEgPSAkKCc8ZGl2IGlkPSJodG1sXzhiMWRmOTA0MzU5ZjQxZDJhZGMyYmZjZmMzZGVlMDMxIiBzdHlsZT0id2lkdGg6IDEwMC4wJTsgaGVpZ2h0OiAxMDAuMCU7Ij5WYXNhbnRuYWdhcjwvZGl2PicpWzBdOwogICAgICAgICAgICAgICAgcG9wdXBfN2Q4MDQxNWUwZjY0NGYwNDhhMWEwMzE2NWY1OTMxODEuc2V0Q29udGVudChodG1sXzhiMWRmOTA0MzU5ZjQxZDJhZGMyYmZjZmMzZGVlMDMxKTsKICAgICAgICAgICAgCgogICAgICAgICAgICBjaXJjbGVfbWFya2VyXzk3MjE1YzZiY2MwZDQ2NGNhZWFhYjI5YmViZGU0NjY0LmJpbmRQb3B1cChwb3B1cF83ZDgwNDE1ZTBmNjQ0ZjA0OGExYTAzMTY1ZjU5MzE4MSk7CgogICAgICAgICAgICAKICAgICAgICAKICAgIAogICAgICAgICAgICB2YXIgY2lyY2xlX21hcmtlcl8xYTA3YmM5MjQyZGQ0N2E3OTI3Y2JjOWI2MTE5MzUxYiA9IEwuY2lyY2xlTWFya2VyKAogICAgICAgICAgICAgICAgWzEyLjk1Nzk5OCw3Ny42MDM3MzEyXSwKICAgICAgICAgICAgICAgIHsKICAiYnViYmxpbmdNb3VzZUV2ZW50cyI6IHRydWUsCiAgImNvbG9yIjogImJsdWUiLAogICJkYXNoQXJyYXkiOiBudWxsLAogICJkYXNoT2Zmc2V0IjogbnVsbCwKICAiZmlsbCI6IHRydWUsCiAgImZpbGxDb2xvciI6ICIjMzE4NmNjIiwKICAiZmlsbE9wYWNpdHkiOiAwLjcsCiAgImZpbGxSdWxlIjogImV2ZW5vZGQiLAogICJsaW5lQ2FwIjogInJvdW5kIiwKICAibGluZUpvaW4iOiAicm91bmQiLAogICJvcGFjaXR5IjogMS4wLAogICJyYWRpdXMiOiA1LAogICJzdHJva2UiOiB0cnVlLAogICJ3ZWlnaHQiOiAzCn0KICAgICAgICAgICAgICAgICkuYWRkVG8obWFwXzJhYzA0ODlkZjQ1ZjRmNmY5MmNmNmEyNjliNzdhMzAxKTsKICAgICAgICAgICAgCiAgICAKICAgICAgICAgICAgdmFyIHBvcHVwX2VlMjk5YzRhZTQyMjQ0NmY4NjFiNDk3YmNiZGFiNGJmID0gTC5wb3B1cCh7bWF4V2lkdGg6ICczMDAnfSk7CgogICAgICAgICAgICAKICAgICAgICAgICAgICAgIHZhciBodG1sX2E0NWNmNjkzNzRiYzQ1ODhhNTcwNzhhMjM2ZDY3MDNkID0gJCgnPGRpdiBpZD0iaHRtbF9hNDVjZjY5Mzc0YmM0NTg4YTU3MDc4YTIzNmQ2NzAzZCIgc3R5bGU9IndpZHRoOiAxMDAuMCU7IGhlaWdodDogMTAwLjAlOyI+TGFuZ2ZvcmQgVG93bjwvZGl2PicpWzBdOwogICAgICAgICAgICAgICAgcG9wdXBfZWUyOTljNGFlNDIyNDQ2Zjg2MWI0OTdiY2JkYWI0YmYuc2V0Q29udGVudChodG1sX2E0NWNmNjkzNzRiYzQ1ODhhNTcwNzhhMjM2ZDY3MDNkKTsKICAgICAgICAgICAgCgogICAgICAgICAgICBjaXJjbGVfbWFya2VyXzFhMDdiYzkyNDJkZDQ3YTc5MjdjYmM5YjYxMTkzNTFiLmJpbmRQb3B1cChwb3B1cF9lZTI5OWM0YWU0MjI0NDZmODYxYjQ5N2JjYmRhYjRiZik7CgogICAgICAgICAgICAKICAgICAgICAKICAgIAogICAgICAgICAgICB2YXIgY2lyY2xlX21hcmtlcl9lMTJmMGEyMTA1NWU0MDIxODU5NDBlMmNlYmE4MmQ5NCA9IEwuY2lyY2xlTWFya2VyKAogICAgICAgICAgICAgICAgWzEyLjk2MjY5MjUsNzcuNjA0MTYwM10sCiAgICAgICAgICAgICAgICB7CiAgImJ1YmJsaW5nTW91c2VFdmVudHMiOiB0cnVlLAogICJjb2xvciI6ICJibHVlIiwKICAiZGFzaEFycmF5IjogbnVsbCwKICAiZGFzaE9mZnNldCI6IG51bGwsCiAgImZpbGwiOiB0cnVlLAogICJmaWxsQ29sb3IiOiAiIzMxODZjYyIsCiAgImZpbGxPcGFjaXR5IjogMC43LAogICJmaWxsUnVsZSI6ICJldmVub2RkIiwKICAibGluZUNhcCI6ICJyb3VuZCIsCiAgImxpbmVKb2luIjogInJvdW5kIiwKICAib3BhY2l0eSI6IDEuMCwKICAicmFkaXVzIjogNSwKICAic3Ryb2tlIjogdHJ1ZSwKICAid2VpZ2h0IjogMwp9CiAgICAgICAgICAgICAgICApLmFkZFRvKG1hcF8yYWMwNDg5ZGY0NWY0ZjZmOTJjZjZhMjY5Yjc3YTMwMSk7CiAgICAgICAgICAgIAogICAgCiAgICAgICAgICAgIHZhciBwb3B1cF9kNmMxNDU3NDkwNTA0NTg1OTkxOTM3ZDgzYTNmNTJlYiA9IEwucG9wdXAoe21heFdpZHRoOiAnMzAwJ30pOwoKICAgICAgICAgICAgCiAgICAgICAgICAgICAgICB2YXIgaHRtbF9jOTZmYzRhMjE5ZjI0Yjk0OGZmZjY4NzZiNmI0ZTRhMiA9ICQoJzxkaXYgaWQ9Imh0bWxfYzk2ZmM0YTIxOWYyNGI5NDhmZmY2ODc2YjZiNGU0YTIiIHN0eWxlPSJ3aWR0aDogMTAwLjAlOyBoZWlnaHQ6IDEwMC4wJTsiPlJpY2htb25kIFRvd248L2Rpdj4nKVswXTsKICAgICAgICAgICAgICAgIHBvcHVwX2Q2YzE0NTc0OTA1MDQ1ODU5OTE5MzdkODNhM2Y1MmViLnNldENvbnRlbnQoaHRtbF9jOTZmYzRhMjE5ZjI0Yjk0OGZmZjY4NzZiNmI0ZTRhMik7CiAgICAgICAgICAgIAoKICAgICAgICAgICAgY2lyY2xlX21hcmtlcl9lMTJmMGEyMTA1NWU0MDIxODU5NDBlMmNlYmE4MmQ5NC5iaW5kUG9wdXAocG9wdXBfZDZjMTQ1NzQ5MDUwNDU4NTk5MTkzN2Q4M2EzZjUyZWIpOwoKICAgICAgICAgICAgCiAgICAgICAgCiAgICAKICAgICAgICAgICAgdmFyIGNpcmNsZV9tYXJrZXJfZmQ1MDkyMDM3Yzk3NDZkOWFjNzkyNzhmMmRiOTg0OTkgPSBMLmNpcmNsZU1hcmtlcigKICAgICAgICAgICAgICAgIFsxMy4wNTM1MTI2LDc3LjYyMzE1NjZdLAogICAgICAgICAgICAgICAgewogICJidWJibGluZ01vdXNlRXZlbnRzIjogdHJ1ZSwKICAiY29sb3IiOiAiYmx1ZSIsCiAgImRhc2hBcnJheSI6IG51bGwsCiAgImRhc2hPZmZzZXQiOiBudWxsLAogICJmaWxsIjogdHJ1ZSwKICAiZmlsbENvbG9yIjogIiMzMTg2Y2MiLAogICJmaWxsT3BhY2l0eSI6IDAuNywKICAiZmlsbFJ1bGUiOiAiZXZlbm9kZCIsCiAgImxpbmVDYXAiOiAicm91bmQiLAogICJsaW5lSm9pbiI6ICJyb3VuZCIsCiAgIm9wYWNpdHkiOiAxLjAsCiAgInJhZGl1cyI6IDUsCiAgInN0cm9rZSI6IHRydWUsCiAgIndlaWdodCI6IDMKfQogICAgICAgICAgICAgICAgKS5hZGRUbyhtYXBfMmFjMDQ4OWRmNDVmNGY2ZjkyY2Y2YTI2OWI3N2EzMDEpOwogICAgICAgICAgICAKICAgIAogICAgICAgICAgICB2YXIgcG9wdXBfNjdhZjQ5NjM3ZWU4NGU3MDlhZWMwN2ZlZGQ3OGExNzQgPSBMLnBvcHVwKHttYXhXaWR0aDogJzMwMCd9KTsKCiAgICAgICAgICAgIAogICAgICAgICAgICAgICAgdmFyIGh0bWxfOWVhZGNlN2Y0NTdkNDZjMDk3NTBkZGM2YjAxZjZlYjUgPSAkKCc8ZGl2IGlkPSJodG1sXzllYWRjZTdmNDU3ZDQ2YzA5NzUwZGRjNmIwMWY2ZWI1IiBzdHlsZT0id2lkdGg6IDEwMC4wJTsgaGVpZ2h0OiAxMDAuMCU7Ij5SZXNpZGVuY3kgUmQ8L2Rpdj4nKVswXTsKICAgICAgICAgICAgICAgIHBvcHVwXzY3YWY0OTYzN2VlODRlNzA5YWVjMDdmZWRkNzhhMTc0LnNldENvbnRlbnQoaHRtbF85ZWFkY2U3ZjQ1N2Q0NmMwOTc1MGRkYzZiMDFmNmViNSk7CiAgICAgICAgICAgIAoKICAgICAgICAgICAgY2lyY2xlX21hcmtlcl9mZDUwOTIwMzdjOTc0NmQ5YWM3OTI3OGYyZGI5ODQ5OS5iaW5kUG9wdXAocG9wdXBfNjdhZjQ5NjM3ZWU4NGU3MDlhZWMwN2ZlZGQ3OGExNzQpOwoKICAgICAgICAgICAgCiAgICAgICAgCiAgICAKICAgICAgICAgICAgdmFyIGNpcmNsZV9tYXJrZXJfYjEwZDE3NGQyOWU5NDdhNjg5YmViZWI5ZjBhOWI5NjUgPSBMLmNpcmNsZU1hcmtlcigKICAgICAgICAgICAgICAgIFsxMi45NzkyMzUzLDc3LjYwMjM5NDRdLAogICAgICAgICAgICAgICAgewogICJidWJibGluZ01vdXNlRXZlbnRzIjogdHJ1ZSwKICAiY29sb3IiOiAiYmx1ZSIsCiAgImRhc2hBcnJheSI6IG51bGwsCiAgImRhc2hPZmZzZXQiOiBudWxsLAogICJmaWxsIjogdHJ1ZSwKICAiZmlsbENvbG9yIjogIiMzMTg2Y2MiLAogICJmaWxsT3BhY2l0eSI6IDAuNywKICAiZmlsbFJ1bGUiOiAiZXZlbm9kZCIsCiAgImxpbmVDYXAiOiAicm91bmQiLAogICJsaW5lSm9pbiI6ICJyb3VuZCIsCiAgIm9wYWNpdHkiOiAxLjAsCiAgInJhZGl1cyI6IDUsCiAgInN0cm9rZSI6IHRydWUsCiAgIndlaWdodCI6IDMKfQogICAgICAgICAgICAgICAgKS5hZGRUbyhtYXBfMmFjMDQ4OWRmNDVmNGY2ZjkyY2Y2YTI2OWI3N2EzMDEpOwogICAgICAgICAgICAKICAgIAogICAgICAgICAgICB2YXIgcG9wdXBfNTA1NTFkY2ZmYmZiNDU4MThkNzQwNTBmM2IyNTI5ZjcgPSBMLnBvcHVwKHttYXhXaWR0aDogJzMwMCd9KTsKCiAgICAgICAgICAgIAogICAgICAgICAgICAgICAgdmFyIGh0bWxfNThiOTIzMjg1OWUwNDc1Mzg2MzBkNjg5ODJiMDYzZjMgPSAkKCc8ZGl2IGlkPSJodG1sXzU4YjkyMzI4NTllMDQ3NTM4NjMwZDY4OTgyYjA2M2YzIiBzdHlsZT0id2lkdGg6IDEwMC4wJTsgaGVpZ2h0OiAxMDAuMCU7Ij5TdC5NYXJrcyBSZDwvZGl2PicpWzBdOwogICAgICAgICAgICAgICAgcG9wdXBfNTA1NTFkY2ZmYmZiNDU4MThkNzQwNTBmM2IyNTI5Zjcuc2V0Q29udGVudChodG1sXzU4YjkyMzI4NTllMDQ3NTM4NjMwZDY4OTgyYjA2M2YzKTsKICAgICAgICAgICAgCgogICAgICAgICAgICBjaXJjbGVfbWFya2VyX2IxMGQxNzRkMjllOTQ3YTY4OWJlYmViOWYwYTliOTY1LmJpbmRQb3B1cChwb3B1cF81MDU1MWRjZmZiZmI0NTgxOGQ3NDA1MGYzYjI1MjlmNyk7CgogICAgICAgICAgICAKICAgICAgICAKICAgIAogICAgICAgICAgICB2YXIgY2lyY2xlX21hcmtlcl9iN2QwMzQyMzNmZDI0MzZlOWMyNmEyZDViMjk3N2E4YyA9IEwuY2lyY2xlTWFya2VyKAogICAgICAgICAgICAgICAgWzEyLjk3NTA0OTUsNzcuNjI1Mjk2NF0sCiAgICAgICAgICAgICAgICB7CiAgImJ1YmJsaW5nTW91c2VFdmVudHMiOiB0cnVlLAogICJjb2xvciI6ICJibHVlIiwKICAiZGFzaEFycmF5IjogbnVsbCwKICAiZGFzaE9mZnNldCI6IG51bGwsCiAgImZpbGwiOiB0cnVlLAogICJmaWxsQ29sb3IiOiAiIzMxODZjYyIsCiAgImZpbGxPcGFjaXR5IjogMC43LAogICJmaWxsUnVsZSI6ICJldmVub2RkIiwKICAibGluZUNhcCI6ICJyb3VuZCIsCiAgImxpbmVKb2luIjogInJvdW5kIiwKICAib3BhY2l0eSI6IDEuMCwKICAicmFkaXVzIjogNSwKICAic3Ryb2tlIjogdHJ1ZSwKICAid2VpZ2h0IjogMwp9CiAgICAgICAgICAgICAgICApLmFkZFRvKG1hcF8yYWMwNDg5ZGY0NWY0ZjZmOTJjZjZhMjY5Yjc3YTMwMSk7CiAgICAgICAgICAgIAogICAgCiAgICAgICAgICAgIHZhciBwb3B1cF9lNzU3NjFkYjZlNWU0OGI3OTQyZWI1OGEwNTUxMTQ0MSA9IEwucG9wdXAoe21heFdpZHRoOiAnMzAwJ30pOwoKICAgICAgICAgICAgCiAgICAgICAgICAgICAgICB2YXIgaHRtbF9hNDUwYTYxNzM4N2U0OTJmYTQyNTVmZDIxOTlkZDgwNiA9ICQoJzxkaXYgaWQ9Imh0bWxfYTQ1MGE2MTczODdlNDkyZmE0MjU1ZmQyMTk5ZGQ4MDYiIHN0eWxlPSJ3aWR0aDogMTAwLjAlOyBoZWlnaHQ6IDEwMC4wJTsiPkNhbWJyaWRnZSBSZDwvZGl2PicpWzBdOwogICAgICAgICAgICAgICAgcG9wdXBfZTc1NzYxZGI2ZTVlNDhiNzk0MmViNThhMDU1MTE0NDEuc2V0Q29udGVudChodG1sX2E0NTBhNjE3Mzg3ZTQ5MmZhNDI1NWZkMjE5OWRkODA2KTsKICAgICAgICAgICAgCgogICAgICAgICAgICBjaXJjbGVfbWFya2VyX2I3ZDAzNDIzM2ZkMjQzNmU5YzI2YTJkNWIyOTc3YThjLmJpbmRQb3B1cChwb3B1cF9lNzU3NjFkYjZlNWU0OGI3OTQyZWI1OGEwNTUxMTQ0MSk7CgogICAgICAgICAgICAKICAgICAgICAKICAgIAogICAgICAgICAgICB2YXIgY2lyY2xlX21hcmtlcl9hZDk5ZDI5OWFjYjM0NjgwOGQ2M2ZiYzA1ZTM3YmRiMyA9IEwuY2lyY2xlTWFya2VyKAogICAgICAgICAgICAgICAgWzEyLjk3NTQ0NzksNzcuNjE3NDMzXSwKICAgICAgICAgICAgICAgIHsKICAiYnViYmxpbmdNb3VzZUV2ZW50cyI6IHRydWUsCiAgImNvbG9yIjogImJsdWUiLAogICJkYXNoQXJyYXkiOiBudWxsLAogICJkYXNoT2Zmc2V0IjogbnVsbCwKICAiZmlsbCI6IHRydWUsCiAgImZpbGxDb2xvciI6ICIjMzE4NmNjIiwKICAiZmlsbE9wYWNpdHkiOiAwLjcsCiAgImZpbGxSdWxlIjogImV2ZW5vZGQiLAogICJsaW5lQ2FwIjogInJvdW5kIiwKICAibGluZUpvaW4iOiAicm91bmQiLAogICJvcGFjaXR5IjogMS4wLAogICJyYWRpdXMiOiA1LAogICJzdHJva2UiOiB0cnVlLAogICJ3ZWlnaHQiOiAzCn0KICAgICAgICAgICAgICAgICkuYWRkVG8obWFwXzJhYzA0ODlkZjQ1ZjRmNmY5MmNmNmEyNjliNzdhMzAxKTsKICAgICAgICAgICAgCiAgICAKICAgICAgICAgICAgdmFyIHBvcHVwXzUxZGE2MDZkMTIzZTQ1ZmY5OTJiNGVmMjQwZmI3NTcxID0gTC5wb3B1cCh7bWF4V2lkdGg6ICczMDAnfSk7CgogICAgICAgICAgICAKICAgICAgICAgICAgICAgIHZhciBodG1sXzEwODQwNGJjZTkzYjQ2YjQ4NWViN2M3OGFjNzhhZjU1ID0gJCgnPGRpdiBpZD0iaHRtbF8xMDg0MDRiY2U5M2I0NmI0ODVlYjdjNzhhYzc4YWY1NSIgc3R5bGU9IndpZHRoOiAxMDAuMCU7IGhlaWdodDogMTAwLjAlOyI+VWxzb29yIFJkPC9kaXY+JylbMF07CiAgICAgICAgICAgICAgICBwb3B1cF81MWRhNjA2ZDEyM2U0NWZmOTkyYjRlZjI0MGZiNzU3MS5zZXRDb250ZW50KGh0bWxfMTA4NDA0YmNlOTNiNDZiNDg1ZWI3Yzc4YWM3OGFmNTUpOwogICAgICAgICAgICAKCiAgICAgICAgICAgIGNpcmNsZV9tYXJrZXJfYWQ5OWQyOTlhY2IzNDY4MDhkNjNmYmMwNWUzN2JkYjMuYmluZFBvcHVwKHBvcHVwXzUxZGE2MDZkMTIzZTQ1ZmY5OTJiNGVmMjQwZmI3NTcxKTsKCiAgICAgICAgICAgIAogICAgICAgIAogICAgCiAgICAgICAgICAgIHZhciBjaXJjbGVfbWFya2VyXzllMmRhY2RkNjNlOTQ4Y2E5NmM2MjczOTEzNmQ4MDFkID0gTC5jaXJjbGVNYXJrZXIoCiAgICAgICAgICAgICAgICBbMTIuOTY3MTI4Niw3Ny41OTQ3OTM1XSwKICAgICAgICAgICAgICAgIHsKICAiYnViYmxpbmdNb3VzZUV2ZW50cyI6IHRydWUsCiAgImNvbG9yIjogImJsdWUiLAogICJkYXNoQXJyYXkiOiBudWxsLAogICJkYXNoT2Zmc2V0IjogbnVsbCwKICAiZmlsbCI6IHRydWUsCiAgImZpbGxDb2xvciI6ICIjMzE4NmNjIiwKICAiZmlsbE9wYWNpdHkiOiAwLjcsCiAgImZpbGxSdWxlIjogImV2ZW5vZGQiLAogICJsaW5lQ2FwIjogInJvdW5kIiwKICAibGluZUpvaW4iOiAicm91bmQiLAogICJvcGFjaXR5IjogMS4wLAogICJyYWRpdXMiOiA1LAogICJzdHJva2UiOiB0cnVlLAogICJ3ZWlnaHQiOiAzCn0KICAgICAgICAgICAgICAgICkuYWRkVG8obWFwXzJhYzA0ODlkZjQ1ZjRmNmY5MmNmNmEyNjliNzdhMzAxKTsKICAgICAgICAgICAgCiAgICAKICAgICAgICAgICAgdmFyIHBvcHVwX2ZjNWViYmRhYmE4NzQ5NzdhMzk1MDRkMDhiZjE5N2NiID0gTC5wb3B1cCh7bWF4V2lkdGg6ICczMDAnfSk7CgogICAgICAgICAgICAKICAgICAgICAgICAgICAgIHZhciBodG1sX2M1MDI4ODg5OGZjNzRiOTA5NmI5ODJhMDQzNmJlYjIyID0gJCgnPGRpdiBpZD0iaHRtbF9jNTAyODg4OThmYzc0YjkwOTZiOTgyYTA0MzZiZWIyMiIgc3R5bGU9IndpZHRoOiAxMDAuMCU7IGhlaWdodDogMTAwLjAlOyI+Vml0dGFsIE1hbGx5YSBSZDwvZGl2PicpWzBdOwogICAgICAgICAgICAgICAgcG9wdXBfZmM1ZWJiZGFiYTg3NDk3N2EzOTUwNGQwOGJmMTk3Y2Iuc2V0Q29udGVudChodG1sX2M1MDI4ODg5OGZjNzRiOTA5NmI5ODJhMDQzNmJlYjIyKTsKICAgICAgICAgICAgCgogICAgICAgICAgICBjaXJjbGVfbWFya2VyXzllMmRhY2RkNjNlOTQ4Y2E5NmM2MjczOTEzNmQ4MDFkLmJpbmRQb3B1cChwb3B1cF9mYzVlYmJkYWJhODc0OTc3YTM5NTA0ZDA4YmYxOTdjYik7CgogICAgICAgICAgICAKICAgICAgICAKICAgIAogICAgICAgICAgICB2YXIgY2lyY2xlX21hcmtlcl85N2NkMjMxZDBlMzE0Y2RiYjc5ZDljODBjZWZhNTAwZSA9IEwuY2lyY2xlTWFya2VyKAogICAgICAgICAgICAgICAgWzEyLjk3NDk1NjUsNzcuNTk5NzI3OF0sCiAgICAgICAgICAgICAgICB7CiAgImJ1YmJsaW5nTW91c2VFdmVudHMiOiB0cnVlLAogICJjb2xvciI6ICJibHVlIiwKICAiZGFzaEFycmF5IjogbnVsbCwKICAiZGFzaE9mZnNldCI6IG51bGwsCiAgImZpbGwiOiB0cnVlLAogICJmaWxsQ29sb3IiOiAiIzMxODZjYyIsCiAgImZpbGxPcGFjaXR5IjogMC43LAogICJmaWxsUnVsZSI6ICJldmVub2RkIiwKICAibGluZUNhcCI6ICJyb3VuZCIsCiAgImxpbmVKb2luIjogInJvdW5kIiwKICAib3BhY2l0eSI6IDEuMCwKICAicmFkaXVzIjogNSwKICAic3Ryb2tlIjogdHJ1ZSwKICAid2VpZ2h0IjogMwp9CiAgICAgICAgICAgICAgICApLmFkZFRvKG1hcF8yYWMwNDg5ZGY0NWY0ZjZmOTJjZjZhMjY5Yjc3YTMwMSk7CiAgICAgICAgICAgIAogICAgCiAgICAgICAgICAgIHZhciBwb3B1cF9kYTU5N2FkYWNkMGI0ZjVkOTMyN2ZmMTU3MTc2ZjA0NCA9IEwucG9wdXAoe21heFdpZHRoOiAnMzAwJ30pOwoKICAgICAgICAgICAgCiAgICAgICAgICAgICAgICB2YXIgaHRtbF9iNWFjZjYxMDk2NjE0NWYyYWVlZjIyZTdhMGU5Y2JlYiA9ICQoJzxkaXYgaWQ9Imh0bWxfYjVhY2Y2MTA5NjYxNDVmMmFlZWYyMmU3YTBlOWNiZWIiIHN0eWxlPSJ3aWR0aDogMTAwLjAlOyBoZWlnaHQ6IDEwMC4wJTsiPkxhdmVsbGUgUmQ8L2Rpdj4nKVswXTsKICAgICAgICAgICAgICAgIHBvcHVwX2RhNTk3YWRhY2QwYjRmNWQ5MzI3ZmYxNTcxNzZmMDQ0LnNldENvbnRlbnQoaHRtbF9iNWFjZjYxMDk2NjE0NWYyYWVlZjIyZTdhMGU5Y2JlYik7CiAgICAgICAgICAgIAoKICAgICAgICAgICAgY2lyY2xlX21hcmtlcl85N2NkMjMxZDBlMzE0Y2RiYjc5ZDljODBjZWZhNTAwZS5iaW5kUG9wdXAocG9wdXBfZGE1OTdhZGFjZDBiNGY1ZDkzMjdmZjE1NzE3NmYwNDQpOwoKICAgICAgICAgICAgCiAgICAgICAgCiAgICAKICAgICAgICAgICAgdmFyIGNpcmNsZV9tYXJrZXJfZTU1NmNlMzEyNmFhNDllZjgyZGM0ZDllMDRhYzBjNDYgPSBMLmNpcmNsZU1hcmtlcigKICAgICAgICAgICAgICAgIFsxMi45NjQ4MzY4LDc3LjU5Njc2MzddLAogICAgICAgICAgICAgICAgewogICJidWJibGluZ01vdXNlRXZlbnRzIjogdHJ1ZSwKICAiY29sb3IiOiAiYmx1ZSIsCiAgImRhc2hBcnJheSI6IG51bGwsCiAgImRhc2hPZmZzZXQiOiBudWxsLAogICJmaWxsIjogdHJ1ZSwKICAiZmlsbENvbG9yIjogIiMzMTg2Y2MiLAogICJmaWxsT3BhY2l0eSI6IDAuNywKICAiZmlsbFJ1bGUiOiAiZXZlbm9kZCIsCiAgImxpbmVDYXAiOiAicm91bmQiLAogICJsaW5lSm9pbiI6ICJyb3VuZCIsCiAgIm9wYWNpdHkiOiAxLjAsCiAgInJhZGl1cyI6IDUsCiAgInN0cm9rZSI6IHRydWUsCiAgIndlaWdodCI6IDMKfQogICAgICAgICAgICAgICAgKS5hZGRUbyhtYXBfMmFjMDQ4OWRmNDVmNGY2ZjkyY2Y2YTI2OWI3N2EzMDEpOwogICAgICAgICAgICAKICAgIAogICAgICAgICAgICB2YXIgcG9wdXBfNThmMzNlYjkwMTIzNDQwMzhlODcxNDExYjE3NGNlMGYgPSBMLnBvcHVwKHttYXhXaWR0aDogJzMwMCd9KTsKCiAgICAgICAgICAgIAogICAgICAgICAgICAgICAgdmFyIGh0bWxfMzZhZDEyOTBlNDdkNGQ2ZDhiYzc5M2QwZjkwZTA0OWMgPSAkKCc8ZGl2IGlkPSJodG1sXzM2YWQxMjkwZTQ3ZDRkNmQ4YmM3OTNkMGY5MGUwNDljIiBzdHlsZT0id2lkdGg6IDEwMC4wJTsgaGVpZ2h0OiAxMDAuMCU7Ij5SYWphcmFtIE1vaGFuIFJveSBSZDwvZGl2PicpWzBdOwogICAgICAgICAgICAgICAgcG9wdXBfNThmMzNlYjkwMTIzNDQwMzhlODcxNDExYjE3NGNlMGYuc2V0Q29udGVudChodG1sXzM2YWQxMjkwZTQ3ZDRkNmQ4YmM3OTNkMGY5MGUwNDljKTsKICAgICAgICAgICAgCgogICAgICAgICAgICBjaXJjbGVfbWFya2VyX2U1NTZjZTMxMjZhYTQ5ZWY4MmRjNGQ5ZTA0YWMwYzQ2LmJpbmRQb3B1cChwb3B1cF81OGYzM2ViOTAxMjM0NDAzOGU4NzE0MTFiMTc0Y2UwZik7CgogICAgICAgICAgICAKICAgICAgICAKICAgIAogICAgICAgICAgICB2YXIgY2lyY2xlX21hcmtlcl9hNGExNzQ2ZThlZjk0MzE2YTRmM2ZjNDdhMWM2ZGE5ZiA9IEwuY2lyY2xlTWFya2VyKAogICAgICAgICAgICAgICAgWzE5LjY3MTczODEsNzguNTMzMTM5M10sCiAgICAgICAgICAgICAgICB7CiAgImJ1YmJsaW5nTW91c2VFdmVudHMiOiB0cnVlLAogICJjb2xvciI6ICJibHVlIiwKICAiZGFzaEFycmF5IjogbnVsbCwKICAiZGFzaE9mZnNldCI6IG51bGwsCiAgImZpbGwiOiB0cnVlLAogICJmaWxsQ29sb3IiOiAiIzMxODZjYyIsCiAgImZpbGxPcGFjaXR5IjogMC43LAogICJmaWxsUnVsZSI6ICJldmVub2RkIiwKICAibGluZUNhcCI6ICJyb3VuZCIsCiAgImxpbmVKb2luIjogInJvdW5kIiwKICAib3BhY2l0eSI6IDEuMCwKICAicmFkaXVzIjogNSwKICAic3Ryb2tlIjogdHJ1ZSwKICAid2VpZ2h0IjogMwp9CiAgICAgICAgICAgICAgICApLmFkZFRvKG1hcF8yYWMwNDg5ZGY0NWY0ZjZmOTJjZjZhMjY5Yjc3YTMwMSk7CiAgICAgICAgICAgIAogICAgCiAgICAgICAgICAgIHZhciBwb3B1cF9jMjEzMmQzZGM4NjE0ZWQzYjQzODE1NGVhZTk5Mzg4YiA9IEwucG9wdXAoe21heFdpZHRoOiAnMzAwJ30pOwoKICAgICAgICAgICAgCiAgICAgICAgICAgICAgICB2YXIgaHRtbF84ODJmZDk3OWJjMTk0NDI0OTBmNzZhM2UwMjZiMGM0ZCA9ICQoJzxkaXYgaWQ9Imh0bWxfODgyZmQ5NzliYzE5NDQyNDkwZjc2YTNlMDI2YjBjNGQiIHN0eWxlPSJ3aWR0aDogMTAwLjAlOyBoZWlnaHQ6IDEwMC4wJTsiPkFtYmVka2FyIFJkPC9kaXY+JylbMF07CiAgICAgICAgICAgICAgICBwb3B1cF9jMjEzMmQzZGM4NjE0ZWQzYjQzODE1NGVhZTk5Mzg4Yi5zZXRDb250ZW50KGh0bWxfODgyZmQ5NzliYzE5NDQyNDkwZjc2YTNlMDI2YjBjNGQpOwogICAgICAgICAgICAKCiAgICAgICAgICAgIGNpcmNsZV9tYXJrZXJfYTRhMTc0NmU4ZWY5NDMxNmE0ZjNmYzQ3YTFjNmRhOWYuYmluZFBvcHVwKHBvcHVwX2MyMTMyZDNkYzg2MTRlZDNiNDM4MTU0ZWFlOTkzODhiKTsKCiAgICAgICAgICAgIAogICAgICAgIAogICAgCiAgICAgICAgICAgIHZhciBjaXJjbGVfbWFya2VyXzMzNDM3OGYwNDMyNjQ2MTdiZDBmY2RmOTBkMDdlYWU4ID0gTC5jaXJjbGVNYXJrZXIoCiAgICAgICAgICAgICAgICBbMTIuOTc3MTUzNCw3Ny41Nzg0MDA1XSwKICAgICAgICAgICAgICAgIHsKICAiYnViYmxpbmdNb3VzZUV2ZW50cyI6IHRydWUsCiAgImNvbG9yIjogImJsdWUiLAogICJkYXNoQXJyYXkiOiBudWxsLAogICJkYXNoT2Zmc2V0IjogbnVsbCwKICAiZmlsbCI6IHRydWUsCiAgImZpbGxDb2xvciI6ICIjMzE4NmNjIiwKICAiZmlsbE9wYWNpdHkiOiAwLjcsCiAgImZpbGxSdWxlIjogImV2ZW5vZGQiLAogICJsaW5lQ2FwIjogInJvdW5kIiwKICAibGluZUpvaW4iOiAicm91bmQiLAogICJvcGFjaXR5IjogMS4wLAogICJyYWRpdXMiOiA1LAogICJzdHJva2UiOiB0cnVlLAogICJ3ZWlnaHQiOiAzCn0KICAgICAgICAgICAgICAgICkuYWRkVG8obWFwXzJhYzA0ODlkZjQ1ZjRmNmY5MmNmNmEyNjliNzdhMzAxKTsKICAgICAgICAgICAgCiAgICAKICAgICAgICAgICAgdmFyIHBvcHVwXzllNTNhM2NlN2MzZTRhYTFhM2UzMGVlMjYwN2JjMTFmID0gTC5wb3B1cCh7bWF4V2lkdGg6ICczMDAnfSk7CgogICAgICAgICAgICAKICAgICAgICAgICAgICAgIHZhciBodG1sXzY4YWNlMzRhMThhMzRjMGY5NDdiMjFkOTgzYjQ1MGFiID0gJCgnPGRpdiBpZD0iaHRtbF82OGFjZTM0YTE4YTM0YzBmOTQ3YjIxZDk4M2I0NTBhYiIgc3R5bGU9IndpZHRoOiAxMDAuMCU7IGhlaWdodDogMTAwLjAlOyI+R2FuZGhpbmFnYXI8L2Rpdj4nKVswXTsKICAgICAgICAgICAgICAgIHBvcHVwXzllNTNhM2NlN2MzZTRhYTFhM2UzMGVlMjYwN2JjMTFmLnNldENvbnRlbnQoaHRtbF82OGFjZTM0YTE4YTM0YzBmOTQ3YjIxZDk4M2I0NTBhYik7CiAgICAgICAgICAgIAoKICAgICAgICAgICAgY2lyY2xlX21hcmtlcl8zMzQzNzhmMDQzMjY0NjE3YmQwZmNkZjkwZDA3ZWFlOC5iaW5kUG9wdXAocG9wdXBfOWU1M2EzY2U3YzNlNGFhMWEzZTMwZWUyNjA3YmMxMWYpOwoKICAgICAgICAgICAgCiAgICAgICAgCiAgICAKICAgICAgICAgICAgdmFyIGNpcmNsZV9tYXJrZXJfMzU0YWFmOGYyMGRmNGMyNDg3N2E4ZTc5MjJlZTcxODEgPSBMLmNpcmNsZU1hcmtlcigKICAgICAgICAgICAgICAgIFsxMi44OTEyMTk1LDc3LjYyMjgxMjRdLAogICAgICAgICAgICAgICAgewogICJidWJibGluZ01vdXNlRXZlbnRzIjogdHJ1ZSwKICAiY29sb3IiOiAiYmx1ZSIsCiAgImRhc2hBcnJheSI6IG51bGwsCiAgImRhc2hPZmZzZXQiOiBudWxsLAogICJmaWxsIjogdHJ1ZSwKICAiZmlsbENvbG9yIjogIiMzMTg2Y2MiLAogICJmaWxsT3BhY2l0eSI6IDAuNywKICAiZmlsbFJ1bGUiOiAiZXZlbm9kZCIsCiAgImxpbmVDYXAiOiAicm91bmQiLAogICJsaW5lSm9pbiI6ICJyb3VuZCIsCiAgIm9wYWNpdHkiOiAxLjAsCiAgInJhZGl1cyI6IDUsCiAgInN0cm9rZSI6IHRydWUsCiAgIndlaWdodCI6IDMKfQogICAgICAgICAgICAgICAgKS5hZGRUbyhtYXBfMmFjMDQ4OWRmNDVmNGY2ZjkyY2Y2YTI2OWI3N2EzMDEpOwogICAgICAgICAgICAKICAgIAogICAgICAgICAgICB2YXIgcG9wdXBfZWY3ZTBhMWFlZWQwNDA5Yzk0NzY1MmZkZjE3MzdlYzggPSBMLnBvcHVwKHttYXhXaWR0aDogJzMwMCd9KTsKCiAgICAgICAgICAgIAogICAgICAgICAgICAgICAgdmFyIGh0bWxfZjZiNGE5NjgwZDEyNGRkNTgxMDg2M2I4M2Y5YzgwODUgPSAkKCc8ZGl2IGlkPSJodG1sX2Y2YjRhOTY4MGQxMjRkZDU4MTA4NjNiODNmOWM4MDg1IiBzdHlsZT0id2lkdGg6IDEwMC4wJTsgaGVpZ2h0OiAxMDAuMCU7Ij5LRyBSZDwvZGl2PicpWzBdOwogICAgICAgICAgICAgICAgcG9wdXBfZWY3ZTBhMWFlZWQwNDA5Yzk0NzY1MmZkZjE3MzdlYzguc2V0Q29udGVudChodG1sX2Y2YjRhOTY4MGQxMjRkZDU4MTA4NjNiODNmOWM4MDg1KTsKICAgICAgICAgICAgCgogICAgICAgICAgICBjaXJjbGVfbWFya2VyXzM1NGFhZjhmMjBkZjRjMjQ4NzdhOGU3OTIyZWU3MTgxLmJpbmRQb3B1cChwb3B1cF9lZjdlMGExYWVlZDA0MDljOTQ3NjUyZmRmMTczN2VjOCk7CgogICAgICAgICAgICAKICAgICAgICAKICAgIAogICAgICAgICAgICB2YXIgY2lyY2xlX21hcmtlcl8wNDNjYzlkZTY0M2Y0NTY2YTY0NTE4NmYyZWFjN2M0NSA9IEwuY2lyY2xlTWFya2VyKAogICAgICAgICAgICAgICAgWzEyLjk2ODQ3MjQsNzcuNTc4OTE4MV0sCiAgICAgICAgICAgICAgICB7CiAgImJ1YmJsaW5nTW91c2VFdmVudHMiOiB0cnVlLAogICJjb2xvciI6ICJibHVlIiwKICAiZGFzaEFycmF5IjogbnVsbCwKICAiZGFzaE9mZnNldCI6IG51bGwsCiAgImZpbGwiOiB0cnVlLAogICJmaWxsQ29sb3IiOiAiIzMxODZjYyIsCiAgImZpbGxPcGFjaXR5IjogMC43LAogICJmaWxsUnVsZSI6ICJldmVub2RkIiwKICAibGluZUNhcCI6ICJyb3VuZCIsCiAgImxpbmVKb2luIjogInJvdW5kIiwKICAib3BhY2l0eSI6IDEuMCwKICAicmFkaXVzIjogNSwKICAic3Ryb2tlIjogdHJ1ZSwKICAid2VpZ2h0IjogMwp9CiAgICAgICAgICAgICAgICApLmFkZFRvKG1hcF8yYWMwNDg5ZGY0NWY0ZjZmOTJjZjZhMjY5Yjc3YTMwMSk7CiAgICAgICAgICAgIAogICAgCiAgICAgICAgICAgIHZhciBwb3B1cF83ZDNhZTFkMzFiMTA0MTJjOWY2YzgyNTUxMzk5MWZjOSA9IEwucG9wdXAoe21heFdpZHRoOiAnMzAwJ30pOwoKICAgICAgICAgICAgCiAgICAgICAgICAgICAgICB2YXIgaHRtbF83YjZmOGNhMWJjMWM0ZTVlYTQ1YWVjNzIzODQ4YzhmZCA9ICQoJzxkaXYgaWQ9Imh0bWxfN2I2ZjhjYTFiYzFjNGU1ZWE0NWFlYzcyMzg0OGM4ZmQiIHN0eWxlPSJ3aWR0aDogMTAwLjAlOyBoZWlnaHQ6IDEwMC4wJTsiPkF2ZW51ZSBSZDwvZGl2PicpWzBdOwogICAgICAgICAgICAgICAgcG9wdXBfN2QzYWUxZDMxYjEwNDEyYzlmNmM4MjU1MTM5OTFmYzkuc2V0Q29udGVudChodG1sXzdiNmY4Y2ExYmMxYzRlNWVhNDVhZWM3MjM4NDhjOGZkKTsKICAgICAgICAgICAgCgogICAgICAgICAgICBjaXJjbGVfbWFya2VyXzA0M2NjOWRlNjQzZjQ1NjZhNjQ1MTg2ZjJlYWM3YzQ1LmJpbmRQb3B1cChwb3B1cF83ZDNhZTFkMzFiMTA0MTJjOWY2YzgyNTUxMzk5MWZjOSk7CgogICAgICAgICAgICAKICAgICAgICAKICAgIAogICAgICAgICAgICB2YXIgY2lyY2xlX21hcmtlcl8xMDU1OWNhOTU4YTQ0ZjhlYmYzYWM1ZWZkMWU0MzQxZiA9IEwuY2lyY2xlTWFya2VyKAogICAgICAgICAgICAgICAgWzEyLjk2ODAwMjcsNzcuNTc4NjQyXSwKICAgICAgICAgICAgICAgIHsKICAiYnViYmxpbmdNb3VzZUV2ZW50cyI6IHRydWUsCiAgImNvbG9yIjogImJsdWUiLAogICJkYXNoQXJyYXkiOiBudWxsLAogICJkYXNoT2Zmc2V0IjogbnVsbCwKICAiZmlsbCI6IHRydWUsCiAgImZpbGxDb2xvciI6ICIjMzE4NmNjIiwKICAiZmlsbE9wYWNpdHkiOiAwLjcsCiAgImZpbGxSdWxlIjogImV2ZW5vZGQiLAogICJsaW5lQ2FwIjogInJvdW5kIiwKICAibGluZUpvaW4iOiAicm91bmQiLAogICJvcGFjaXR5IjogMS4wLAogICJyYWRpdXMiOiA1LAogICJzdHJva2UiOiB0cnVlLAogICJ3ZWlnaHQiOiAzCn0KICAgICAgICAgICAgICAgICkuYWRkVG8obWFwXzJhYzA0ODlkZjQ1ZjRmNmY5MmNmNmEyNjliNzdhMzAxKTsKICAgICAgICAgICAgCiAgICAKICAgICAgICAgICAgdmFyIHBvcHVwX2Y1OTQxMWY3ZmUxMzQxMTY5MmYxMzM1Y2Y3NGEzYTZlID0gTC5wb3B1cCh7bWF4V2lkdGg6ICczMDAnfSk7CgogICAgICAgICAgICAKICAgICAgICAgICAgICAgIHZhciBodG1sXzYyNmMxOWUxNDcwMTQwY2Y5ZWVlY2U1ZGU0Y2RjYWJlID0gJCgnPGRpdiBpZD0iaHRtbF82MjZjMTllMTQ3MDE0MGNmOWVlZWNlNWRlNGNkY2FiZSIgc3R5bGU9IndpZHRoOiAxMDAuMCU7IGhlaWdodDogMTAwLjAlOyI+Q2hpY2twZXQ8L2Rpdj4nKVswXTsKICAgICAgICAgICAgICAgIHBvcHVwX2Y1OTQxMWY3ZmUxMzQxMTY5MmYxMzM1Y2Y3NGEzYTZlLnNldENvbnRlbnQoaHRtbF82MjZjMTllMTQ3MDE0MGNmOWVlZWNlNWRlNGNkY2FiZSk7CiAgICAgICAgICAgIAoKICAgICAgICAgICAgY2lyY2xlX21hcmtlcl8xMDU1OWNhOTU4YTQ0ZjhlYmYzYWM1ZWZkMWU0MzQxZi5iaW5kUG9wdXAocG9wdXBfZjU5NDExZjdmZTEzNDExNjkyZjEzMzVjZjc0YTNhNmUpOwoKICAgICAgICAgICAgCiAgICAgICAgCiAgICAKICAgICAgICAgICAgdmFyIGNpcmNsZV9tYXJrZXJfNWRhNjRiMzYzMDBkNGVhNWFlZWFmMmViNmM0YWE0NGIgPSBMLmNpcmNsZU1hcmtlcigKICAgICAgICAgICAgICAgIFsxMi45NzkxMTk4LDc3LjU5MTI5OTddLAogICAgICAgICAgICAgICAgewogICJidWJibGluZ01vdXNlRXZlbnRzIjogdHJ1ZSwKICAiY29sb3IiOiAiYmx1ZSIsCiAgImRhc2hBcnJheSI6IG51bGwsCiAgImRhc2hPZmZzZXQiOiBudWxsLAogICJmaWxsIjogdHJ1ZSwKICAiZmlsbENvbG9yIjogIiMzMTg2Y2MiLAogICJmaWxsT3BhY2l0eSI6IDAuNywKICAiZmlsbFJ1bGUiOiAiZXZlbm9kZCIsCiAgImxpbmVDYXAiOiAicm91bmQiLAogICJsaW5lSm9pbiI6ICJyb3VuZCIsCiAgIm9wYWNpdHkiOiAxLjAsCiAgInJhZGl1cyI6IDUsCiAgInN0cm9rZSI6IHRydWUsCiAgIndlaWdodCI6IDMKfQogICAgICAgICAgICAgICAgKS5hZGRUbyhtYXBfMmFjMDQ4OWRmNDVmNGY2ZjkyY2Y2YTI2OWI3N2EzMDEpOwogICAgICAgICAgICAKICAgIAogICAgICAgICAgICB2YXIgcG9wdXBfOWI4YjY2ODIyY2MzNGE5Nzg3MzI3YTI2NmU4N2Y3NTAgPSBMLnBvcHVwKHttYXhXaWR0aDogJzMwMCd9KTsKCiAgICAgICAgICAgIAogICAgICAgICAgICAgICAgdmFyIGh0bWxfZDgzMGE4ZGMyNGZlNGU2YzlhOGJmMWQ2YzViYTg1NWMgPSAkKCc8ZGl2IGlkPSJodG1sX2Q4MzBhOGRjMjRmZTRlNmM5YThiZjFkNmM1YmE4NTVjIiBzdHlsZT0id2lkdGg6IDEwMC4wJTsgaGVpZ2h0OiAxMDAuMCU7Ij5TUCBSZDwvZGl2PicpWzBdOwogICAgICAgICAgICAgICAgcG9wdXBfOWI4YjY2ODIyY2MzNGE5Nzg3MzI3YTI2NmU4N2Y3NTAuc2V0Q29udGVudChodG1sX2Q4MzBhOGRjMjRmZTRlNmM5YThiZjFkNmM1YmE4NTVjKTsKICAgICAgICAgICAgCgogICAgICAgICAgICBjaXJjbGVfbWFya2VyXzVkYTY0YjM2MzAwZDRlYTVhZWVhZjJlYjZjNGFhNDRiLmJpbmRQb3B1cChwb3B1cF85YjhiNjY4MjJjYzM0YTk3ODczMjdhMjY2ZTg3Zjc1MCk7CgogICAgICAgICAgICAKICAgICAgICAKICAgIAogICAgICAgICAgICB2YXIgY2lyY2xlX21hcmtlcl85MDhjZmI5NjQ1OWM0MjY2OGYzOGM2NmRhM2VhZDk1MSA9IEwuY2lyY2xlTWFya2VyKAogICAgICAgICAgICAgICAgWzEyLjk1NTkzNDUsNzcuNjUxMTA4Nl0sCiAgICAgICAgICAgICAgICB7CiAgImJ1YmJsaW5nTW91c2VFdmVudHMiOiB0cnVlLAogICJjb2xvciI6ICJibHVlIiwKICAiZGFzaEFycmF5IjogbnVsbCwKICAiZGFzaE9mZnNldCI6IG51bGwsCiAgImZpbGwiOiB0cnVlLAogICJmaWxsQ29sb3IiOiAiIzMxODZjYyIsCiAgImZpbGxPcGFjaXR5IjogMC43LAogICJmaWxsUnVsZSI6ICJldmVub2RkIiwKICAibGluZUNhcCI6ICJyb3VuZCIsCiAgImxpbmVKb2luIjogInJvdW5kIiwKICAib3BhY2l0eSI6IDEuMCwKICAicmFkaXVzIjogNSwKICAic3Ryb2tlIjogdHJ1ZSwKICAid2VpZ2h0IjogMwp9CiAgICAgICAgICAgICAgICApLmFkZFRvKG1hcF8yYWMwNDg5ZGY0NWY0ZjZmOTJjZjZhMjY5Yjc3YTMwMSk7CiAgICAgICAgICAgIAogICAgCiAgICAgICAgICAgIHZhciBwb3B1cF8zOWY5ODAwMTY1NDE0NGIxYTg2NTJjMjM0YWZmN2Q5NCA9IEwucG9wdXAoe21heFdpZHRoOiAnMzAwJ30pOwoKICAgICAgICAgICAgCiAgICAgICAgICAgICAgICB2YXIgaHRtbF82ODg0MzEyYjBiNTI0MDI0Yjk1YzE2YmFhYTc4YmFhNCA9ICQoJzxkaXYgaWQ9Imh0bWxfNjg4NDMxMmIwYjUyNDAyNGI5NWMxNmJhYWE3OGJhYTQiIHN0eWxlPSJ3aWR0aDogMTAwLjAlOyBoZWlnaHQ6IDEwMC4wJTsiPk5SIFJkPC9kaXY+JylbMF07CiAgICAgICAgICAgICAgICBwb3B1cF8zOWY5ODAwMTY1NDE0NGIxYTg2NTJjMjM0YWZmN2Q5NC5zZXRDb250ZW50KGh0bWxfNjg4NDMxMmIwYjUyNDAyNGI5NWMxNmJhYWE3OGJhYTQpOwogICAgICAgICAgICAKCiAgICAgICAgICAgIGNpcmNsZV9tYXJrZXJfOTA4Y2ZiOTY0NTljNDI2NjhmMzhjNjZkYTNlYWQ5NTEuYmluZFBvcHVwKHBvcHVwXzM5Zjk4MDAxNjU0MTQ0YjFhODY1MmMyMzRhZmY3ZDk0KTsKCiAgICAgICAgICAgIAogICAgICAgIAogICAgCiAgICAgICAgICAgIHZhciBjaXJjbGVfbWFya2VyX2M5YzQ0NDU5NGIyYzRmMTViMmU5MzdkZmIxMTc3YjYxID0gTC5jaXJjbGVNYXJrZXIoCiAgICAgICAgICAgICAgICBbMTIuOTY5NzA1NSw3Ny41NjgwOTUzXSwKICAgICAgICAgICAgICAgIHsKICAiYnViYmxpbmdNb3VzZUV2ZW50cyI6IHRydWUsCiAgImNvbG9yIjogImJsdWUiLAogICJkYXNoQXJyYXkiOiBudWxsLAogICJkYXNoT2Zmc2V0IjogbnVsbCwKICAiZmlsbCI6IHRydWUsCiAgImZpbGxDb2xvciI6ICIjMzE4NmNjIiwKICAiZmlsbE9wYWNpdHkiOiAwLjcsCiAgImZpbGxSdWxlIjogImV2ZW5vZGQiLAogICJsaW5lQ2FwIjogInJvdW5kIiwKICAibGluZUpvaW4iOiAicm91bmQiLAogICJvcGFjaXR5IjogMS4wLAogICJyYWRpdXMiOiA1LAogICJzdHJva2UiOiB0cnVlLAogICJ3ZWlnaHQiOiAzCn0KICAgICAgICAgICAgICAgICkuYWRkVG8obWFwXzJhYzA0ODlkZjQ1ZjRmNmY5MmNmNmEyNjliNzdhMzAxKTsKICAgICAgICAgICAgCiAgICAKICAgICAgICAgICAgdmFyIHBvcHVwXzBhNGFiYThmYjg1MjQyMDU4NWNlNjkyNzQzNjMxOGQ0ID0gTC5wb3B1cCh7bWF4V2lkdGg6ICczMDAnfSk7CgogICAgICAgICAgICAKICAgICAgICAgICAgICAgIHZhciBodG1sXzFhZGVhODRlYjY0NzQ3MWM4NWM5NWEwMDFiZDFmNjFmID0gJCgnPGRpdiBpZD0iaHRtbF8xYWRlYTg0ZWI2NDc0NzFjODVjOTVhMDAxYmQxZjYxZiIgc3R5bGU9IndpZHRoOiAxMDAuMCU7IGhlaWdodDogMTAwLjAlOyI+VENNIFJveWFuIFJkPC9kaXY+JylbMF07CiAgICAgICAgICAgICAgICBwb3B1cF8wYTRhYmE4ZmI4NTI0MjA1ODVjZTY5Mjc0MzYzMThkNC5zZXRDb250ZW50KGh0bWxfMWFkZWE4NGViNjQ3NDcxYzg1Yzk1YTAwMWJkMWY2MWYpOwogICAgICAgICAgICAKCiAgICAgICAgICAgIGNpcmNsZV9tYXJrZXJfYzljNDQ0NTk0YjJjNGYxNWIyZTkzN2RmYjExNzdiNjEuYmluZFBvcHVwKHBvcHVwXzBhNGFiYThmYjg1MjQyMDU4NWNlNjkyNzQzNjMxOGQ0KTsKCiAgICAgICAgICAgIAogICAgICAgIAogICAgCiAgICAgICAgICAgIHZhciBjaXJjbGVfbWFya2VyXzY5N2JlOGNiOTQzNjRjNDE5OTZlN2MyNDk5ZDRiMDg2ID0gTC5jaXJjbGVNYXJrZXIoCiAgICAgICAgICAgICAgICBbMTIuOTU2OTk2Niw3Ny41NjMzNjgyXSwKICAgICAgICAgICAgICAgIHsKICAiYnViYmxpbmdNb3VzZUV2ZW50cyI6IHRydWUsCiAgImNvbG9yIjogImJsdWUiLAogICJkYXNoQXJyYXkiOiBudWxsLAogICJkYXNoT2Zmc2V0IjogbnVsbCwKICAiZmlsbCI6IHRydWUsCiAgImZpbGxDb2xvciI6ICIjMzE4NmNjIiwKICAiZmlsbE9wYWNpdHkiOiAwLjcsCiAgImZpbGxSdWxlIjogImV2ZW5vZGQiLAogICJsaW5lQ2FwIjogInJvdW5kIiwKICAibGluZUpvaW4iOiAicm91bmQiLAogICJvcGFjaXR5IjogMS4wLAogICJyYWRpdXMiOiA1LAogICJzdHJva2UiOiB0cnVlLAogICJ3ZWlnaHQiOiAzCn0KICAgICAgICAgICAgICAgICkuYWRkVG8obWFwXzJhYzA0ODlkZjQ1ZjRmNmY5MmNmNmEyNjliNzdhMzAxKTsKICAgICAgICAgICAgCiAgICAKICAgICAgICAgICAgdmFyIHBvcHVwXzQyM2I5ZTVmMWY0YjRhOTU5NGNjZGNhYmMzODNlZGM3ID0gTC5wb3B1cCh7bWF4V2lkdGg6ICczMDAnfSk7CgogICAgICAgICAgICAKICAgICAgICAgICAgICAgIHZhciBodG1sX2E0NWNkYzFiYzRkOTRjZWNiMjNmZTA5ZTUwNzg4OWFmID0gJCgnPGRpdiBpZD0iaHRtbF9hNDVjZGMxYmM0ZDk0Y2VjYjIzZmUwOWU1MDc4ODlhZiIgc3R5bGU9IndpZHRoOiAxMDAuMCU7IGhlaWdodDogMTAwLjAlOyI+Q2hhbXJhanBldDwvZGl2PicpWzBdOwogICAgICAgICAgICAgICAgcG9wdXBfNDIzYjllNWYxZjRiNGE5NTk0Y2NkY2FiYzM4M2VkYzcuc2V0Q29udGVudChodG1sX2E0NWNkYzFiYzRkOTRjZWNiMjNmZTA5ZTUwNzg4OWFmKTsKICAgICAgICAgICAgCgogICAgICAgICAgICBjaXJjbGVfbWFya2VyXzY5N2JlOGNiOTQzNjRjNDE5OTZlN2MyNDk5ZDRiMDg2LmJpbmRQb3B1cChwb3B1cF80MjNiOWU1ZjFmNGI0YTk1OTRjY2RjYWJjMzgzZWRjNyk7CgogICAgICAgICAgICAKICAgICAgICAKICAgIAogICAgICAgICAgICB2YXIgY2lyY2xlX21hcmtlcl9kMzA1YzVlOTUzMGQ0ZjZhOGQ0M2E3OTkyYzdhMjZhNSA9IEwuY2lyY2xlTWFya2VyKAogICAgICAgICAgICAgICAgWzEyLjk2NDM1ODcsNzcuNTYxNDg1Nl0sCiAgICAgICAgICAgICAgICB7CiAgImJ1YmJsaW5nTW91c2VFdmVudHMiOiB0cnVlLAogICJjb2xvciI6ICJibHVlIiwKICAiZGFzaEFycmF5IjogbnVsbCwKICAiZGFzaE9mZnNldCI6IG51bGwsCiAgImZpbGwiOiB0cnVlLAogICJmaWxsQ29sb3IiOiAiIzMxODZjYyIsCiAgImZpbGxPcGFjaXR5IjogMC43LAogICJmaWxsUnVsZSI6ICJldmVub2RkIiwKICAibGluZUNhcCI6ICJyb3VuZCIsCiAgImxpbmVKb2luIjogInJvdW5kIiwKICAib3BhY2l0eSI6IDEuMCwKICAicmFkaXVzIjogNSwKICAic3Ryb2tlIjogdHJ1ZSwKICAid2VpZ2h0IjogMwp9CiAgICAgICAgICAgICAgICApLmFkZFRvKG1hcF8yYWMwNDg5ZGY0NWY0ZjZmOTJjZjZhMjY5Yjc3YTMwMSk7CiAgICAgICAgICAgIAogICAgCiAgICAgICAgICAgIHZhciBwb3B1cF9hMzVmZDFlNzZjMzA0Y2Y4OGViMmZmZDVjZWNlMjdjYiA9IEwucG9wdXAoe21heFdpZHRoOiAnMzAwJ30pOwoKICAgICAgICAgICAgCiAgICAgICAgICAgICAgICB2YXIgaHRtbF9jYmRiNDg0NjM5MDE0NmU5OGRkN2VkMDQ5YzVlZmMzOSA9ICQoJzxkaXYgaWQ9Imh0bWxfY2JkYjQ4NDYzOTAxNDZlOThkZDdlZDA0OWM1ZWZjMzkiIHN0eWxlPSJ3aWR0aDogMTAwLjAlOyBoZWlnaHQ6IDEwMC4wJTsiPkJpbm55cGV0PC9kaXY+JylbMF07CiAgICAgICAgICAgICAgICBwb3B1cF9hMzVmZDFlNzZjMzA0Y2Y4OGViMmZmZDVjZWNlMjdjYi5zZXRDb250ZW50KGh0bWxfY2JkYjQ4NDYzOTAxNDZlOThkZDdlZDA0OWM1ZWZjMzkpOwogICAgICAgICAgICAKCiAgICAgICAgICAgIGNpcmNsZV9tYXJrZXJfZDMwNWM1ZTk1MzBkNGY2YThkNDNhNzk5MmM3YTI2YTUuYmluZFBvcHVwKHBvcHVwX2EzNWZkMWU3NmMzMDRjZjg4ZWIyZmZkNWNlY2UyN2NiKTsKCiAgICAgICAgICAgIAogICAgICAgIAogICAgCiAgICAgICAgICAgIHZhciBjaXJjbGVfbWFya2VyX2VkOWRhMDFkOGExMjQ1ZjZhOGMyMGU3ZTFiNDU2OGJhID0gTC5jaXJjbGVNYXJrZXIoCiAgICAgICAgICAgICAgICBbMTIuOTgwNzc3Nyw3Ny41NzQ3MzQzXSwKICAgICAgICAgICAgICAgIHsKICAiYnViYmxpbmdNb3VzZUV2ZW50cyI6IHRydWUsCiAgImNvbG9yIjogImJsdWUiLAogICJkYXNoQXJyYXkiOiBudWxsLAogICJkYXNoT2Zmc2V0IjogbnVsbCwKICAiZmlsbCI6IHRydWUsCiAgImZpbGxDb2xvciI6ICIjMzE4NmNjIiwKICAiZmlsbE9wYWNpdHkiOiAwLjcsCiAgImZpbGxSdWxlIjogImV2ZW5vZGQiLAogICJsaW5lQ2FwIjogInJvdW5kIiwKICAibGluZUpvaW4iOiAicm91bmQiLAogICJvcGFjaXR5IjogMS4wLAogICJyYWRpdXMiOiA1LAogICJzdHJva2UiOiB0cnVlLAogICJ3ZWlnaHQiOiAzCn0KICAgICAgICAgICAgICAgICkuYWRkVG8obWFwXzJhYzA0ODlkZjQ1ZjRmNmY5MmNmNmEyNjliNzdhMzAxKTsKICAgICAgICAgICAgCiAgICAKICAgICAgICAgICAgdmFyIHBvcHVwXzlkOTQ3YzRjZDYxZDRmMjliMDcxYTQzZDRlOWNmMmY1ID0gTC5wb3B1cCh7bWF4V2lkdGg6ICczMDAnfSk7CgogICAgICAgICAgICAKICAgICAgICAgICAgICAgIHZhciBodG1sX2Q1YTcwM2Q0ZWFjNzRmNGZiNDUxZTI0ODJhOTU0ZTQzID0gJCgnPGRpdiBpZD0iaHRtbF9kNWE3MDNkNGVhYzc0ZjRmYjQ1MWUyNDgyYTk1NGU0MyIgc3R5bGU9IndpZHRoOiAxMDAuMCU7IGhlaWdodDogMTAwLjAlOyI+QW5hbmQgUmFvIGNpcmNsZTwvZGl2PicpWzBdOwogICAgICAgICAgICAgICAgcG9wdXBfOWQ5NDdjNGNkNjFkNGYyOWIwNzFhNDNkNGU5Y2YyZjUuc2V0Q29udGVudChodG1sX2Q1YTcwM2Q0ZWFjNzRmNGZiNDUxZTI0ODJhOTU0ZTQzKTsKICAgICAgICAgICAgCgogICAgICAgICAgICBjaXJjbGVfbWFya2VyX2VkOWRhMDFkOGExMjQ1ZjZhOGMyMGU3ZTFiNDU2OGJhLmJpbmRQb3B1cChwb3B1cF85ZDk0N2M0Y2Q2MWQ0ZjI5YjA3MWE0M2Q0ZTljZjJmNSk7CgogICAgICAgICAgICAKICAgICAgICAKICAgIAogICAgICAgICAgICB2YXIgY2lyY2xlX21hcmtlcl9hOTdlM2ZlM2Y5MzM0YmVlODQwNDQxYzNiYTBhOTY4NiA9IEwuY2lyY2xlTWFya2VyKAogICAgICAgICAgICAgICAgWzEyLjk2MzQzNzgsNzcuNTg1MDQ3NF0sCiAgICAgICAgICAgICAgICB7CiAgImJ1YmJsaW5nTW91c2VFdmVudHMiOiB0cnVlLAogICJjb2xvciI6ICJibHVlIiwKICAiZGFzaEFycmF5IjogbnVsbCwKICAiZGFzaE9mZnNldCI6IG51bGwsCiAgImZpbGwiOiB0cnVlLAogICJmaWxsQ29sb3IiOiAiIzMxODZjYyIsCiAgImZpbGxPcGFjaXR5IjogMC43LAogICJmaWxsUnVsZSI6ICJldmVub2RkIiwKICAibGluZUNhcCI6ICJyb3VuZCIsCiAgImxpbmVKb2luIjogInJvdW5kIiwKICAib3BhY2l0eSI6IDEuMCwKICAicmFkaXVzIjogNSwKICAic3Ryb2tlIjogdHJ1ZSwKICAid2VpZ2h0IjogMwp9CiAgICAgICAgICAgICAgICApLmFkZFRvKG1hcF8yYWMwNDg5ZGY0NWY0ZjZmOTJjZjZhMjY5Yjc3YTMwMSk7CiAgICAgICAgICAgIAogICAgCiAgICAgICAgICAgIHZhciBwb3B1cF8wOWRmMTkxZGQ2YzM0YWQyYjMyODMxOTIwMmNkNmMwNCA9IEwucG9wdXAoe21heFdpZHRoOiAnMzAwJ30pOwoKICAgICAgICAgICAgCiAgICAgICAgICAgICAgICB2YXIgaHRtbF81N2JjYTBkMGY4ZDQ0ODMyYjQzMmE0NDBjMWQyOWM2ZSA9ICQoJzxkaXYgaWQ9Imh0bWxfNTdiY2EwZDBmOGQ0NDgzMmI0MzJhNDQwYzFkMjljNmUiIHN0eWxlPSJ3aWR0aDogMTAwLjAlOyBoZWlnaHQ6IDEwMC4wJTsiPkpDIFJkPC9kaXY+JylbMF07CiAgICAgICAgICAgICAgICBwb3B1cF8wOWRmMTkxZGQ2YzM0YWQyYjMyODMxOTIwMmNkNmMwNC5zZXRDb250ZW50KGh0bWxfNTdiY2EwZDBmOGQ0NDgzMmI0MzJhNDQwYzFkMjljNmUpOwogICAgICAgICAgICAKCiAgICAgICAgICAgIGNpcmNsZV9tYXJrZXJfYTk3ZTNmZTNmOTMzNGJlZTg0MDQ0MWMzYmEwYTk2ODYuYmluZFBvcHVwKHBvcHVwXzA5ZGYxOTFkZDZjMzRhZDJiMzI4MzE5MjAyY2Q2YzA0KTsKCiAgICAgICAgICAgIAogICAgICAgIAogICAgCiAgICAgICAgICAgIHZhciBjaXJjbGVfbWFya2VyXzQ2ZWZiMWJhNjdjNDQwZTJiZGIyMTJhYjE5YzZhMTMyID0gTC5jaXJjbGVNYXJrZXIoCiAgICAgICAgICAgICAgICBbMTIuOTczNzcyNiw3Ny41MzYwOTgxXSwKICAgICAgICAgICAgICAgIHsKICAiYnViYmxpbmdNb3VzZUV2ZW50cyI6IHRydWUsCiAgImNvbG9yIjogImJsdWUiLAogICJkYXNoQXJyYXkiOiBudWxsLAogICJkYXNoT2Zmc2V0IjogbnVsbCwKICAiZmlsbCI6IHRydWUsCiAgImZpbGxDb2xvciI6ICIjMzE4NmNjIiwKICAiZmlsbE9wYWNpdHkiOiAwLjcsCiAgImZpbGxSdWxlIjogImV2ZW5vZGQiLAogICJsaW5lQ2FwIjogInJvdW5kIiwKICAibGluZUpvaW4iOiAicm91bmQiLAogICJvcGFjaXR5IjogMS4wLAogICJyYWRpdXMiOiA1LAogICJzdHJva2UiOiB0cnVlLAogICJ3ZWlnaHQiOiAzCn0KICAgICAgICAgICAgICAgICkuYWRkVG8obWFwXzJhYzA0ODlkZjQ1ZjRmNmY5MmNmNmEyNjliNzdhMzAxKTsKICAgICAgICAgICAgCiAgICAKICAgICAgICAgICAgdmFyIHBvcHVwXzc1NGE4ZmJmZmE5NDQ4NDE4NWEwZDVjZWRhMTllMzRjID0gTC5wb3B1cCh7bWF4V2lkdGg6ICczMDAnfSk7CgogICAgICAgICAgICAKICAgICAgICAgICAgICAgIHZhciBodG1sX2E0NzZlZTk3MzZkYTQ0ZGViNGMwZWZjYWQyMjRmMjA3ID0gJCgnPGRpdiBpZD0iaHRtbF9hNDc2ZWU5NzM2ZGE0NGRlYjRjMGVmY2FkMjI0ZjIwNyIgc3R5bGU9IndpZHRoOiAxMDAuMCU7IGhlaWdodDogMTAwLjAlOyI+VmlqYXluYWdhcjwvZGl2PicpWzBdOwogICAgICAgICAgICAgICAgcG9wdXBfNzU0YThmYmZmYTk0NDg0MTg1YTBkNWNlZGExOWUzNGMuc2V0Q29udGVudChodG1sX2E0NzZlZTk3MzZkYTQ0ZGViNGMwZWZjYWQyMjRmMjA3KTsKICAgICAgICAgICAgCgogICAgICAgICAgICBjaXJjbGVfbWFya2VyXzQ2ZWZiMWJhNjdjNDQwZTJiZGIyMTJhYjE5YzZhMTMyLmJpbmRQb3B1cChwb3B1cF83NTRhOGZiZmZhOTQ0ODQxODVhMGQ1Y2VkYTE5ZTM0Yyk7CgogICAgICAgICAgICAKICAgICAgICAKICAgIAogICAgICAgICAgICB2YXIgY2lyY2xlX21hcmtlcl8zOWFjMGUyNGVhNDg0ZDQzODNmYjBmNDE4OWJjNDNkMSA9IEwuY2lyY2xlTWFya2VyKAogICAgICAgICAgICAgICAgWzEyLjk3NjMxODgsNzcuNTQ3MjcxNF0sCiAgICAgICAgICAgICAgICB7CiAgImJ1YmJsaW5nTW91c2VFdmVudHMiOiB0cnVlLAogICJjb2xvciI6ICJibHVlIiwKICAiZGFzaEFycmF5IjogbnVsbCwKICAiZGFzaE9mZnNldCI6IG51bGwsCiAgImZpbGwiOiB0cnVlLAogICJmaWxsQ29sb3IiOiAiIzMxODZjYyIsCiAgImZpbGxPcGFjaXR5IjogMC43LAogICJmaWxsUnVsZSI6ICJldmVub2RkIiwKICAibGluZUNhcCI6ICJyb3VuZCIsCiAgImxpbmVKb2luIjogInJvdW5kIiwKICAib3BhY2l0eSI6IDEuMCwKICAicmFkaXVzIjogNSwKICAic3Ryb2tlIjogdHJ1ZSwKICAid2VpZ2h0IjogMwp9CiAgICAgICAgICAgICAgICApLmFkZFRvKG1hcF8yYWMwNDg5ZGY0NWY0ZjZmOTJjZjZhMjY5Yjc3YTMwMSk7CiAgICAgICAgICAgIAogICAgCiAgICAgICAgICAgIHZhciBwb3B1cF8wMGY4YzQ2NGNkYTc0ZTg5YjU4MmI1NzFiNzgwOGU4NSA9IEwucG9wdXAoe21heFdpZHRoOiAnMzAwJ30pOwoKICAgICAgICAgICAgCiAgICAgICAgICAgICAgICB2YXIgaHRtbF81MDA5YjU4NDVmNzU0YzIyOGE4NGIxODFiZmMwMjQ1NiA9ICQoJzxkaXYgaWQ9Imh0bWxfNTAwOWI1ODQ1Zjc1NGMyMjhhODRiMTgxYmZjMDI0NTYiIHN0eWxlPSJ3aWR0aDogMTAwLjAlOyBoZWlnaHQ6IDEwMC4wJTsiPk1hZ2FkaSBSb2FkPC9kaXY+JylbMF07CiAgICAgICAgICAgICAgICBwb3B1cF8wMGY4YzQ2NGNkYTc0ZTg5YjU4MmI1NzFiNzgwOGU4NS5zZXRDb250ZW50KGh0bWxfNTAwOWI1ODQ1Zjc1NGMyMjhhODRiMTgxYmZjMDI0NTYpOwogICAgICAgICAgICAKCiAgICAgICAgICAgIGNpcmNsZV9tYXJrZXJfMzlhYzBlMjRlYTQ4NGQ0MzgzZmIwZjQxODliYzQzZDEuYmluZFBvcHVwKHBvcHVwXzAwZjhjNDY0Y2RhNzRlODliNTgyYjU3MWI3ODA4ZTg1KTsKCiAgICAgICAgICAgIAogICAgICAgIAogICAgCiAgICAgICAgICAgIHZhciBjaXJjbGVfbWFya2VyX2ZjNWFhYTk5NDA5NTRlNDBhM2Q5NjdmZWY3YzViZjIxID0gTC5jaXJjbGVNYXJrZXIoCiAgICAgICAgICAgICAgICBbMTIuOTY1MjkzLDc3LjUxODE1NTFdLAogICAgICAgICAgICAgICAgewogICJidWJibGluZ01vdXNlRXZlbnRzIjogdHJ1ZSwKICAiY29sb3IiOiAiYmx1ZSIsCiAgImRhc2hBcnJheSI6IG51bGwsCiAgImRhc2hPZmZzZXQiOiBudWxsLAogICJmaWxsIjogdHJ1ZSwKICAiZmlsbENvbG9yIjogIiMzMTg2Y2MiLAogICJmaWxsT3BhY2l0eSI6IDAuNywKICAiZmlsbFJ1bGUiOiAiZXZlbm9kZCIsCiAgImxpbmVDYXAiOiAicm91bmQiLAogICJsaW5lSm9pbiI6ICJyb3VuZCIsCiAgIm9wYWNpdHkiOiAxLjAsCiAgInJhZGl1cyI6IDUsCiAgInN0cm9rZSI6IHRydWUsCiAgIndlaWdodCI6IDMKfQogICAgICAgICAgICAgICAgKS5hZGRUbyhtYXBfMmFjMDQ4OWRmNDVmNGY2ZjkyY2Y2YTI2OWI3N2EzMDEpOwogICAgICAgICAgICAKICAgIAogICAgICAgICAgICB2YXIgcG9wdXBfOGE5OWY1MzFkYjE3NDFjNzliMTM5ZDk0ODk4NThlODUgPSBMLnBvcHVwKHttYXhXaWR0aDogJzMwMCd9KTsKCiAgICAgICAgICAgIAogICAgICAgICAgICAgICAgdmFyIGh0bWxfYmM0ZDNkNWUwMzU4NDcwMmI4OTg1MDU0YzQzY2M0N2EgPSAkKCc8ZGl2IGlkPSJodG1sX2JjNGQzZDVlMDM1ODQ3MDJiODk4NTA1NGM0M2NjNDdhIiBzdHlsZT0id2lkdGg6IDEwMC4wJTsgaGVpZ2h0OiAxMDAuMCU7Ij5DaGFuZHJhIExheW91dDwvZGl2PicpWzBdOwogICAgICAgICAgICAgICAgcG9wdXBfOGE5OWY1MzFkYjE3NDFjNzliMTM5ZDk0ODk4NThlODUuc2V0Q29udGVudChodG1sX2JjNGQzZDVlMDM1ODQ3MDJiODk4NTA1NGM0M2NjNDdhKTsKICAgICAgICAgICAgCgogICAgICAgICAgICBjaXJjbGVfbWFya2VyX2ZjNWFhYTk5NDA5NTRlNDBhM2Q5NjdmZWY3YzViZjIxLmJpbmRQb3B1cChwb3B1cF84YTk5ZjUzMWRiMTc0MWM3OWIxMzlkOTQ4OTg1OGU4NSk7CgogICAgICAgICAgICAKICAgICAgICAKICAgIAogICAgICAgICAgICB2YXIgY2lyY2xlX21hcmtlcl83MDUxZTdiMDdkYjY0N2UxOGZlM2FiZmZmZDA4Zjk3OSA9IEwuY2lyY2xlTWFya2VyKAogICAgICAgICAgICAgICAgWzEyLjk5NDIzMDYsNzcuNTU1NTExN10sCiAgICAgICAgICAgICAgICB7CiAgImJ1YmJsaW5nTW91c2VFdmVudHMiOiB0cnVlLAogICJjb2xvciI6ICJibHVlIiwKICAiZGFzaEFycmF5IjogbnVsbCwKICAiZGFzaE9mZnNldCI6IG51bGwsCiAgImZpbGwiOiB0cnVlLAogICJmaWxsQ29sb3IiOiAiIzMxODZjYyIsCiAgImZpbGxPcGFjaXR5IjogMC43LAogICJmaWxsUnVsZSI6ICJldmVub2RkIiwKICAibGluZUNhcCI6ICJyb3VuZCIsCiAgImxpbmVKb2luIjogInJvdW5kIiwKICAib3BhY2l0eSI6IDEuMCwKICAicmFkaXVzIjogNSwKICAic3Ryb2tlIjogdHJ1ZSwKICAid2VpZ2h0IjogMwp9CiAgICAgICAgICAgICAgICApLmFkZFRvKG1hcF8yYWMwNDg5ZGY0NWY0ZjZmOTJjZjZhMjY5Yjc3YTMwMSk7CiAgICAgICAgICAgIAogICAgCiAgICAgICAgICAgIHZhciBwb3B1cF9kNGVjODc3NWRmMzM0ZThkYjc2NDdmZTc0YTkxZWUzOSA9IEwucG9wdXAoe21heFdpZHRoOiAnMzAwJ30pOwoKICAgICAgICAgICAgCiAgICAgICAgICAgICAgICB2YXIgaHRtbF8yNjllYmRmMjJlMWU0NTA2OWU4Nzc4Y2Q3YmMzNTRlMyA9ICQoJzxkaXYgaWQ9Imh0bWxfMjY5ZWJkZjIyZTFlNDUwNjllODc3OGNkN2JjMzU0ZTMiIHN0eWxlPSJ3aWR0aDogMTAwLjAlOyBoZWlnaHQ6IDEwMC4wJTsiPkRyIFJhamt1bWFyIFJvYWQ8L2Rpdj4nKVswXTsKICAgICAgICAgICAgICAgIHBvcHVwX2Q0ZWM4Nzc1ZGYzMzRlOGRiNzY0N2ZlNzRhOTFlZTM5LnNldENvbnRlbnQoaHRtbF8yNjllYmRmMjJlMWU0NTA2OWU4Nzc4Y2Q3YmMzNTRlMyk7CiAgICAgICAgICAgIAoKICAgICAgICAgICAgY2lyY2xlX21hcmtlcl83MDUxZTdiMDdkYjY0N2UxOGZlM2FiZmZmZDA4Zjk3OS5iaW5kUG9wdXAocG9wdXBfZDRlYzg3NzVkZjMzNGU4ZGI3NjQ3ZmU3NGE5MWVlMzkpOwoKICAgICAgICAgICAgCiAgICAgICAgCiAgICAKICAgICAgICAgICAgdmFyIGNpcmNsZV9tYXJrZXJfOTNlYjRiNTE4ZjA5NDUwMTk1YjZjYWM1NmM1MGYzYzYgPSBMLmNpcmNsZU1hcmtlcigKICAgICAgICAgICAgICAgIFsxMy4wMTEzMTUzLDc3LjU0NDY5NzJdLAogICAgICAgICAgICAgICAgewogICJidWJibGluZ01vdXNlRXZlbnRzIjogdHJ1ZSwKICAiY29sb3IiOiAiYmx1ZSIsCiAgImRhc2hBcnJheSI6IG51bGwsCiAgImRhc2hPZmZzZXQiOiBudWxsLAogICJmaWxsIjogdHJ1ZSwKICAiZmlsbENvbG9yIjogIiMzMTg2Y2MiLAogICJmaWxsT3BhY2l0eSI6IDAuNywKICAiZmlsbFJ1bGUiOiAiZXZlbm9kZCIsCiAgImxpbmVDYXAiOiAicm91bmQiLAogICJsaW5lSm9pbiI6ICJyb3VuZCIsCiAgIm9wYWNpdHkiOiAxLjAsCiAgInJhZGl1cyI6IDUsCiAgInN0cm9rZSI6IHRydWUsCiAgIndlaWdodCI6IDMKfQogICAgICAgICAgICAgICAgKS5hZGRUbyhtYXBfMmFjMDQ4OWRmNDVmNGY2ZjkyY2Y2YTI2OWI3N2EzMDEpOwogICAgICAgICAgICAKICAgIAogICAgICAgICAgICB2YXIgcG9wdXBfNjgzNmM3MWIyOTI4NDNjY2I2NjdhNDZjNWI4OTY3YTUgPSBMLnBvcHVwKHttYXhXaWR0aDogJzMwMCd9KTsKCiAgICAgICAgICAgIAogICAgICAgICAgICAgICAgdmFyIGh0bWxfZDk4ODgwODQ2MWQzNDYzNDkzNmM1M2QzMjNlNzVkMDkgPSAkKCc8ZGl2IGlkPSJodG1sX2Q5ODg4MDg0NjFkMzQ2MzQ5MzZjNTNkMzIzZTc1ZDA5IiBzdHlsZT0id2lkdGg6IDEwMC4wJTsgaGVpZ2h0OiAxMDAuMCU7Ij5NYWhhbGFrc2htaSBMYXlvdXQ8L2Rpdj4nKVswXTsKICAgICAgICAgICAgICAgIHBvcHVwXzY4MzZjNzFiMjkyODQzY2NiNjY3YTQ2YzViODk2N2E1LnNldENvbnRlbnQoaHRtbF9kOTg4ODA4NDYxZDM0NjM0OTM2YzUzZDMyM2U3NWQwOSk7CiAgICAgICAgICAgIAoKICAgICAgICAgICAgY2lyY2xlX21hcmtlcl85M2ViNGI1MThmMDk0NTAxOTViNmNhYzU2YzUwZjNjNi5iaW5kUG9wdXAocG9wdXBfNjgzNmM3MWIyOTI4NDNjY2I2NjdhNDZjNWI4OTY3YTUpOwoKICAgICAgICAgICAgCiAgICAgICAgCiAgICAKICAgICAgICAgICAgdmFyIGNpcmNsZV9tYXJrZXJfODkyOGJiMzY2NWQ0NDA4OGFiOGZmMTgyZWI5YzZmZGEgPSBMLmNpcmNsZU1hcmtlcigKICAgICAgICAgICAgICAgIFsxMy4wMDI3MzUzLDc3LjU3MDMyNTNdLAogICAgICAgICAgICAgICAgewogICJidWJibGluZ01vdXNlRXZlbnRzIjogdHJ1ZSwKICAiY29sb3IiOiAiYmx1ZSIsCiAgImRhc2hBcnJheSI6IG51bGwsCiAgImRhc2hPZmZzZXQiOiBudWxsLAogICJmaWxsIjogdHJ1ZSwKICAiZmlsbENvbG9yIjogIiMzMTg2Y2MiLAogICJmaWxsT3BhY2l0eSI6IDAuNywKICAiZmlsbFJ1bGUiOiAiZXZlbm9kZCIsCiAgImxpbmVDYXAiOiAicm91bmQiLAogICJsaW5lSm9pbiI6ICJyb3VuZCIsCiAgIm9wYWNpdHkiOiAxLjAsCiAgInJhZGl1cyI6IDUsCiAgInN0cm9rZSI6IHRydWUsCiAgIndlaWdodCI6IDMKfQogICAgICAgICAgICAgICAgKS5hZGRUbyhtYXBfMmFjMDQ4OWRmNDVmNGY2ZjkyY2Y2YTI2OWI3N2EzMDEpOwogICAgICAgICAgICAKICAgIAogICAgICAgICAgICB2YXIgcG9wdXBfODdmZWQ4NmIyN2Y1NGFjMWIyYzZiMmVjMmUyYTBhNDEgPSBMLnBvcHVwKHttYXhXaWR0aDogJzMwMCd9KTsKCiAgICAgICAgICAgIAogICAgICAgICAgICAgICAgdmFyIGh0bWxfNmMxN2IyYTZlNzY2NGVkZTkwZGU2MzFhODE2YjhmMmYgPSAkKCc8ZGl2IGlkPSJodG1sXzZjMTdiMmE2ZTc2NjRlZGU5MGRlNjMxYTgxNmI4ZjJmIiBzdHlsZT0id2lkdGg6IDEwMC4wJTsgaGVpZ2h0OiAxMDAuMCU7Ij5NYWxsZXNod2FyYW08L2Rpdj4nKVswXTsKICAgICAgICAgICAgICAgIHBvcHVwXzg3ZmVkODZiMjdmNTRhYzFiMmM2YjJlYzJlMmEwYTQxLnNldENvbnRlbnQoaHRtbF82YzE3YjJhNmU3NjY0ZWRlOTBkZTYzMWE4MTZiOGYyZik7CiAgICAgICAgICAgIAoKICAgICAgICAgICAgY2lyY2xlX21hcmtlcl84OTI4YmIzNjY1ZDQ0MDg4YWI4ZmYxODJlYjljNmZkYS5iaW5kUG9wdXAocG9wdXBfODdmZWQ4NmIyN2Y1NGFjMWIyYzZiMmVjMmUyYTBhNDEpOwoKICAgICAgICAgICAgCiAgICAgICAgCiAgICAKICAgICAgICAgICAgdmFyIGNpcmNsZV9tYXJrZXJfMTlhMjZjMTBhMzA5NGJjYzhkZDNhMTczZDUzMTFmNGUgPSBMLmNpcmNsZU1hcmtlcigKICAgICAgICAgICAgICAgIFsxMy4wMDkzMTgzLDc3LjU3MTEzODldLAogICAgICAgICAgICAgICAgewogICJidWJibGluZ01vdXNlRXZlbnRzIjogdHJ1ZSwKICAiY29sb3IiOiAiYmx1ZSIsCiAgImRhc2hBcnJheSI6IG51bGwsCiAgImRhc2hPZmZzZXQiOiBudWxsLAogICJmaWxsIjogdHJ1ZSwKICAiZmlsbENvbG9yIjogIiMzMTg2Y2MiLAogICJmaWxsT3BhY2l0eSI6IDAuNywKICAiZmlsbFJ1bGUiOiAiZXZlbm9kZCIsCiAgImxpbmVDYXAiOiAicm91bmQiLAogICJsaW5lSm9pbiI6ICJyb3VuZCIsCiAgIm9wYWNpdHkiOiAxLjAsCiAgInJhZGl1cyI6IDUsCiAgInN0cm9rZSI6IHRydWUsCiAgIndlaWdodCI6IDMKfQogICAgICAgICAgICAgICAgKS5hZGRUbyhtYXBfMmFjMDQ4OWRmNDVmNGY2ZjkyY2Y2YTI2OWI3N2EzMDEpOwogICAgICAgICAgICAKICAgIAogICAgICAgICAgICB2YXIgcG9wdXBfZjlkM2VkZmFhYWE3NGY0OGFlNDE5ZWY2N2M3ZWU3Y2UgPSBMLnBvcHVwKHttYXhXaWR0aDogJzMwMCd9KTsKCiAgICAgICAgICAgIAogICAgICAgICAgICAgICAgdmFyIGh0bWxfNWMzYmQwMTc0OGVlNDZiNjgyODdiNTMzYjQ5ODhmNGEgPSAkKCc8ZGl2IGlkPSJodG1sXzVjM2JkMDE3NDhlZTQ2YjY4Mjg3YjUzM2I0OTg4ZjRhIiBzdHlsZT0id2lkdGg6IDEwMC4wJTsgaGVpZ2h0OiAxMDAuMCU7Ij5TYW1waWdlIFJkPC9kaXY+JylbMF07CiAgICAgICAgICAgICAgICBwb3B1cF9mOWQzZWRmYWFhYTc0ZjQ4YWU0MTllZjY3YzdlZTdjZS5zZXRDb250ZW50KGh0bWxfNWMzYmQwMTc0OGVlNDZiNjgyODdiNTMzYjQ5ODhmNGEpOwogICAgICAgICAgICAKCiAgICAgICAgICAgIGNpcmNsZV9tYXJrZXJfMTlhMjZjMTBhMzA5NGJjYzhkZDNhMTczZDUzMTFmNGUuYmluZFBvcHVwKHBvcHVwX2Y5ZDNlZGZhYWFhNzRmNDhhZTQxOWVmNjdjN2VlN2NlKTsKCiAgICAgICAgICAgIAogICAgICAgIAogICAgCiAgICAgICAgICAgIHZhciBjaXJjbGVfbWFya2VyX2I3YjJjMjZiMDEyNDQxMWFiMTMzZDkyYjdiYmVlYWJiID0gTC5jaXJjbGVNYXJrZXIoCiAgICAgICAgICAgICAgICBbMTMuMDA5ODg3OTUsNzcuNTc0MDA0MjkyNDQ3ODhdLAogICAgICAgICAgICAgICAgewogICJidWJibGluZ01vdXNlRXZlbnRzIjogdHJ1ZSwKICAiY29sb3IiOiAiYmx1ZSIsCiAgImRhc2hBcnJheSI6IG51bGwsCiAgImRhc2hPZmZzZXQiOiBudWxsLAogICJmaWxsIjogdHJ1ZSwKICAiZmlsbENvbG9yIjogIiMzMTg2Y2MiLAogICJmaWxsT3BhY2l0eSI6IDAuNywKICAiZmlsbFJ1bGUiOiAiZXZlbm9kZCIsCiAgImxpbmVDYXAiOiAicm91bmQiLAogICJsaW5lSm9pbiI6ICJyb3VuZCIsCiAgIm9wYWNpdHkiOiAxLjAsCiAgInJhZGl1cyI6IDUsCiAgInN0cm9rZSI6IHRydWUsCiAgIndlaWdodCI6IDMKfQogICAgICAgICAgICAgICAgKS5hZGRUbyhtYXBfMmFjMDQ4OWRmNDVmNGY2ZjkyY2Y2YTI2OWI3N2EzMDEpOwogICAgICAgICAgICAKICAgIAogICAgICAgICAgICB2YXIgcG9wdXBfZmNiZTgyZmIxM2UyNDY3MmJiNWQ0ZjQ0OWU5NjcyYTcgPSBMLnBvcHVwKHttYXhXaWR0aDogJzMwMCd9KTsKCiAgICAgICAgICAgIAogICAgICAgICAgICAgICAgdmFyIGh0bWxfNWRkYjY1ZGQxZmM0NDM1NjhmMzdkNjFmOTFmNTE4ZjIgPSAkKCc8ZGl2IGlkPSJodG1sXzVkZGI2NWRkMWZjNDQzNTY4ZjM3ZDYxZjkxZjUxOGYyIiBzdHlsZT0id2lkdGg6IDEwMC4wJTsgaGVpZ2h0OiAxMDAuMCU7Ij5TYW5rZXkgUmQ8L2Rpdj4nKVswXTsKICAgICAgICAgICAgICAgIHBvcHVwX2ZjYmU4MmZiMTNlMjQ2NzJiYjVkNGY0NDllOTY3MmE3LnNldENvbnRlbnQoaHRtbF81ZGRiNjVkZDFmYzQ0MzU2OGYzN2Q2MWY5MWY1MThmMik7CiAgICAgICAgICAgIAoKICAgICAgICAgICAgY2lyY2xlX21hcmtlcl9iN2IyYzI2YjAxMjQ0MTFhYjEzM2Q5MmI3YmJlZWFiYi5iaW5kUG9wdXAocG9wdXBfZmNiZTgyZmIxM2UyNDY3MmJiNWQ0ZjQ0OWU5NjcyYTcpOwoKICAgICAgICAgICAgCiAgICAgICAgCiAgICAKICAgICAgICAgICAgdmFyIGNpcmNsZV9tYXJrZXJfMmMxNzI5NDMwZTUzNDIwOGEyYjQyZmJlYmY1OWExODIgPSBMLmNpcmNsZU1hcmtlcigKICAgICAgICAgICAgICAgIFsxMy4wODgyMDk2LDc4LjAyODgxMjZdLAogICAgICAgICAgICAgICAgewogICJidWJibGluZ01vdXNlRXZlbnRzIjogdHJ1ZSwKICAiY29sb3IiOiAiYmx1ZSIsCiAgImRhc2hBcnJheSI6IG51bGwsCiAgImRhc2hPZmZzZXQiOiBudWxsLAogICJmaWxsIjogdHJ1ZSwKICAiZmlsbENvbG9yIjogIiMzMTg2Y2MiLAogICJmaWxsT3BhY2l0eSI6IDAuNywKICAiZmlsbFJ1bGUiOiAiZXZlbm9kZCIsCiAgImxpbmVDYXAiOiAicm91bmQiLAogICJsaW5lSm9pbiI6ICJyb3VuZCIsCiAgIm9wYWNpdHkiOiAxLjAsCiAgInJhZGl1cyI6IDUsCiAgInN0cm9rZSI6IHRydWUsCiAgIndlaWdodCI6IDMKfQogICAgICAgICAgICAgICAgKS5hZGRUbyhtYXBfMmFjMDQ4OWRmNDVmNGY2ZjkyY2Y2YTI2OWI3N2EzMDEpOwogICAgICAgICAgICAKICAgIAogICAgICAgICAgICB2YXIgcG9wdXBfOGM2NzVhYzFhY2E5NGZjMThkMjI3MWNhZjI1ZWMwNTEgPSBMLnBvcHVwKHttYXhXaWR0aDogJzMwMCd9KTsKCiAgICAgICAgICAgIAogICAgICAgICAgICAgICAgdmFyIGh0bWxfOTZiZGMwNzE3Yjc4NDQ3YTg5OTM2YTYzYzhlMWI3NWQgPSAkKCc8ZGl2IGlkPSJodG1sXzk2YmRjMDcxN2I3ODQ0N2E4OTkzNmE2M2M4ZTFiNzVkIiBzdHlsZT0id2lkdGg6IDEwMC4wJTsgaGVpZ2h0OiAxMDAuMCU7Ij5HdXR0YWhhbGxpPC9kaXY+JylbMF07CiAgICAgICAgICAgICAgICBwb3B1cF84YzY3NWFjMWFjYTk0ZmMxOGQyMjcxY2FmMjVlYzA1MS5zZXRDb250ZW50KGh0bWxfOTZiZGMwNzE3Yjc4NDQ3YTg5OTM2YTYzYzhlMWI3NWQpOwogICAgICAgICAgICAKCiAgICAgICAgICAgIGNpcmNsZV9tYXJrZXJfMmMxNzI5NDMwZTUzNDIwOGEyYjQyZmJlYmY1OWExODIuYmluZFBvcHVwKHBvcHVwXzhjNjc1YWMxYWNhOTRmYzE4ZDIyNzFjYWYyNWVjMDUxKTsKCiAgICAgICAgICAgIAogICAgICAgIAogICAgCiAgICAgICAgICAgIHZhciBjaXJjbGVfbWFya2VyXzBiMTQxZDkxYmI1MjQ0ZmZiNzY4ZmFmYTFlNTZjNDA5ID0gTC5jaXJjbGVNYXJrZXIoCiAgICAgICAgICAgICAgICBbMTMuMDMyODg4NCw3Ny41NTczNzRdLAogICAgICAgICAgICAgICAgewogICJidWJibGluZ01vdXNlRXZlbnRzIjogdHJ1ZSwKICAiY29sb3IiOiAiYmx1ZSIsCiAgImRhc2hBcnJheSI6IG51bGwsCiAgImRhc2hPZmZzZXQiOiBudWxsLAogICJmaWxsIjogdHJ1ZSwKICAiZmlsbENvbG9yIjogIiMzMTg2Y2MiLAogICJmaWxsT3BhY2l0eSI6IDAuNywKICAiZmlsbFJ1bGUiOiAiZXZlbm9kZCIsCiAgImxpbmVDYXAiOiAicm91bmQiLAogICJsaW5lSm9pbiI6ICJyb3VuZCIsCiAgIm9wYWNpdHkiOiAxLjAsCiAgInJhZGl1cyI6IDUsCiAgInN0cm9rZSI6IHRydWUsCiAgIndlaWdodCI6IDMKfQogICAgICAgICAgICAgICAgKS5hZGRUbyhtYXBfMmFjMDQ4OWRmNDVmNGY2ZjkyY2Y2YTI2OWI3N2EzMDEpOwogICAgICAgICAgICAKICAgIAogICAgICAgICAgICB2YXIgcG9wdXBfNmIwNjU1NmU4OTgxNDY3MWI4OGE5OWZiMDk5YmJkODQgPSBMLnBvcHVwKHttYXhXaWR0aDogJzMwMCd9KTsKCiAgICAgICAgICAgIAogICAgICAgICAgICAgICAgdmFyIGh0bWxfOTRjMTE3ZjEyODU1NDhhN2FjMGJiZmE1ZWE5ZDYwMzMgPSAkKCc8ZGl2IGlkPSJodG1sXzk0YzExN2YxMjg1NTQ4YTdhYzBiYmZhNWVhOWQ2MDMzIiBzdHlsZT0id2lkdGg6IDEwMC4wJTsgaGVpZ2h0OiAxMDAuMCU7Ij5NYXRoaWtlcmUgTWFpbiBSZDwvZGl2PicpWzBdOwogICAgICAgICAgICAgICAgcG9wdXBfNmIwNjU1NmU4OTgxNDY3MWI4OGE5OWZiMDk5YmJkODQuc2V0Q29udGVudChodG1sXzk0YzExN2YxMjg1NTQ4YTdhYzBiYmZhNWVhOWQ2MDMzKTsKICAgICAgICAgICAgCgogICAgICAgICAgICBjaXJjbGVfbWFya2VyXzBiMTQxZDkxYmI1MjQ0ZmZiNzY4ZmFmYTFlNTZjNDA5LmJpbmRQb3B1cChwb3B1cF82YjA2NTU2ZTg5ODE0NjcxYjg4YTk5ZmIwOTliYmQ4NCk7CgogICAgICAgICAgICAKICAgICAgICAKICAgIAogICAgICAgICAgICB2YXIgY2lyY2xlX21hcmtlcl8wMGJmNTdmZjJmYWU0YzM5YmI3NTQzYzZlM2ExMDA2MyA9IEwuY2lyY2xlTWFya2VyKAogICAgICAgICAgICAgICAgWzEzLjAzMjk0MTksNzcuNTI3MzI1M10sCiAgICAgICAgICAgICAgICB7CiAgImJ1YmJsaW5nTW91c2VFdmVudHMiOiB0cnVlLAogICJjb2xvciI6ICJibHVlIiwKICAiZGFzaEFycmF5IjogbnVsbCwKICAiZGFzaE9mZnNldCI6IG51bGwsCiAgImZpbGwiOiB0cnVlLAogICJmaWxsQ29sb3IiOiAiIzMxODZjYyIsCiAgImZpbGxPcGFjaXR5IjogMC43LAogICJmaWxsUnVsZSI6ICJldmVub2RkIiwKICAibGluZUNhcCI6ICJyb3VuZCIsCiAgImxpbmVKb2luIjogInJvdW5kIiwKICAib3BhY2l0eSI6IDEuMCwKICAicmFkaXVzIjogNSwKICAic3Ryb2tlIjogdHJ1ZSwKICAid2VpZ2h0IjogMwp9CiAgICAgICAgICAgICAgICApLmFkZFRvKG1hcF8yYWMwNDg5ZGY0NWY0ZjZmOTJjZjZhMjY5Yjc3YTMwMSk7CiAgICAgICAgICAgIAogICAgCiAgICAgICAgICAgIHZhciBwb3B1cF9iOGNiMjk0NTdjYWM0NmNjOTEwNDNlYTUyMTEzYjUxYSA9IEwucG9wdXAoe21heFdpZHRoOiAnMzAwJ30pOwoKICAgICAgICAgICAgCiAgICAgICAgICAgICAgICB2YXIgaHRtbF84YWViMmZjZDZmNjc0N2QxOTc0YTFmYmE4YmEyMDNjYSA9ICQoJzxkaXYgaWQ9Imh0bWxfOGFlYjJmY2Q2ZjY3NDdkMTk3NGExZmJhOGJhMjAzY2EiIHN0eWxlPSJ3aWR0aDogMTAwLjAlOyBoZWlnaHQ6IDEwMC4wJTsiPlBlZW55YTwvZGl2PicpWzBdOwogICAgICAgICAgICAgICAgcG9wdXBfYjhjYjI5NDU3Y2FjNDZjYzkxMDQzZWE1MjExM2I1MWEuc2V0Q29udGVudChodG1sXzhhZWIyZmNkNmY2NzQ3ZDE5NzRhMWZiYThiYTIwM2NhKTsKICAgICAgICAgICAgCgogICAgICAgICAgICBjaXJjbGVfbWFya2VyXzAwYmY1N2ZmMmZhZTRjMzliYjc1NDNjNmUzYTEwMDYzLmJpbmRQb3B1cChwb3B1cF9iOGNiMjk0NTdjYWM0NmNjOTEwNDNlYTUyMTEzYjUxYSk7CgogICAgICAgICAgICAKICAgICAgICAKICAgIAogICAgICAgICAgICB2YXIgY2lyY2xlX21hcmtlcl85YjdmNzBjOGFkNmE0MjUzOTg2YmZhMjJkZGRhOTM0NCA9IEwuY2lyY2xlTWFya2VyKAogICAgICAgICAgICAgICAgWzEzLjAyNzY1MjQsNzcuNTkyMTI1MV0sCiAgICAgICAgICAgICAgICB7CiAgImJ1YmJsaW5nTW91c2VFdmVudHMiOiB0cnVlLAogICJjb2xvciI6ICJibHVlIiwKICAiZGFzaEFycmF5IjogbnVsbCwKICAiZGFzaE9mZnNldCI6IG51bGwsCiAgImZpbGwiOiB0cnVlLAogICJmaWxsQ29sb3IiOiAiIzMxODZjYyIsCiAgImZpbGxPcGFjaXR5IjogMC43LAogICJmaWxsUnVsZSI6ICJldmVub2RkIiwKICAibGluZUNhcCI6ICJyb3VuZCIsCiAgImxpbmVKb2luIjogInJvdW5kIiwKICAib3BhY2l0eSI6IDEuMCwKICAicmFkaXVzIjogNSwKICAic3Ryb2tlIjogdHJ1ZSwKICAid2VpZ2h0IjogMwp9CiAgICAgICAgICAgICAgICApLmFkZFRvKG1hcF8yYWMwNDg5ZGY0NWY0ZjZmOTJjZjZhMjY5Yjc3YTMwMSk7CiAgICAgICAgICAgIAogICAgCiAgICAgICAgICAgIHZhciBwb3B1cF8zMmIyYjliODBjOTk0MzI3YjhkY2NhOGYzZmJkNTlhYiA9IEwucG9wdXAoe21heFdpZHRoOiAnMzAwJ30pOwoKICAgICAgICAgICAgCiAgICAgICAgICAgICAgICB2YXIgaHRtbF83ZmE0YmQ4MjdjMWI0ZjA4OGE2MjBjNjNlNDNmZWY2OSA9ICQoJzxkaXYgaWQ9Imh0bWxfN2ZhNGJkODI3YzFiNGYwODhhNjIwYzYzZTQzZmVmNjkiIHN0eWxlPSJ3aWR0aDogMTAwLjAlOyBoZWlnaHQ6IDEwMC4wJTsiPkhNVCBMYXlvdXQ8L2Rpdj4nKVswXTsKICAgICAgICAgICAgICAgIHBvcHVwXzMyYjJiOWI4MGM5OTQzMjdiOGRjY2E4ZjNmYmQ1OWFiLnNldENvbnRlbnQoaHRtbF83ZmE0YmQ4MjdjMWI0ZjA4OGE2MjBjNjNlNDNmZWY2OSk7CiAgICAgICAgICAgIAoKICAgICAgICAgICAgY2lyY2xlX21hcmtlcl85YjdmNzBjOGFkNmE0MjUzOTg2YmZhMjJkZGRhOTM0NC5iaW5kUG9wdXAocG9wdXBfMzJiMmI5YjgwYzk5NDMyN2I4ZGNjYThmM2ZiZDU5YWIpOwoKICAgICAgICAgICAgCiAgICAgICAgCiAgICAKICAgICAgICAgICAgdmFyIGNpcmNsZV9tYXJrZXJfYjc0MWI2Yjg2ZThiNDZiM2I0YmViOTU1MmRiOGU2MDggPSBMLmNpcmNsZU1hcmtlcigKICAgICAgICAgICAgICAgIFsxMy4wNzY2NDA3LDc3LjU1NzczMTVdLAogICAgICAgICAgICAgICAgewogICJidWJibGluZ01vdXNlRXZlbnRzIjogdHJ1ZSwKICAiY29sb3IiOiAiYmx1ZSIsCiAgImRhc2hBcnJheSI6IG51bGwsCiAgImRhc2hPZmZzZXQiOiBudWxsLAogICJmaWxsIjogdHJ1ZSwKICAiZmlsbENvbG9yIjogIiMzMTg2Y2MiLAogICJmaWxsT3BhY2l0eSI6IDAuNywKICAiZmlsbFJ1bGUiOiAiZXZlbm9kZCIsCiAgImxpbmVDYXAiOiAicm91bmQiLAogICJsaW5lSm9pbiI6ICJyb3VuZCIsCiAgIm9wYWNpdHkiOiAxLjAsCiAgInJhZGl1cyI6IDUsCiAgInN0cm9rZSI6IHRydWUsCiAgIndlaWdodCI6IDMKfQogICAgICAgICAgICAgICAgKS5hZGRUbyhtYXBfMmFjMDQ4OWRmNDVmNGY2ZjkyY2Y2YTI2OWI3N2EzMDEpOwogICAgICAgICAgICAKICAgIAogICAgICAgICAgICB2YXIgcG9wdXBfNzI5MTEyOTczZDg0NDIyNjlkODZkNDk0MzcyZGIyZjEgPSBMLnBvcHVwKHttYXhXaWR0aDogJzMwMCd9KTsKCiAgICAgICAgICAgIAogICAgICAgICAgICAgICAgdmFyIGh0bWxfMjhhZjdlNjMzYWE4NGRiZmFmMzI4OWViYjdiMmUxNzIgPSAkKCc8ZGl2IGlkPSJodG1sXzI4YWY3ZTYzM2FhODRkYmZhZjMyODllYmI3YjJlMTcyIiBzdHlsZT0id2lkdGg6IDEwMC4wJTsgaGVpZ2h0OiAxMDAuMCU7Ij5WaWR5YXJhbnlhcHVyYTwvZGl2PicpWzBdOwogICAgICAgICAgICAgICAgcG9wdXBfNzI5MTEyOTczZDg0NDIyNjlkODZkNDk0MzcyZGIyZjEuc2V0Q29udGVudChodG1sXzI4YWY3ZTYzM2FhODRkYmZhZjMyODllYmI3YjJlMTcyKTsKICAgICAgICAgICAgCgogICAgICAgICAgICBjaXJjbGVfbWFya2VyX2I3NDFiNmI4NmU4YjQ2YjNiNGJlYjk1NTJkYjhlNjA4LmJpbmRQb3B1cChwb3B1cF83MjkxMTI5NzNkODQ0MjI2OWQ4NmQ0OTQzNzJkYjJmMSk7CgogICAgICAgICAgICAKICAgICAgICAKICAgIAogICAgICAgICAgICB2YXIgY2lyY2xlX21hcmtlcl8xZjZhYzY2ZWI0NzA0Yjg3OTU3ZDQ5MzJhOWM1MTYxNyA9IEwuY2lyY2xlTWFya2VyKAogICAgICAgICAgICAgICAgWzEzLjA0NjQ1MzEsNzcuNTQ4MzgwM10sCiAgICAgICAgICAgICAgICB7CiAgImJ1YmJsaW5nTW91c2VFdmVudHMiOiB0cnVlLAogICJjb2xvciI6ICJibHVlIiwKICAiZGFzaEFycmF5IjogbnVsbCwKICAiZGFzaE9mZnNldCI6IG51bGwsCiAgImZpbGwiOiB0cnVlLAogICJmaWxsQ29sb3IiOiAiIzMxODZjYyIsCiAgImZpbGxPcGFjaXR5IjogMC43LAogICJmaWxsUnVsZSI6ICJldmVub2RkIiwKICAibGluZUNhcCI6ICJyb3VuZCIsCiAgImxpbmVKb2luIjogInJvdW5kIiwKICAib3BhY2l0eSI6IDEuMCwKICAicmFkaXVzIjogNSwKICAic3Ryb2tlIjogdHJ1ZSwKICAid2VpZ2h0IjogMwp9CiAgICAgICAgICAgICAgICApLmFkZFRvKG1hcF8yYWMwNDg5ZGY0NWY0ZjZmOTJjZjZhMjY5Yjc3YTMwMSk7CiAgICAgICAgICAgIAogICAgCiAgICAgICAgICAgIHZhciBwb3B1cF9iNTBkNmJhODA5MjI0ZmVmOTA1YmU4NDFiNDk2MjkzYiA9IEwucG9wdXAoe21heFdpZHRoOiAnMzAwJ30pOwoKICAgICAgICAgICAgCiAgICAgICAgICAgICAgICB2YXIgaHRtbF82MTZmZDQ4Njg4ODA0ZjJhYTVhYjRlOTFkMzQ0YTgwYiA9ICQoJzxkaXYgaWQ9Imh0bWxfNjE2ZmQ0ODY4ODgwNGYyYWE1YWI0ZTkxZDM0NGE4MGIiIHN0eWxlPSJ3aWR0aDogMTAwLjAlOyBoZWlnaHQ6IDEwMC4wJTsiPkphbGFoYWxsaTwvZGl2PicpWzBdOwogICAgICAgICAgICAgICAgcG9wdXBfYjUwZDZiYTgwOTIyNGZlZjkwNWJlODQxYjQ5NjI5M2Iuc2V0Q29udGVudChodG1sXzYxNmZkNDg2ODg4MDRmMmFhNWFiNGU5MWQzNDRhODBiKTsKICAgICAgICAgICAgCgogICAgICAgICAgICBjaXJjbGVfbWFya2VyXzFmNmFjNjZlYjQ3MDRiODc5NTdkNDkzMmE5YzUxNjE3LmJpbmRQb3B1cChwb3B1cF9iNTBkNmJhODA5MjI0ZmVmOTA1YmU4NDFiNDk2MjkzYik7CgogICAgICAgICAgICAKICAgICAgICAKICAgIAogICAgICAgICAgICB2YXIgY2lyY2xlX21hcmtlcl83NzliM2Q3N2IxZTY0ODdlOGYwODEyNDAyZWQ4YTFhZiA9IEwuY2lyY2xlTWFya2VyKAogICAgICAgICAgICAgICAgWzEzLjA3MzE5MjY1LDc3LjU0MTcxMzQwNjg4Ml0sCiAgICAgICAgICAgICAgICB7CiAgImJ1YmJsaW5nTW91c2VFdmVudHMiOiB0cnVlLAogICJjb2xvciI6ICJibHVlIiwKICAiZGFzaEFycmF5IjogbnVsbCwKICAiZGFzaE9mZnNldCI6IG51bGwsCiAgImZpbGwiOiB0cnVlLAogICJmaWxsQ29sb3IiOiAiIzMxODZjYyIsCiAgImZpbGxPcGFjaXR5IjogMC43LAogICJmaWxsUnVsZSI6ICJldmVub2RkIiwKICAibGluZUNhcCI6ICJyb3VuZCIsCiAgImxpbmVKb2luIjogInJvdW5kIiwKICAib3BhY2l0eSI6IDEuMCwKICAicmFkaXVzIjogNSwKICAic3Ryb2tlIjogdHJ1ZSwKICAid2VpZ2h0IjogMwp9CiAgICAgICAgICAgICAgICApLmFkZFRvKG1hcF8yYWMwNDg5ZGY0NWY0ZjZmOTJjZjZhMjY5Yjc3YTMwMSk7CiAgICAgICAgICAgIAogICAgCiAgICAgICAgICAgIHZhciBwb3B1cF85OTVkMGUyYzYyNDE0Y2RjOTMyNzBiODkzZGY4MWE1NiA9IEwucG9wdXAoe21heFdpZHRoOiAnMzAwJ30pOwoKICAgICAgICAgICAgCiAgICAgICAgICAgICAgICB2YXIgaHRtbF82YmU1Y2EwNWRiYjQ0ZTNjOTY0ZDgyMzlhYmRkNTNmMiA9ICQoJzxkaXYgaWQ9Imh0bWxfNmJlNWNhMDVkYmI0NGUzYzk2NGQ4MjM5YWJkZDUzZjIiIHN0eWxlPSJ3aWR0aDogMTAwLjAlOyBoZWlnaHQ6IDEwMC4wJTsiPkt1dmVtcHUgbmFnYXI8L2Rpdj4nKVswXTsKICAgICAgICAgICAgICAgIHBvcHVwXzk5NWQwZTJjNjI0MTRjZGM5MzI3MGI4OTNkZjgxYTU2LnNldENvbnRlbnQoaHRtbF82YmU1Y2EwNWRiYjQ0ZTNjOTY0ZDgyMzlhYmRkNTNmMik7CiAgICAgICAgICAgIAoKICAgICAgICAgICAgY2lyY2xlX21hcmtlcl83NzliM2Q3N2IxZTY0ODdlOGYwODEyNDAyZWQ4YTFhZi5iaW5kUG9wdXAocG9wdXBfOTk1ZDBlMmM2MjQxNGNkYzkzMjcwYjg5M2RmODFhNTYpOwoKICAgICAgICAgICAgCiAgICAgICAgCiAgICAKICAgICAgICAgICAgdmFyIGNpcmNsZV9tYXJrZXJfZGZjZGQ0YjdmZDg0NDI5MGI0ZGFhZDRjYjA3YjFjYjcgPSBMLmNpcmNsZU1hcmtlcigKICAgICAgICAgICAgICAgIFsxMy4wMjQ4MzcsNzcuNTkyMDg5XSwKICAgICAgICAgICAgICAgIHsKICAiYnViYmxpbmdNb3VzZUV2ZW50cyI6IHRydWUsCiAgImNvbG9yIjogImJsdWUiLAogICJkYXNoQXJyYXkiOiBudWxsLAogICJkYXNoT2Zmc2V0IjogbnVsbCwKICAiZmlsbCI6IHRydWUsCiAgImZpbGxDb2xvciI6ICIjMzE4NmNjIiwKICAiZmlsbE9wYWNpdHkiOiAwLjcsCiAgImZpbGxSdWxlIjogImV2ZW5vZGQiLAogICJsaW5lQ2FwIjogInJvdW5kIiwKICAibGluZUpvaW4iOiAicm91bmQiLAogICJvcGFjaXR5IjogMS4wLAogICJyYWRpdXMiOiA1LAogICJzdHJva2UiOiB0cnVlLAogICJ3ZWlnaHQiOiAzCn0KICAgICAgICAgICAgICAgICkuYWRkVG8obWFwXzJhYzA0ODlkZjQ1ZjRmNmY5MmNmNmEyNjliNzdhMzAxKTsKICAgICAgICAgICAgCiAgICAKICAgICAgICAgICAgdmFyIHBvcHVwX2M0OTRkZTNkMDM2NzRjZWI5MmIxOTY1M2ViNzhiZTlkID0gTC5wb3B1cCh7bWF4V2lkdGg6ICczMDAnfSk7CgogICAgICAgICAgICAKICAgICAgICAgICAgICAgIHZhciBodG1sX2Q2Yzc0MWIwMjY4OTQ1MzY4M2I1ZmY5MGM2NGU5NDE2ID0gJCgnPGRpdiBpZD0iaHRtbF9kNmM3NDFiMDI2ODk0NTM2ODNiNWZmOTBjNjRlOTQxNiIgc3R5bGU9IndpZHRoOiAxMDAuMCU7IGhlaWdodDogMTAwLjAlOyI+R2FuZ2FuYWdhcjwvZGl2PicpWzBdOwogICAgICAgICAgICAgICAgcG9wdXBfYzQ5NGRlM2QwMzY3NGNlYjkyYjE5NjUzZWI3OGJlOWQuc2V0Q29udGVudChodG1sX2Q2Yzc0MWIwMjY4OTQ1MzY4M2I1ZmY5MGM2NGU5NDE2KTsKICAgICAgICAgICAgCgogICAgICAgICAgICBjaXJjbGVfbWFya2VyX2RmY2RkNGI3ZmQ4NDQyOTBiNGRhYWQ0Y2IwN2IxY2I3LmJpbmRQb3B1cChwb3B1cF9jNDk0ZGUzZDAzNjc0Y2ViOTJiMTk2NTNlYjc4YmU5ZCk7CgogICAgICAgICAgICAKICAgICAgICAKICAgIAogICAgICAgICAgICB2YXIgY2lyY2xlX21hcmtlcl9iYzExMDZjNGNjNzc0Mjg4YjJkN2ZiY2Y0YzgyNjZiOSA9IEwuY2lyY2xlTWFya2VyKAogICAgICAgICAgICAgICAgWzEzLjAyMjcyMDQsNzcuNTk1NzE1XSwKICAgICAgICAgICAgICAgIHsKICAiYnViYmxpbmdNb3VzZUV2ZW50cyI6IHRydWUsCiAgImNvbG9yIjogImJsdWUiLAogICJkYXNoQXJyYXkiOiBudWxsLAogICJkYXNoT2Zmc2V0IjogbnVsbCwKICAiZmlsbCI6IHRydWUsCiAgImZpbGxDb2xvciI6ICIjMzE4NmNjIiwKICAiZmlsbE9wYWNpdHkiOiAwLjcsCiAgImZpbGxSdWxlIjogImV2ZW5vZGQiLAogICJsaW5lQ2FwIjogInJvdW5kIiwKICAibGluZUpvaW4iOiAicm91bmQiLAogICJvcGFjaXR5IjogMS4wLAogICJyYWRpdXMiOiA1LAogICJzdHJva2UiOiB0cnVlLAogICJ3ZWlnaHQiOiAzCn0KICAgICAgICAgICAgICAgICkuYWRkVG8obWFwXzJhYzA0ODlkZjQ1ZjRmNmY5MmNmNmEyNjliNzdhMzAxKTsKICAgICAgICAgICAgCiAgICAKICAgICAgICAgICAgdmFyIHBvcHVwXzQ5Mjc5MmZkYzBjNzRmMWM4OTEzOTY1YzAzMGY2ZDRhID0gTC5wb3B1cCh7bWF4V2lkdGg6ICczMDAnfSk7CgogICAgICAgICAgICAKICAgICAgICAgICAgICAgIHZhciBodG1sX2ZkMzIwZDJhOTE3NDQ0ZThiNGY1NTVhZTY0MzA3YmI2ID0gJCgnPGRpdiBpZD0iaHRtbF9mZDMyMGQyYTkxNzQ0NGU4YjRmNTU1YWU2NDMwN2JiNiIgc3R5bGU9IndpZHRoOiAxMDAuMCU7IGhlaWdodDogMTAwLjAlOyI+UlQgTmFnYXI8L2Rpdj4nKVswXTsKICAgICAgICAgICAgICAgIHBvcHVwXzQ5Mjc5MmZkYzBjNzRmMWM4OTEzOTY1YzAzMGY2ZDRhLnNldENvbnRlbnQoaHRtbF9mZDMyMGQyYTkxNzQ0NGU4YjRmNTU1YWU2NDMwN2JiNik7CiAgICAgICAgICAgIAoKICAgICAgICAgICAgY2lyY2xlX21hcmtlcl9iYzExMDZjNGNjNzc0Mjg4YjJkN2ZiY2Y0YzgyNjZiOS5iaW5kUG9wdXAocG9wdXBfNDkyNzkyZmRjMGM3NGYxYzg5MTM5NjVjMDMwZjZkNGEpOwoKICAgICAgICAgICAgCiAgICAgICAgCiAgICAKICAgICAgICAgICAgdmFyIGNpcmNsZV9tYXJrZXJfNzc5Nzg4NWFhNjU4NGVjZGI4YzJhZWQxMjg4OTI5NTQgPSBMLmNpcmNsZU1hcmtlcigKICAgICAgICAgICAgICAgIFsxMy4wNjI5NTE0LDc3LjU4MTk1NzM0ODU0NzkyXSwKICAgICAgICAgICAgICAgIHsKICAiYnViYmxpbmdNb3VzZUV2ZW50cyI6IHRydWUsCiAgImNvbG9yIjogImJsdWUiLAogICJkYXNoQXJyYXkiOiBudWxsLAogICJkYXNoT2Zmc2V0IjogbnVsbCwKICAiZmlsbCI6IHRydWUsCiAgImZpbGxDb2xvciI6ICIjMzE4NmNjIiwKICAiZmlsbE9wYWNpdHkiOiAwLjcsCiAgImZpbGxSdWxlIjogImV2ZW5vZGQiLAogICJsaW5lQ2FwIjogInJvdW5kIiwKICAibGluZUpvaW4iOiAicm91bmQiLAogICJvcGFjaXR5IjogMS4wLAogICJyYWRpdXMiOiA1LAogICJzdHJva2UiOiB0cnVlLAogICJ3ZWlnaHQiOiAzCn0KICAgICAgICAgICAgICAgICkuYWRkVG8obWFwXzJhYzA0ODlkZjQ1ZjRmNmY5MmNmNmEyNjliNzdhMzAxKTsKICAgICAgICAgICAgCiAgICAKICAgICAgICAgICAgdmFyIHBvcHVwXzQ2MWU5ZDhlMjM1NTQ4ZWU4Y2MwOTI5OWU1ZDBmOWNmID0gTC5wb3B1cCh7bWF4V2lkdGg6ICczMDAnfSk7CgogICAgICAgICAgICAKICAgICAgICAgICAgICAgIHZhciBodG1sX2M1OWI2MWRmZDg3YjRjMDk5NjcwNDRlNjFhOTRkOTFkID0gJCgnPGRpdiBpZD0iaHRtbF9jNTliNjFkZmQ4N2I0YzA5OTY3MDQ0ZTYxYTk0ZDkxZCIgc3R5bGU9IndpZHRoOiAxMDAuMCU7IGhlaWdodDogMTAwLjAlOyI+U2FoYWthcm5hZ2FyPC9kaXY+JylbMF07CiAgICAgICAgICAgICAgICBwb3B1cF80NjFlOWQ4ZTIzNTU0OGVlOGNjMDkyOTllNWQwZjljZi5zZXRDb250ZW50KGh0bWxfYzU5YjYxZGZkODdiNGMwOTk2NzA0NGU2MWE5NGQ5MWQpOwogICAgICAgICAgICAKCiAgICAgICAgICAgIGNpcmNsZV9tYXJrZXJfNzc5Nzg4NWFhNjU4NGVjZGI4YzJhZWQxMjg4OTI5NTQuYmluZFBvcHVwKHBvcHVwXzQ2MWU5ZDhlMjM1NTQ4ZWU4Y2MwOTI5OWU1ZDBmOWNmKTsKCiAgICAgICAgICAgIAogICAgICAgIAogICAgCiAgICAgICAgICAgIHZhciBjaXJjbGVfbWFya2VyX2E2MzY2Y2UwZTU2YTQ4NDBhNzBlNGRlMDQzMWU3MWI0ID0gTC5jaXJjbGVNYXJrZXIoCiAgICAgICAgICAgICAgICBbMTMuMDM4MjE4NCw3Ny41OTE5XSwKICAgICAgICAgICAgICAgIHsKICAiYnViYmxpbmdNb3VzZUV2ZW50cyI6IHRydWUsCiAgImNvbG9yIjogImJsdWUiLAogICJkYXNoQXJyYXkiOiBudWxsLAogICJkYXNoT2Zmc2V0IjogbnVsbCwKICAiZmlsbCI6IHRydWUsCiAgImZpbGxDb2xvciI6ICIjMzE4NmNjIiwKICAiZmlsbE9wYWNpdHkiOiAwLjcsCiAgImZpbGxSdWxlIjogImV2ZW5vZGQiLAogICJsaW5lQ2FwIjogInJvdW5kIiwKICAibGluZUpvaW4iOiAicm91bmQiLAogICJvcGFjaXR5IjogMS4wLAogICJyYWRpdXMiOiA1LAogICJzdHJva2UiOiB0cnVlLAogICJ3ZWlnaHQiOiAzCn0KICAgICAgICAgICAgICAgICkuYWRkVG8obWFwXzJhYzA0ODlkZjQ1ZjRmNmY5MmNmNmEyNjliNzdhMzAxKTsKICAgICAgICAgICAgCiAgICAKICAgICAgICAgICAgdmFyIHBvcHVwXzFlNDI1ZGEzYTcwMDRjZTI5NDY1ODBmZTIzMTIyODBiID0gTC5wb3B1cCh7bWF4V2lkdGg6ICczMDAnfSk7CgogICAgICAgICAgICAKICAgICAgICAgICAgICAgIHZhciBodG1sXzhmMDUzOTYzYmU1ZjRhZWU4ZjRhMjI4NTkyYmI3NTM0ID0gJCgnPGRpdiBpZD0iaHRtbF84ZjA1Mzk2M2JlNWY0YWVlOGY0YTIyODU5MmJiNzUzNCIgc3R5bGU9IndpZHRoOiAxMDAuMCU7IGhlaWdodDogMTAwLjAlOyI+SGViYmFsIG1haW4gcmQ8L2Rpdj4nKVswXTsKICAgICAgICAgICAgICAgIHBvcHVwXzFlNDI1ZGEzYTcwMDRjZTI5NDY1ODBmZTIzMTIyODBiLnNldENvbnRlbnQoaHRtbF84ZjA1Mzk2M2JlNWY0YWVlOGY0YTIyODU5MmJiNzUzNCk7CiAgICAgICAgICAgIAoKICAgICAgICAgICAgY2lyY2xlX21hcmtlcl9hNjM2NmNlMGU1NmE0ODQwYTcwZTRkZTA0MzFlNzFiNC5iaW5kUG9wdXAocG9wdXBfMWU0MjVkYTNhNzAwNGNlMjk0NjU4MGZlMjMxMjI4MGIpOwoKICAgICAgICAgICAgCiAgICAgICAgCiAgICAKICAgICAgICAgICAgdmFyIGNpcmNsZV9tYXJrZXJfMjdmNWNlNTZjZjI1NDIzNmJiYzhkYzBmZGZiMDFlZTYgPSBMLmNpcmNsZU1hcmtlcigKICAgICAgICAgICAgICAgIFsxMy4wODc0MDU5LDc3LjU4NDI0MTRdLAogICAgICAgICAgICAgICAgewogICJidWJibGluZ01vdXNlRXZlbnRzIjogdHJ1ZSwKICAiY29sb3IiOiAiYmx1ZSIsCiAgImRhc2hBcnJheSI6IG51bGwsCiAgImRhc2hPZmZzZXQiOiBudWxsLAogICJmaWxsIjogdHJ1ZSwKICAiZmlsbENvbG9yIjogIiMzMTg2Y2MiLAogICJmaWxsT3BhY2l0eSI6IDAuNywKICAiZmlsbFJ1bGUiOiAiZXZlbm9kZCIsCiAgImxpbmVDYXAiOiAicm91bmQiLAogICJsaW5lSm9pbiI6ICJyb3VuZCIsCiAgIm9wYWNpdHkiOiAxLjAsCiAgInJhZGl1cyI6IDUsCiAgInN0cm9rZSI6IHRydWUsCiAgIndlaWdodCI6IDMKfQogICAgICAgICAgICAgICAgKS5hZGRUbyhtYXBfMmFjMDQ4OWRmNDVmNGY2ZjkyY2Y2YTI2OWI3N2EzMDEpOwogICAgICAgICAgICAKICAgIAogICAgICAgICAgICB2YXIgcG9wdXBfZGMzODFmZjE5MjAxNDMxMGE2ZTdlMGQwYzczYmUzMDAgPSBMLnBvcHVwKHttYXhXaWR0aDogJzMwMCd9KTsKCiAgICAgICAgICAgIAogICAgICAgICAgICAgICAgdmFyIGh0bWxfOTcwYTQzNzMyZWIyNDI0MGJlNjRkZmM3OWE1Mzc2NzYgPSAkKCc8ZGl2IGlkPSJodG1sXzk3MGE0MzczMmViMjQyNDBiZTY0ZGZjNzlhNTM3Njc2IiBzdHlsZT0id2lkdGg6IDEwMC4wJTsgaGVpZ2h0OiAxMDAuMCU7Ij5KdWRpY2lhbCBMYXlvdXQ8L2Rpdj4nKVswXTsKICAgICAgICAgICAgICAgIHBvcHVwX2RjMzgxZmYxOTIwMTQzMTBhNmU3ZTBkMGM3M2JlMzAwLnNldENvbnRlbnQoaHRtbF85NzBhNDM3MzJlYjI0MjQwYmU2NGRmYzc5YTUzNzY3Nik7CiAgICAgICAgICAgIAoKICAgICAgICAgICAgY2lyY2xlX21hcmtlcl8yN2Y1Y2U1NmNmMjU0MjM2YmJjOGRjMGZkZmIwMWVlNi5iaW5kUG9wdXAocG9wdXBfZGMzODFmZjE5MjAxNDMxMGE2ZTdlMGQwYzczYmUzMDApOwoKICAgICAgICAgICAgCiAgICAgICAgCiAgICAKICAgICAgICAgICAgdmFyIGNpcmNsZV9tYXJrZXJfNzE0MjJkZDlhZWFhNDA4MmI4ZGQ4MmE5OGUxNzRjNjggPSBMLmNpcmNsZU1hcmtlcigKICAgICAgICAgICAgICAgIFsxMy4wMDQyNjM2LDc3LjU3NTE3MDRdLAogICAgICAgICAgICAgICAgewogICJidWJibGluZ01vdXNlRXZlbnRzIjogdHJ1ZSwKICAiY29sb3IiOiAiYmx1ZSIsCiAgImRhc2hBcnJheSI6IG51bGwsCiAgImRhc2hPZmZzZXQiOiBudWxsLAogICJmaWxsIjogdHJ1ZSwKICAiZmlsbENvbG9yIjogIiMzMTg2Y2MiLAogICJmaWxsT3BhY2l0eSI6IDAuNywKICAiZmlsbFJ1bGUiOiAiZXZlbm9kZCIsCiAgImxpbmVDYXAiOiAicm91bmQiLAogICJsaW5lSm9pbiI6ICJyb3VuZCIsCiAgIm9wYWNpdHkiOiAxLjAsCiAgInJhZGl1cyI6IDUsCiAgInN0cm9rZSI6IHRydWUsCiAgIndlaWdodCI6IDMKfQogICAgICAgICAgICAgICAgKS5hZGRUbyhtYXBfMmFjMDQ4OWRmNDVmNGY2ZjkyY2Y2YTI2OWI3N2EzMDEpOwogICAgICAgICAgICAKICAgIAogICAgICAgICAgICB2YXIgcG9wdXBfOWIyOTJjZWRhNzIwNDVjNDhmN2QwZjVlNmIzYTU1NWMgPSBMLnBvcHVwKHttYXhXaWR0aDogJzMwMCd9KTsKCiAgICAgICAgICAgIAogICAgICAgICAgICAgICAgdmFyIGh0bWxfZTljMGY4MGMzMjM0NDRkMjliMDJjNWQwNmVhMjNiN2UgPSAkKCc8ZGl2IGlkPSJodG1sX2U5YzBmODBjMzIzNDQ0ZDI5YjAyYzVkMDZlYTIzYjdlIiBzdHlsZT0id2lkdGg6IDEwMC4wJTsgaGVpZ2h0OiAxMDAuMCU7Ij5WeWFsaWthdmFsPC9kaXY+JylbMF07CiAgICAgICAgICAgICAgICBwb3B1cF85YjI5MmNlZGE3MjA0NWM0OGY3ZDBmNWU2YjNhNTU1Yy5zZXRDb250ZW50KGh0bWxfZTljMGY4MGMzMjM0NDRkMjliMDJjNWQwNmVhMjNiN2UpOwogICAgICAgICAgICAKCiAgICAgICAgICAgIGNpcmNsZV9tYXJrZXJfNzE0MjJkZDlhZWFhNDA4MmI4ZGQ4MmE5OGUxNzRjNjguYmluZFBvcHVwKHBvcHVwXzliMjkyY2VkYTcyMDQ1YzQ4ZjdkMGY1ZTZiM2E1NTVjKTsKCiAgICAgICAgICAgIAogICAgICAgIAogICAgCiAgICAgICAgICAgIHZhciBjaXJjbGVfbWFya2VyXzA0OTdhY2ZiYTQxMjQwNDM5NzdkN2MwMTBlOWZjYjgyID0gTC5jaXJjbGVNYXJrZXIoCiAgICAgICAgICAgICAgICBbMTMuMDIzMDI2Miw3Ny41ODQzNjg1XSwKICAgICAgICAgICAgICAgIHsKICAiYnViYmxpbmdNb3VzZUV2ZW50cyI6IHRydWUsCiAgImNvbG9yIjogImJsdWUiLAogICJkYXNoQXJyYXkiOiBudWxsLAogICJkYXNoT2Zmc2V0IjogbnVsbCwKICAiZmlsbCI6IHRydWUsCiAgImZpbGxDb2xvciI6ICIjMzE4NmNjIiwKICAiZmlsbE9wYWNpdHkiOiAwLjcsCiAgImZpbGxSdWxlIjogImV2ZW5vZGQiLAogICJsaW5lQ2FwIjogInJvdW5kIiwKICAibGluZUpvaW4iOiAicm91bmQiLAogICJvcGFjaXR5IjogMS4wLAogICJyYWRpdXMiOiA1LAogICJzdHJva2UiOiB0cnVlLAogICJ3ZWlnaHQiOiAzCn0KICAgICAgICAgICAgICAgICkuYWRkVG8obWFwXzJhYzA0ODlkZjQ1ZjRmNmY5MmNmNmEyNjliNzdhMzAxKTsKICAgICAgICAgICAgCiAgICAKICAgICAgICAgICAgdmFyIHBvcHVwXzYyOTAyNGY3YjQyZTRlZjE5M2ExZjQ2OWU4OTRhYmM3ID0gTC5wb3B1cCh7bWF4V2lkdGg6ICczMDAnfSk7CgogICAgICAgICAgICAKICAgICAgICAgICAgICAgIHZhciBodG1sXzY4ZDkxMWE5Y2Y1ZDQ0Yzg4ODM2OTlhZWQ5NjYzMDJiID0gJCgnPGRpdiBpZD0iaHRtbF82OGQ5MTFhOWNmNWQ0NGM4ODgzNjk5YWVkOTY2MzAyYiIgc3R5bGU9IndpZHRoOiAxMDAuMCU7IGhlaWdodDogMTAwLjAlOyI+U2FuamF5bmFnYXI8L2Rpdj4nKVswXTsKICAgICAgICAgICAgICAgIHBvcHVwXzYyOTAyNGY3YjQyZTRlZjE5M2ExZjQ2OWU4OTRhYmM3LnNldENvbnRlbnQoaHRtbF82OGQ5MTFhOWNmNWQ0NGM4ODgzNjk5YWVkOTY2MzAyYik7CiAgICAgICAgICAgIAoKICAgICAgICAgICAgY2lyY2xlX21hcmtlcl8wNDk3YWNmYmE0MTI0MDQzOTc3ZDdjMDEwZTlmY2I4Mi5iaW5kUG9wdXAocG9wdXBfNjI5MDI0ZjdiNDJlNGVmMTkzYTFmNDY5ZTg5NGFiYzcpOwoKICAgICAgICAgICAgCiAgICAgICAgCiAgICAKICAgICAgICAgICAgdmFyIGNpcmNsZV9tYXJrZXJfMTgyOTQ5MmQxMjY0NDAxNmJiMDhhYjhhNDRmOWZmZjkgPSBMLmNpcmNsZU1hcmtlcigKICAgICAgICAgICAgICAgIFsxMy4wNDIwNjgyLDc3LjU2ODAxNTI5MDQwMzE3XSwKICAgICAgICAgICAgICAgIHsKICAiYnViYmxpbmdNb3VzZUV2ZW50cyI6IHRydWUsCiAgImNvbG9yIjogImJsdWUiLAogICJkYXNoQXJyYXkiOiBudWxsLAogICJkYXNoT2Zmc2V0IjogbnVsbCwKICAiZmlsbCI6IHRydWUsCiAgImZpbGxDb2xvciI6ICIjMzE4NmNjIiwKICAiZmlsbE9wYWNpdHkiOiAwLjcsCiAgImZpbGxSdWxlIjogImV2ZW5vZGQiLAogICJsaW5lQ2FwIjogInJvdW5kIiwKICAibGluZUpvaW4iOiAicm91bmQiLAogICJvcGFjaXR5IjogMS4wLAogICJyYWRpdXMiOiA1LAogICJzdHJva2UiOiB0cnVlLAogICJ3ZWlnaHQiOiAzCn0KICAgICAgICAgICAgICAgICkuYWRkVG8obWFwXzJhYzA0ODlkZjQ1ZjRmNmY5MmNmNmEyNjliNzdhMzAxKTsKICAgICAgICAgICAgCiAgICAKICAgICAgICAgICAgdmFyIHBvcHVwX2U0NGMwZDVjNmJkZTQ1NTc5Y2NiNDI4Y2ExOTk2OWRlID0gTC5wb3B1cCh7bWF4V2lkdGg6ICczMDAnfSk7CgogICAgICAgICAgICAKICAgICAgICAgICAgICAgIHZhciBodG1sXzBhMTdkNDg0NWUyOTRhYmQ4ZGIzMDM3ZTQ0YmQ4MWUzID0gJCgnPGRpdiBpZD0iaHRtbF8wYTE3ZDQ4NDVlMjk0YWJkOGRiMzAzN2U0NGJkODFlMyIgc3R5bGU9IndpZHRoOiAxMDAuMCU7IGhlaWdodDogMTAwLjAlOyI+RG9sbGFycyBDb2xvbnk8L2Rpdj4nKVswXTsKICAgICAgICAgICAgICAgIHBvcHVwX2U0NGMwZDVjNmJkZTQ1NTc5Y2NiNDI4Y2ExOTk2OWRlLnNldENvbnRlbnQoaHRtbF8wYTE3ZDQ4NDVlMjk0YWJkOGRiMzAzN2U0NGJkODFlMyk7CiAgICAgICAgICAgIAoKICAgICAgICAgICAgY2lyY2xlX21hcmtlcl8xODI5NDkyZDEyNjQ0MDE2YmIwOGFiOGE0NGY5ZmZmOS5iaW5kUG9wdXAocG9wdXBfZTQ0YzBkNWM2YmRlNDU1NzljY2I0MjhjYTE5OTY5ZGUpOwoKICAgICAgICAgICAgCiAgICAgICAgCiAgICAKICAgICAgICAgICAgdmFyIGNpcmNsZV9tYXJrZXJfYjg2YjA1ZDRlNDUwNDRlMDliOWJmYmE4NmE3ZjJhODkgPSBMLmNpcmNsZU1hcmtlcigKICAgICAgICAgICAgICAgIFsxMi45OTc3NTAyLDc3LjU4NDMxNjJdLAogICAgICAgICAgICAgICAgewogICJidWJibGluZ01vdXNlRXZlbnRzIjogdHJ1ZSwKICAiY29sb3IiOiAiYmx1ZSIsCiAgImRhc2hBcnJheSI6IG51bGwsCiAgImRhc2hPZmZzZXQiOiBudWxsLAogICJmaWxsIjogdHJ1ZSwKICAiZmlsbENvbG9yIjogIiMzMTg2Y2MiLAogICJmaWxsT3BhY2l0eSI6IDAuNywKICAiZmlsbFJ1bGUiOiAiZXZlbm9kZCIsCiAgImxpbmVDYXAiOiAicm91bmQiLAogICJsaW5lSm9pbiI6ICJyb3VuZCIsCiAgIm9wYWNpdHkiOiAxLjAsCiAgInJhZGl1cyI6IDUsCiAgInN0cm9rZSI6IHRydWUsCiAgIndlaWdodCI6IDMKfQogICAgICAgICAgICAgICAgKS5hZGRUbyhtYXBfMmFjMDQ4OWRmNDVmNGY2ZjkyY2Y2YTI2OWI3N2EzMDEpOwogICAgICAgICAgICAKICAgIAogICAgICAgICAgICB2YXIgcG9wdXBfZTdmYWNiOGRkODhjNDM3MmFhN2VhNzU5MzFjYmM4Y2IgPSBMLnBvcHVwKHttYXhXaWR0aDogJzMwMCd9KTsKCiAgICAgICAgICAgIAogICAgICAgICAgICAgICAgdmFyIGh0bWxfZjk4MzJlNTI1ZjZhNDRlZmI1YzFjNjM4YTA4MmI5MDkgPSAkKCc8ZGl2IGlkPSJodG1sX2Y5ODMyZTUyNWY2YTQ0ZWZiNWMxYzYzOGEwODJiOTA5IiBzdHlsZT0id2lkdGg6IDEwMC4wJTsgaGVpZ2h0OiAxMDAuMCU7Ij5QYWxhY2UgQ3Jvc3MgUmQ8L2Rpdj4nKVswXTsKICAgICAgICAgICAgICAgIHBvcHVwX2U3ZmFjYjhkZDg4YzQzNzJhYTdlYTc1OTMxY2JjOGNiLnNldENvbnRlbnQoaHRtbF9mOTgzMmU1MjVmNmE0NGVmYjVjMWM2MzhhMDgyYjkwOSk7CiAgICAgICAgICAgIAoKICAgICAgICAgICAgY2lyY2xlX21hcmtlcl9iODZiMDVkNGU0NTA0NGUwOWI5YmZiYTg2YTdmMmE4OS5iaW5kUG9wdXAocG9wdXBfZTdmYWNiOGRkODhjNDM3MmFhN2VhNzU5MzFjYmM4Y2IpOwoKICAgICAgICAgICAgCiAgICAgICAgCiAgICAKICAgICAgICAgICAgdmFyIGNpcmNsZV9tYXJrZXJfNzYzOTQzYWNhMmJiNDc0NmI3ODUxYTYyNDUwYTcwNGIgPSBMLmNpcmNsZU1hcmtlcigKICAgICAgICAgICAgICAgIFsxMi45OTM3OTcsNzcuNTg0NzQ1OV0sCiAgICAgICAgICAgICAgICB7CiAgImJ1YmJsaW5nTW91c2VFdmVudHMiOiB0cnVlLAogICJjb2xvciI6ICJibHVlIiwKICAiZGFzaEFycmF5IjogbnVsbCwKICAiZGFzaE9mZnNldCI6IG51bGwsCiAgImZpbGwiOiB0cnVlLAogICJmaWxsQ29sb3IiOiAiIzMxODZjYyIsCiAgImZpbGxPcGFjaXR5IjogMC43LAogICJmaWxsUnVsZSI6ICJldmVub2RkIiwKICAibGluZUNhcCI6ICJyb3VuZCIsCiAgImxpbmVKb2luIjogInJvdW5kIiwKICAib3BhY2l0eSI6IDEuMCwKICAicmFkaXVzIjogNSwKICAic3Ryb2tlIjogdHJ1ZSwKICAid2VpZ2h0IjogMwp9CiAgICAgICAgICAgICAgICApLmFkZFRvKG1hcF8yYWMwNDg5ZGY0NWY0ZjZmOTJjZjZhMjY5Yjc3YTMwMSk7CiAgICAgICAgICAgIAogICAgCiAgICAgICAgICAgIHZhciBwb3B1cF8yYzZkYjZiZTFlODE0ZWQ2OGFjMTNlYjZhNDBlZjVmZiA9IEwucG9wdXAoe21heFdpZHRoOiAnMzAwJ30pOwoKICAgICAgICAgICAgCiAgICAgICAgICAgICAgICB2YXIgaHRtbF9mY2ZmMjk5MDU4ODE0NGJkOWE3YmUyYjJhNDRhZWUxMiA9ICQoJzxkaXYgaWQ9Imh0bWxfZmNmZjI5OTA1ODgxNDRiZDlhN2JlMmIyYTQ0YWVlMTIiIHN0eWxlPSJ3aWR0aDogMTAwLjAlOyBoZWlnaHQ6IDEwMC4wJTsiPkt1bWFyYSBQYXJrPC9kaXY+JylbMF07CiAgICAgICAgICAgICAgICBwb3B1cF8yYzZkYjZiZTFlODE0ZWQ2OGFjMTNlYjZhNDBlZjVmZi5zZXRDb250ZW50KGh0bWxfZmNmZjI5OTA1ODgxNDRiZDlhN2JlMmIyYTQ0YWVlMTIpOwogICAgICAgICAgICAKCiAgICAgICAgICAgIGNpcmNsZV9tYXJrZXJfNzYzOTQzYWNhMmJiNDc0NmI3ODUxYTYyNDUwYTcwNGIuYmluZFBvcHVwKHBvcHVwXzJjNmRiNmJlMWU4MTRlZDY4YWMxM2ViNmE0MGVmNWZmKTsKCiAgICAgICAgICAgIAogICAgICAgIAogICAgCiAgICAgICAgICAgIHZhciBjaXJjbGVfbWFya2VyXzE4NTBjMzE5OTY4YTRkYmFhZjk1NTkxNTIxNGIyZmQxID0gTC5jaXJjbGVNYXJrZXIoCiAgICAgICAgICAgICAgICBbMTIuOTkzMTg3Niw3Ny41NzUzNDE5XSwKICAgICAgICAgICAgICAgIHsKICAiYnViYmxpbmdNb3VzZUV2ZW50cyI6IHRydWUsCiAgImNvbG9yIjogImJsdWUiLAogICJkYXNoQXJyYXkiOiBudWxsLAogICJkYXNoT2Zmc2V0IjogbnVsbCwKICAiZmlsbCI6IHRydWUsCiAgImZpbGxDb2xvciI6ICIjMzE4NmNjIiwKICAiZmlsbE9wYWNpdHkiOiAwLjcsCiAgImZpbGxSdWxlIjogImV2ZW5vZGQiLAogICJsaW5lQ2FwIjogInJvdW5kIiwKICAibGluZUpvaW4iOiAicm91bmQiLAogICJvcGFjaXR5IjogMS4wLAogICJyYWRpdXMiOiA1LAogICJzdHJva2UiOiB0cnVlLAogICJ3ZWlnaHQiOiAzCn0KICAgICAgICAgICAgICAgICkuYWRkVG8obWFwXzJhYzA0ODlkZjQ1ZjRmNmY5MmNmNmEyNjliNzdhMzAxKTsKICAgICAgICAgICAgCiAgICAKICAgICAgICAgICAgdmFyIHBvcHVwXzJjNTc2MTA2M2ZmZTQ2ZDQ4ZDc3NTNlNTMyMDhiMjMzID0gTC5wb3B1cCh7bWF4V2lkdGg6ICczMDAnfSk7CgogICAgICAgICAgICAKICAgICAgICAgICAgICAgIHZhciBodG1sX2Y5NjY0MjdlNDY2ODRlNjhiZmI5ZjkwODg0NGU1YzUyID0gJCgnPGRpdiBpZD0iaHRtbF9mOTY2NDI3ZTQ2Njg0ZTY4YmZiOWY5MDg4NDRlNWM1MiIgc3R5bGU9IndpZHRoOiAxMDAuMCU7IGhlaWdodDogMTAwLjAlOyI+U2VzaGFkcmlwdXJhbTwvZGl2PicpWzBdOwogICAgICAgICAgICAgICAgcG9wdXBfMmM1NzYxMDYzZmZlNDZkNDhkNzc1M2U1MzIwOGIyMzMuc2V0Q29udGVudChodG1sX2Y5NjY0MjdlNDY2ODRlNjhiZmI5ZjkwODg0NGU1YzUyKTsKICAgICAgICAgICAgCgogICAgICAgICAgICBjaXJjbGVfbWFya2VyXzE4NTBjMzE5OTY4YTRkYmFhZjk1NTkxNTIxNGIyZmQxLmJpbmRQb3B1cChwb3B1cF8yYzU3NjEwNjNmZmU0NmQ0OGQ3NzUzZTUzMjA4YjIzMyk7CgogICAgICAgICAgICAKICAgICAgICAKICAgIAogICAgICAgICAgICB2YXIgY2lyY2xlX21hcmtlcl8xZGZjMzUxNjZiMGM0OGM2YjQ5ZmI2N2Y1NTYzODE1YyA9IEwuY2lyY2xlTWFya2VyKAogICAgICAgICAgICAgICAgWzEyLjk5ODgxMTYsNzcuNTk3NTc4OV0sCiAgICAgICAgICAgICAgICB7CiAgImJ1YmJsaW5nTW91c2VFdmVudHMiOiB0cnVlLAogICJjb2xvciI6ICJibHVlIiwKICAiZGFzaEFycmF5IjogbnVsbCwKICAiZGFzaE9mZnNldCI6IG51bGwsCiAgImZpbGwiOiB0cnVlLAogICJmaWxsQ29sb3IiOiAiIzMxODZjYyIsCiAgImZpbGxPcGFjaXR5IjogMC43LAogICJmaWxsUnVsZSI6ICJldmVub2RkIiwKICAibGluZUNhcCI6ICJyb3VuZCIsCiAgImxpbmVKb2luIjogInJvdW5kIiwKICAib3BhY2l0eSI6IDEuMCwKICAicmFkaXVzIjogNSwKICAic3Ryb2tlIjogdHJ1ZSwKICAid2VpZ2h0IjogMwp9CiAgICAgICAgICAgICAgICApLmFkZFRvKG1hcF8yYWMwNDg5ZGY0NWY0ZjZmOTJjZjZhMjY5Yjc3YTMwMSk7CiAgICAgICAgICAgIAogICAgCiAgICAgICAgICAgIHZhciBwb3B1cF80NDVhODAxNzQyOGM0YjZkODBiYmJmYzM3MzNhOTVjMSA9IEwucG9wdXAoe21heFdpZHRoOiAnMzAwJ30pOwoKICAgICAgICAgICAgCiAgICAgICAgICAgICAgICB2YXIgaHRtbF8xMjk0MWE1N2I4OWM0NmFkYjVjZGQzZjA3NjY2ZGM1MSA9ICQoJzxkaXYgaWQ9Imh0bWxfMTI5NDFhNTdiODljNDZhZGI1Y2RkM2YwNzY2NmRjNTEiIHN0eWxlPSJ3aWR0aDogMTAwLjAlOyBoZWlnaHQ6IDEwMC4wJTsiPkpheWFtYWhhbDwvZGl2PicpWzBdOwogICAgICAgICAgICAgICAgcG9wdXBfNDQ1YTgwMTc0MjhjNGI2ZDgwYmJiZmMzNzMzYTk1YzEuc2V0Q29udGVudChodG1sXzEyOTQxYTU3Yjg5YzQ2YWRiNWNkZDNmMDc2NjZkYzUxKTsKICAgICAgICAgICAgCgogICAgICAgICAgICBjaXJjbGVfbWFya2VyXzFkZmMzNTE2NmIwYzQ4YzZiNDlmYjY3ZjU1NjM4MTVjLmJpbmRQb3B1cChwb3B1cF80NDVhODAxNzQyOGM0YjZkODBiYmJmYzM3MzNhOTVjMSk7CgogICAgICAgICAgICAKICAgICAgICAKICAgIAogICAgICAgICAgICB2YXIgY2lyY2xlX21hcmtlcl84Zjg4YjVlYzUyNDU0MmFhOTMyN2ZkOTYzMTI4NTgxYiA9IEwuY2lyY2xlTWFya2VyKAogICAgICAgICAgICAgICAgWzEzLjAwMjIzMDksNzcuNjEyMTMyOV0sCiAgICAgICAgICAgICAgICB7CiAgImJ1YmJsaW5nTW91c2VFdmVudHMiOiB0cnVlLAogICJjb2xvciI6ICJibHVlIiwKICAiZGFzaEFycmF5IjogbnVsbCwKICAiZGFzaE9mZnNldCI6IG51bGwsCiAgImZpbGwiOiB0cnVlLAogICJmaWxsQ29sb3IiOiAiIzMxODZjYyIsCiAgImZpbGxPcGFjaXR5IjogMC43LAogICJmaWxsUnVsZSI6ICJldmVub2RkIiwKICAibGluZUNhcCI6ICJyb3VuZCIsCiAgImxpbmVKb2luIjogInJvdW5kIiwKICAib3BhY2l0eSI6IDEuMCwKICAicmFkaXVzIjogNSwKICAic3Ryb2tlIjogdHJ1ZSwKICAid2VpZ2h0IjogMwp9CiAgICAgICAgICAgICAgICApLmFkZFRvKG1hcF8yYWMwNDg5ZGY0NWY0ZjZmOTJjZjZhMjY5Yjc3YTMwMSk7CiAgICAgICAgICAgIAogICAgCiAgICAgICAgICAgIHZhciBwb3B1cF80ZWJmZDNkZDlhYmI0ODc1YjdkNDhlMzUxZjFjZTYwNSA9IEwucG9wdXAoe21heFdpZHRoOiAnMzAwJ30pOwoKICAgICAgICAgICAgCiAgICAgICAgICAgICAgICB2YXIgaHRtbF8yNTBmYjg5NWMwNjU0MTFlOTJhMzJiYTVlZDE0NWM2NiA9ICQoJzxkaXYgaWQ9Imh0bWxfMjUwZmI4OTVjMDY1NDExZTkyYTMyYmE1ZWQxNDVjNjYiIHN0eWxlPSJ3aWR0aDogMTAwLjAlOyBoZWlnaHQ6IDEwMC4wJTsiPlRhbm5lcnkgUmQ8L2Rpdj4nKVswXTsKICAgICAgICAgICAgICAgIHBvcHVwXzRlYmZkM2RkOWFiYjQ4NzViN2Q0OGUzNTFmMWNlNjA1LnNldENvbnRlbnQoaHRtbF8yNTBmYjg5NWMwNjU0MTFlOTJhMzJiYTVlZDE0NWM2Nik7CiAgICAgICAgICAgIAoKICAgICAgICAgICAgY2lyY2xlX21hcmtlcl84Zjg4YjVlYzUyNDU0MmFhOTMyN2ZkOTYzMTI4NTgxYi5iaW5kUG9wdXAocG9wdXBfNGViZmQzZGQ5YWJiNDg3NWI3ZDQ4ZTM1MWYxY2U2MDUpOwoKICAgICAgICAgICAgCiAgICAgICAgCiAgICAKICAgICAgICAgICAgdmFyIGNpcmNsZV9tYXJrZXJfNDZhNDliMGI3NWFlNGQ3Nzk5MmRmYzA5MGRjNjg5MWUgPSBMLmNpcmNsZU1hcmtlcigKICAgICAgICAgICAgICAgIFsxMy4wMDQyMTYsNzcuNjE1ODA0OF0sCiAgICAgICAgICAgICAgICB7CiAgImJ1YmJsaW5nTW91c2VFdmVudHMiOiB0cnVlLAogICJjb2xvciI6ICJibHVlIiwKICAiZGFzaEFycmF5IjogbnVsbCwKICAiZGFzaE9mZnNldCI6IG51bGwsCiAgImZpbGwiOiB0cnVlLAogICJmaWxsQ29sb3IiOiAiIzMxODZjYyIsCiAgImZpbGxPcGFjaXR5IjogMC43LAogICJmaWxsUnVsZSI6ICJldmVub2RkIiwKICAibGluZUNhcCI6ICJyb3VuZCIsCiAgImxpbmVKb2luIjogInJvdW5kIiwKICAib3BhY2l0eSI6IDEuMCwKICAicmFkaXVzIjogNSwKICAic3Ryb2tlIjogdHJ1ZSwKICAid2VpZ2h0IjogMwp9CiAgICAgICAgICAgICAgICApLmFkZFRvKG1hcF8yYWMwNDg5ZGY0NWY0ZjZmOTJjZjZhMjY5Yjc3YTMwMSk7CiAgICAgICAgICAgIAogICAgCiAgICAgICAgICAgIHZhciBwb3B1cF81ZTk4NDFjZTc5MmU0MmVkYjE0ODRkYjNmZmUzZGM3YiA9IEwucG9wdXAoe21heFdpZHRoOiAnMzAwJ30pOwoKICAgICAgICAgICAgCiAgICAgICAgICAgICAgICB2YXIgaHRtbF9mNjI5NDQxZTUzZTg0MmU4YmE3M2E1YTQ5MzQ2YTVhZSA9ICQoJzxkaXYgaWQ9Imh0bWxfZjYyOTQ0MWU1M2U4NDJlOGJhNzNhNWE0OTM0NmE1YWUiIHN0eWxlPSJ3aWR0aDogMTAwLjAlOyBoZWlnaHQ6IDEwMC4wJTsiPlJpY2hhcmRzIFRvd248L2Rpdj4nKVswXTsKICAgICAgICAgICAgICAgIHBvcHVwXzVlOTg0MWNlNzkyZTQyZWRiMTQ4NGRiM2ZmZTNkYzdiLnNldENvbnRlbnQoaHRtbF9mNjI5NDQxZTUzZTg0MmU4YmE3M2E1YTQ5MzQ2YTVhZSk7CiAgICAgICAgICAgIAoKICAgICAgICAgICAgY2lyY2xlX21hcmtlcl80NmE0OWIwYjc1YWU0ZDc3OTkyZGZjMDkwZGM2ODkxZS5iaW5kUG9wdXAocG9wdXBfNWU5ODQxY2U3OTJlNDJlZGIxNDg0ZGIzZmZlM2RjN2IpOwoKICAgICAgICAgICAgCiAgICAgICAgCiAgICAKICAgICAgICAgICAgdmFyIGNpcmNsZV9tYXJrZXJfNzA1OThjZjUyMzQ0NDg2MGFhMTEyYTgxNzc2Y2U1NWUgPSBMLmNpcmNsZU1hcmtlcigKICAgICAgICAgICAgICAgIFsxMy4wMDg3NDM4LDc3LjYyMjE1MTJdLAogICAgICAgICAgICAgICAgewogICJidWJibGluZ01vdXNlRXZlbnRzIjogdHJ1ZSwKICAiY29sb3IiOiAiYmx1ZSIsCiAgImRhc2hBcnJheSI6IG51bGwsCiAgImRhc2hPZmZzZXQiOiBudWxsLAogICJmaWxsIjogdHJ1ZSwKICAiZmlsbENvbG9yIjogIiMzMTg2Y2MiLAogICJmaWxsT3BhY2l0eSI6IDAuNywKICAiZmlsbFJ1bGUiOiAiZXZlbm9kZCIsCiAgImxpbmVDYXAiOiAicm91bmQiLAogICJsaW5lSm9pbiI6ICJyb3VuZCIsCiAgIm9wYWNpdHkiOiAxLjAsCiAgInJhZGl1cyI6IDUsCiAgInN0cm9rZSI6IHRydWUsCiAgIndlaWdodCI6IDMKfQogICAgICAgICAgICAgICAgKS5hZGRUbyhtYXBfMmFjMDQ4OWRmNDVmNGY2ZjkyY2Y2YTI2OWI3N2EzMDEpOwogICAgICAgICAgICAKICAgIAogICAgICAgICAgICB2YXIgcG9wdXBfZDVjMzgwNDNhNjRkNGJkMWI0ZWQ1YjQ3NDUyNjUxOTYgPSBMLnBvcHVwKHttYXhXaWR0aDogJzMwMCd9KTsKCiAgICAgICAgICAgIAogICAgICAgICAgICAgICAgdmFyIGh0bWxfYTIyMTJkN2RkNmIwNDdjMTg0NDRlNWU3Yjg5ODllZjQgPSAkKCc8ZGl2IGlkPSJodG1sX2EyMjEyZDdkZDZiMDQ3YzE4NDQ0ZTVlN2I4OTg5ZWY0IiBzdHlsZT0id2lkdGg6IDEwMC4wJTsgaGVpZ2h0OiAxMDAuMCU7Ij5MaW5nYXJhanB1cmFtPC9kaXY+JylbMF07CiAgICAgICAgICAgICAgICBwb3B1cF9kNWMzODA0M2E2NGQ0YmQxYjRlZDViNDc0NTI2NTE5Ni5zZXRDb250ZW50KGh0bWxfYTIyMTJkN2RkNmIwNDdjMTg0NDRlNWU3Yjg5ODllZjQpOwogICAgICAgICAgICAKCiAgICAgICAgICAgIGNpcmNsZV9tYXJrZXJfNzA1OThjZjUyMzQ0NDg2MGFhMTEyYTgxNzc2Y2U1NWUuYmluZFBvcHVwKHBvcHVwX2Q1YzM4MDQzYTY0ZDRiZDFiNGVkNWI0NzQ1MjY1MTk2KTsKCiAgICAgICAgICAgIAogICAgICAgIAogICAgCiAgICAgICAgICAgIHZhciBjaXJjbGVfbWFya2VyXzc5OWViM2Q0NjUyOTQyNDI5ZGFiNTYyMDlkMDUwMTkyID0gTC5jaXJjbGVNYXJrZXIoCiAgICAgICAgICAgICAgICBbMTIuOTA3NTkwNiw3Ny43OTcxNzc5XSwKICAgICAgICAgICAgICAgIHsKICAiYnViYmxpbmdNb3VzZUV2ZW50cyI6IHRydWUsCiAgImNvbG9yIjogImJsdWUiLAogICJkYXNoQXJyYXkiOiBudWxsLAogICJkYXNoT2Zmc2V0IjogbnVsbCwKICAiZmlsbCI6IHRydWUsCiAgImZpbGxDb2xvciI6ICIjMzE4NmNjIiwKICAiZmlsbE9wYWNpdHkiOiAwLjcsCiAgImZpbGxSdWxlIjogImV2ZW5vZGQiLAogICJsaW5lQ2FwIjogInJvdW5kIiwKICAibGluZUpvaW4iOiAicm91bmQiLAogICJvcGFjaXR5IjogMS4wLAogICJyYWRpdXMiOiA1LAogICJzdHJva2UiOiB0cnVlLAogICJ3ZWlnaHQiOiAzCn0KICAgICAgICAgICAgICAgICkuYWRkVG8obWFwXzJhYzA0ODlkZjQ1ZjRmNmY5MmNmNmEyNjliNzdhMzAxKTsKICAgICAgICAgICAgCiAgICAKICAgICAgICAgICAgdmFyIHBvcHVwXzVlMTFlMDNjY2QxZDRkNzFhMjkzMjRkMDBlZDc4ZjhkID0gTC5wb3B1cCh7bWF4V2lkdGg6ICczMDAnfSk7CgogICAgICAgICAgICAKICAgICAgICAgICAgICAgIHZhciBodG1sX2E1OTM1YTY2MWJkYjRkNTI5MmZmNjJjYzFmYjk3ODJkID0gJCgnPGRpdiBpZD0iaHRtbF9hNTkzNWE2NjFiZGI0ZDUyOTJmZjYyY2MxZmI5NzgyZCIgc3R5bGU9IndpZHRoOiAxMDAuMCU7IGhlaWdodDogMTAwLjAlOyI+S2FtYW5haGFsbGk8L2Rpdj4nKVswXTsKICAgICAgICAgICAgICAgIHBvcHVwXzVlMTFlMDNjY2QxZDRkNzFhMjkzMjRkMDBlZDc4ZjhkLnNldENvbnRlbnQoaHRtbF9hNTkzNWE2NjFiZGI0ZDUyOTJmZjYyY2MxZmI5NzgyZCk7CiAgICAgICAgICAgIAoKICAgICAgICAgICAgY2lyY2xlX21hcmtlcl83OTllYjNkNDY1Mjk0MjQyOWRhYjU2MjA5ZDA1MDE5Mi5iaW5kUG9wdXAocG9wdXBfNWUxMWUwM2NjZDFkNGQ3MWEyOTMyNGQwMGVkNzhmOGQpOwoKICAgICAgICAgICAgCiAgICAgICAgCiAgICAKICAgICAgICAgICAgdmFyIGNpcmNsZV9tYXJrZXJfNGFhM2IyYzZjY2Y5NDMxZmI4ZDk2NjFiMjc3Zjg4ODcgPSBMLmNpcmNsZU1hcmtlcigKICAgICAgICAgICAgICAgIFsxMy4wMTk5NTc4NSw3Ny42MzM5NDgyNTAzMTM0MV0sCiAgICAgICAgICAgICAgICB7CiAgImJ1YmJsaW5nTW91c2VFdmVudHMiOiB0cnVlLAogICJjb2xvciI6ICJibHVlIiwKICAiZGFzaEFycmF5IjogbnVsbCwKICAiZGFzaE9mZnNldCI6IG51bGwsCiAgImZpbGwiOiB0cnVlLAogICJmaWxsQ29sb3IiOiAiIzMxODZjYyIsCiAgImZpbGxPcGFjaXR5IjogMC43LAogICJmaWxsUnVsZSI6ICJldmVub2RkIiwKICAibGluZUNhcCI6ICJyb3VuZCIsCiAgImxpbmVKb2luIjogInJvdW5kIiwKICAib3BhY2l0eSI6IDEuMCwKICAicmFkaXVzIjogNSwKICAic3Ryb2tlIjogdHJ1ZSwKICAid2VpZ2h0IjogMwp9CiAgICAgICAgICAgICAgICApLmFkZFRvKG1hcF8yYWMwNDg5ZGY0NWY0ZjZmOTJjZjZhMjY5Yjc3YTMwMSk7CiAgICAgICAgICAgIAogICAgCiAgICAgICAgICAgIHZhciBwb3B1cF9hOGU5NWVhZDdjMjU0YjY4YmE3MjRkYzNiN2MxM2FlNiA9IEwucG9wdXAoe21heFdpZHRoOiAnMzAwJ30pOwoKICAgICAgICAgICAgCiAgICAgICAgICAgICAgICB2YXIgaHRtbF80ZGIyMTJlYTQxOTM0YzQwOGZjMGU4MWI1MTA1NmRjZSA9ICQoJzxkaXYgaWQ9Imh0bWxfNGRiMjEyZWE0MTkzNGM0MDhmYzBlODFiNTEwNTZkY2UiIHN0eWxlPSJ3aWR0aDogMTAwLjAlOyBoZWlnaHQ6IDEwMC4wJTsiPkthY2hhcmthbmFoYWxsaTwvZGl2PicpWzBdOwogICAgICAgICAgICAgICAgcG9wdXBfYThlOTVlYWQ3YzI1NGI2OGJhNzI0ZGMzYjdjMTNhZTYuc2V0Q29udGVudChodG1sXzRkYjIxMmVhNDE5MzRjNDA4ZmMwZTgxYjUxMDU2ZGNlKTsKICAgICAgICAgICAgCgogICAgICAgICAgICBjaXJjbGVfbWFya2VyXzRhYTNiMmM2Y2NmOTQzMWZiOGQ5NjYxYjI3N2Y4ODg3LmJpbmRQb3B1cChwb3B1cF9hOGU5NWVhZDdjMjU0YjY4YmE3MjRkYzNiN2MxM2FlNik7CgogICAgICAgICAgICAKICAgICAgICAKICAgIAogICAgICAgICAgICB2YXIgY2lyY2xlX21hcmtlcl9hNTNiZGUxYmUwYTQ0MGYxOGJlZDJmY2FjY2Q5NTM2ZSA9IEwuY2lyY2xlTWFya2VyKAogICAgICAgICAgICAgICAgWzEzLjAzNTg2OTgsNzcuNjMyMzU5N10sCiAgICAgICAgICAgICAgICB7CiAgImJ1YmJsaW5nTW91c2VFdmVudHMiOiB0cnVlLAogICJjb2xvciI6ICJibHVlIiwKICAiZGFzaEFycmF5IjogbnVsbCwKICAiZGFzaE9mZnNldCI6IG51bGwsCiAgImZpbGwiOiB0cnVlLAogICJmaWxsQ29sb3IiOiAiIzMxODZjYyIsCiAgImZpbGxPcGFjaXR5IjogMC43LAogICJmaWxsUnVsZSI6ICJldmVub2RkIiwKICAibGluZUNhcCI6ICJyb3VuZCIsCiAgImxpbmVKb2luIjogInJvdW5kIiwKICAib3BhY2l0eSI6IDEuMCwKICAicmFkaXVzIjogNSwKICAic3Ryb2tlIjogdHJ1ZSwKICAid2VpZ2h0IjogMwp9CiAgICAgICAgICAgICAgICApLmFkZFRvKG1hcF8yYWMwNDg5ZGY0NWY0ZjZmOTJjZjZhMjY5Yjc3YTMwMSk7CiAgICAgICAgICAgIAogICAgCiAgICAgICAgICAgIHZhciBwb3B1cF9iMDk0YTE0MTkyYjk0ODhlYmI3MmI5ZTdkNWY2MGJmYSA9IEwucG9wdXAoe21heFdpZHRoOiAnMzAwJ30pOwoKICAgICAgICAgICAgCiAgICAgICAgICAgICAgICB2YXIgaHRtbF82Zjc0MWRhNzNmYWU0YTliOTQyZTIyY2MxNjM5MDk4MyA9ICQoJzxkaXYgaWQ9Imh0bWxfNmY3NDFkYTczZmFlNGE5Yjk0MmUyMmNjMTYzOTA5ODMiIHN0eWxlPSJ3aWR0aDogMTAwLjAlOyBoZWlnaHQ6IDEwMC4wJTsiPkhCUjwvZGl2PicpWzBdOwogICAgICAgICAgICAgICAgcG9wdXBfYjA5NGExNDE5MmI5NDg4ZWJiNzJiOWU3ZDVmNjBiZmEuc2V0Q29udGVudChodG1sXzZmNzQxZGE3M2ZhZTRhOWI5NDJlMjJjYzE2MzkwOTgzKTsKICAgICAgICAgICAgCgogICAgICAgICAgICBjaXJjbGVfbWFya2VyX2E1M2JkZTFiZTBhNDQwZjE4YmVkMmZjYWNjZDk1MzZlLmJpbmRQb3B1cChwb3B1cF9iMDk0YTE0MTkyYjk0ODhlYmI3MmI5ZTdkNWY2MGJmYSk7CgogICAgICAgICAgICAKICAgICAgICAKICAgIAogICAgICAgICAgICB2YXIgY2lyY2xlX21hcmtlcl81NzlkNWI2YjI2N2Y0ZmNmYWRhNmVkY2U1ZmE0Mzc2NCA9IEwuY2lyY2xlTWFya2VyKAogICAgICAgICAgICAgICAgWzEzLjAyNTE4NjMsNzcuNjM0MDA3OF0sCiAgICAgICAgICAgICAgICB7CiAgImJ1YmJsaW5nTW91c2VFdmVudHMiOiB0cnVlLAogICJjb2xvciI6ICJibHVlIiwKICAiZGFzaEFycmF5IjogbnVsbCwKICAiZGFzaE9mZnNldCI6IG51bGwsCiAgImZpbGwiOiB0cnVlLAogICJmaWxsQ29sb3IiOiAiIzMxODZjYyIsCiAgImZpbGxPcGFjaXR5IjogMC43LAogICJmaWxsUnVsZSI6ICJldmVub2RkIiwKICAibGluZUNhcCI6ICJyb3VuZCIsCiAgImxpbmVKb2luIjogInJvdW5kIiwKICAib3BhY2l0eSI6IDEuMCwKICAicmFkaXVzIjogNSwKICAic3Ryb2tlIjogdHJ1ZSwKICAid2VpZ2h0IjogMwp9CiAgICAgICAgICAgICAgICApLmFkZFRvKG1hcF8yYWMwNDg5ZGY0NWY0ZjZmOTJjZjZhMjY5Yjc3YTMwMSk7CiAgICAgICAgICAgIAogICAgCiAgICAgICAgICAgIHZhciBwb3B1cF80MWFmMjgyYzBkNjU0ZDJhOTQxMDM2NDZiZDAxNDkzMiA9IEwucG9wdXAoe21heFdpZHRoOiAnMzAwJ30pOwoKICAgICAgICAgICAgCiAgICAgICAgICAgICAgICB2YXIgaHRtbF80YjBhYWU5YWVhMjY0NmM3YWFhNDBmNTA4NzE5Y2RhZiA9ICQoJzxkaXYgaWQ9Imh0bWxfNGIwYWFlOWFlYTI2NDZjN2FhYTQwZjUwODcxOWNkYWYiIHN0eWxlPSJ3aWR0aDogMTAwLjAlOyBoZWlnaHQ6IDEwMC4wJTsiPkhSQlI8L2Rpdj4nKVswXTsKICAgICAgICAgICAgICAgIHBvcHVwXzQxYWYyODJjMGQ2NTRkMmE5NDEwMzY0NmJkMDE0OTMyLnNldENvbnRlbnQoaHRtbF80YjBhYWU5YWVhMjY0NmM3YWFhNDBmNTA4NzE5Y2RhZik7CiAgICAgICAgICAgIAoKICAgICAgICAgICAgY2lyY2xlX21hcmtlcl81NzlkNWI2YjI2N2Y0ZmNmYWRhNmVkY2U1ZmE0Mzc2NC5iaW5kUG9wdXAocG9wdXBfNDFhZjI4MmMwZDY1NGQyYTk0MTAzNjQ2YmQwMTQ5MzIpOwoKICAgICAgICAgICAgCiAgICAgICAgCiAgICAKICAgICAgICAgICAgdmFyIGNpcmNsZV9tYXJrZXJfMjY5M2EzZTI2NWRiNGE0MzhlODM4MzYyMGJjMDkwODMgPSBMLmNpcmNsZU1hcmtlcigKICAgICAgICAgICAgICAgIFsxMy4wMjIxNDE2LDc3LjY0MDMzNjhdLAogICAgICAgICAgICAgICAgewogICJidWJibGluZ01vdXNlRXZlbnRzIjogdHJ1ZSwKICAiY29sb3IiOiAiYmx1ZSIsCiAgImRhc2hBcnJheSI6IG51bGwsCiAgImRhc2hPZmZzZXQiOiBudWxsLAogICJmaWxsIjogdHJ1ZSwKICAiZmlsbENvbG9yIjogIiMzMTg2Y2MiLAogICJmaWxsT3BhY2l0eSI6IDAuNywKICAiZmlsbFJ1bGUiOiAiZXZlbm9kZCIsCiAgImxpbmVDYXAiOiAicm91bmQiLAogICJsaW5lSm9pbiI6ICJyb3VuZCIsCiAgIm9wYWNpdHkiOiAxLjAsCiAgInJhZGl1cyI6IDUsCiAgInN0cm9rZSI6IHRydWUsCiAgIndlaWdodCI6IDMKfQogICAgICAgICAgICAgICAgKS5hZGRUbyhtYXBfMmFjMDQ4OWRmNDVmNGY2ZjkyY2Y2YTI2OWI3N2EzMDEpOwogICAgICAgICAgICAKICAgIAogICAgICAgICAgICB2YXIgcG9wdXBfNzhkYjI1NDRhMjE5NDY3OWE3YjhkZTk4ZDEwNzRmM2UgPSBMLnBvcHVwKHttYXhXaWR0aDogJzMwMCd9KTsKCiAgICAgICAgICAgIAogICAgICAgICAgICAgICAgdmFyIGh0bWxfMzc0NTg5MzMzNzhlNGY2M2JhZDZkOWJjMDVmNjRjOTkgPSAkKCc8ZGl2IGlkPSJodG1sXzM3NDU4OTMzMzc4ZTRmNjNiYWQ2ZDliYzA1ZjY0Yzk5IiBzdHlsZT0id2lkdGg6IDEwMC4wJTsgaGVpZ2h0OiAxMDAuMCU7Ij5LYWx5YW4gbmFnYXI8L2Rpdj4nKVswXTsKICAgICAgICAgICAgICAgIHBvcHVwXzc4ZGIyNTQ0YTIxOTQ2NzlhN2I4ZGU5OGQxMDc0ZjNlLnNldENvbnRlbnQoaHRtbF8zNzQ1ODkzMzM3OGU0ZjYzYmFkNmQ5YmMwNWY2NGM5OSk7CiAgICAgICAgICAgIAoKICAgICAgICAgICAgY2lyY2xlX21hcmtlcl8yNjkzYTNlMjY1ZGI0YTQzOGU4MzgzNjIwYmMwOTA4My5iaW5kUG9wdXAocG9wdXBfNzhkYjI1NDRhMjE5NDY3OWE3YjhkZTk4ZDEwNzRmM2UpOwoKICAgICAgICAgICAgCiAgICAgICAgCiAgICAKICAgICAgICAgICAgdmFyIGNpcmNsZV9tYXJrZXJfYTIxZDc1ZTAzNmMxNDg4MGJiMzAzMzNkYTAzY2Y4OTMgPSBMLmNpcmNsZU1hcmtlcigKICAgICAgICAgICAgICAgIFsxMy4wMTQxNjE4LDc3LjY1MTg1MzldLAogICAgICAgICAgICAgICAgewogICJidWJibGluZ01vdXNlRXZlbnRzIjogdHJ1ZSwKICAiY29sb3IiOiAiYmx1ZSIsCiAgImRhc2hBcnJheSI6IG51bGwsCiAgImRhc2hPZmZzZXQiOiBudWxsLAogICJmaWxsIjogdHJ1ZSwKICAiZmlsbENvbG9yIjogIiMzMTg2Y2MiLAogICJmaWxsT3BhY2l0eSI6IDAuNywKICAiZmlsbFJ1bGUiOiAiZXZlbm9kZCIsCiAgImxpbmVDYXAiOiAicm91bmQiLAogICJsaW5lSm9pbiI6ICJyb3VuZCIsCiAgIm9wYWNpdHkiOiAxLjAsCiAgInJhZGl1cyI6IDUsCiAgInN0cm9rZSI6IHRydWUsCiAgIndlaWdodCI6IDMKfQogICAgICAgICAgICAgICAgKS5hZGRUbyhtYXBfMmFjMDQ4OWRmNDVmNGY2ZjkyY2Y2YTI2OWI3N2EzMDEpOwogICAgICAgICAgICAKICAgIAogICAgICAgICAgICB2YXIgcG9wdXBfOTRkM2M5OTQ0OWQzNDBiNGE5MWUyMWQ1ZDIwZGM2OGUgPSBMLnBvcHVwKHttYXhXaWR0aDogJzMwMCd9KTsKCiAgICAgICAgICAgIAogICAgICAgICAgICAgICAgdmFyIGh0bWxfN2ZiN2NlOGEwMzBlNDAwMzliMGJjY2E5NmRiYTk3NWUgPSAkKCc8ZGl2IGlkPSJodG1sXzdmYjdjZThhMDMwZTQwMDM5YjBiY2NhOTZkYmE5NzVlIiBzdHlsZT0id2lkdGg6IDEwMC4wJTsgaGVpZ2h0OiAxMDAuMCU7Ij5CYW5hc3dhZGk8L2Rpdj4nKVswXTsKICAgICAgICAgICAgICAgIHBvcHVwXzk0ZDNjOTk0NDlkMzQwYjRhOTFlMjFkNWQyMGRjNjhlLnNldENvbnRlbnQoaHRtbF83ZmI3Y2U4YTAzMGU0MDAzOWIwYmNjYTk2ZGJhOTc1ZSk7CiAgICAgICAgICAgIAoKICAgICAgICAgICAgY2lyY2xlX21hcmtlcl9hMjFkNzVlMDM2YzE0ODgwYmIzMDMzM2RhMDNjZjg5My5iaW5kUG9wdXAocG9wdXBfOTRkM2M5OTQ0OWQzNDBiNGE5MWUyMWQ1ZDIwZGM2OGUpOwoKICAgICAgICAgICAgCiAgICAgICAgCiAgICAKICAgICAgICAgICAgdmFyIGNpcmNsZV9tYXJrZXJfYWExNWI5NDZjNzI2NDFlOThlMDgwZmZlYzRiNTQ2M2QgPSBMLmNpcmNsZU1hcmtlcigKICAgICAgICAgICAgICAgIFsxMy4wMjU4MDg3LDc3LjYzMDUwNjddLAogICAgICAgICAgICAgICAgewogICJidWJibGluZ01vdXNlRXZlbnRzIjogdHJ1ZSwKICAiY29sb3IiOiAiYmx1ZSIsCiAgImRhc2hBcnJheSI6IG51bGwsCiAgImRhc2hPZmZzZXQiOiBudWxsLAogICJmaWxsIjogdHJ1ZSwKICAiZmlsbENvbG9yIjogIiMzMTg2Y2MiLAogICJmaWxsT3BhY2l0eSI6IDAuNywKICAiZmlsbFJ1bGUiOiAiZXZlbm9kZCIsCiAgImxpbmVDYXAiOiAicm91bmQiLAogICJsaW5lSm9pbiI6ICJyb3VuZCIsCiAgIm9wYWNpdHkiOiAxLjAsCiAgInJhZGl1cyI6IDUsCiAgInN0cm9rZSI6IHRydWUsCiAgIndlaWdodCI6IDMKfQogICAgICAgICAgICAgICAgKS5hZGRUbyhtYXBfMmFjMDQ4OWRmNDVmNGY2ZjkyY2Y2YTI2OWI3N2EzMDEpOwogICAgICAgICAgICAKICAgIAogICAgICAgICAgICB2YXIgcG9wdXBfMjg4MTU1ZDQxOGU0NDBjNzkyMzE4YjhjZWQwMGJjMTUgPSBMLnBvcHVwKHttYXhXaWR0aDogJzMwMCd9KTsKCiAgICAgICAgICAgIAogICAgICAgICAgICAgICAgdmFyIGh0bWxfMzc5ZjI0NWViMzlkNGI2MWFhYzM2NWQ4NTk4MjIxYmQgPSAkKCc8ZGl2IGlkPSJodG1sXzM3OWYyNDVlYjM5ZDRiNjFhYWMzNjVkODU5ODIyMWJkIiBzdHlsZT0id2lkdGg6IDEwMC4wJTsgaGVpZ2h0OiAxMDAuMCU7Ij5IZW5udXIgUmQ8L2Rpdj4nKVswXTsKICAgICAgICAgICAgICAgIHBvcHVwXzI4ODE1NWQ0MThlNDQwYzc5MjMxOGI4Y2VkMDBiYzE1LnNldENvbnRlbnQoaHRtbF8zNzlmMjQ1ZWIzOWQ0YjYxYWFjMzY1ZDg1OTgyMjFiZCk7CiAgICAgICAgICAgIAoKICAgICAgICAgICAgY2lyY2xlX21hcmtlcl9hYTE1Yjk0NmM3MjY0MWU5OGUwODBmZmVjNGI1NDYzZC5iaW5kUG9wdXAocG9wdXBfMjg4MTU1ZDQxOGU0NDBjNzkyMzE4YjhjZWQwMGJjMTUpOwoKICAgICAgICAgICAgCiAgICAgICAgCiAgICAKICAgICAgICAgICAgdmFyIGNpcmNsZV9tYXJrZXJfMjBmODg0MDQ4NGM2NDU5YWI2MGFmZjk4M2U2OWZmZmEgPSBMLmNpcmNsZU1hcmtlcigKICAgICAgICAgICAgICAgIFsxMi45MjYzMTAyLDc3LjU0ODQzMTldLAogICAgICAgICAgICAgICAgewogICJidWJibGluZ01vdXNlRXZlbnRzIjogdHJ1ZSwKICAiY29sb3IiOiAiYmx1ZSIsCiAgImRhc2hBcnJheSI6IG51bGwsCiAgImRhc2hPZmZzZXQiOiBudWxsLAogICJmaWxsIjogdHJ1ZSwKICAiZmlsbENvbG9yIjogIiMzMTg2Y2MiLAogICJmaWxsT3BhY2l0eSI6IDAuNywKICAiZmlsbFJ1bGUiOiAiZXZlbm9kZCIsCiAgImxpbmVDYXAiOiAicm91bmQiLAogICJsaW5lSm9pbiI6ICJyb3VuZCIsCiAgIm9wYWNpdHkiOiAxLjAsCiAgInJhZGl1cyI6IDUsCiAgInN0cm9rZSI6IHRydWUsCiAgIndlaWdodCI6IDMKfQogICAgICAgICAgICAgICAgKS5hZGRUbyhtYXBfMmFjMDQ4OWRmNDVmNGY2ZjkyY2Y2YTI2OWI3N2EzMDEpOwogICAgICAgICAgICAKICAgIAogICAgICAgICAgICB2YXIgcG9wdXBfMTk2ZjA3MWRiMmZiNDZjNmFlYTU4OWRkNWQxMjljOGMgPSBMLnBvcHVwKHttYXhXaWR0aDogJzMwMCd9KTsKCiAgICAgICAgICAgIAogICAgICAgICAgICAgICAgdmFyIGh0bWxfMDYyODMxOGY0ZTZiNDk1YjljN2MwNzlmYmNiYmFmZDQgPSAkKCc8ZGl2IGlkPSJodG1sXzA2MjgzMThmNGU2YjQ5NWI5YzdjMDc5ZmJjYmJhZmQ0IiBzdHlsZT0id2lkdGg6IDEwMC4wJTsgaGVpZ2h0OiAxMDAuMCU7Ij5PdXRlciBSaW5nIFJvYWQ8L2Rpdj4nKVswXTsKICAgICAgICAgICAgICAgIHBvcHVwXzE5NmYwNzFkYjJmYjQ2YzZhZWE1ODlkZDVkMTI5YzhjLnNldENvbnRlbnQoaHRtbF8wNjI4MzE4ZjRlNmI0OTViOWM3YzA3OWZiY2JiYWZkNCk7CiAgICAgICAgICAgIAoKICAgICAgICAgICAgY2lyY2xlX21hcmtlcl8yMGY4ODQwNDg0YzY0NTlhYjYwYWZmOTgzZTY5ZmZmYS5iaW5kUG9wdXAocG9wdXBfMTk2ZjA3MWRiMmZiNDZjNmFlYTU4OWRkNWQxMjljOGMpOwoKICAgICAgICAgICAgCiAgICAgICAgCiAgICAKICAgICAgICAgICAgdmFyIGNpcmNsZV9tYXJrZXJfNzQ2NDA2OWMzNmYwNDU5Mjk5NzViNDlkOWYxNWVmY2EgPSBMLmNpcmNsZU1hcmtlcigKICAgICAgICAgICAgICAgIFsxMi45NTQzNDQ4NSw3Ny42MjI2OTU0Nzg3ODE0Ml0sCiAgICAgICAgICAgICAgICB7CiAgImJ1YmJsaW5nTW91c2VFdmVudHMiOiB0cnVlLAogICJjb2xvciI6ICJibHVlIiwKICAiZGFzaEFycmF5IjogbnVsbCwKICAiZGFzaE9mZnNldCI6IG51bGwsCiAgImZpbGwiOiB0cnVlLAogICJmaWxsQ29sb3IiOiAiIzMxODZjYyIsCiAgImZpbGxPcGFjaXR5IjogMC43LAogICJmaWxsUnVsZSI6ICJldmVub2RkIiwKICAibGluZUNhcCI6ICJyb3VuZCIsCiAgImxpbmVKb2luIjogInJvdW5kIiwKICAib3BhY2l0eSI6IDEuMCwKICAicmFkaXVzIjogNSwKICAic3Ryb2tlIjogdHJ1ZSwKICAid2VpZ2h0IjogMwp9CiAgICAgICAgICAgICAgICApLmFkZFRvKG1hcF8yYWMwNDg5ZGY0NWY0ZjZmOTJjZjZhMjY5Yjc3YTMwMSk7CiAgICAgICAgICAgIAogICAgCiAgICAgICAgICAgIHZhciBwb3B1cF81YzRjMmM3OGMwMWU0MDBkOTRmODg1ODk0OTVhOTk1MCA9IEwucG9wdXAoe21heFdpZHRoOiAnMzAwJ30pOwoKICAgICAgICAgICAgCiAgICAgICAgICAgICAgICB2YXIgaHRtbF9lOWY0NzY1MmNmODQ0NDg2YThjNmQ5YTRlYTViMDI2NiA9ICQoJzxkaXYgaWQ9Imh0bWxfZTlmNDc2NTJjZjg0NDQ4NmE4YzZkOWE0ZWE1YjAyNjYiIHN0eWxlPSJ3aWR0aDogMTAwLjAlOyBoZWlnaHQ6IDEwMC4wJTsiPlZpdmVrbmFnYXI8L2Rpdj4nKVswXTsKICAgICAgICAgICAgICAgIHBvcHVwXzVjNGMyYzc4YzAxZTQwMGQ5NGY4ODU4OTQ5NWE5OTUwLnNldENvbnRlbnQoaHRtbF9lOWY0NzY1MmNmODQ0NDg2YThjNmQ5YTRlYTViMDI2Nik7CiAgICAgICAgICAgIAoKICAgICAgICAgICAgY2lyY2xlX21hcmtlcl83NDY0MDY5YzM2ZjA0NTkyOTk3NWI0OWQ5ZjE1ZWZjYS5iaW5kUG9wdXAocG9wdXBfNWM0YzJjNzhjMDFlNDAwZDk0Zjg4NTg5NDk1YTk5NTApOwoKICAgICAgICAgICAgCiAgICAgICAgCiAgICAKICAgICAgICAgICAgdmFyIGNpcmNsZV9tYXJrZXJfYTRlMGRhNDlkMGNkNDMyZmI1NDBmOTI2NjU2YzlkYTQgPSBMLmNpcmNsZU1hcmtlcigKICAgICAgICAgICAgICAgIFsxMi45Njc4MDc0LDc3LjY1NjgzNjddLAogICAgICAgICAgICAgICAgewogICJidWJibGluZ01vdXNlRXZlbnRzIjogdHJ1ZSwKICAiY29sb3IiOiAiYmx1ZSIsCiAgImRhc2hBcnJheSI6IG51bGwsCiAgImRhc2hPZmZzZXQiOiBudWxsLAogICJmaWxsIjogdHJ1ZSwKICAiZmlsbENvbG9yIjogIiMzMTg2Y2MiLAogICJmaWxsT3BhY2l0eSI6IDAuNywKICAiZmlsbFJ1bGUiOiAiZXZlbm9kZCIsCiAgImxpbmVDYXAiOiAicm91bmQiLAogICJsaW5lSm9pbiI6ICJyb3VuZCIsCiAgIm9wYWNpdHkiOiAxLjAsCiAgInJhZGl1cyI6IDUsCiAgInN0cm9rZSI6IHRydWUsCiAgIndlaWdodCI6IDMKfQogICAgICAgICAgICAgICAgKS5hZGRUbyhtYXBfMmFjMDQ4OWRmNDVmNGY2ZjkyY2Y2YTI2OWI3N2EzMDEpOwogICAgICAgICAgICAKICAgIAogICAgICAgICAgICB2YXIgcG9wdXBfYmQ5Njk3M2RmNmEzNDkzM2E3ZTI1NTQ4MGE5NzdhOTkgPSBMLnBvcHVwKHttYXhXaWR0aDogJzMwMCd9KTsKCiAgICAgICAgICAgIAogICAgICAgICAgICAgICAgdmFyIGh0bWxfOTk1NzQyMDlkOWVkNDRlMmJlYWExNThkOGRmMjc1M2EgPSAkKCc8ZGl2IGlkPSJodG1sXzk5NTc0MjA5ZDllZDQ0ZTJiZWFhMTU4ZDhkZjI3NTNhIiBzdHlsZT0id2lkdGg6IDEwMC4wJTsgaGVpZ2h0OiAxMDAuMCU7Ij5KZWV2YW4gQmhpbWEgTmFnYXI8L2Rpdj4nKVswXTsKICAgICAgICAgICAgICAgIHBvcHVwX2JkOTY5NzNkZjZhMzQ5MzNhN2UyNTU0ODBhOTc3YTk5LnNldENvbnRlbnQoaHRtbF85OTU3NDIwOWQ5ZWQ0NGUyYmVhYTE1OGQ4ZGYyNzUzYSk7CiAgICAgICAgICAgIAoKICAgICAgICAgICAgY2lyY2xlX21hcmtlcl9hNGUwZGE0OWQwY2Q0MzJmYjU0MGY5MjY2NTZjOWRhNC5iaW5kUG9wdXAocG9wdXBfYmQ5Njk3M2RmNmEzNDkzM2E3ZTI1NTQ4MGE5NzdhOTkpOwoKICAgICAgICAgICAgCiAgICAgICAgCiAgICAKICAgICAgICAgICAgdmFyIGNpcmNsZV9tYXJrZXJfNDYyODE1YjYzNDkzNDUzOTkyZTM2MDkwMGFmODhhNzYgPSBMLmNpcmNsZU1hcmtlcigKICAgICAgICAgICAgICAgIFsxMy4xODkyMzYzLDc3LjQ1NDUwMTNdLAogICAgICAgICAgICAgICAgewogICJidWJibGluZ01vdXNlRXZlbnRzIjogdHJ1ZSwKICAiY29sb3IiOiAiYmx1ZSIsCiAgImRhc2hBcnJheSI6IG51bGwsCiAgImRhc2hPZmZzZXQiOiBudWxsLAogICJmaWxsIjogdHJ1ZSwKICAiZmlsbENvbG9yIjogIiMzMTg2Y2MiLAogICJmaWxsT3BhY2l0eSI6IDAuNywKICAiZmlsbFJ1bGUiOiAiZXZlbm9kZCIsCiAgImxpbmVDYXAiOiAicm91bmQiLAogICJsaW5lSm9pbiI6ICJyb3VuZCIsCiAgIm9wYWNpdHkiOiAxLjAsCiAgInJhZGl1cyI6IDUsCiAgInN0cm9rZSI6IHRydWUsCiAgIndlaWdodCI6IDMKfQogICAgICAgICAgICAgICAgKS5hZGRUbyhtYXBfMmFjMDQ4OWRmNDVmNGY2ZjkyY2Y2YTI2OWI3N2EzMDEpOwogICAgICAgICAgICAKICAgIAogICAgICAgICAgICB2YXIgcG9wdXBfMjc0NGFiODk5NDA2NDkyNGE5MmIwMTEwNmRkYzVmMGYgPSBMLnBvcHVwKHttYXhXaWR0aDogJzMwMCd9KTsKCiAgICAgICAgICAgIAogICAgICAgICAgICAgICAgdmFyIGh0bWxfN2M4MGVmYjgxNzUzNDBmMGFlOTljM2RiN2U1OGJmOTAgPSAkKCc8ZGl2IGlkPSJodG1sXzdjODBlZmI4MTc1MzQwZjBhZTk5YzNkYjdlNThiZjkwIiBzdHlsZT0id2lkdGg6IDEwMC4wJTsgaGVpZ2h0OiAxMDAuMCU7Ij5Lb2RpaGFsbGk8L2Rpdj4nKVswXTsKICAgICAgICAgICAgICAgIHBvcHVwXzI3NDRhYjg5OTQwNjQ5MjRhOTJiMDExMDZkZGM1ZjBmLnNldENvbnRlbnQoaHRtbF83YzgwZWZiODE3NTM0MGYwYWU5OWMzZGI3ZTU4YmY5MCk7CiAgICAgICAgICAgIAoKICAgICAgICAgICAgY2lyY2xlX21hcmtlcl80NjI4MTViNjM0OTM0NTM5OTJlMzYwOTAwYWY4OGE3Ni5iaW5kUG9wdXAocG9wdXBfMjc0NGFiODk5NDA2NDkyNGE5MmIwMTEwNmRkYzVmMGYpOwoKICAgICAgICAgICAgCiAgICAgICAgCiAgICAKICAgICAgICAgICAgdmFyIGNpcmNsZV9tYXJrZXJfNTc1ZDNjZWRlZDM3NDllYTlhMWRjZGYwMGY5YWFjODkgPSBMLmNpcmNsZU1hcmtlcigKICAgICAgICAgICAgICAgIFsxMi45NzkxMTk4LDc3LjU5MTI5OTddLAogICAgICAgICAgICAgICAgewogICJidWJibGluZ01vdXNlRXZlbnRzIjogdHJ1ZSwKICAiY29sb3IiOiAiYmx1ZSIsCiAgImRhc2hBcnJheSI6IG51bGwsCiAgImRhc2hPZmZzZXQiOiBudWxsLAogICJmaWxsIjogdHJ1ZSwKICAiZmlsbENvbG9yIjogIiMzMTg2Y2MiLAogICJmaWxsT3BhY2l0eSI6IDAuNywKICAiZmlsbFJ1bGUiOiAiZXZlbm9kZCIsCiAgImxpbmVDYXAiOiAicm91bmQiLAogICJsaW5lSm9pbiI6ICJyb3VuZCIsCiAgIm9wYWNpdHkiOiAxLjAsCiAgInJhZGl1cyI6IDUsCiAgInN0cm9rZSI6IHRydWUsCiAgIndlaWdodCI6IDMKfQogICAgICAgICAgICAgICAgKS5hZGRUbyhtYXBfMmFjMDQ4OWRmNDVmNGY2ZjkyY2Y2YTI2OWI3N2EzMDEpOwogICAgICAgICAgICAKICAgIAogICAgICAgICAgICB2YXIgcG9wdXBfOTE5ZGEzOGU5MDQ1NGNkOTg0M2Y3OTQwZmQzYjRmYjAgPSBMLnBvcHVwKHttYXhXaWR0aDogJzMwMCd9KTsKCiAgICAgICAgICAgIAogICAgICAgICAgICAgICAgdmFyIGh0bWxfN2JkNDdiZDZiNDk1NDc3ZWEzN2Q0NDkxMjcwNzUzMjIgPSAkKCc8ZGl2IGlkPSJodG1sXzdiZDQ3YmQ2YjQ5NTQ3N2VhMzdkNDQ5MTI3MDc1MzIyIiBzdHlsZT0id2lkdGg6IDEwMC4wJTsgaGVpZ2h0OiAxMDAuMCU7Ij5BaXJwb3J0IFJkPC9kaXY+JylbMF07CiAgICAgICAgICAgICAgICBwb3B1cF85MTlkYTM4ZTkwNDU0Y2Q5ODQzZjc5NDBmZDNiNGZiMC5zZXRDb250ZW50KGh0bWxfN2JkNDdiZDZiNDk1NDc3ZWEzN2Q0NDkxMjcwNzUzMjIpOwogICAgICAgICAgICAKCiAgICAgICAgICAgIGNpcmNsZV9tYXJrZXJfNTc1ZDNjZWRlZDM3NDllYTlhMWRjZGYwMGY5YWFjODkuYmluZFBvcHVwKHBvcHVwXzkxOWRhMzhlOTA0NTRjZDk4NDNmNzk0MGZkM2I0ZmIwKTsKCiAgICAgICAgICAgIAogICAgICAgIAogICAgCiAgICAgICAgICAgIHZhciBjaXJjbGVfbWFya2VyXzkzNjE2OTgyNDI5OTQ1OTk5NDdkZDVhYTZkYWJhM2EzID0gTC5jaXJjbGVNYXJrZXIoCiAgICAgICAgICAgICAgICBbMTIuOTU1MjU3Miw3Ny42OTg0MTYzXSwKICAgICAgICAgICAgICAgIHsKICAiYnViYmxpbmdNb3VzZUV2ZW50cyI6IHRydWUsCiAgImNvbG9yIjogImJsdWUiLAogICJkYXNoQXJyYXkiOiBudWxsLAogICJkYXNoT2Zmc2V0IjogbnVsbCwKICAiZmlsbCI6IHRydWUsCiAgImZpbGxDb2xvciI6ICIjMzE4NmNjIiwKICAiZmlsbE9wYWNpdHkiOiAwLjcsCiAgImZpbGxSdWxlIjogImV2ZW5vZGQiLAogICJsaW5lQ2FwIjogInJvdW5kIiwKICAibGluZUpvaW4iOiAicm91bmQiLAogICJvcGFjaXR5IjogMS4wLAogICJyYWRpdXMiOiA1LAogICJzdHJva2UiOiB0cnVlLAogICJ3ZWlnaHQiOiAzCn0KICAgICAgICAgICAgICAgICkuYWRkVG8obWFwXzJhYzA0ODlkZjQ1ZjRmNmY5MmNmNmEyNjliNzdhMzAxKTsKICAgICAgICAgICAgCiAgICAKICAgICAgICAgICAgdmFyIHBvcHVwXzhhMjkyYWM2MTRkMjQyOGRhZjg3ZDUyNzY1OWQ5NzY5ID0gTC5wb3B1cCh7bWF4V2lkdGg6ICczMDAnfSk7CgogICAgICAgICAgICAKICAgICAgICAgICAgICAgIHZhciBodG1sXzM0YTQ3ZDUwMzM5NzQ2NmU4NTUxMzhiMzFkZTkxMjdjID0gJCgnPGRpdiBpZD0iaHRtbF8zNGE0N2Q1MDMzOTc0NjZlODU1MTM4YjMxZGU5MTI3YyIgc3R5bGU9IndpZHRoOiAxMDAuMCU7IGhlaWdodDogMTAwLjAlOyI+TWFyYXRoYWhhbGxpPC9kaXY+JylbMF07CiAgICAgICAgICAgICAgICBwb3B1cF84YTI5MmFjNjE0ZDI0MjhkYWY4N2Q1Mjc2NTlkOTc2OS5zZXRDb250ZW50KGh0bWxfMzRhNDdkNTAzMzk3NDY2ZTg1NTEzOGIzMWRlOTEyN2MpOwogICAgICAgICAgICAKCiAgICAgICAgICAgIGNpcmNsZV9tYXJrZXJfOTM2MTY5ODI0Mjk5NDU5OTk0N2RkNWFhNmRhYmEzYTMuYmluZFBvcHVwKHBvcHVwXzhhMjkyYWM2MTRkMjQyOGRhZjg3ZDUyNzY1OWQ5NzY5KTsKCiAgICAgICAgICAgIAogICAgICAgIAogICAgCiAgICAgICAgICAgIHZhciBjaXJjbGVfbWFya2VyX2Q5NTE2ODIyNDI2MzQwZGZhNDQ1MWFhYTdjZDRhMDU0ID0gTC5jaXJjbGVNYXJrZXIoCiAgICAgICAgICAgICAgICBbMTIuOTY5NjM2NSw3Ny43NDk3NDQ4XSwKICAgICAgICAgICAgICAgIHsKICAiYnViYmxpbmdNb3VzZUV2ZW50cyI6IHRydWUsCiAgImNvbG9yIjogImJsdWUiLAogICJkYXNoQXJyYXkiOiBudWxsLAogICJkYXNoT2Zmc2V0IjogbnVsbCwKICAiZmlsbCI6IHRydWUsCiAgImZpbGxDb2xvciI6ICIjMzE4NmNjIiwKICAiZmlsbE9wYWNpdHkiOiAwLjcsCiAgImZpbGxSdWxlIjogImV2ZW5vZGQiLAogICJsaW5lQ2FwIjogInJvdW5kIiwKICAibGluZUpvaW4iOiAicm91bmQiLAogICJvcGFjaXR5IjogMS4wLAogICJyYWRpdXMiOiA1LAogICJzdHJva2UiOiB0cnVlLAogICJ3ZWlnaHQiOiAzCn0KICAgICAgICAgICAgICAgICkuYWRkVG8obWFwXzJhYzA0ODlkZjQ1ZjRmNmY5MmNmNmEyNjliNzdhMzAxKTsKICAgICAgICAgICAgCiAgICAKICAgICAgICAgICAgdmFyIHBvcHVwX2JmZWY4YzFmZmU2NTRlMWI4Y2E2YjExYzk2NjdiOGI0ID0gTC5wb3B1cCh7bWF4V2lkdGg6ICczMDAnfSk7CgogICAgICAgICAgICAKICAgICAgICAgICAgICAgIHZhciBodG1sXzdiZGE5YjA4YWQ3ODRlY2FiMmU3YWU1ZTM3ZjUxZDZlID0gJCgnPGRpdiBpZD0iaHRtbF83YmRhOWIwOGFkNzg0ZWNhYjJlN2FlNWUzN2Y1MWQ2ZSIgc3R5bGU9IndpZHRoOiAxMDAuMCU7IGhlaWdodDogMTAwLjAlOyI+V2hpdGVmaWVsZDwvZGl2PicpWzBdOwogICAgICAgICAgICAgICAgcG9wdXBfYmZlZjhjMWZmZTY1NGUxYjhjYTZiMTFjOTY2N2I4YjQuc2V0Q29udGVudChodG1sXzdiZGE5YjA4YWQ3ODRlY2FiMmU3YWU1ZTM3ZjUxZDZlKTsKICAgICAgICAgICAgCgogICAgICAgICAgICBjaXJjbGVfbWFya2VyX2Q5NTE2ODIyNDI2MzQwZGZhNDQ1MWFhYTdjZDRhMDU0LmJpbmRQb3B1cChwb3B1cF9iZmVmOGMxZmZlNjU0ZTFiOGNhNmIxMWM5NjY3YjhiNCk7CgogICAgICAgICAgICAKICAgICAgICAKICAgIAogICAgICAgICAgICB2YXIgY2lyY2xlX21hcmtlcl82MzFmMDA3ZmJlYjM0ZTQ5YjA2OTUzZWMyZjQ0MmI3MiA9IEwuY2lyY2xlTWFya2VyKAogICAgICAgICAgICAgICAgWzEyLjk4NDU2ODcsNzcuNzM3NjY0MjgzNjEwMzRdLAogICAgICAgICAgICAgICAgewogICJidWJibGluZ01vdXNlRXZlbnRzIjogdHJ1ZSwKICAiY29sb3IiOiAiYmx1ZSIsCiAgImRhc2hBcnJheSI6IG51bGwsCiAgImRhc2hPZmZzZXQiOiBudWxsLAogICJmaWxsIjogdHJ1ZSwKICAiZmlsbENvbG9yIjogIiMzMTg2Y2MiLAogICJmaWxsT3BhY2l0eSI6IDAuNywKICAiZmlsbFJ1bGUiOiAiZXZlbm9kZCIsCiAgImxpbmVDYXAiOiAicm91bmQiLAogICJsaW5lSm9pbiI6ICJyb3VuZCIsCiAgIm9wYWNpdHkiOiAxLjAsCiAgInJhZGl1cyI6IDUsCiAgInN0cm9rZSI6IHRydWUsCiAgIndlaWdodCI6IDMKfQogICAgICAgICAgICAgICAgKS5hZGRUbyhtYXBfMmFjMDQ4OWRmNDVmNGY2ZjkyY2Y2YTI2OWI3N2EzMDEpOwogICAgICAgICAgICAKICAgIAogICAgICAgICAgICB2YXIgcG9wdXBfN2Q2OWMwMDRjZjAzNDk5OGFkMTNkYjA4ZDI1NTFmOGIgPSBMLnBvcHVwKHttYXhXaWR0aDogJzMwMCd9KTsKCiAgICAgICAgICAgIAogICAgICAgICAgICAgICAgdmFyIGh0bWxfYjBkMjM4MWYwMmVlNDJjYmIzODQ0ZjUzZDNkNjAyMjMgPSAkKCc8ZGl2IGlkPSJodG1sX2IwZDIzODFmMDJlZTQyY2JiMzg0NGY1M2QzZDYwMjIzIiBzdHlsZT0id2lkdGg6IDEwMC4wJTsgaGVpZ2h0OiAxMDAuMCU7Ij5JVFBMPC9kaXY+JylbMF07CiAgICAgICAgICAgICAgICBwb3B1cF83ZDY5YzAwNGNmMDM0OTk4YWQxM2RiMDhkMjU1MWY4Yi5zZXRDb250ZW50KGh0bWxfYjBkMjM4MWYwMmVlNDJjYmIzODQ0ZjUzZDNkNjAyMjMpOwogICAgICAgICAgICAKCiAgICAgICAgICAgIGNpcmNsZV9tYXJrZXJfNjMxZjAwN2ZiZWIzNGU0OWIwNjk1M2VjMmY0NDJiNzIuYmluZFBvcHVwKHBvcHVwXzdkNjljMDA0Y2YwMzQ5OThhZDEzZGIwOGQyNTUxZjhiKTsKCiAgICAgICAgICAgIAogICAgICAgIAogICAgCiAgICAgICAgICAgIHZhciBjaXJjbGVfbWFya2VyXzdmNTA5Mzg1NTQ3MjQyMTA4ODhiYWFkZTEyYTVkY2M4ID0gTC5jaXJjbGVNYXJrZXIoCiAgICAgICAgICAgICAgICBbMTMuMDI4MDM4MSw3Ny43MjM2NzY5XSwKICAgICAgICAgICAgICAgIHsKICAiYnViYmxpbmdNb3VzZUV2ZW50cyI6IHRydWUsCiAgImNvbG9yIjogImJsdWUiLAogICJkYXNoQXJyYXkiOiBudWxsLAogICJkYXNoT2Zmc2V0IjogbnVsbCwKICAiZmlsbCI6IHRydWUsCiAgImZpbGxDb2xvciI6ICIjMzE4NmNjIiwKICAiZmlsbE9wYWNpdHkiOiAwLjcsCiAgImZpbGxSdWxlIjogImV2ZW5vZGQiLAogICJsaW5lQ2FwIjogInJvdW5kIiwKICAibGluZUpvaW4iOiAicm91bmQiLAogICJvcGFjaXR5IjogMS4wLAogICJyYWRpdXMiOiA1LAogICJzdHJva2UiOiB0cnVlLAogICJ3ZWlnaHQiOiAzCn0KICAgICAgICAgICAgICAgICkuYWRkVG8obWFwXzJhYzA0ODlkZjQ1ZjRmNmY5MmNmNmEyNjliNzdhMzAxKTsKICAgICAgICAgICAgCiAgICAKICAgICAgICAgICAgdmFyIHBvcHVwXzBmZTY1Yjk3N2FiNzQ2ZTU5NTNlZjExZGE1MzlhNjQ2ID0gTC5wb3B1cCh7bWF4V2lkdGg6ICczMDAnfSk7CgogICAgICAgICAgICAKICAgICAgICAgICAgICAgIHZhciBodG1sXzAzYmYwMDhmMmIxMDQ2ZjNiNjk3MTdlOWE3NDlkM2ZmID0gJCgnPGRpdiBpZD0iaHRtbF8wM2JmMDA4ZjJiMTA0NmYzYjY5NzE3ZTlhNzQ5ZDNmZiIgc3R5bGU9IndpZHRoOiAxMDAuMCU7IGhlaWdodDogMTAwLjAlOyI+T2xkIE1hZHJhcyBSb2FkPC9kaXY+JylbMF07CiAgICAgICAgICAgICAgICBwb3B1cF8wZmU2NWI5NzdhYjc0NmU1OTUzZWYxMWRhNTM5YTY0Ni5zZXRDb250ZW50KGh0bWxfMDNiZjAwOGYyYjEwNDZmM2I2OTcxN2U5YTc0OWQzZmYpOwogICAgICAgICAgICAKCiAgICAgICAgICAgIGNpcmNsZV9tYXJrZXJfN2Y1MDkzODU1NDcyNDIxMDg4OGJhYWRlMTJhNWRjYzguYmluZFBvcHVwKHBvcHVwXzBmZTY1Yjk3N2FiNzQ2ZTU5NTNlZjExZGE1MzlhNjQ2KTsKCiAgICAgICAgICAgIAogICAgICAgIAogICAgCiAgICAgICAgICAgIHZhciBjaXJjbGVfbWFya2VyX2NjMDBlYzI3ZDNjMjRmMzI4YWM3NzkwMTRkNDkxNjUwID0gTC5jaXJjbGVNYXJrZXIoCiAgICAgICAgICAgICAgICBbMTIuOTgyMTMwOCw3Ny42MjY3ODMzXSwKICAgICAgICAgICAgICAgIHsKICAiYnViYmxpbmdNb3VzZUV2ZW50cyI6IHRydWUsCiAgImNvbG9yIjogImJsdWUiLAogICJkYXNoQXJyYXkiOiBudWxsLAogICJkYXNoT2Zmc2V0IjogbnVsbCwKICAiZmlsbCI6IHRydWUsCiAgImZpbGxDb2xvciI6ICIjMzE4NmNjIiwKICAiZmlsbE9wYWNpdHkiOiAwLjcsCiAgImZpbGxSdWxlIjogImV2ZW5vZGQiLAogICJsaW5lQ2FwIjogInJvdW5kIiwKICAibGluZUpvaW4iOiAicm91bmQiLAogICJvcGFjaXR5IjogMS4wLAogICJyYWRpdXMiOiA1LAogICJzdHJva2UiOiB0cnVlLAogICJ3ZWlnaHQiOiAzCn0KICAgICAgICAgICAgICAgICkuYWRkVG8obWFwXzJhYzA0ODlkZjQ1ZjRmNmY5MmNmNmEyNjliNzdhMzAxKTsKICAgICAgICAgICAgCiAgICAKICAgICAgICAgICAgdmFyIHBvcHVwXzJkYjMyMzE5YjhkNTQxZGRhMjI1YmRjMDNhM2I3ZDg2ID0gTC5wb3B1cCh7bWF4V2lkdGg6ICczMDAnfSk7CgogICAgICAgICAgICAKICAgICAgICAgICAgICAgIHZhciBodG1sX2ZkNTVkOTQ1YzYwMjQ1MDdiYjVmNTkyYzhlZGU3Nzc1ID0gJCgnPGRpdiBpZD0iaHRtbF9mZDU1ZDk0NWM2MDI0NTA3YmI1ZjU5MmM4ZWRlNzc3NSIgc3R5bGU9IndpZHRoOiAxMDAuMCU7IGhlaWdodDogMTAwLjAlOyI+TXVycGh5IFJkPC9kaXY+JylbMF07CiAgICAgICAgICAgICAgICBwb3B1cF8yZGIzMjMxOWI4ZDU0MWRkYTIyNWJkYzAzYTNiN2Q4Ni5zZXRDb250ZW50KGh0bWxfZmQ1NWQ5NDVjNjAyNDUwN2JiNWY1OTJjOGVkZTc3NzUpOwogICAgICAgICAgICAKCiAgICAgICAgICAgIGNpcmNsZV9tYXJrZXJfY2MwMGVjMjdkM2MyNGYzMjhhYzc3OTAxNGQ0OTE2NTAuYmluZFBvcHVwKHBvcHVwXzJkYjMyMzE5YjhkNTQxZGRhMjI1YmRjMDNhM2I3ZDg2KTsKCiAgICAgICAgICAgIAogICAgICAgIAogICAgCiAgICAgICAgICAgIHZhciBjaXJjbGVfbWFya2VyXzcxOTM0ZjhkZDg4ZDQ0ODg5NTZmOTZjZjEwMWVhYWFmID0gTC5jaXJjbGVNYXJrZXIoCiAgICAgICAgICAgICAgICBbMTMuMDUwOTc2MTUsNzcuNTM2MjU5MzYwMTI1NDZdLAogICAgICAgICAgICAgICAgewogICJidWJibGluZ01vdXNlRXZlbnRzIjogdHJ1ZSwKICAiY29sb3IiOiAiYmx1ZSIsCiAgImRhc2hBcnJheSI6IG51bGwsCiAgImRhc2hPZmZzZXQiOiBudWxsLAogICJmaWxsIjogdHJ1ZSwKICAiZmlsbENvbG9yIjogIiMzMTg2Y2MiLAogICJmaWxsT3BhY2l0eSI6IDAuNywKICAiZmlsbFJ1bGUiOiAiZXZlbm9kZCIsCiAgImxpbmVDYXAiOiAicm91bmQiLAogICJsaW5lSm9pbiI6ICJyb3VuZCIsCiAgIm9wYWNpdHkiOiAxLjAsCiAgInJhZGl1cyI6IDUsCiAgInN0cm9rZSI6IHRydWUsCiAgIndlaWdodCI6IDMKfQogICAgICAgICAgICAgICAgKS5hZGRUbyhtYXBfMmFjMDQ4OWRmNDVmNGY2ZjkyY2Y2YTI2OWI3N2EzMDEpOwogICAgICAgICAgICAKICAgIAogICAgICAgICAgICB2YXIgcG9wdXBfN2Y0MjMxMGVlMDJlNGIzODllODQ3YjE1MzY0NDc5NDYgPSBMLnBvcHVwKHttYXhXaWR0aDogJzMwMCd9KTsKCiAgICAgICAgICAgIAogICAgICAgICAgICAgICAgdmFyIGh0bWxfMmM1MjExNzAwMDQ3NDY0ZWJkNWMyMjFlNDc4YjI0YzQgPSAkKCc8ZGl2IGlkPSJodG1sXzJjNTIxMTcwMDA0NzQ2NGViZDVjMjIxZTQ3OGIyNGM0IiBzdHlsZT0id2lkdGg6IDEwMC4wJTsgaGVpZ2h0OiAxMDAuMCU7Ij5LZW5zaW5ndG9uPC9kaXY+JylbMF07CiAgICAgICAgICAgICAgICBwb3B1cF83ZjQyMzEwZWUwMmU0YjM4OWU4NDdiMTUzNjQ0Nzk0Ni5zZXRDb250ZW50KGh0bWxfMmM1MjExNzAwMDQ3NDY0ZWJkNWMyMjFlNDc4YjI0YzQpOwogICAgICAgICAgICAKCiAgICAgICAgICAgIGNpcmNsZV9tYXJrZXJfNzE5MzRmOGRkODhkNDQ4ODk1NmY5NmNmMTAxZWFhYWYuYmluZFBvcHVwKHBvcHVwXzdmNDIzMTBlZTAyZTRiMzg5ZTg0N2IxNTM2NDQ3OTQ2KTsKCiAgICAgICAgICAgIAogICAgICAgIAogICAgCiAgICAgICAgICAgIHZhciBjaXJjbGVfbWFya2VyX2FhMWQxZjEwMDY1MTQxOTVhZmYxNDg5MDc0NTE5OTRkID0gTC5jaXJjbGVNYXJrZXIoCiAgICAgICAgICAgICAgICBbMTIuOTk2ODQ1LDc3LjYxMzAxNjVdLAogICAgICAgICAgICAgICAgewogICJidWJibGluZ01vdXNlRXZlbnRzIjogdHJ1ZSwKICAiY29sb3IiOiAiYmx1ZSIsCiAgImRhc2hBcnJheSI6IG51bGwsCiAgImRhc2hPZmZzZXQiOiBudWxsLAogICJmaWxsIjogdHJ1ZSwKICAiZmlsbENvbG9yIjogIiMzMTg2Y2MiLAogICJmaWxsT3BhY2l0eSI6IDAuNywKICAiZmlsbFJ1bGUiOiAiZXZlbm9kZCIsCiAgImxpbmVDYXAiOiAicm91bmQiLAogICJsaW5lSm9pbiI6ICJyb3VuZCIsCiAgIm9wYWNpdHkiOiAxLjAsCiAgInJhZGl1cyI6IDUsCiAgInN0cm9rZSI6IHRydWUsCiAgIndlaWdodCI6IDMKfQogICAgICAgICAgICAgICAgKS5hZGRUbyhtYXBfMmFjMDQ4OWRmNDVmNGY2ZjkyY2Y2YTI2OWI3N2EzMDEpOwogICAgICAgICAgICAKICAgIAogICAgICAgICAgICB2YXIgcG9wdXBfMDVhOWQ5ZTMxYjBlNDQ3OGJmZGI2MWNmODQ0MmFhZGUgPSBMLnBvcHVwKHttYXhXaWR0aDogJzMwMCd9KTsKCiAgICAgICAgICAgIAogICAgICAgICAgICAgICAgdmFyIGh0bWxfMjg0ZGZmY2FiN2NmNDBiMGFjZmUzMzRjNDdmNjk2ZTMgPSAkKCc8ZGl2IGlkPSJodG1sXzI4NGRmZmNhYjdjZjQwYjBhY2ZlMzM0YzQ3ZjY5NmUzIiBzdHlsZT0id2lkdGg6IDEwMC4wJTsgaGVpZ2h0OiAxMDAuMCU7Ij5GcmF6ZXIgVG93bjwvZGl2PicpWzBdOwogICAgICAgICAgICAgICAgcG9wdXBfMDVhOWQ5ZTMxYjBlNDQ3OGJmZGI2MWNmODQ0MmFhZGUuc2V0Q29udGVudChodG1sXzI4NGRmZmNhYjdjZjQwYjBhY2ZlMzM0YzQ3ZjY5NmUzKTsKICAgICAgICAgICAgCgogICAgICAgICAgICBjaXJjbGVfbWFya2VyX2FhMWQxZjEwMDY1MTQxOTVhZmYxNDg5MDc0NTE5OTRkLmJpbmRQb3B1cChwb3B1cF8wNWE5ZDllMzFiMGU0NDc4YmZkYjYxY2Y4NDQyYWFkZSk7CgogICAgICAgICAgICAKICAgICAgICAKICAgIAogICAgICAgICAgICB2YXIgY2lyY2xlX21hcmtlcl84OTY3NDZiOWFlZGQ0NWY0OGI5MDg3NWU3ODBlYTRjMiA9IEwuY2lyY2xlTWFya2VyKAogICAgICAgICAgICAgICAgWzEzLjAwMjc4NTIsNzcuNjI0NzQ3XSwKICAgICAgICAgICAgICAgIHsKICAiYnViYmxpbmdNb3VzZUV2ZW50cyI6IHRydWUsCiAgImNvbG9yIjogImJsdWUiLAogICJkYXNoQXJyYXkiOiBudWxsLAogICJkYXNoT2Zmc2V0IjogbnVsbCwKICAiZmlsbCI6IHRydWUsCiAgImZpbGxDb2xvciI6ICIjMzE4NmNjIiwKICAiZmlsbE9wYWNpdHkiOiAwLjcsCiAgImZpbGxSdWxlIjogImV2ZW5vZGQiLAogICJsaW5lQ2FwIjogInJvdW5kIiwKICAibGluZUpvaW4iOiAicm91bmQiLAogICJvcGFjaXR5IjogMS4wLAogICJyYWRpdXMiOiA1LAogICJzdHJva2UiOiB0cnVlLAogICJ3ZWlnaHQiOiAzCn0KICAgICAgICAgICAgICAgICkuYWRkVG8obWFwXzJhYzA0ODlkZjQ1ZjRmNmY5MmNmNmEyNjliNzdhMzAxKTsKICAgICAgICAgICAgCiAgICAKICAgICAgICAgICAgdmFyIHBvcHVwXzg4ZmM2OTU5MzU1NTQ1ZDQ5YTAxZDdiNjlhZmM2M2JmID0gTC5wb3B1cCh7bWF4V2lkdGg6ICczMDAnfSk7CgogICAgICAgICAgICAKICAgICAgICAgICAgICAgIHZhciBodG1sXzZhYWU5MjQ2YjBhZjQ4ZTFiNzRjNjBmYTMzNDk2YWM5ID0gJCgnPGRpdiBpZD0iaHRtbF82YWFlOTI0NmIwYWY0OGUxYjc0YzYwZmEzMzQ5NmFjOSIgc3R5bGU9IndpZHRoOiAxMDAuMCU7IGhlaWdodDogMTAwLjAlOyI+Q29va2UgVG93bjwvZGl2PicpWzBdOwogICAgICAgICAgICAgICAgcG9wdXBfODhmYzY5NTkzNTU1NDVkNDlhMDFkN2I2OWFmYzYzYmYuc2V0Q29udGVudChodG1sXzZhYWU5MjQ2YjBhZjQ4ZTFiNzRjNjBmYTMzNDk2YWM5KTsKICAgICAgICAgICAgCgogICAgICAgICAgICBjaXJjbGVfbWFya2VyXzg5Njc0NmI5YWVkZDQ1ZjQ4YjkwODc1ZTc4MGVhNGMyLmJpbmRQb3B1cChwb3B1cF84OGZjNjk1OTM1NTU0NWQ0OWEwMWQ3YjY5YWZjNjNiZik7CgogICAgICAgICAgICAKICAgICAgICAKICAgIAogICAgICAgICAgICB2YXIgY2lyY2xlX21hcmtlcl84OGNiNjVmZjE2MTE0NGIwYTI0ZmMzOTEwYzYwODJjYSA9IEwuY2lyY2xlTWFya2VyKAogICAgICAgICAgICAgICAgWzEyLjk4OTg2NDMsNzcuNjE3ODE5N10sCiAgICAgICAgICAgICAgICB7CiAgImJ1YmJsaW5nTW91c2VFdmVudHMiOiB0cnVlLAogICJjb2xvciI6ICJibHVlIiwKICAiZGFzaEFycmF5IjogbnVsbCwKICAiZGFzaE9mZnNldCI6IG51bGwsCiAgImZpbGwiOiB0cnVlLAogICJmaWxsQ29sb3IiOiAiIzMxODZjYyIsCiAgImZpbGxPcGFjaXR5IjogMC43LAogICJmaWxsUnVsZSI6ICJldmVub2RkIiwKICAibGluZUNhcCI6ICJyb3VuZCIsCiAgImxpbmVKb2luIjogInJvdW5kIiwKICAib3BhY2l0eSI6IDEuMCwKICAicmFkaXVzIjogNSwKICAic3Ryb2tlIjogdHJ1ZSwKICAid2VpZ2h0IjogMwp9CiAgICAgICAgICAgICAgICApLmFkZFRvKG1hcF8yYWMwNDg5ZGY0NWY0ZjZmOTJjZjZhMjY5Yjc3YTMwMSk7CiAgICAgICAgICAgIAogICAgCiAgICAgICAgICAgIHZhciBwb3B1cF80ZDE3Y2FmZjY0Nzg0NDJhOTcwYzdlNDZhYTYwNzQ4NCA9IEwucG9wdXAoe21heFdpZHRoOiAnMzAwJ30pOwoKICAgICAgICAgICAgCiAgICAgICAgICAgICAgICB2YXIgaHRtbF85NTQwZDY0YWYwN2Q0MTVmOTliZmVhNzZjN2I1YzhkMyA9ICQoJzxkaXYgaWQ9Imh0bWxfOTU0MGQ2NGFmMDdkNDE1Zjk5YmZlYTc2YzdiNWM4ZDMiIHN0eWxlPSJ3aWR0aDogMTAwLjAlOyBoZWlnaHQ6IDEwMC4wJTsiPlByb21lbmFkZSBSb2FkPC9kaXY+JylbMF07CiAgICAgICAgICAgICAgICBwb3B1cF80ZDE3Y2FmZjY0Nzg0NDJhOTcwYzdlNDZhYTYwNzQ4NC5zZXRDb250ZW50KGh0bWxfOTU0MGQ2NGFmMDdkNDE1Zjk5YmZlYTc2YzdiNWM4ZDMpOwogICAgICAgICAgICAKCiAgICAgICAgICAgIGNpcmNsZV9tYXJrZXJfODhjYjY1ZmYxNjExNDRiMGEyNGZjMzkxMGM2MDgyY2EuYmluZFBvcHVwKHBvcHVwXzRkMTdjYWZmNjQ3ODQ0MmE5NzBjN2U0NmFhNjA3NDg0KTsKCiAgICAgICAgICAgIAogICAgICAgIAogICAgCiAgICAgICAgICAgIHZhciBjaXJjbGVfbWFya2VyX2FiMmNiYzI2YTNlMzRlZDE5N2IwZWY3M2Q5OTkzYzA4ID0gTC5jaXJjbGVNYXJrZXIoCiAgICAgICAgICAgICAgICBbMTIuOTg4NjcyOSw3Ny42MTcyNDY5XSwKICAgICAgICAgICAgICAgIHsKICAiYnViYmxpbmdNb3VzZUV2ZW50cyI6IHRydWUsCiAgImNvbG9yIjogImJsdWUiLAogICJkYXNoQXJyYXkiOiBudWxsLAogICJkYXNoT2Zmc2V0IjogbnVsbCwKICAiZmlsbCI6IHRydWUsCiAgImZpbGxDb2xvciI6ICIjMzE4NmNjIiwKICAiZmlsbE9wYWNpdHkiOiAwLjcsCiAgImZpbGxSdWxlIjogImV2ZW5vZGQiLAogICJsaW5lQ2FwIjogInJvdW5kIiwKICAibGluZUpvaW4iOiAicm91bmQiLAogICJvcGFjaXR5IjogMS4wLAogICJyYWRpdXMiOiA1LAogICJzdHJva2UiOiB0cnVlLAogICJ3ZWlnaHQiOiAzCn0KICAgICAgICAgICAgICAgICkuYWRkVG8obWFwXzJhYzA0ODlkZjQ1ZjRmNmY5MmNmNmEyNjliNzdhMzAxKTsKICAgICAgICAgICAgCiAgICAKICAgICAgICAgICAgdmFyIHBvcHVwXzZiOTI3YjYwZTAzYTRiNWViMTliNzc4ZTJjN2NlYzNhID0gTC5wb3B1cCh7bWF4V2lkdGg6ICczMDAnfSk7CgogICAgICAgICAgICAKICAgICAgICAgICAgICAgIHZhciBodG1sXzA0NzY3NGNkMzE3NDQyZjBhOTA5ZjYzOGUwMTZmZjI4ID0gJCgnPGRpdiBpZD0iaHRtbF8wNDc2NzRjZDMxNzQ0MmYwYTkwOWY2MzhlMDE2ZmYyOCIgc3R5bGU9IndpZHRoOiAxMDAuMCU7IGhlaWdodDogMTAwLjAlOyI+U3QuSm9obnMgUm9hZDwvZGl2PicpWzBdOwogICAgICAgICAgICAgICAgcG9wdXBfNmI5MjdiNjBlMDNhNGI1ZWIxOWI3NzhlMmM3Y2VjM2Euc2V0Q29udGVudChodG1sXzA0NzY3NGNkMzE3NDQyZjBhOTA5ZjYzOGUwMTZmZjI4KTsKICAgICAgICAgICAgCgogICAgICAgICAgICBjaXJjbGVfbWFya2VyX2FiMmNiYzI2YTNlMzRlZDE5N2IwZWY3M2Q5OTkzYzA4LmJpbmRQb3B1cChwb3B1cF82YjkyN2I2MGUwM2E0YjVlYjE5Yjc3OGUyYzdjZWMzYSk7CgogICAgICAgICAgICAKICAgICAgICAKICAgIAogICAgICAgICAgICB2YXIgY2lyY2xlX21hcmtlcl82YzIyN2VjMDNiOGY0YWYzYjE2NjFjZTJlZGEyYmY0NiA9IEwuY2lyY2xlTWFya2VyKAogICAgICAgICAgICAgICAgWzEyLjk2Mjk0MDg0OTk5OTk5OSw3Ny41NzU3NTk4ODQ5MzUyNF0sCiAgICAgICAgICAgICAgICB7CiAgImJ1YmJsaW5nTW91c2VFdmVudHMiOiB0cnVlLAogICJjb2xvciI6ICJibHVlIiwKICAiZGFzaEFycmF5IjogbnVsbCwKICAiZGFzaE9mZnNldCI6IG51bGwsCiAgImZpbGwiOiB0cnVlLAogICJmaWxsQ29sb3IiOiAiIzMxODZjYyIsCiAgImZpbGxPcGFjaXR5IjogMC43LAogICJmaWxsUnVsZSI6ICJldmVub2RkIiwKICAibGluZUNhcCI6ICJyb3VuZCIsCiAgImxpbmVKb2luIjogInJvdW5kIiwKICAib3BhY2l0eSI6IDEuMCwKICAicmFkaXVzIjogNSwKICAic3Ryb2tlIjogdHJ1ZSwKICAid2VpZ2h0IjogMwp9CiAgICAgICAgICAgICAgICApLmFkZFRvKG1hcF8yYWMwNDg5ZGY0NWY0ZjZmOTJjZjZhMjY5Yjc3YTMwMSk7CiAgICAgICAgICAgIAogICAgCiAgICAgICAgICAgIHZhciBwb3B1cF82ZGQ4ZmJmNGZlZDM0MjM5YTkwNmQ0MzU4MTljNGE2ZiA9IEwucG9wdXAoe21heFdpZHRoOiAnMzAwJ30pOwoKICAgICAgICAgICAgCiAgICAgICAgICAgICAgICB2YXIgaHRtbF8xN2M4MWQwOWUyMjY0MjFhODM0N2NmOGRhM2M2MmRjNiA9ICQoJzxkaXYgaWQ9Imh0bWxfMTdjODFkMDllMjI2NDIxYTgzNDdjZjhkYTNjNjJkYzYiIHN0eWxlPSJ3aWR0aDogMTAwLjAlOyBoZWlnaHQ6IDEwMC4wJTsiPkZvcnQ8L2Rpdj4nKVswXTsKICAgICAgICAgICAgICAgIHBvcHVwXzZkZDhmYmY0ZmVkMzQyMzlhOTA2ZDQzNTgxOWM0YTZmLnNldENvbnRlbnQoaHRtbF8xN2M4MWQwOWUyMjY0MjFhODM0N2NmOGRhM2M2MmRjNik7CiAgICAgICAgICAgIAoKICAgICAgICAgICAgY2lyY2xlX21hcmtlcl82YzIyN2VjMDNiOGY0YWYzYjE2NjFjZTJlZGEyYmY0Ni5iaW5kUG9wdXAocG9wdXBfNmRkOGZiZjRmZWQzNDIzOWE5MDZkNDM1ODE5YzRhNmYpOwoKICAgICAgICAgICAgCiAgICAgICAgCiAgICAKICAgICAgICAgICAgdmFyIGNpcmNsZV9tYXJrZXJfYTAzYmU5YzNhMjA2NDYzZWEzYWFjMjI3OWY3ZGEwNWEgPSBMLmNpcmNsZU1hcmtlcigKICAgICAgICAgICAgICAgIFsxMi45MTc2NTcxLDc3LjQ4Mzc1NjhdLAogICAgICAgICAgICAgICAgewogICJidWJibGluZ01vdXNlRXZlbnRzIjogdHJ1ZSwKICAiY29sb3IiOiAiYmx1ZSIsCiAgImRhc2hBcnJheSI6IG51bGwsCiAgImRhc2hPZmZzZXQiOiBudWxsLAogICJmaWxsIjogdHJ1ZSwKICAiZmlsbENvbG9yIjogIiMzMTg2Y2MiLAogICJmaWxsT3BhY2l0eSI6IDAuNywKICAiZmlsbFJ1bGUiOiAiZXZlbm9kZCIsCiAgImxpbmVDYXAiOiAicm91bmQiLAogICJsaW5lSm9pbiI6ICJyb3VuZCIsCiAgIm9wYWNpdHkiOiAxLjAsCiAgInJhZGl1cyI6IDUsCiAgInN0cm9rZSI6IHRydWUsCiAgIndlaWdodCI6IDMKfQogICAgICAgICAgICAgICAgKS5hZGRUbyhtYXBfMmFjMDQ4OWRmNDVmNGY2ZjkyY2Y2YTI2OWI3N2EzMDEpOwogICAgICAgICAgICAKICAgIAogICAgICAgICAgICB2YXIgcG9wdXBfMmM0YTYzMGFlNWMwNDFkN2IwMTg3YTI4ZjE1ZmNhYTUgPSBMLnBvcHVwKHttYXhXaWR0aDogJzMwMCd9KTsKCiAgICAgICAgICAgIAogICAgICAgICAgICAgICAgdmFyIGh0bWxfNDQ4MzQ0NjY2YjliNDZjNWE1NTYxZDQ1MmJlYWQ4MGMgPSAkKCc8ZGl2IGlkPSJodG1sXzQ0ODM0NDY2NmI5YjQ2YzVhNTU2MWQ0NTJiZWFkODBjIiBzdHlsZT0id2lkdGg6IDEwMC4wJTsgaGVpZ2h0OiAxMDAuMCU7Ij5LZW5nZXJpPC9kaXY+JylbMF07CiAgICAgICAgICAgICAgICBwb3B1cF8yYzRhNjMwYWU1YzA0MWQ3YjAxODdhMjhmMTVmY2FhNS5zZXRDb250ZW50KGh0bWxfNDQ4MzQ0NjY2YjliNDZjNWE1NTYxZDQ1MmJlYWQ4MGMpOwogICAgICAgICAgICAKCiAgICAgICAgICAgIGNpcmNsZV9tYXJrZXJfYTAzYmU5YzNhMjA2NDYzZWEzYWFjMjI3OWY3ZGEwNWEuYmluZFBvcHVwKHBvcHVwXzJjNGE2MzBhZTVjMDQxZDdiMDE4N2EyOGYxNWZjYWE1KTsKCiAgICAgICAgICAgIAogICAgICAgIAogICAgCiAgICAgICAgICAgIHZhciBjaXJjbGVfbWFya2VyX2Y2NGIzZDIwYWNkNTRiNjJiMGQwMGU0ZmQ2YzBkNTFmID0gTC5jaXJjbGVNYXJrZXIoCiAgICAgICAgICAgICAgICBbMTIuOTIyODE3LDc3LjU3MTgwNzY3NjA0MzU5XSwKICAgICAgICAgICAgICAgIHsKICAiYnViYmxpbmdNb3VzZUV2ZW50cyI6IHRydWUsCiAgImNvbG9yIjogImJsdWUiLAogICJkYXNoQXJyYXkiOiBudWxsLAogICJkYXNoT2Zmc2V0IjogbnVsbCwKICAiZmlsbCI6IHRydWUsCiAgImZpbGxDb2xvciI6ICIjMzE4NmNjIiwKICAiZmlsbE9wYWNpdHkiOiAwLjcsCiAgImZpbGxSdWxlIjogImV2ZW5vZGQiLAogICJsaW5lQ2FwIjogInJvdW5kIiwKICAibGluZUpvaW4iOiAicm91bmQiLAogICJvcGFjaXR5IjogMS4wLAogICJyYWRpdXMiOiA1LAogICJzdHJva2UiOiB0cnVlLAogICJ3ZWlnaHQiOiAzCn0KICAgICAgICAgICAgICAgICkuYWRkVG8obWFwXzJhYzA0ODlkZjQ1ZjRmNmY5MmNmNmEyNjliNzdhMzAxKTsKICAgICAgICAgICAgCiAgICAKICAgICAgICAgICAgdmFyIHBvcHVwXzM4YTFjMWNiMmMwZTQ3ZWZhZTFkZjgwMjQyNzkwNzQxID0gTC5wb3B1cCh7bWF4V2lkdGg6ICczMDAnfSk7CgogICAgICAgICAgICAKICAgICAgICAgICAgICAgIHZhciBodG1sXzFkMzUzYWQxNjM2NzRlOTU5YzJhZjI0ZmQxYTM1ODc3ID0gJCgnPGRpdiBpZD0iaHRtbF8xZDM1M2FkMTYzNjc0ZTk1OWMyYWYyNGZkMWEzNTg3NyIgc3R5bGU9IndpZHRoOiAxMDAuMCU7IGhlaWdodDogMTAwLjAlOyI+S2FyaXNhbmRyYTwvZGl2PicpWzBdOwogICAgICAgICAgICAgICAgcG9wdXBfMzhhMWMxY2IyYzBlNDdlZmFlMWRmODAyNDI3OTA3NDEuc2V0Q29udGVudChodG1sXzFkMzUzYWQxNjM2NzRlOTU5YzJhZjI0ZmQxYTM1ODc3KTsKICAgICAgICAgICAgCgogICAgICAgICAgICBjaXJjbGVfbWFya2VyX2Y2NGIzZDIwYWNkNTRiNjJiMGQwMGU0ZmQ2YzBkNTFmLmJpbmRQb3B1cChwb3B1cF8zOGExYzFjYjJjMGU0N2VmYWUxZGY4MDI0Mjc5MDc0MSk7CgogICAgICAgICAgICAKICAgICAgICAKICAgIAogICAgICAgICAgICB2YXIgY2lyY2xlX21hcmtlcl85NjY5NDUwODFmY2Y0Zjg3ODkwOWYxNjMxMjZlOWQzYyA9IEwuY2lyY2xlTWFya2VyKAogICAgICAgICAgICAgICAgWzEyLjkzMDE4ODEsNzcuNTM3ODMzMl0sCiAgICAgICAgICAgICAgICB7CiAgImJ1YmJsaW5nTW91c2VFdmVudHMiOiB0cnVlLAogICJjb2xvciI6ICJibHVlIiwKICAiZGFzaEFycmF5IjogbnVsbCwKICAiZGFzaE9mZnNldCI6IG51bGwsCiAgImZpbGwiOiB0cnVlLAogICJmaWxsQ29sb3IiOiAiIzMxODZjYyIsCiAgImZpbGxPcGFjaXR5IjogMC43LAogICJmaWxsUnVsZSI6ICJldmVub2RkIiwKICAibGluZUNhcCI6ICJyb3VuZCIsCiAgImxpbmVKb2luIjogInJvdW5kIiwKICAib3BhY2l0eSI6IDEuMCwKICAicmFkaXVzIjogNSwKICAic3Ryb2tlIjogdHJ1ZSwKICAid2VpZ2h0IjogMwp9CiAgICAgICAgICAgICAgICApLmFkZFRvKG1hcF8yYWMwNDg5ZGY0NWY0ZjZmOTJjZjZhMjY5Yjc3YTMwMSk7CiAgICAgICAgICAgIAogICAgCiAgICAgICAgICAgIHZhciBwb3B1cF8xZGZiNjc0MjAxYmE0ODczYmMyODM1NGU1OGI0NDUzZCA9IEwucG9wdXAoe21heFdpZHRoOiAnMzAwJ30pOwoKICAgICAgICAgICAgCiAgICAgICAgICAgICAgICB2YXIgaHRtbF80MjNmMDZkYjM1Y2E0Y2RmODNiNDQ5ODc2M2FjYzU4ZCA9ICQoJzxkaXYgaWQ9Imh0bWxfNDIzZjA2ZGIzNWNhNGNkZjgzYjQ0OTg3NjNhY2M1OGQiIHN0eWxlPSJ3aWR0aDogMTAwLjAlOyBoZWlnaHQ6IDEwMC4wJTsiPkhvc2FrZXJlaGFsbGk8L2Rpdj4nKVswXTsKICAgICAgICAgICAgICAgIHBvcHVwXzFkZmI2NzQyMDFiYTQ4NzNiYzI4MzU0ZTU4YjQ0NTNkLnNldENvbnRlbnQoaHRtbF80MjNmMDZkYjM1Y2E0Y2RmODNiNDQ5ODc2M2FjYzU4ZCk7CiAgICAgICAgICAgIAoKICAgICAgICAgICAgY2lyY2xlX21hcmtlcl85NjY5NDUwODFmY2Y0Zjg3ODkwOWYxNjMxMjZlOWQzYy5iaW5kUG9wdXAocG9wdXBfMWRmYjY3NDIwMWJhNDg3M2JjMjgzNTRlNThiNDQ1M2QpOwoKICAgICAgICAgICAgCiAgICAgICAgCiAgICAKICAgICAgICAgICAgdmFyIGNpcmNsZV9tYXJrZXJfZDI5ZThlMWEyYmMwNDA4MDkyMzM4ZDBiMmIxMDdiZDQgPSBMLmNpcmNsZU1hcmtlcigKICAgICAgICAgICAgICAgIFsxMi45NTEwMTQxLDc3LjUzODc1MTNdLAogICAgICAgICAgICAgICAgewogICJidWJibGluZ01vdXNlRXZlbnRzIjogdHJ1ZSwKICAiY29sb3IiOiAiYmx1ZSIsCiAgImRhc2hBcnJheSI6IG51bGwsCiAgImRhc2hPZmZzZXQiOiBudWxsLAogICJmaWxsIjogdHJ1ZSwKICAiZmlsbENvbG9yIjogIiMzMTg2Y2MiLAogICJmaWxsT3BhY2l0eSI6IDAuNywKICAiZmlsbFJ1bGUiOiAiZXZlbm9kZCIsCiAgImxpbmVDYXAiOiAicm91bmQiLAogICJsaW5lSm9pbiI6ICJyb3VuZCIsCiAgIm9wYWNpdHkiOiAxLjAsCiAgInJhZGl1cyI6IDUsCiAgInN0cm9rZSI6IHRydWUsCiAgIndlaWdodCI6IDMKfQogICAgICAgICAgICAgICAgKS5hZGRUbyhtYXBfMmFjMDQ4OWRmNDVmNGY2ZjkyY2Y2YTI2OWI3N2EzMDEpOwogICAgICAgICAgICAKICAgIAogICAgICAgICAgICB2YXIgcG9wdXBfMTJiYTFkYWZlNzIyNDIwYTljMjFmMGQxY2I0YmI3YzIgPSBMLnBvcHVwKHttYXhXaWR0aDogJzMwMCd9KTsKCiAgICAgICAgICAgIAogICAgICAgICAgICAgICAgdmFyIGh0bWxfM2JmNGZlMThhOGQwNGZiZDgyM2QxMzZlNzFjZWYyOTQgPSAkKCc8ZGl2IGlkPSJodG1sXzNiZjRmZTE4YThkMDRmYmQ4MjNkMTM2ZTcxY2VmMjk0IiBzdHlsZT0id2lkdGg6IDEwMC4wJTsgaGVpZ2h0OiAxMDAuMCU7Ij5NeXNvcmUgUm9hZDwvZGl2PicpWzBdOwogICAgICAgICAgICAgICAgcG9wdXBfMTJiYTFkYWZlNzIyNDIwYTljMjFmMGQxY2I0YmI3YzIuc2V0Q29udGVudChodG1sXzNiZjRmZTE4YThkMDRmYmQ4MjNkMTM2ZTcxY2VmMjk0KTsKICAgICAgICAgICAgCgogICAgICAgICAgICBjaXJjbGVfbWFya2VyX2QyOWU4ZTFhMmJjMDQwODA5MjMzOGQwYjJiMTA3YmQ0LmJpbmRQb3B1cChwb3B1cF8xMmJhMWRhZmU3MjI0MjBhOWMyMWYwZDFjYjRiYjdjMik7CgogICAgICAgICAgICAKICAgICAgICAKICAgIAogICAgICAgICAgICB2YXIgY2lyY2xlX21hcmtlcl8yOTEwZjI4MzdmMjQ0MzEyYjA2ODZhNDhhMjlmN2Q4YiA9IEwuY2lyY2xlTWFya2VyKAogICAgICAgICAgICAgICAgWzEyLjkzMTMzNCw3Ny41MTU0Nzc5XSwKICAgICAgICAgICAgICAgIHsKICAiYnViYmxpbmdNb3VzZUV2ZW50cyI6IHRydWUsCiAgImNvbG9yIjogImJsdWUiLAogICJkYXNoQXJyYXkiOiBudWxsLAogICJkYXNoT2Zmc2V0IjogbnVsbCwKICAiZmlsbCI6IHRydWUsCiAgImZpbGxDb2xvciI6ICIjMzE4NmNjIiwKICAiZmlsbE9wYWNpdHkiOiAwLjcsCiAgImZpbGxSdWxlIjogImV2ZW5vZGQiLAogICJsaW5lQ2FwIjogInJvdW5kIiwKICAibGluZUpvaW4iOiAicm91bmQiLAogICJvcGFjaXR5IjogMS4wLAogICJyYWRpdXMiOiA1LAogICJzdHJva2UiOiB0cnVlLAogICJ3ZWlnaHQiOiAzCn0KICAgICAgICAgICAgICAgICkuYWRkVG8obWFwXzJhYzA0ODlkZjQ1ZjRmNmY5MmNmNmEyNjliNzdhMzAxKTsKICAgICAgICAgICAgCiAgICAKICAgICAgICAgICAgdmFyIHBvcHVwXzMyMmM4ZDRjMThlYTQ1NGU4NDA4MmMzMDJjNWFkZGQ4ID0gTC5wb3B1cCh7bWF4V2lkdGg6ICczMDAnfSk7CgogICAgICAgICAgICAKICAgICAgICAgICAgICAgIHZhciBodG1sXzM5MjQ0OWIxZjk2NjQ5NWFiZmM2MzJhZWJlMDA3MDJlID0gJCgnPGRpdiBpZD0iaHRtbF8zOTI0NDliMWY5NjY0OTVhYmZjNjMyYWViZTAwNzAyZSIgc3R5bGU9IndpZHRoOiAxMDAuMCU7IGhlaWdodDogMTAwLjAlOyI+UmFqYXJhamVzd2FyaSBuYWdhcjwvZGl2PicpWzBdOwogICAgICAgICAgICAgICAgcG9wdXBfMzIyYzhkNGMxOGVhNDU0ZTg0MDgyYzMwMmM1YWRkZDguc2V0Q29udGVudChodG1sXzM5MjQ0OWIxZjk2NjQ5NWFiZmM2MzJhZWJlMDA3MDJlKTsKICAgICAgICAgICAgCgogICAgICAgICAgICBjaXJjbGVfbWFya2VyXzI5MTBmMjgzN2YyNDQzMTJiMDY4NmE0OGEyOWY3ZDhiLmJpbmRQb3B1cChwb3B1cF8zMjJjOGQ0YzE4ZWE0NTRlODQwODJjMzAyYzVhZGRkOCk7CgogICAgICAgICAgICAKICAgICAgICAKICAgIAogICAgICAgICAgICB2YXIgY2lyY2xlX21hcmtlcl80Yzk4ODM4OGExN2U0NWNkYWY5YTE0MWRhMjFiZTg0OCA9IEwuY2lyY2xlTWFya2VyKAogICAgICAgICAgICAgICAgWzEzLjEzMTIyMzcsNzcuNjk1NzY4MV0sCiAgICAgICAgICAgICAgICB7CiAgImJ1YmJsaW5nTW91c2VFdmVudHMiOiB0cnVlLAogICJjb2xvciI6ICJibHVlIiwKICAiZGFzaEFycmF5IjogbnVsbCwKICAiZGFzaE9mZnNldCI6IG51bGwsCiAgImZpbGwiOiB0cnVlLAogICJmaWxsQ29sb3IiOiAiIzMxODZjYyIsCiAgImZpbGxPcGFjaXR5IjogMC43LAogICJmaWxsUnVsZSI6ICJldmVub2RkIiwKICAibGluZUNhcCI6ICJyb3VuZCIsCiAgImxpbmVKb2luIjogInJvdW5kIiwKICAib3BhY2l0eSI6IDEuMCwKICAicmFkaXVzIjogNSwKICAic3Ryb2tlIjogdHJ1ZSwKICAid2VpZ2h0IjogMwp9CiAgICAgICAgICAgICAgICApLmFkZFRvKG1hcF8yYWMwNDg5ZGY0NWY0ZjZmOTJjZjZhMjY5Yjc3YTMwMSk7CiAgICAgICAgICAgIAogICAgCiAgICAgICAgICAgIHZhciBwb3B1cF9mNzAwN2ZlMjNlMmU0N2Q0YTgxZDQ5NWUxZjI4ZjNhMCA9IEwucG9wdXAoe21heFdpZHRoOiAnMzAwJ30pOwoKICAgICAgICAgICAgCiAgICAgICAgICAgICAgICB2YXIgaHRtbF80YWVkNzU0ZTM2NzY0MTMwOGFmNjlmMWNjYmZmZTQ5OCA9ICQoJzxkaXYgaWQ9Imh0bWxfNGFlZDc1NGUzNjc2NDEzMDhhZjY5ZjFjY2JmZmU0OTgiIHN0eWxlPSJ3aWR0aDogMTAwLjAlOyBoZWlnaHQ6IDEwMC4wJTsiPlllZGl5dXI8L2Rpdj4nKVswXTsKICAgICAgICAgICAgICAgIHBvcHVwX2Y3MDA3ZmUyM2UyZTQ3ZDRhODFkNDk1ZTFmMjhmM2EwLnNldENvbnRlbnQoaHRtbF80YWVkNzU0ZTM2NzY0MTMwOGFmNjlmMWNjYmZmZTQ5OCk7CiAgICAgICAgICAgIAoKICAgICAgICAgICAgY2lyY2xlX21hcmtlcl80Yzk4ODM4OGExN2U0NWNkYWY5YTE0MWRhMjFiZTg0OC5iaW5kUG9wdXAocG9wdXBfZjcwMDdmZTIzZTJlNDdkNGE4MWQ0OTVlMWYyOGYzYTApOwoKICAgICAgICAgICAgCiAgICAgICAgCiAgICAKICAgICAgICAgICAgdmFyIGNpcmNsZV9tYXJrZXJfOGJmZGRmOGRlM2JhNDAzMDk1NWIyMWZmZDhjMDU4N2MgPSBMLmNpcmNsZU1hcmtlcigKICAgICAgICAgICAgICAgIFsxMi45NDIyMTA1LDc3LjU3NDE1MDddLAogICAgICAgICAgICAgICAgewogICJidWJibGluZ01vdXNlRXZlbnRzIjogdHJ1ZSwKICAiY29sb3IiOiAiYmx1ZSIsCiAgImRhc2hBcnJheSI6IG51bGwsCiAgImRhc2hPZmZzZXQiOiBudWxsLAogICJmaWxsIjogdHJ1ZSwKICAiZmlsbENvbG9yIjogIiMzMTg2Y2MiLAogICJmaWxsT3BhY2l0eSI6IDAuNywKICAiZmlsbFJ1bGUiOiAiZXZlbm9kZCIsCiAgImxpbmVDYXAiOiAicm91bmQiLAogICJsaW5lSm9pbiI6ICJyb3VuZCIsCiAgIm9wYWNpdHkiOiAxLjAsCiAgInJhZGl1cyI6IDUsCiAgInN0cm9rZSI6IHRydWUsCiAgIndlaWdodCI6IDMKfQogICAgICAgICAgICAgICAgKS5hZGRUbyhtYXBfMmFjMDQ4OWRmNDVmNGY2ZjkyY2Y2YTI2OWI3N2EzMDEpOwogICAgICAgICAgICAKICAgIAogICAgICAgICAgICB2YXIgcG9wdXBfNzJmYTJhMTZjZGZjNDg2OTgxNmE4Y2I5YzRmNTcwNWYgPSBMLnBvcHVwKHttYXhXaWR0aDogJzMwMCd9KTsKCiAgICAgICAgICAgIAogICAgICAgICAgICAgICAgdmFyIGh0bWxfOGI4NGQ5NWM2OTg4NDg0NzhjMmYwZDQ3ZDk5NGNhNmIgPSAkKCc8ZGl2IGlkPSJodG1sXzhiODRkOTVjNjk4ODQ4NDc4YzJmMGQ0N2Q5OTRjYTZiIiBzdHlsZT0id2lkdGg6IDEwMC4wJTsgaGVpZ2h0OiAxMDAuMCU7Ij5CYXNhdmFuZ3VkaTwvZGl2PicpWzBdOwogICAgICAgICAgICAgICAgcG9wdXBfNzJmYTJhMTZjZGZjNDg2OTgxNmE4Y2I5YzRmNTcwNWYuc2V0Q29udGVudChodG1sXzhiODRkOTVjNjk4ODQ4NDc4YzJmMGQ0N2Q5OTRjYTZiKTsKICAgICAgICAgICAgCgogICAgICAgICAgICBjaXJjbGVfbWFya2VyXzhiZmRkZjhkZTNiYTQwMzA5NTViMjFmZmQ4YzA1ODdjLmJpbmRQb3B1cChwb3B1cF83MmZhMmExNmNkZmM0ODY5ODE2YThjYjljNGY1NzA1Zik7CgogICAgICAgICAgICAKICAgICAgICAKICAgIAogICAgICAgICAgICB2YXIgY2lyY2xlX21hcmtlcl83NzNhYzFjN2ZmYjE0MGQ3OWNlNGRmYTljZDIzY2M4NyA9IEwuY2lyY2xlTWFya2VyKAogICAgICAgICAgICAgICAgWzEyLjkwOTkwODUsNzcuNTYxNzk5MTE0OTc4NDhdLAogICAgICAgICAgICAgICAgewogICJidWJibGluZ01vdXNlRXZlbnRzIjogdHJ1ZSwKICAiY29sb3IiOiAiYmx1ZSIsCiAgImRhc2hBcnJheSI6IG51bGwsCiAgImRhc2hPZmZzZXQiOiBudWxsLAogICJmaWxsIjogdHJ1ZSwKICAiZmlsbENvbG9yIjogIiMzMTg2Y2MiLAogICJmaWxsT3BhY2l0eSI6IDAuNywKICAiZmlsbFJ1bGUiOiAiZXZlbm9kZCIsCiAgImxpbmVDYXAiOiAicm91bmQiLAogICJsaW5lSm9pbiI6ICJyb3VuZCIsCiAgIm9wYWNpdHkiOiAxLjAsCiAgInJhZGl1cyI6IDUsCiAgInN0cm9rZSI6IHRydWUsCiAgIndlaWdodCI6IDMKfQogICAgICAgICAgICAgICAgKS5hZGRUbyhtYXBfMmFjMDQ4OWRmNDVmNGY2ZjkyY2Y2YTI2OWI3N2EzMDEpOwogICAgICAgICAgICAKICAgIAogICAgICAgICAgICB2YXIgcG9wdXBfMDc3OTY2NTMzNmI3NGNlZWI5MDEyNGY5MDA3ZjQ4ZmYgPSBMLnBvcHVwKHttYXhXaWR0aDogJzMwMCd9KTsKCiAgICAgICAgICAgIAogICAgICAgICAgICAgICAgdmFyIGh0bWxfMDNiNmQxZTYzY2YxNDJmOGFlNmRhODkxOTIwY2YzMjMgPSAkKCc8ZGl2IGlkPSJodG1sXzAzYjZkMWU2M2NmMTQyZjhhZTZkYTg5MTkyMGNmMzIzIiBzdHlsZT0id2lkdGg6IDEwMC4wJTsgaGVpZ2h0OiAxMDAuMCU7Ij5LdW1hcnN3YW15IExheW91dDwvZGl2PicpWzBdOwogICAgICAgICAgICAgICAgcG9wdXBfMDc3OTY2NTMzNmI3NGNlZWI5MDEyNGY5MDA3ZjQ4ZmYuc2V0Q29udGVudChodG1sXzAzYjZkMWU2M2NmMTQyZjhhZTZkYTg5MTkyMGNmMzIzKTsKICAgICAgICAgICAgCgogICAgICAgICAgICBjaXJjbGVfbWFya2VyXzc3M2FjMWM3ZmZiMTQwZDc5Y2U0ZGZhOWNkMjNjYzg3LmJpbmRQb3B1cChwb3B1cF8wNzc5NjY1MzM2Yjc0Y2VlYjkwMTI0ZjkwMDdmNDhmZik7CgogICAgICAgICAgICAKICAgICAgICAKICAgIAogICAgICAgICAgICB2YXIgY2lyY2xlX21hcmtlcl8zNWY5OWY3MDFmNmE0MGI4YWY0MmRiNGYxZjMxZDQxYyA9IEwuY2lyY2xlTWFya2VyKAogICAgICAgICAgICAgICAgWzEyLjkxNTIyMDgsNzcuNTczNTk4XSwKICAgICAgICAgICAgICAgIHsKICAiYnViYmxpbmdNb3VzZUV2ZW50cyI6IHRydWUsCiAgImNvbG9yIjogImJsdWUiLAogICJkYXNoQXJyYXkiOiBudWxsLAogICJkYXNoT2Zmc2V0IjogbnVsbCwKICAiZmlsbCI6IHRydWUsCiAgImZpbGxDb2xvciI6ICIjMzE4NmNjIiwKICAiZmlsbE9wYWNpdHkiOiAwLjcsCiAgImZpbGxSdWxlIjogImV2ZW5vZGQiLAogICJsaW5lQ2FwIjogInJvdW5kIiwKICAibGluZUpvaW4iOiAicm91bmQiLAogICJvcGFjaXR5IjogMS4wLAogICJyYWRpdXMiOiA1LAogICJzdHJva2UiOiB0cnVlLAogICJ3ZWlnaHQiOiAzCn0KICAgICAgICAgICAgICAgICkuYWRkVG8obWFwXzJhYzA0ODlkZjQ1ZjRmNmY5MmNmNmEyNjliNzdhMzAxKTsKICAgICAgICAgICAgCiAgICAKICAgICAgICAgICAgdmFyIHBvcHVwXzIxNjJlZDNhMDlhZTQ3YWZhMDFjMmQxMTZiYzAyZTY4ID0gTC5wb3B1cCh7bWF4V2lkdGg6ICczMDAnfSk7CgogICAgICAgICAgICAKICAgICAgICAgICAgICAgIHZhciBodG1sXzAwMTEyZDA3ODU5ZjQzZmQ5MGQ2Y2FhMmIxZDdkNGM2ID0gJCgnPGRpdiBpZD0iaHRtbF8wMDExMmQwNzg1OWY0M2ZkOTBkNmNhYTJiMWQ3ZDRjNiIgc3R5bGU9IndpZHRoOiAxMDAuMCU7IGhlaWdodDogMTAwLjAlOyI+QmFuYXNoYW5rYXJpPC9kaXY+JylbMF07CiAgICAgICAgICAgICAgICBwb3B1cF8yMTYyZWQzYTA5YWU0N2FmYTAxYzJkMTE2YmMwMmU2OC5zZXRDb250ZW50KGh0bWxfMDAxMTJkMDc4NTlmNDNmZDkwZDZjYWEyYjFkN2Q0YzYpOwogICAgICAgICAgICAKCiAgICAgICAgICAgIGNpcmNsZV9tYXJrZXJfMzVmOTlmNzAxZjZhNDBiOGFmNDJkYjRmMWYzMWQ0MWMuYmluZFBvcHVwKHBvcHVwXzIxNjJlZDNhMDlhZTQ3YWZhMDFjMmQxMTZiYzAyZTY4KTsKCiAgICAgICAgICAgIAogICAgICAgIAogICAgCiAgICAgICAgICAgIHZhciBjaXJjbGVfbWFya2VyXzhlNTEyZDEzMzIyYTQ2Y2ZhOTQ4ZDFjZjIxNmJiZDhjID0gTC5jaXJjbGVNYXJrZXIoCiAgICAgICAgICAgICAgICBbMTIuOTc5MTE5OCw3Ny41OTEyOTk3XSwKICAgICAgICAgICAgICAgIHsKICAiYnViYmxpbmdNb3VzZUV2ZW50cyI6IHRydWUsCiAgImNvbG9yIjogImJsdWUiLAogICJkYXNoQXJyYXkiOiBudWxsLAogICJkYXNoT2Zmc2V0IjogbnVsbCwKICAiZmlsbCI6IHRydWUsCiAgImZpbGxDb2xvciI6ICIjMzE4NmNjIiwKICAiZmlsbE9wYWNpdHkiOiAwLjcsCiAgImZpbGxSdWxlIjogImV2ZW5vZGQiLAogICJsaW5lQ2FwIjogInJvdW5kIiwKICAibGluZUpvaW4iOiAicm91bmQiLAogICJvcGFjaXR5IjogMS4wLAogICJyYWRpdXMiOiA1LAogICJzdHJva2UiOiB0cnVlLAogICJ3ZWlnaHQiOiAzCn0KICAgICAgICAgICAgICAgICkuYWRkVG8obWFwXzJhYzA0ODlkZjQ1ZjRmNmY5MmNmNmEyNjliNzdhMzAxKTsKICAgICAgICAgICAgCiAgICAKICAgICAgICAgICAgdmFyIHBvcHVwX2IwOWY4M2VkN2Q2MjRiM2ZiZWNkYzE0MzJkNjcyZjRkID0gTC5wb3B1cCh7bWF4V2lkdGg6ICczMDAnfSk7CgogICAgICAgICAgICAKICAgICAgICAgICAgICAgIHZhciBodG1sX2IzZDNmZjExZjU2ZTQwN2Y5MzExZDk0MzgwMjg5ZjZmID0gJCgnPGRpdiBpZD0iaHRtbF9iM2QzZmYxMWY1NmU0MDdmOTMxMWQ5NDM4MDI4OWY2ZiIgc3R5bGU9IndpZHRoOiAxMDAuMCU7IGhlaWdodDogMTAwLjAlOyI+VGltYmVyIFlhcmQgTGF5b3V0PC9kaXY+JylbMF07CiAgICAgICAgICAgICAgICBwb3B1cF9iMDlmODNlZDdkNjI0YjNmYmVjZGMxNDMyZDY3MmY0ZC5zZXRDb250ZW50KGh0bWxfYjNkM2ZmMTFmNTZlNDA3ZjkzMTFkOTQzODAyODlmNmYpOwogICAgICAgICAgICAKCiAgICAgICAgICAgIGNpcmNsZV9tYXJrZXJfOGU1MTJkMTMzMjJhNDZjZmE5NDhkMWNmMjE2YmJkOGMuYmluZFBvcHVwKHBvcHVwX2IwOWY4M2VkN2Q2MjRiM2ZiZWNkYzE0MzJkNjcyZjRkKTsKCiAgICAgICAgICAgIAogICAgICAgIAogICAgCiAgICAgICAgICAgIHZhciBjaXJjbGVfbWFya2VyXzAyOTVmNjQzMzQ4OTRlZGRhYjYwNzRmOTI5YmIzMDU1ID0gTC5jaXJjbGVNYXJrZXIoCiAgICAgICAgICAgICAgICBbMTMuMDAyNTcxOSw3Ny41MjU2NDY1XSwKICAgICAgICAgICAgICAgIHsKICAiYnViYmxpbmdNb3VzZUV2ZW50cyI6IHRydWUsCiAgImNvbG9yIjogImJsdWUiLAogICJkYXNoQXJyYXkiOiBudWxsLAogICJkYXNoT2Zmc2V0IjogbnVsbCwKICAiZmlsbCI6IHRydWUsCiAgImZpbGxDb2xvciI6ICIjMzE4NmNjIiwKICAiZmlsbE9wYWNpdHkiOiAwLjcsCiAgImZpbGxSdWxlIjogImV2ZW5vZGQiLAogICJsaW5lQ2FwIjogInJvdW5kIiwKICAibGluZUpvaW4iOiAicm91bmQiLAogICJvcGFjaXR5IjogMS4wLAogICJyYWRpdXMiOiA1LAogICJzdHJva2UiOiB0cnVlLAogICJ3ZWlnaHQiOiAzCn0KICAgICAgICAgICAgICAgICkuYWRkVG8obWFwXzJhYzA0ODlkZjQ1ZjRmNmY5MmNmNmEyNjliNzdhMzAxKTsKICAgICAgICAgICAgCiAgICAKICAgICAgICAgICAgdmFyIHBvcHVwXzRjNjcwYWNkNzE5ODRjNzhiMWQxMDMxNGJiMDY4YWE4ID0gTC5wb3B1cCh7bWF4V2lkdGg6ICczMDAnfSk7CgogICAgICAgICAgICAKICAgICAgICAgICAgICAgIHZhciBodG1sXzJjNjJlNjk0MzkwZDRhOWU5Y2ExZGI0NzM4ZjBlNjU2ID0gJCgnPGRpdiBpZD0iaHRtbF8yYzYyZTY5NDM5MGQ0YTllOWNhMWRiNDczOGYwZTY1NiIgc3R5bGU9IndpZHRoOiAxMDAuMCU7IGhlaWdodDogMTAwLjAlOyI+S2VtcGVnb3dkYSBOYWdhcjwvZGl2PicpWzBdOwogICAgICAgICAgICAgICAgcG9wdXBfNGM2NzBhY2Q3MTk4NGM3OGIxZDEwMzE0YmIwNjhhYTguc2V0Q29udGVudChodG1sXzJjNjJlNjk0MzkwZDRhOWU5Y2ExZGI0NzM4ZjBlNjU2KTsKICAgICAgICAgICAgCgogICAgICAgICAgICBjaXJjbGVfbWFya2VyXzAyOTVmNjQzMzQ4OTRlZGRhYjYwNzRmOTI5YmIzMDU1LmJpbmRQb3B1cChwb3B1cF80YzY3MGFjZDcxOTg0Yzc4YjFkMTAzMTRiYjA2OGFhOCk7CgogICAgICAgICAgICAKICAgICAgICAKICAgIAogICAgICAgICAgICB2YXIgY2lyY2xlX21hcmtlcl82MWIxYjM5NWQyZjQ0OTBmYjYyZmJiZjgyZTQ2ODgyOSA9IEwuY2lyY2xlTWFya2VyKAogICAgICAgICAgICAgICAgWzEyLjk0NDcyMSw3Ny41Njc4OThdLAogICAgICAgICAgICAgICAgewogICJidWJibGluZ01vdXNlRXZlbnRzIjogdHJ1ZSwKICAiY29sb3IiOiAiYmx1ZSIsCiAgImRhc2hBcnJheSI6IG51bGwsCiAgImRhc2hPZmZzZXQiOiBudWxsLAogICJmaWxsIjogdHJ1ZSwKICAiZmlsbENvbG9yIjogIiMzMTg2Y2MiLAogICJmaWxsT3BhY2l0eSI6IDAuNywKICAiZmlsbFJ1bGUiOiAiZXZlbm9kZCIsCiAgImxpbmVDYXAiOiAicm91bmQiLAogICJsaW5lSm9pbiI6ICJyb3VuZCIsCiAgIm9wYWNpdHkiOiAxLjAsCiAgInJhZGl1cyI6IDUsCiAgInN0cm9rZSI6IHRydWUsCiAgIndlaWdodCI6IDMKfQogICAgICAgICAgICAgICAgKS5hZGRUbyhtYXBfMmFjMDQ4OWRmNDVmNGY2ZjkyY2Y2YTI2OWI3N2EzMDEpOwogICAgICAgICAgICAKICAgIAogICAgICAgICAgICB2YXIgcG9wdXBfMzA0ZmY2NzEyNmUyNDFiM2FiZTkwMWE3MTJiM2QzZjUgPSBMLnBvcHVwKHttYXhXaWR0aDogJzMwMCd9KTsKCiAgICAgICAgICAgIAogICAgICAgICAgICAgICAgdmFyIGh0bWxfNzZkZTFmYmMxMzhiNDgxNGI3ZGU2ODRiNDFlN2JiNjAgPSAkKCc8ZGl2IGlkPSJodG1sXzc2ZGUxZmJjMTM4YjQ4MTRiN2RlNjg0YjQxZTdiYjYwIiBzdHlsZT0id2lkdGg6IDEwMC4wJTsgaGVpZ2h0OiAxMDAuMCU7Ij5CdWxsIFRlbXBsZSBSZDwvZGl2PicpWzBdOwogICAgICAgICAgICAgICAgcG9wdXBfMzA0ZmY2NzEyNmUyNDFiM2FiZTkwMWE3MTJiM2QzZjUuc2V0Q29udGVudChodG1sXzc2ZGUxZmJjMTM4YjQ4MTRiN2RlNjg0YjQxZTdiYjYwKTsKICAgICAgICAgICAgCgogICAgICAgICAgICBjaXJjbGVfbWFya2VyXzYxYjFiMzk1ZDJmNDQ5MGZiNjJmYmJmODJlNDY4ODI5LmJpbmRQb3B1cChwb3B1cF8zMDRmZjY3MTI2ZTI0MWIzYWJlOTAxYTcxMmIzZDNmNSk7CgogICAgICAgICAgICAKICAgICAgICAKICAgIAogICAgICAgICAgICB2YXIgY2lyY2xlX21hcmtlcl8zNGE2YWM0MDcxMjg0M2Y3ODdhMjVmOGY5MmIwMGM0NiA9IEwuY2lyY2xlTWFya2VyKAogICAgICAgICAgICAgICAgWzEyLjk0ODI3NjcsNzcuNTcwNzgwMl0sCiAgICAgICAgICAgICAgICB7CiAgImJ1YmJsaW5nTW91c2VFdmVudHMiOiB0cnVlLAogICJjb2xvciI6ICJibHVlIiwKICAiZGFzaEFycmF5IjogbnVsbCwKICAiZGFzaE9mZnNldCI6IG51bGwsCiAgImZpbGwiOiB0cnVlLAogICJmaWxsQ29sb3IiOiAiIzMxODZjYyIsCiAgImZpbGxPcGFjaXR5IjogMC43LAogICJmaWxsUnVsZSI6ICJldmVub2RkIiwKICAibGluZUNhcCI6ICJyb3VuZCIsCiAgImxpbmVKb2luIjogInJvdW5kIiwKICAib3BhY2l0eSI6IDEuMCwKICAicmFkaXVzIjogNSwKICAic3Ryb2tlIjogdHJ1ZSwKICAid2VpZ2h0IjogMwp9CiAgICAgICAgICAgICAgICApLmFkZFRvKG1hcF8yYWMwNDg5ZGY0NWY0ZjZmOTJjZjZhMjY5Yjc3YTMwMSk7CiAgICAgICAgICAgIAogICAgCiAgICAgICAgICAgIHZhciBwb3B1cF9iOWU2YjkzOTYxZTM0NDc5OGQ5MjdlYzdmMDdkZjhiZiA9IEwucG9wdXAoe21heFdpZHRoOiAnMzAwJ30pOwoKICAgICAgICAgICAgCiAgICAgICAgICAgICAgICB2YXIgaHRtbF9jNDk0MDdmMGM1ZDM0MWMwODM1YzA1NTg5YTA2MDRiMyA9ICQoJzxkaXYgaWQ9Imh0bWxfYzQ5NDA3ZjBjNWQzNDFjMDgzNWMwNTU4OWEwNjA0YjMiIHN0eWxlPSJ3aWR0aDogMTAwLjAlOyBoZWlnaHQ6IDEwMC4wJTsiPkdhbmRoaSBCYXphcjwvZGl2PicpWzBdOwogICAgICAgICAgICAgICAgcG9wdXBfYjllNmI5Mzk2MWUzNDQ3OThkOTI3ZWM3ZjA3ZGY4YmYuc2V0Q29udGVudChodG1sX2M0OTQwN2YwYzVkMzQxYzA4MzVjMDU1ODlhMDYwNGIzKTsKICAgICAgICAgICAgCgogICAgICAgICAgICBjaXJjbGVfbWFya2VyXzM0YTZhYzQwNzEyODQzZjc4N2EyNWY4ZjkyYjAwYzQ2LmJpbmRQb3B1cChwb3B1cF9iOWU2YjkzOTYxZTM0NDc5OGQ5MjdlYzdmMDdkZjhiZik7CgogICAgICAgICAgICAKICAgICAgICAKICAgIAogICAgICAgICAgICB2YXIgY2lyY2xlX21hcmtlcl9kNjc1Mzk2NzQwY2U0NDVkYTJkYzJlZjZmYTdlMWE0NiA9IEwuY2lyY2xlTWFya2VyKAogICAgICAgICAgICAgICAgWzEyLjkzNjM2MDUsNzcuNTgwMTM0Nl0sCiAgICAgICAgICAgICAgICB7CiAgImJ1YmJsaW5nTW91c2VFdmVudHMiOiB0cnVlLAogICJjb2xvciI6ICJibHVlIiwKICAiZGFzaEFycmF5IjogbnVsbCwKICAiZGFzaE9mZnNldCI6IG51bGwsCiAgImZpbGwiOiB0cnVlLAogICJmaWxsQ29sb3IiOiAiIzMxODZjYyIsCiAgImZpbGxPcGFjaXR5IjogMC43LAogICJmaWxsUnVsZSI6ICJldmVub2RkIiwKICAibGluZUNhcCI6ICJyb3VuZCIsCiAgImxpbmVKb2luIjogInJvdW5kIiwKICAib3BhY2l0eSI6IDEuMCwKICAicmFkaXVzIjogNSwKICAic3Ryb2tlIjogdHJ1ZSwKICAid2VpZ2h0IjogMwp9CiAgICAgICAgICAgICAgICApLmFkZFRvKG1hcF8yYWMwNDg5ZGY0NWY0ZjZmOTJjZjZhMjY5Yjc3YTMwMSk7CiAgICAgICAgICAgIAogICAgCiAgICAgICAgICAgIHZhciBwb3B1cF83NjA1ZmYxNmMwNzc0YTkyYTI5N2ZkYjc3NGJlYTM5OSA9IEwucG9wdXAoe21heFdpZHRoOiAnMzAwJ30pOwoKICAgICAgICAgICAgCiAgICAgICAgICAgICAgICB2YXIgaHRtbF8zMmFlMjMwOTEzNWE0MGU0YWRkODZkMTgzYjMxZmQ3YyA9ICQoJzxkaXYgaWQ9Imh0bWxfMzJhZTIzMDkxMzVhNDBlNGFkZDg2ZDE4M2IzMWZkN2MiIHN0eWxlPSJ3aWR0aDogMTAwLjAlOyBoZWlnaHQ6IDEwMC4wJTsiPlJWIFJkPC9kaXY+JylbMF07CiAgICAgICAgICAgICAgICBwb3B1cF83NjA1ZmYxNmMwNzc0YTkyYTI5N2ZkYjc3NGJlYTM5OS5zZXRDb250ZW50KGh0bWxfMzJhZTIzMDkxMzVhNDBlNGFkZDg2ZDE4M2IzMWZkN2MpOwogICAgICAgICAgICAKCiAgICAgICAgICAgIGNpcmNsZV9tYXJrZXJfZDY3NTM5Njc0MGNlNDQ1ZGEyZGMyZWY2ZmE3ZTFhNDYuYmluZFBvcHVwKHBvcHVwXzc2MDVmZjE2YzA3NzRhOTJhMjk3ZmRiNzc0YmVhMzk5KTsKCiAgICAgICAgICAgIAogICAgICAgIAogICAgCiAgICAgICAgICAgIHZhciBjaXJjbGVfbWFya2VyX2Q0ZjkwNGVhN2JhYzRlZmZiMmQwOWJjNGM2MGE0OTllID0gTC5jaXJjbGVNYXJrZXIoCiAgICAgICAgICAgICAgICBbMTIuOTY0NjI4LDc3LjU5NjkxNzddLAogICAgICAgICAgICAgICAgewogICJidWJibGluZ01vdXNlRXZlbnRzIjogdHJ1ZSwKICAiY29sb3IiOiAiYmx1ZSIsCiAgImRhc2hBcnJheSI6IG51bGwsCiAgImRhc2hPZmZzZXQiOiBudWxsLAogICJmaWxsIjogdHJ1ZSwKICAiZmlsbENvbG9yIjogIiMzMTg2Y2MiLAogICJmaWxsT3BhY2l0eSI6IDAuNywKICAiZmlsbFJ1bGUiOiAiZXZlbm9kZCIsCiAgImxpbmVDYXAiOiAicm91bmQiLAogICJsaW5lSm9pbiI6ICJyb3VuZCIsCiAgIm9wYWNpdHkiOiAxLjAsCiAgInJhZGl1cyI6IDUsCiAgInN0cm9rZSI6IHRydWUsCiAgIndlaWdodCI6IDMKfQogICAgICAgICAgICAgICAgKS5hZGRUbyhtYXBfMmFjMDQ4OWRmNDVmNGY2ZjkyY2Y2YTI2OWI3N2EzMDEpOwogICAgICAgICAgICAKICAgIAogICAgICAgICAgICB2YXIgcG9wdXBfMzA4N2VlMTkyZWRiNDJlMzhlM2M1ZTZhZGY1MGI4OTQgPSBMLnBvcHVwKHttYXhXaWR0aDogJzMwMCd9KTsKCiAgICAgICAgICAgIAogICAgICAgICAgICAgICAgdmFyIGh0bWxfMTYyZjgzYzI4ODM0NDI5ZGFjMmRmZWIyZWYwMTU3NjkgPSAkKCc8ZGl2IGlkPSJodG1sXzE2MmY4M2MyODgzNDQyOWRhYzJkZmViMmVmMDE1NzY5IiBzdHlsZT0id2lkdGg6IDEwMC4wJTsgaGVpZ2h0OiAxMDAuMCU7Ij5NaXNzaW9uIFJkPC9kaXY+JylbMF07CiAgICAgICAgICAgICAgICBwb3B1cF8zMDg3ZWUxOTJlZGI0MmUzOGUzYzVlNmFkZjUwYjg5NC5zZXRDb250ZW50KGh0bWxfMTYyZjgzYzI4ODM0NDI5ZGFjMmRmZWIyZWYwMTU3NjkpOwogICAgICAgICAgICAKCiAgICAgICAgICAgIGNpcmNsZV9tYXJrZXJfZDRmOTA0ZWE3YmFjNGVmZmIyZDA5YmM0YzYwYTQ5OWUuYmluZFBvcHVwKHBvcHVwXzMwODdlZTE5MmVkYjQyZTM4ZTNjNWU2YWRmNTBiODk0KTsKCiAgICAgICAgICAgIAogICAgICAgIAogICAgCiAgICAgICAgICAgIHZhciBjaXJjbGVfbWFya2VyX2VlZTRjZDM2NzM0ODQ3ZWY5ZTJlMDE3YzYyNzBkZThhID0gTC5jaXJjbGVNYXJrZXIoCiAgICAgICAgICAgICAgICBbMTIuOTQyODQ3Miw3Ny42MTA0MTU1XSwKICAgICAgICAgICAgICAgIHsKICAiYnViYmxpbmdNb3VzZUV2ZW50cyI6IHRydWUsCiAgImNvbG9yIjogImJsdWUiLAogICJkYXNoQXJyYXkiOiBudWxsLAogICJkYXNoT2Zmc2V0IjogbnVsbCwKICAiZmlsbCI6IHRydWUsCiAgImZpbGxDb2xvciI6ICIjMzE4NmNjIiwKICAiZmlsbE9wYWNpdHkiOiAwLjcsCiAgImZpbGxSdWxlIjogImV2ZW5vZGQiLAogICJsaW5lQ2FwIjogInJvdW5kIiwKICAibGluZUpvaW4iOiAicm91bmQiLAogICJvcGFjaXR5IjogMS4wLAogICJyYWRpdXMiOiA1LAogICJzdHJva2UiOiB0cnVlLAogICJ3ZWlnaHQiOiAzCn0KICAgICAgICAgICAgICAgICkuYWRkVG8obWFwXzJhYzA0ODlkZjQ1ZjRmNmY5MmNmNmEyNjliNzdhMzAxKTsKICAgICAgICAgICAgCiAgICAKICAgICAgICAgICAgdmFyIHBvcHVwXzk5ODAwODA5NzUxYjRkMTc5NjZlZGRhNTdlYzM1YjFiID0gTC5wb3B1cCh7bWF4V2lkdGg6ICczMDAnfSk7CgogICAgICAgICAgICAKICAgICAgICAgICAgICAgIHZhciBodG1sXzUzYTQ1MmNiNjdhMTRjYzlhZmEwNTZiZWFjM2UyYTI2ID0gJCgnPGRpdiBpZD0iaHRtbF81M2E0NTJjYjY3YTE0Y2M5YWZhMDU2YmVhYzNlMmEyNiIgc3R5bGU9IndpZHRoOiAxMDAuMCU7IGhlaWdodDogMTAwLjAlOyI+QWR1Z29kaTwvZGl2PicpWzBdOwogICAgICAgICAgICAgICAgcG9wdXBfOTk4MDA4MDk3NTFiNGQxNzk2NmVkZGE1N2VjMzViMWIuc2V0Q29udGVudChodG1sXzUzYTQ1MmNiNjdhMTRjYzlhZmEwNTZiZWFjM2UyYTI2KTsKICAgICAgICAgICAgCgogICAgICAgICAgICBjaXJjbGVfbWFya2VyX2VlZTRjZDM2NzM0ODQ3ZWY5ZTJlMDE3YzYyNzBkZThhLmJpbmRQb3B1cChwb3B1cF85OTgwMDgwOTc1MWI0ZDE3OTY2ZWRkYTU3ZWMzNWIxYik7CgogICAgICAgICAgICAKICAgICAgICAKICAgIAogICAgICAgICAgICB2YXIgY2lyY2xlX21hcmtlcl9mNmQwMmMyNjcyZjg0OTVkYTY2YjAzMWIxMTY5NWZmZCA9IEwuY2lyY2xlTWFya2VyKAogICAgICAgICAgICAgICAgWzEyLjk0ODkzMzksNzcuNTk2ODI3M10sCiAgICAgICAgICAgICAgICB7CiAgImJ1YmJsaW5nTW91c2VFdmVudHMiOiB0cnVlLAogICJjb2xvciI6ICJibHVlIiwKICAiZGFzaEFycmF5IjogbnVsbCwKICAiZGFzaE9mZnNldCI6IG51bGwsCiAgImZpbGwiOiB0cnVlLAogICJmaWxsQ29sb3IiOiAiIzMxODZjYyIsCiAgImZpbGxPcGFjaXR5IjogMC43LAogICJmaWxsUnVsZSI6ICJldmVub2RkIiwKICAibGluZUNhcCI6ICJyb3VuZCIsCiAgImxpbmVKb2luIjogInJvdW5kIiwKICAib3BhY2l0eSI6IDEuMCwKICAicmFkaXVzIjogNSwKICAic3Ryb2tlIjogdHJ1ZSwKICAid2VpZ2h0IjogMwp9CiAgICAgICAgICAgICAgICApLmFkZFRvKG1hcF8yYWMwNDg5ZGY0NWY0ZjZmOTJjZjZhMjY5Yjc3YTMwMSk7CiAgICAgICAgICAgIAogICAgCiAgICAgICAgICAgIHZhciBwb3B1cF9jN2U5YjFkMjdjMzE0OTNkYjk5NmVjNjE3NzRlZWY1ZiA9IEwucG9wdXAoe21heFdpZHRoOiAnMzAwJ30pOwoKICAgICAgICAgICAgCiAgICAgICAgICAgICAgICB2YXIgaHRtbF81NzM5N2Y3ODllZDg0M2U1ODI1NmI0ZDhmNjEzOTFlNCA9ICQoJzxkaXYgaWQ9Imh0bWxfNTczOTdmNzg5ZWQ4NDNlNTgyNTZiNGQ4ZjYxMzkxZTQiIHN0eWxlPSJ3aWR0aDogMTAwLjAlOyBoZWlnaHQ6IDEwMC4wJTsiPldpbHNvbiBHYXJkZW48L2Rpdj4nKVswXTsKICAgICAgICAgICAgICAgIHBvcHVwX2M3ZTliMWQyN2MzMTQ5M2RiOTk2ZWM2MTc3NGVlZjVmLnNldENvbnRlbnQoaHRtbF81NzM5N2Y3ODllZDg0M2U1ODI1NmI0ZDhmNjEzOTFlNCk7CiAgICAgICAgICAgIAoKICAgICAgICAgICAgY2lyY2xlX21hcmtlcl9mNmQwMmMyNjcyZjg0OTVkYTY2YjAzMWIxMTY5NWZmZC5iaW5kUG9wdXAocG9wdXBfYzdlOWIxZDI3YzMxNDkzZGI5OTZlYzYxNzc0ZWVmNWYpOwoKICAgICAgICAgICAgCiAgICAgICAgCiAgICAKICAgICAgICAgICAgdmFyIGNpcmNsZV9tYXJrZXJfOTM3M2ZmNmQ2ZmNjNDQyZWJlMDA1ZmY2MzIwZTkxNmQgPSBMLmNpcmNsZU1hcmtlcigKICAgICAgICAgICAgICAgIFsxMi45MzE2NCw3Ny42MTM4NzQzXSwKICAgICAgICAgICAgICAgIHsKICAiYnViYmxpbmdNb3VzZUV2ZW50cyI6IHRydWUsCiAgImNvbG9yIjogImJsdWUiLAogICJkYXNoQXJyYXkiOiBudWxsLAogICJkYXNoT2Zmc2V0IjogbnVsbCwKICAiZmlsbCI6IHRydWUsCiAgImZpbGxDb2xvciI6ICIjMzE4NmNjIiwKICAiZmlsbE9wYWNpdHkiOiAwLjcsCiAgImZpbGxSdWxlIjogImV2ZW5vZGQiLAogICJsaW5lQ2FwIjogInJvdW5kIiwKICAibGluZUpvaW4iOiAicm91bmQiLAogICJvcGFjaXR5IjogMS4wLAogICJyYWRpdXMiOiA1LAogICJzdHJva2UiOiB0cnVlLAogICJ3ZWlnaHQiOiAzCn0KICAgICAgICAgICAgICAgICkuYWRkVG8obWFwXzJhYzA0ODlkZjQ1ZjRmNmY5MmNmNmEyNjliNzdhMzAxKTsKICAgICAgICAgICAgCiAgICAKICAgICAgICAgICAgdmFyIHBvcHVwX2EyOTMxYWM0N2MyODQ4NGViOWQ1MTE4MmE1OThmYjU5ID0gTC5wb3B1cCh7bWF4V2lkdGg6ICczMDAnfSk7CgogICAgICAgICAgICAKICAgICAgICAgICAgICAgIHZhciBodG1sXzcxMjE1OTVjNzRlNjQ1ZGZhM2UzMDc3YmYyYTM3NjdhID0gJCgnPGRpdiBpZD0iaHRtbF83MTIxNTk1Yzc0ZTY0NWRmYTNlMzA3N2JmMmEzNzY3YSIgc3R5bGU9IndpZHRoOiAxMDAuMCU7IGhlaWdodDogMTAwLjAlOyI+SG9zdXIgUmQ8L2Rpdj4nKVswXTsKICAgICAgICAgICAgICAgIHBvcHVwX2EyOTMxYWM0N2MyODQ4NGViOWQ1MTE4MmE1OThmYjU5LnNldENvbnRlbnQoaHRtbF83MTIxNTk1Yzc0ZTY0NWRmYTNlMzA3N2JmMmEzNzY3YSk7CiAgICAgICAgICAgIAoKICAgICAgICAgICAgY2lyY2xlX21hcmtlcl85MzczZmY2ZDZmY2M0NDJlYmUwMDVmZjYzMjBlOTE2ZC5iaW5kUG9wdXAocG9wdXBfYTI5MzFhYzQ3YzI4NDg0ZWI5ZDUxMTgyYTU5OGZiNTkpOwoKICAgICAgICAgICAgCiAgICAgICAgCiAgICAKICAgICAgICAgICAgdmFyIGNpcmNsZV9tYXJrZXJfMGUwYjk5MzdhZmY2NDQyNGJkYWIyZDkxOTZhNTI0YzUgPSBMLmNpcmNsZU1hcmtlcigKICAgICAgICAgICAgICAgIFsxMi45NDYyNTc2LDc3LjU4ODA5MjJdLAogICAgICAgICAgICAgICAgewogICJidWJibGluZ01vdXNlRXZlbnRzIjogdHJ1ZSwKICAiY29sb3IiOiAiYmx1ZSIsCiAgImRhc2hBcnJheSI6IG51bGwsCiAgImRhc2hPZmZzZXQiOiBudWxsLAogICJmaWxsIjogdHJ1ZSwKICAiZmlsbENvbG9yIjogIiMzMTg2Y2MiLAogICJmaWxsT3BhY2l0eSI6IDAuNywKICAiZmlsbFJ1bGUiOiAiZXZlbm9kZCIsCiAgImxpbmVDYXAiOiAicm91bmQiLAogICJsaW5lSm9pbiI6ICJyb3VuZCIsCiAgIm9wYWNpdHkiOiAxLjAsCiAgInJhZGl1cyI6IDUsCiAgInN0cm9rZSI6IHRydWUsCiAgIndlaWdodCI6IDMKfQogICAgICAgICAgICAgICAgKS5hZGRUbyhtYXBfMmFjMDQ4OWRmNDVmNGY2ZjkyY2Y2YTI2OWI3N2EzMDEpOwogICAgICAgICAgICAKICAgIAogICAgICAgICAgICB2YXIgcG9wdXBfNDY1ZjVjYzZkMDNjNDU0ZDgyNzZmODVmYjlmOWI0NmUgPSBMLnBvcHVwKHttYXhXaWR0aDogJzMwMCd9KTsKCiAgICAgICAgICAgIAogICAgICAgICAgICAgICAgdmFyIGh0bWxfZDlmZTNmYjE5ZTM3NDliZWJjNTFjZTVmZWMyOWVhMTIgPSAkKCc8ZGl2IGlkPSJodG1sX2Q5ZmUzZmIxOWUzNzQ5YmViYzUxY2U1ZmVjMjllYTEyIiBzdHlsZT0id2lkdGg6IDEwMC4wJTsgaGVpZ2h0OiAxMDAuMCU7Ij5TaWRkYXB1cmEgUmQ8L2Rpdj4nKVswXTsKICAgICAgICAgICAgICAgIHBvcHVwXzQ2NWY1Y2M2ZDAzYzQ1NGQ4Mjc2Zjg1ZmI5ZjliNDZlLnNldENvbnRlbnQoaHRtbF9kOWZlM2ZiMTllMzc0OWJlYmM1MWNlNWZlYzI5ZWExMik7CiAgICAgICAgICAgIAoKICAgICAgICAgICAgY2lyY2xlX21hcmtlcl8wZTBiOTkzN2FmZjY0NDI0YmRhYjJkOTE5NmE1MjRjNS5iaW5kUG9wdXAocG9wdXBfNDY1ZjVjYzZkMDNjNDU0ZDgyNzZmODVmYjlmOWI0NmUpOwoKICAgICAgICAgICAgCiAgICAgICAgCiAgICAKICAgICAgICAgICAgdmFyIGNpcmNsZV9tYXJrZXJfMWMyNzlhNGQxZTc4NDg4YThhMjg0ODViZTAwYjJjZWQgPSBMLmNpcmNsZU1hcmtlcigKICAgICAgICAgICAgICAgIFsxMi45MzUzNzk4LDc3LjYwMTQwNzRdLAogICAgICAgICAgICAgICAgewogICJidWJibGluZ01vdXNlRXZlbnRzIjogdHJ1ZSwKICAiY29sb3IiOiAiYmx1ZSIsCiAgImRhc2hBcnJheSI6IG51bGwsCiAgImRhc2hPZmZzZXQiOiBudWxsLAogICJmaWxsIjogdHJ1ZSwKICAiZmlsbENvbG9yIjogIiMzMTg2Y2MiLAogICJmaWxsT3BhY2l0eSI6IDAuNywKICAiZmlsbFJ1bGUiOiAiZXZlbm9kZCIsCiAgImxpbmVDYXAiOiAicm91bmQiLAogICJsaW5lSm9pbiI6ICJyb3VuZCIsCiAgIm9wYWNpdHkiOiAxLjAsCiAgInJhZGl1cyI6IDUsCiAgInN0cm9rZSI6IHRydWUsCiAgIndlaWdodCI6IDMKfQogICAgICAgICAgICAgICAgKS5hZGRUbyhtYXBfMmFjMDQ4OWRmNDVmNGY2ZjkyY2Y2YTI2OWI3N2EzMDEpOwogICAgICAgICAgICAKICAgIAogICAgICAgICAgICB2YXIgcG9wdXBfOTcxZWRlNTQyZTc5NDBmNWE2YWVlZWVlYmRkZDg5MGMgPSBMLnBvcHVwKHttYXhXaWR0aDogJzMwMCd9KTsKCiAgICAgICAgICAgIAogICAgICAgICAgICAgICAgdmFyIGh0bWxfYTA5MTZkZGM5NzM0NDQzOGI1OTU3YjYwNTczMDVlZjggPSAkKCc8ZGl2IGlkPSJodG1sX2EwOTE2ZGRjOTczNDQ0MzhiNTk1N2I2MDU3MzA1ZWY4IiBzdHlsZT0id2lkdGg6IDEwMC4wJTsgaGVpZ2h0OiAxMDAuMCU7Ij5CYW5uZXJnaGF0dGEgUmQ8L2Rpdj4nKVswXTsKICAgICAgICAgICAgICAgIHBvcHVwXzk3MWVkZTU0MmU3OTQwZjVhNmFlZWVlZWJkZGQ4OTBjLnNldENvbnRlbnQoaHRtbF9hMDkxNmRkYzk3MzQ0NDM4YjU5NTdiNjA1NzMwNWVmOCk7CiAgICAgICAgICAgIAoKICAgICAgICAgICAgY2lyY2xlX21hcmtlcl8xYzI3OWE0ZDFlNzg0ODhhOGEyODQ4NWJlMDBiMmNlZC5iaW5kUG9wdXAocG9wdXBfOTcxZWRlNTQyZTc5NDBmNWE2YWVlZWVlYmRkZDg5MGMpOwoKICAgICAgICAgICAgCiAgICAgICAgCiAgICAKICAgICAgICAgICAgdmFyIGNpcmNsZV9tYXJrZXJfZTUyMmVkZGJkMDk2NDhhNzk1YjFmNDQ0MzRmM2M1OWUgPSBMLmNpcmNsZU1hcmtlcigKICAgICAgICAgICAgICAgIFsxMi45NDkxODQ1LDc3LjU3OTk0MTRdLAogICAgICAgICAgICAgICAgewogICJidWJibGluZ01vdXNlRXZlbnRzIjogdHJ1ZSwKICAiY29sb3IiOiAiYmx1ZSIsCiAgImRhc2hBcnJheSI6IG51bGwsCiAgImRhc2hPZmZzZXQiOiBudWxsLAogICJmaWxsIjogdHJ1ZSwKICAiZmlsbENvbG9yIjogIiMzMTg2Y2MiLAogICJmaWxsT3BhY2l0eSI6IDAuNywKICAiZmlsbFJ1bGUiOiAiZXZlbm9kZCIsCiAgImxpbmVDYXAiOiAicm91bmQiLAogICJsaW5lSm9pbiI6ICJyb3VuZCIsCiAgIm9wYWNpdHkiOiAxLjAsCiAgInJhZGl1cyI6IDUsCiAgInN0cm9rZSI6IHRydWUsCiAgIndlaWdodCI6IDMKfQogICAgICAgICAgICAgICAgKS5hZGRUbyhtYXBfMmFjMDQ4OWRmNDVmNGY2ZjkyY2Y2YTI2OWI3N2EzMDEpOwogICAgICAgICAgICAKICAgIAogICAgICAgICAgICB2YXIgcG9wdXBfY2UzODVlNGJkYzg2NGZiOGIxZjE4OTFkNTQ0NGE1N2MgPSBMLnBvcHVwKHttYXhXaWR0aDogJzMwMCd9KTsKCiAgICAgICAgICAgIAogICAgICAgICAgICAgICAgdmFyIGh0bWxfZmMxODZmNDEyY2FjNDQ0NzlkMmVjMzE1ZDAzOTM5ZGYgPSAkKCc8ZGl2IGlkPSJodG1sX2ZjMTg2ZjQxMmNhYzQ0NDc5ZDJlYzMxNWQwMzkzOWRmIiBzdHlsZT0id2lkdGg6IDEwMC4wJTsgaGVpZ2h0OiAxMDAuMCU7Ij5WIFYgcHVyYW08L2Rpdj4nKVswXTsKICAgICAgICAgICAgICAgIHBvcHVwX2NlMzg1ZTRiZGM4NjRmYjhiMWYxODkxZDU0NDRhNTdjLnNldENvbnRlbnQoaHRtbF9mYzE4NmY0MTJjYWM0NDQ3OWQyZWMzMTVkMDM5MzlkZik7CiAgICAgICAgICAgIAoKICAgICAgICAgICAgY2lyY2xlX21hcmtlcl9lNTIyZWRkYmQwOTY0OGE3OTViMWY0NDQzNGYzYzU5ZS5iaW5kUG9wdXAocG9wdXBfY2UzODVlNGJkYzg2NGZiOGIxZjE4OTFkNTQ0NGE1N2MpOwoKICAgICAgICAgICAgCiAgICAgICAgCiAgICAKICAgICAgICAgICAgdmFyIGNpcmNsZV9tYXJrZXJfOTU4OTZiMWQyZjMzNGIyYzgwOWQ2MmQ5YTI5OGE3MDcgPSBMLmNpcmNsZU1hcmtlcigKICAgICAgICAgICAgICAgIFsxMi45Mjk4MjAxLDc3LjU4NDI3NTRdLAogICAgICAgICAgICAgICAgewogICJidWJibGluZ01vdXNlRXZlbnRzIjogdHJ1ZSwKICAiY29sb3IiOiAiYmx1ZSIsCiAgImRhc2hBcnJheSI6IG51bGwsCiAgImRhc2hPZmZzZXQiOiBudWxsLAogICJmaWxsIjogdHJ1ZSwKICAiZmlsbENvbG9yIjogIiMzMTg2Y2MiLAogICJmaWxsT3BhY2l0eSI6IDAuNywKICAiZmlsbFJ1bGUiOiAiZXZlbm9kZCIsCiAgImxpbmVDYXAiOiAicm91bmQiLAogICJsaW5lSm9pbiI6ICJyb3VuZCIsCiAgIm9wYWNpdHkiOiAxLjAsCiAgInJhZGl1cyI6IDUsCiAgInN0cm9rZSI6IHRydWUsCiAgIndlaWdodCI6IDMKfQogICAgICAgICAgICAgICAgKS5hZGRUbyhtYXBfMmFjMDQ4OWRmNDVmNGY2ZjkyY2Y2YTI2OWI3N2EzMDEpOwogICAgICAgICAgICAKICAgIAogICAgICAgICAgICB2YXIgcG9wdXBfYzU1NjdhYWJiMDE3NDBmYWI5OTk2MWY1Nzg3MTViMTEgPSBMLnBvcHVwKHttYXhXaWR0aDogJzMwMCd9KTsKCiAgICAgICAgICAgIAogICAgICAgICAgICAgICAgdmFyIGh0bWxfMGVjNmU3MjcwNGU2NDMyNGIyMmRiN2NmMjAzODAyY2IgPSAkKCc8ZGl2IGlkPSJodG1sXzBlYzZlNzI3MDRlNjQzMjRiMjJkYjdjZjIwMzgwMmNiIiBzdHlsZT0id2lkdGg6IDEwMC4wJTsgaGVpZ2h0OiAxMDAuMCU7Ij5KYXlhbmFnYXIgU2hvcHBpbmcgQ29tcGxleDwvZGl2PicpWzBdOwogICAgICAgICAgICAgICAgcG9wdXBfYzU1NjdhYWJiMDE3NDBmYWI5OTk2MWY1Nzg3MTViMTEuc2V0Q29udGVudChodG1sXzBlYzZlNzI3MDRlNjQzMjRiMjJkYjdjZjIwMzgwMmNiKTsKICAgICAgICAgICAgCgogICAgICAgICAgICBjaXJjbGVfbWFya2VyXzk1ODk2YjFkMmYzMzRiMmM4MDlkNjJkOWEyOThhNzA3LmJpbmRQb3B1cChwb3B1cF9jNTU2N2FhYmIwMTc0MGZhYjk5OTYxZjU3ODcxNWIxMSk7CgogICAgICAgICAgICAKICAgICAgICAKICAgIAogICAgICAgICAgICB2YXIgY2lyY2xlX21hcmtlcl9iYmUxNzdiODkzNWU0OWMzOTllMGRmMDU3MTU1MzlhNyA9IEwuY2lyY2xlTWFya2VyKAogICAgICAgICAgICAgICAgWzEyLjkwNzI1MTUsNzcuNTc4MjcxM10sCiAgICAgICAgICAgICAgICB7CiAgImJ1YmJsaW5nTW91c2VFdmVudHMiOiB0cnVlLAogICJjb2xvciI6ICJibHVlIiwKICAiZGFzaEFycmF5IjogbnVsbCwKICAiZGFzaE9mZnNldCI6IG51bGwsCiAgImZpbGwiOiB0cnVlLAogICJmaWxsQ29sb3IiOiAiIzMxODZjYyIsCiAgImZpbGxPcGFjaXR5IjogMC43LAogICJmaWxsUnVsZSI6ICJldmVub2RkIiwKICAibGluZUNhcCI6ICJyb3VuZCIsCiAgImxpbmVKb2luIjogInJvdW5kIiwKICAib3BhY2l0eSI6IDEuMCwKICAicmFkaXVzIjogNSwKICAic3Ryb2tlIjogdHJ1ZSwKICAid2VpZ2h0IjogMwp9CiAgICAgICAgICAgICAgICApLmFkZFRvKG1hcF8yYWMwNDg5ZGY0NWY0ZjZmOTJjZjZhMjY5Yjc3YTMwMSk7CiAgICAgICAgICAgIAogICAgCiAgICAgICAgICAgIHZhciBwb3B1cF80NmFmYWQ4MzViODY0YzgzYjI0Mzk0Y2UyMWNmOTA3YiA9IEwucG9wdXAoe21heFdpZHRoOiAnMzAwJ30pOwoKICAgICAgICAgICAgCiAgICAgICAgICAgICAgICB2YXIgaHRtbF9kNDYxNWI5MWQ3ZTI0OWIwYjY2ODY4MjQ2NjkwN2M1ZiA9ICQoJzxkaXYgaWQ9Imh0bWxfZDQ2MTViOTFkN2UyNDliMGI2Njg2ODI0NjY5MDdjNWYiIHN0eWxlPSJ3aWR0aDogMTAwLjAlOyBoZWlnaHQ6IDEwMC4wJTsiPkpQIE5hZ2FyPC9kaXY+JylbMF07CiAgICAgICAgICAgICAgICBwb3B1cF80NmFmYWQ4MzViODY0YzgzYjI0Mzk0Y2UyMWNmOTA3Yi5zZXRDb250ZW50KGh0bWxfZDQ2MTViOTFkN2UyNDliMGI2Njg2ODI0NjY5MDdjNWYpOwogICAgICAgICAgICAKCiAgICAgICAgICAgIGNpcmNsZV9tYXJrZXJfYmJlMTc3Yjg5MzVlNDljMzk5ZTBkZjA1NzE1NTM5YTcuYmluZFBvcHVwKHBvcHVwXzQ2YWZhZDgzNWI4NjRjODNiMjQzOTRjZTIxY2Y5MDdiKTsKCiAgICAgICAgICAgIAogICAgICAgIAogICAgCiAgICAgICAgICAgIHZhciBjaXJjbGVfbWFya2VyX2ZhNTdkOTI0ZmY5NjQxZDJiZWJkMDJkMWUzZWI4ZTEwID0gTC5jaXJjbGVNYXJrZXIoCiAgICAgICAgICAgICAgICBbMTIuODk1NDMyLDc3LjU4MDY5OTFdLAogICAgICAgICAgICAgICAgewogICJidWJibGluZ01vdXNlRXZlbnRzIjogdHJ1ZSwKICAiY29sb3IiOiAiYmx1ZSIsCiAgImRhc2hBcnJheSI6IG51bGwsCiAgImRhc2hPZmZzZXQiOiBudWxsLAogICJmaWxsIjogdHJ1ZSwKICAiZmlsbENvbG9yIjogIiMzMTg2Y2MiLAogICJmaWxsT3BhY2l0eSI6IDAuNywKICAiZmlsbFJ1bGUiOiAiZXZlbm9kZCIsCiAgImxpbmVDYXAiOiAicm91bmQiLAogICJsaW5lSm9pbiI6ICJyb3VuZCIsCiAgIm9wYWNpdHkiOiAxLjAsCiAgInJhZGl1cyI6IDUsCiAgInN0cm9rZSI6IHRydWUsCiAgIndlaWdodCI6IDMKfQogICAgICAgICAgICAgICAgKS5hZGRUbyhtYXBfMmFjMDQ4OWRmNDVmNGY2ZjkyY2Y2YTI2OWI3N2EzMDEpOwogICAgICAgICAgICAKICAgIAogICAgICAgICAgICB2YXIgcG9wdXBfMjI2NmU3ZTEyNzg4NDQ0YzhiZDA0YTFlYWNlOGQzZTIgPSBMLnBvcHVwKHttYXhXaWR0aDogJzMwMCd9KTsKCiAgICAgICAgICAgIAogICAgICAgICAgICAgICAgdmFyIGh0bWxfNTE2MjdkZGFmMmYwNDAyNmI2YjVhMzZkYjA4ZGNkZTggPSAkKCc8ZGl2IGlkPSJodG1sXzUxNjI3ZGRhZjJmMDQwMjZiNmI1YTM2ZGIwOGRjZGU4IiBzdHlsZT0id2lkdGg6IDEwMC4wJTsgaGVpZ2h0OiAxMDAuMCU7Ij5QdXR0ZW5haGFsbGk8L2Rpdj4nKVswXTsKICAgICAgICAgICAgICAgIHBvcHVwXzIyNjZlN2UxMjc4ODQ0NGM4YmQwNGExZWFjZThkM2UyLnNldENvbnRlbnQoaHRtbF81MTYyN2RkYWYyZjA0MDI2YjZiNWEzNmRiMDhkY2RlOCk7CiAgICAgICAgICAgIAoKICAgICAgICAgICAgY2lyY2xlX21hcmtlcl9mYTU3ZDkyNGZmOTY0MWQyYmViZDAyZDFlM2ViOGUxMC5iaW5kUG9wdXAocG9wdXBfMjI2NmU3ZTEyNzg4NDQ0YzhiZDA0YTFlYWNlOGQzZTIpOwoKICAgICAgICAgICAgCiAgICAgICAgCiAgICAKICAgICAgICAgICAgdmFyIGNpcmNsZV9tYXJrZXJfMjYwNTM1NGYzZTE5NGRiMzk5NTRmYzA4NDhjNDc5ZGMgPSBMLmNpcmNsZU1hcmtlcigKICAgICAgICAgICAgICAgIFsxMi45MTUxNzcyLDc3LjYxMDI4MjFdLAogICAgICAgICAgICAgICAgewogICJidWJibGluZ01vdXNlRXZlbnRzIjogdHJ1ZSwKICAiY29sb3IiOiAiYmx1ZSIsCiAgImRhc2hBcnJheSI6IG51bGwsCiAgImRhc2hPZmZzZXQiOiBudWxsLAogICJmaWxsIjogdHJ1ZSwKICAiZmlsbENvbG9yIjogIiMzMTg2Y2MiLAogICJmaWxsT3BhY2l0eSI6IDAuNywKICAiZmlsbFJ1bGUiOiAiZXZlbm9kZCIsCiAgImxpbmVDYXAiOiAicm91bmQiLAogICJsaW5lSm9pbiI6ICJyb3VuZCIsCiAgIm9wYWNpdHkiOiAxLjAsCiAgInJhZGl1cyI6IDUsCiAgInN0cm9rZSI6IHRydWUsCiAgIndlaWdodCI6IDMKfQogICAgICAgICAgICAgICAgKS5hZGRUbyhtYXBfMmFjMDQ4OWRmNDVmNGY2ZjkyY2Y2YTI2OWI3N2EzMDEpOwogICAgICAgICAgICAKICAgIAogICAgICAgICAgICB2YXIgcG9wdXBfYjk0NmZlNmNlOGUxNGVhNzkzNjg0YjkzNDVlZGQ4ZGYgPSBMLnBvcHVwKHttYXhXaWR0aDogJzMwMCd9KTsKCiAgICAgICAgICAgIAogICAgICAgICAgICAgICAgdmFyIGh0bWxfZDM2ZDhjODgyOGEyNDczNDg2ZjIyOTAyMDIwNDg5NjAgPSAkKCc8ZGl2IGlkPSJodG1sX2QzNmQ4Yzg4MjhhMjQ3MzQ4NmYyMjkwMjAyMDQ4OTYwIiBzdHlsZT0id2lkdGg6IDEwMC4wJTsgaGVpZ2h0OiAxMDAuMCU7Ij5CVE0gTGF5b3V0PC9kaXY+JylbMF07CiAgICAgICAgICAgICAgICBwb3B1cF9iOTQ2ZmU2Y2U4ZTE0ZWE3OTM2ODRiOTM0NWVkZDhkZi5zZXRDb250ZW50KGh0bWxfZDM2ZDhjODgyOGEyNDczNDg2ZjIyOTAyMDIwNDg5NjApOwogICAgICAgICAgICAKCiAgICAgICAgICAgIGNpcmNsZV9tYXJrZXJfMjYwNTM1NGYzZTE5NGRiMzk5NTRmYzA4NDhjNDc5ZGMuYmluZFBvcHVwKHBvcHVwX2I5NDZmZTZjZThlMTRlYTc5MzY4NGI5MzQ1ZWRkOGRmKTsKCiAgICAgICAgICAgIAogICAgICAgIAogICAgCiAgICAgICAgICAgIHZhciBjaXJjbGVfbWFya2VyX2MzMmNhODVlZTViODRjYWRhNTAyMGNhZGI0ODcxMjliID0gTC5jaXJjbGVNYXJrZXIoCiAgICAgICAgICAgICAgICBbMTIuODc3MzQ4Niw3Ny42MDI4MDMxXSwKICAgICAgICAgICAgICAgIHsKICAiYnViYmxpbmdNb3VzZUV2ZW50cyI6IHRydWUsCiAgImNvbG9yIjogImJsdWUiLAogICJkYXNoQXJyYXkiOiBudWxsLAogICJkYXNoT2Zmc2V0IjogbnVsbCwKICAiZmlsbCI6IHRydWUsCiAgImZpbGxDb2xvciI6ICIjMzE4NmNjIiwKICAiZmlsbE9wYWNpdHkiOiAwLjcsCiAgImZpbGxSdWxlIjogImV2ZW5vZGQiLAogICJsaW5lQ2FwIjogInJvdW5kIiwKICAibGluZUpvaW4iOiAicm91bmQiLAogICJvcGFjaXR5IjogMS4wLAogICJyYWRpdXMiOiA1LAogICJzdHJva2UiOiB0cnVlLAogICJ3ZWlnaHQiOiAzCn0KICAgICAgICAgICAgICAgICkuYWRkVG8obWFwXzJhYzA0ODlkZjQ1ZjRmNmY5MmNmNmEyNjliNzdhMzAxKTsKICAgICAgICAgICAgCiAgICAKICAgICAgICAgICAgdmFyIHBvcHVwX2ZiNjFmOGVkNTc2ODQ0OTViMTQ3MWE0M2E3ODJkMGY2ID0gTC5wb3B1cCh7bWF4V2lkdGg6ICczMDAnfSk7CgogICAgICAgICAgICAKICAgICAgICAgICAgICAgIHZhciBodG1sXzdhMjliOWVmZTE1NjQyYjNhYjhmYjYzMjM1NDFiMmRlID0gJCgnPGRpdiBpZD0iaHRtbF83YTI5YjllZmUxNTY0MmIzYWI4ZmI2MzIzNTQxYjJkZSIgc3R5bGU9IndpZHRoOiAxMDAuMCU7IGhlaWdodDogMTAwLjAlOyI+SHVsaW1hdnU8L2Rpdj4nKVswXTsKICAgICAgICAgICAgICAgIHBvcHVwX2ZiNjFmOGVkNTc2ODQ0OTViMTQ3MWE0M2E3ODJkMGY2LnNldENvbnRlbnQoaHRtbF83YTI5YjllZmUxNTY0MmIzYWI4ZmI2MzIzNTQxYjJkZSk7CiAgICAgICAgICAgIAoKICAgICAgICAgICAgY2lyY2xlX21hcmtlcl9jMzJjYTg1ZWU1Yjg0Y2FkYTUwMjBjYWRiNDg3MTI5Yi5iaW5kUG9wdXAocG9wdXBfZmI2MWY4ZWQ1NzY4NDQ5NWIxNDcxYTQzYTc4MmQwZjYpOwoKICAgICAgICAgICAgCiAgICAgICAgCiAgICAKICAgICAgICAgICAgdmFyIGNpcmNsZV9tYXJrZXJfZDJhZDM0YmYwZDQ3NDgyZGIzYzJmMTFjZTYzMGI1NGQgPSBMLmNpcmNsZU1hcmtlcigKICAgICAgICAgICAgICAgIFsxMi45NDUyNDUsNzcuNjI2OTE0NF0sCiAgICAgICAgICAgICAgICB7CiAgImJ1YmJsaW5nTW91c2VFdmVudHMiOiB0cnVlLAogICJjb2xvciI6ICJibHVlIiwKICAiZGFzaEFycmF5IjogbnVsbCwKICAiZGFzaE9mZnNldCI6IG51bGwsCiAgImZpbGwiOiB0cnVlLAogICJmaWxsQ29sb3IiOiAiIzMxODZjYyIsCiAgImZpbGxPcGFjaXR5IjogMC43LAogICJmaWxsUnVsZSI6ICJldmVub2RkIiwKICAibGluZUNhcCI6ICJyb3VuZCIsCiAgImxpbmVKb2luIjogInJvdW5kIiwKICAib3BhY2l0eSI6IDEuMCwKICAicmFkaXVzIjogNSwKICAic3Ryb2tlIjogdHJ1ZSwKICAid2VpZ2h0IjogMwp9CiAgICAgICAgICAgICAgICApLmFkZFRvKG1hcF8yYWMwNDg5ZGY0NWY0ZjZmOTJjZjZhMjY5Yjc3YTMwMSk7CiAgICAgICAgICAgIAogICAgCiAgICAgICAgICAgIHZhciBwb3B1cF8xMWJmNGQ1MjVjMDQ0YTlhYTY3OTZlNDhhNGQ0YzViMCA9IEwucG9wdXAoe21heFdpZHRoOiAnMzAwJ30pOwoKICAgICAgICAgICAgCiAgICAgICAgICAgICAgICB2YXIgaHRtbF8wNWNkMWI4N2RiNTk0Mjc0YmY2OGYwYzE2YzlhMDY2OCA9ICQoJzxkaXYgaWQ9Imh0bWxfMDVjZDFiODdkYjU5NDI3NGJmNjhmMGMxNmM5YTA2NjgiIHN0eWxlPSJ3aWR0aDogMTAwLjAlOyBoZWlnaHQ6IDEwMC4wJTsiPkVqaXB1cmE8L2Rpdj4nKVswXTsKICAgICAgICAgICAgICAgIHBvcHVwXzExYmY0ZDUyNWMwNDRhOWFhNjc5NmU0OGE0ZDRjNWIwLnNldENvbnRlbnQoaHRtbF8wNWNkMWI4N2RiNTk0Mjc0YmY2OGYwYzE2YzlhMDY2OCk7CiAgICAgICAgICAgIAoKICAgICAgICAgICAgY2lyY2xlX21hcmtlcl9kMmFkMzRiZjBkNDc0ODJkYjNjMmYxMWNlNjMwYjU0ZC5iaW5kUG9wdXAocG9wdXBfMTFiZjRkNTI1YzA0NGE5YWE2Nzk2ZTQ4YTRkNGM1YjApOwoKICAgICAgICAgICAgCiAgICAgICAgCiAgICAKICAgICAgICAgICAgdmFyIGNpcmNsZV9tYXJrZXJfNTkzMjk5NzAzOTdiNDVlYTg4MmQ2MmYzZWVjNjdiZGMgPSBMLmNpcmNsZU1hcmtlcigKICAgICAgICAgICAgICAgIFsxMy4yOTIzOTg4LDc3Ljc1MTkyNjFdLAogICAgICAgICAgICAgICAgewogICJidWJibGluZ01vdXNlRXZlbnRzIjogdHJ1ZSwKICAiY29sb3IiOiAiYmx1ZSIsCiAgImRhc2hBcnJheSI6IG51bGwsCiAgImRhc2hPZmZzZXQiOiBudWxsLAogICJmaWxsIjogdHJ1ZSwKICAiZmlsbENvbG9yIjogIiMzMTg2Y2MiLAogICJmaWxsT3BhY2l0eSI6IDAuNywKICAiZmlsbFJ1bGUiOiAiZXZlbm9kZCIsCiAgImxpbmVDYXAiOiAicm91bmQiLAogICJsaW5lSm9pbiI6ICJyb3VuZCIsCiAgIm9wYWNpdHkiOiAxLjAsCiAgInJhZGl1cyI6IDUsCiAgInN0cm9rZSI6IHRydWUsCiAgIndlaWdodCI6IDMKfQogICAgICAgICAgICAgICAgKS5hZGRUbyhtYXBfMmFjMDQ4OWRmNDVmNGY2ZjkyY2Y2YTI2OWI3N2EzMDEpOwogICAgICAgICAgICAKICAgIAogICAgICAgICAgICB2YXIgcG9wdXBfYTBjNGY0OGIyZGIxNGExMTk0MDg5MDY4M2I2OGU4OTMgPSBMLnBvcHVwKHttYXhXaWR0aDogJzMwMCd9KTsKCiAgICAgICAgICAgIAogICAgICAgICAgICAgICAgdmFyIGh0bWxfZDU3ZTE2MDFmNTIyNDhiY2EzMjgxYzIxM2QyMWMxMjUgPSAkKCc8ZGl2IGlkPSJodG1sX2Q1N2UxNjAxZjUyMjQ4YmNhMzI4MWMyMTNkMjFjMTI1IiBzdHlsZT0id2lkdGg6IDEwMC4wJTsgaGVpZ2h0OiAxMDAuMCU7Ij5Lb3JhbWFuZ2FsYTwvZGl2PicpWzBdOwogICAgICAgICAgICAgICAgcG9wdXBfYTBjNGY0OGIyZGIxNGExMTk0MDg5MDY4M2I2OGU4OTMuc2V0Q29udGVudChodG1sX2Q1N2UxNjAxZjUyMjQ4YmNhMzI4MWMyMTNkMjFjMTI1KTsKICAgICAgICAgICAgCgogICAgICAgICAgICBjaXJjbGVfbWFya2VyXzU5MzI5OTcwMzk3YjQ1ZWE4ODJkNjJmM2VlYzY3YmRjLmJpbmRQb3B1cChwb3B1cF9hMGM0ZjQ4YjJkYjE0YTExOTQwODkwNjgzYjY4ZTg5Myk7CgogICAgICAgICAgICAKICAgICAgICAKICAgIAogICAgICAgICAgICB2YXIgY2lyY2xlX21hcmtlcl9lN2QwNWFjZDllNTg0YTk2YmNjYWQ2YTFjMGY5YzYyOSA9IEwuY2lyY2xlTWFya2VyKAogICAgICAgICAgICAgICAgWzEyLjkyMDY5Mzk1LDc3LjYxNDQyMTAwMTk4MDc2XSwKICAgICAgICAgICAgICAgIHsKICAiYnViYmxpbmdNb3VzZUV2ZW50cyI6IHRydWUsCiAgImNvbG9yIjogImJsdWUiLAogICJkYXNoQXJyYXkiOiBudWxsLAogICJkYXNoT2Zmc2V0IjogbnVsbCwKICAiZmlsbCI6IHRydWUsCiAgImZpbGxDb2xvciI6ICIjMzE4NmNjIiwKICAiZmlsbE9wYWNpdHkiOiAwLjcsCiAgImZpbGxSdWxlIjogImV2ZW5vZGQiLAogICJsaW5lQ2FwIjogInJvdW5kIiwKICAibGluZUpvaW4iOiAicm91bmQiLAogICJvcGFjaXR5IjogMS4wLAogICJyYWRpdXMiOiA1LAogICJzdHJva2UiOiB0cnVlLAogICJ3ZWlnaHQiOiAzCn0KICAgICAgICAgICAgICAgICkuYWRkVG8obWFwXzJhYzA0ODlkZjQ1ZjRmNmY5MmNmNmEyNjliNzdhMzAxKTsKICAgICAgICAgICAgCiAgICAKICAgICAgICAgICAgdmFyIHBvcHVwXzVhM2ZlNzY5NjAyYzRjMmE4ODQyZjdjYTNkNTViMzg3ID0gTC5wb3B1cCh7bWF4V2lkdGg6ICczMDAnfSk7CgogICAgICAgICAgICAKICAgICAgICAgICAgICAgIHZhciBodG1sXzg1NzIyZTY1YWMwZjQzYjNiYWVkZjlhZThkYTEyZjdmID0gJCgnPGRpdiBpZD0iaHRtbF84NTcyMmU2NWFjMGY0M2IzYmFlZGY5YWU4ZGExMmY3ZiIgc3R5bGU9IndpZHRoOiAxMDAuMCU7IGhlaWdodDogMTAwLjAlOyI+TWFkaXZhbGE8L2Rpdj4nKVswXTsKICAgICAgICAgICAgICAgIHBvcHVwXzVhM2ZlNzY5NjAyYzRjMmE4ODQyZjdjYTNkNTViMzg3LnNldENvbnRlbnQoaHRtbF84NTcyMmU2NWFjMGY0M2IzYmFlZGY5YWU4ZGExMmY3Zik7CiAgICAgICAgICAgIAoKICAgICAgICAgICAgY2lyY2xlX21hcmtlcl9lN2QwNWFjZDllNTg0YTk2YmNjYWQ2YTFjMGY5YzYyOS5iaW5kUG9wdXAocG9wdXBfNWEzZmU3Njk2MDJjNGMyYTg4NDJmN2NhM2Q1NWIzODcpOwoKICAgICAgICAgICAgCiAgICAgICAgCiAgICAKICAgICAgICAgICAgdmFyIGNpcmNsZV9tYXJrZXJfM2YzZTAxZWFiZmU5NDA1YzhiMGQ4MzQ1OGIzYjQxZjYgPSBMLmNpcmNsZU1hcmtlcigKICAgICAgICAgICAgICAgIFsxMi45NzkxMTk4LDc3LjU5MTI5OTddLAogICAgICAgICAgICAgICAgewogICJidWJibGluZ01vdXNlRXZlbnRzIjogdHJ1ZSwKICAiY29sb3IiOiAiYmx1ZSIsCiAgImRhc2hBcnJheSI6IG51bGwsCiAgImRhc2hPZmZzZXQiOiBudWxsLAogICJmaWxsIjogdHJ1ZSwKICAiZmlsbENvbG9yIjogIiMzMTg2Y2MiLAogICJmaWxsT3BhY2l0eSI6IDAuNywKICAiZmlsbFJ1bGUiOiAiZXZlbm9kZCIsCiAgImxpbmVDYXAiOiAicm91bmQiLAogICJsaW5lSm9pbiI6ICJyb3VuZCIsCiAgIm9wYWNpdHkiOiAxLjAsCiAgInJhZGl1cyI6IDUsCiAgInN0cm9rZSI6IHRydWUsCiAgIndlaWdodCI6IDMKfQogICAgICAgICAgICAgICAgKS5hZGRUbyhtYXBfMmFjMDQ4OWRmNDVmNGY2ZjkyY2Y2YTI2OWI3N2EzMDEpOwogICAgICAgICAgICAKICAgIAogICAgICAgICAgICB2YXIgcG9wdXBfODVmN2EzZWU1NWQ4NGM3ZmIxNmJlZDA3MWVkN2ZiYWQgPSBMLnBvcHVwKHttYXhXaWR0aDogJzMwMCd9KTsKCiAgICAgICAgICAgIAogICAgICAgICAgICAgICAgdmFyIGh0bWxfYzMzY2RjMDFkZGRhNDI1YTkxZWE3NjM2ZmMyMDg1OTggPSAkKCc8ZGl2IGlkPSJodG1sX2MzM2NkYzAxZGRkYTQyNWE5MWVhNzYzNmZjMjA4NTk4IiBzdHlsZT0id2lkdGg6IDEwMC4wJTsgaGVpZ2h0OiAxMDAuMCU7Ij5FbGVjdHJvbmljIENpdHk8L2Rpdj4nKVswXTsKICAgICAgICAgICAgICAgIHBvcHVwXzg1ZjdhM2VlNTVkODRjN2ZiMTZiZWQwNzFlZDdmYmFkLnNldENvbnRlbnQoaHRtbF9jMzNjZGMwMWRkZGE0MjVhOTFlYTc2MzZmYzIwODU5OCk7CiAgICAgICAgICAgIAoKICAgICAgICAgICAgY2lyY2xlX21hcmtlcl8zZjNlMDFlYWJmZTk0MDVjOGIwZDgzNDU4YjNiNDFmNi5iaW5kUG9wdXAocG9wdXBfODVmN2EzZWU1NWQ4NGM3ZmIxNmJlZDA3MWVkN2ZiYWQpOwoKICAgICAgICAgICAgCiAgICAgICAgCiAgICAKICAgICAgICAgICAgdmFyIGNpcmNsZV9tYXJrZXJfYzFkZmI1YWM4ZWEwNDA1MmI0M2Q3ZGQ1NWUwZWQzMGYgPSBMLmNpcmNsZU1hcmtlcigKICAgICAgICAgICAgICAgIFsxMi45MjQyMzgxLDc3LjYyODkwNTldLAogICAgICAgICAgICAgICAgewogICJidWJibGluZ01vdXNlRXZlbnRzIjogdHJ1ZSwKICAiY29sb3IiOiAiYmx1ZSIsCiAgImRhc2hBcnJheSI6IG51bGwsCiAgImRhc2hPZmZzZXQiOiBudWxsLAogICJmaWxsIjogdHJ1ZSwKICAiZmlsbENvbG9yIjogIiMzMTg2Y2MiLAogICJmaWxsT3BhY2l0eSI6IDAuNywKICAiZmlsbFJ1bGUiOiAiZXZlbm9kZCIsCiAgImxpbmVDYXAiOiAicm91bmQiLAogICJsaW5lSm9pbiI6ICJyb3VuZCIsCiAgIm9wYWNpdHkiOiAxLjAsCiAgInJhZGl1cyI6IDUsCiAgInN0cm9rZSI6IHRydWUsCiAgIndlaWdodCI6IDMKfQogICAgICAgICAgICAgICAgKS5hZGRUbyhtYXBfMmFjMDQ4OWRmNDVmNGY2ZjkyY2Y2YTI2OWI3N2EzMDEpOwogICAgICAgICAgICAKICAgIAogICAgICAgICAgICB2YXIgcG9wdXBfOGMwMTA0YWRlYmYxNDdmYmFjMmYxZmUzMmFkNGQzY2QgPSBMLnBvcHVwKHttYXhXaWR0aDogJzMwMCd9KTsKCiAgICAgICAgICAgIAogICAgICAgICAgICAgICAgdmFyIGh0bWxfMmEwYmM4ZDEzOWVlNGM4Nzk3MzY3NzVkNzZkZGQ1YzUgPSAkKCc8ZGl2IGlkPSJodG1sXzJhMGJjOGQxMzllZTRjODc5NzM2Nzc1ZDc2ZGRkNWM1IiBzdHlsZT0id2lkdGg6IDEwMC4wJTsgaGVpZ2h0OiAxMDAuMCU7Ij5TYXJqYXB1ciBSZDwvZGl2PicpWzBdOwogICAgICAgICAgICAgICAgcG9wdXBfOGMwMTA0YWRlYmYxNDdmYmFjMmYxZmUzMmFkNGQzY2Quc2V0Q29udGVudChodG1sXzJhMGJjOGQxMzllZTRjODc5NzM2Nzc1ZDc2ZGRkNWM1KTsKICAgICAgICAgICAgCgogICAgICAgICAgICBjaXJjbGVfbWFya2VyX2MxZGZiNWFjOGVhMDQwNTJiNDNkN2RkNTVlMGVkMzBmLmJpbmRQb3B1cChwb3B1cF84YzAxMDRhZGViZjE0N2ZiYWMyZjFmZTMyYWQ0ZDNjZCk7CgogICAgICAgICAgICAKICAgICAgICAKPC9zY3JpcHQ+ onload=\"this.contentDocument.open();this.contentDocument.write(atob(this.getAttribute('data-html')));this.contentDocument.close();\" allowfullscreen webkitallowfullscreen mozallowfullscreen></iframe></div></div>"
      ],
      "text/plain": [
       "<folium.folium.Map at 0x7f48f8971b00>"
      ]
     },
     "execution_count": 130,
     "metadata": {},
     "output_type": "execute_result"
    }
   ],
   "source": [
    "# create map of Bangalore using latitude and longitude values\n",
    "blr_latitude, blr_longitude = get_address('Bangalore, India')\n",
    "\n",
    "map_blr = folium.Map(location=[blr_latitude, blr_longitude], zoom_start=12)\n",
    "\n",
    "# add markers to map\n",
    "for lat, lng, area in zip(df_master['Latitude'], df_master['Longitude'], df_master['Area']):\n",
    "    label = area\n",
    "    label = folium.Popup(label, parse_html=True)\n",
    "    folium.CircleMarker(\n",
    "        [lat, lng],\n",
    "        radius=5,\n",
    "        popup=label,\n",
    "        color='blue',\n",
    "        fill=True,\n",
    "        fill_color='#3186cc',\n",
    "        fill_opacity=0.7,\n",
    "        parse_html=False).add_to(map_blr)  \n",
    "    \n",
    "map_blr"
   ]
  },
  {
   "cell_type": "markdown",
   "metadata": {},
   "source": [
    "### Foursquare"
   ]
  },
  {
   "cell_type": "code",
   "execution_count": 131,
   "metadata": {},
   "outputs": [],
   "source": [
    "import requests # library to handle requests\n",
    "# tranforming json file into a pandas dataframe library\n",
    "from pandas.io.json import json_normalize"
   ]
  },
  {
   "cell_type": "code",
   "execution_count": 134,
   "metadata": {},
   "outputs": [],
   "source": [
    "CLIENT_ID = 'ZWEX0Z5A2VUOZO3DBFSACOXMWWBNZDYJIAWPQXNPKLBN45VN' # Foursquare ID\n",
    "CLIENT_SECRET = 'ZS0KM2YPVLN4RDFD15AZLH25F0MVCG1NI1RJZIW3XKA55VJZ' # Foursquare Secret\n",
    "VERSION = '20180604'"
   ]
  },
  {
   "cell_type": "markdown",
   "metadata": {},
   "source": [
    "##### We will be querying the venues in the radius of 500 meters around the location"
   ]
  },
  {
   "cell_type": "code",
   "execution_count": 143,
   "metadata": {},
   "outputs": [],
   "source": [
    "LIMIT = 30\n",
    "radius = 500\n",
    "def get_fSquareResult(lat, log, search_query):\n",
    "    f_url = 'https://api.foursquare.com/v2/venues/search?client_id={}&client_secret={}&ll={},{}&v={}&query={}&radius={}&limit={}'.format(CLIENT_ID, CLIENT_SECRET, lat, log, VERSION, search_query, radius, LIMIT)\n",
    "    results = requests.get(f_url).json()\n",
    "    return results"
   ]
  },
  {
   "cell_type": "markdown",
   "metadata": {},
   "source": [
    "#### It's time to fetch the number of schools and the number of ice cream shops in each area"
   ]
  },
  {
   "cell_type": "code",
   "execution_count": 158,
   "metadata": {},
   "outputs": [],
   "source": [
    "df_master['NoOf_Schools'] =\"\"\n",
    "df_master['NoOf_IceCreamShops'] =\"\"\n",
    "\n",
    "#loop through each row\n",
    "for index,row in df_master.iterrows():\n",
    "    shops = get_fSquareResult(df_master.at[index,'Latitude'], df_master.at[index,'Longitude'],'Ice Cream')\n",
    "    schools = get_fSquareResult(df_master.at[index,'Latitude'], df_master.at[index,'Longitude'],'school')\n",
    "    df_master.at[index, 'NoOf_IceCreamShops']=len(shops['response']['venues'])\n",
    "    df_master.at[index, 'NoOf_Schools']=len(schools['response']['venues'])\n"
   ]
  },
  {
   "cell_type": "code",
   "execution_count": 160,
   "metadata": {},
   "outputs": [
    {
     "data": {
      "text/html": [
       "<div>\n",
       "<style scoped>\n",
       "    .dataframe tbody tr th:only-of-type {\n",
       "        vertical-align: middle;\n",
       "    }\n",
       "\n",
       "    .dataframe tbody tr th {\n",
       "        vertical-align: top;\n",
       "    }\n",
       "\n",
       "    .dataframe thead th {\n",
       "        text-align: right;\n",
       "    }\n",
       "</style>\n",
       "<table border=\"1\" class=\"dataframe\">\n",
       "  <thead>\n",
       "    <tr style=\"text-align: right;\">\n",
       "      <th></th>\n",
       "      <th>Area</th>\n",
       "      <th>Commercial_Rates</th>\n",
       "      <th>Longitude</th>\n",
       "      <th>Latitude</th>\n",
       "      <th>NoOf_Schools</th>\n",
       "      <th>NoOf_IceCreamShops</th>\n",
       "    </tr>\n",
       "  </thead>\n",
       "  <tbody>\n",
       "    <tr>\n",
       "      <th>1</th>\n",
       "      <td>MG Road</td>\n",
       "      <td>20000.0</td>\n",
       "      <td>77.6124</td>\n",
       "      <td>12.9742</td>\n",
       "      <td>3</td>\n",
       "      <td>2</td>\n",
       "    </tr>\n",
       "    <tr>\n",
       "      <th>2</th>\n",
       "      <td>Kasturba Rd</td>\n",
       "      <td>15000.0</td>\n",
       "      <td>77.5993</td>\n",
       "      <td>12.9767</td>\n",
       "      <td>3</td>\n",
       "      <td>7</td>\n",
       "    </tr>\n",
       "    <tr>\n",
       "      <th>4</th>\n",
       "      <td>Church Street</td>\n",
       "      <td>15000.0</td>\n",
       "      <td>77.6525</td>\n",
       "      <td>12.9743</td>\n",
       "      <td>4</td>\n",
       "      <td>0</td>\n",
       "    </tr>\n",
       "    <tr>\n",
       "      <th>5</th>\n",
       "      <td>Dickenson Rd</td>\n",
       "      <td>12500.0</td>\n",
       "      <td>77.6107</td>\n",
       "      <td>12.9809</td>\n",
       "      <td>3</td>\n",
       "      <td>1</td>\n",
       "    </tr>\n",
       "    <tr>\n",
       "      <th>6</th>\n",
       "      <td>Ashokanagar</td>\n",
       "      <td>5000.0</td>\n",
       "      <td>77.5646</td>\n",
       "      <td>12.9377</td>\n",
       "      <td>5</td>\n",
       "      <td>1</td>\n",
       "    </tr>\n",
       "  </tbody>\n",
       "</table>\n",
       "</div>"
      ],
      "text/plain": [
       "            Area  Commercial_Rates Longitude Latitude NoOf_Schools  \\\n",
       "1        MG Road           20000.0   77.6124  12.9742            3   \n",
       "2    Kasturba Rd           15000.0   77.5993  12.9767            3   \n",
       "4  Church Street           15000.0   77.6525  12.9743            4   \n",
       "5   Dickenson Rd           12500.0   77.6107  12.9809            3   \n",
       "6    Ashokanagar            5000.0   77.5646  12.9377            5   \n",
       "\n",
       "  NoOf_IceCreamShops  \n",
       "1                  2  \n",
       "2                  7  \n",
       "4                  0  \n",
       "5                  1  \n",
       "6                  1  "
      ]
     },
     "execution_count": 160,
     "metadata": {},
     "output_type": "execute_result"
    }
   ],
   "source": [
    "df_master.head(5)"
   ]
  },
  {
   "cell_type": "markdown",
   "metadata": {},
   "source": [
    "##### This data gives us a fair idea of how the count of schools is in ratio with number of ice cream shops in that region."
   ]
  },
  {
   "cell_type": "code",
   "execution_count": 161,
   "metadata": {},
   "outputs": [],
   "source": [
    "# use the inline backend to generate the plots within the browser\n",
    "%matplotlib inline \n",
    "\n",
    "import matplotlib as mpl\n",
    "import matplotlib.pyplot as plt\n",
    "\n",
    "mpl.style.use('ggplot') # optional: for ggplot-like style"
   ]
  },
  {
   "cell_type": "code",
   "execution_count": 175,
   "metadata": {},
   "outputs": [],
   "source": [
    "df_plot = df_master[['Area', 'NoOf_Schools','NoOf_IceCreamShops']]\n"
   ]
  },
  {
   "cell_type": "code",
   "execution_count": 176,
   "metadata": {},
   "outputs": [
    {
     "data": {
      "text/html": [
       "<div>\n",
       "<style scoped>\n",
       "    .dataframe tbody tr th:only-of-type {\n",
       "        vertical-align: middle;\n",
       "    }\n",
       "\n",
       "    .dataframe tbody tr th {\n",
       "        vertical-align: top;\n",
       "    }\n",
       "\n",
       "    .dataframe thead th {\n",
       "        text-align: right;\n",
       "    }\n",
       "</style>\n",
       "<table border=\"1\" class=\"dataframe\">\n",
       "  <thead>\n",
       "    <tr style=\"text-align: right;\">\n",
       "      <th></th>\n",
       "      <th>NoOf_Schools</th>\n",
       "      <th>NoOf_IceCreamShops</th>\n",
       "    </tr>\n",
       "    <tr>\n",
       "      <th>Area</th>\n",
       "      <th></th>\n",
       "      <th></th>\n",
       "    </tr>\n",
       "  </thead>\n",
       "  <tbody>\n",
       "    <tr>\n",
       "      <th>MG Road</th>\n",
       "      <td>3</td>\n",
       "      <td>2</td>\n",
       "    </tr>\n",
       "    <tr>\n",
       "      <th>Kasturba Rd</th>\n",
       "      <td>3</td>\n",
       "      <td>7</td>\n",
       "    </tr>\n",
       "    <tr>\n",
       "      <th>Church Street</th>\n",
       "      <td>4</td>\n",
       "      <td>0</td>\n",
       "    </tr>\n",
       "    <tr>\n",
       "      <th>Dickenson Rd</th>\n",
       "      <td>3</td>\n",
       "      <td>1</td>\n",
       "    </tr>\n",
       "    <tr>\n",
       "      <th>Ashokanagar</th>\n",
       "      <td>5</td>\n",
       "      <td>1</td>\n",
       "    </tr>\n",
       "    <tr>\n",
       "      <th>...</th>\n",
       "      <td>...</td>\n",
       "      <td>...</td>\n",
       "    </tr>\n",
       "    <tr>\n",
       "      <th>Ejipura</th>\n",
       "      <td>2</td>\n",
       "      <td>2</td>\n",
       "    </tr>\n",
       "    <tr>\n",
       "      <th>Koramangala</th>\n",
       "      <td>0</td>\n",
       "      <td>0</td>\n",
       "    </tr>\n",
       "    <tr>\n",
       "      <th>Madivala</th>\n",
       "      <td>1</td>\n",
       "      <td>3</td>\n",
       "    </tr>\n",
       "    <tr>\n",
       "      <th>Electronic City</th>\n",
       "      <td>1</td>\n",
       "      <td>0</td>\n",
       "    </tr>\n",
       "    <tr>\n",
       "      <th>Sarjapur Rd</th>\n",
       "      <td>3</td>\n",
       "      <td>0</td>\n",
       "    </tr>\n",
       "  </tbody>\n",
       "</table>\n",
       "<p>118 rows × 2 columns</p>\n",
       "</div>"
      ],
      "text/plain": [
       "                NoOf_Schools NoOf_IceCreamShops\n",
       "Area                                           \n",
       "MG Road                    3                  2\n",
       "Kasturba Rd                3                  7\n",
       "Church Street              4                  0\n",
       "Dickenson Rd               3                  1\n",
       "Ashokanagar                5                  1\n",
       "...                      ...                ...\n",
       "Ejipura                    2                  2\n",
       "Koramangala                0                  0\n",
       "Madivala                   1                  3\n",
       "Electronic City            1                  0\n",
       "Sarjapur Rd                3                  0\n",
       "\n",
       "[118 rows x 2 columns]"
      ]
     },
     "execution_count": 176,
     "metadata": {},
     "output_type": "execute_result"
    }
   ],
   "source": [
    "df_plot.set_index('Area')"
   ]
  },
  {
   "cell_type": "code",
   "execution_count": 214,
   "metadata": {},
   "outputs": [
    {
     "data": {
      "image/png": "[encoded data removed]",
      "text/plain": [
       "<Figure size 2160x720 with 1 Axes>"
      ]
     },
     "metadata": {},
     "output_type": "display_data"
    }
   ],
   "source": [
    "# generate graph to understand the relationship between number of shops v/s schools\n",
    "df_plot.plot(kind='bar', figsize=(30, 10))\n",
    "\n",
    "plt.title('Graph to depict relation between no. of shops v/s no. of schools')\n",
    "plt.ylabel('Count')\n",
    "plt.xlabel('Area')\n",
    "\n",
    "plt.show()"
   ]
  },
  {
   "cell_type": "markdown",
   "metadata": {},
   "source": [
    "## Analysis <a name=\"analysis\"></a>"
   ]
  },
  {
   "cell_type": "markdown",
   "metadata": {},
   "source": [
    "##### To study the actual relationship, we need to calculate the ratio of Number of Schools with Number of Shops. Let's name it as __Opportunity Ratio__.\n",
    "##### We will be formulating some rules for avoiding complex calculation\n",
    "##### 1. If number of Schools == 0 then, ratio will be = 0 \n",
    "##### 2. If number of Shops == 0 then, ratio will be = 10 * No. of Schools"
   ]
  },
  {
   "cell_type": "code",
   "execution_count": 184,
   "metadata": {},
   "outputs": [],
   "source": [
    "df_master['OpportunityRatio']=\"\"\n",
    "for index,row in df_master.iterrows():\n",
    "    if(row.NoOf_Schools == 0):\n",
    "        df_master.at[index,'OpportunityRatio'] = 0\n",
    "    elif(row.NoOf_IceCreamShops == 0):\n",
    "        df_master.at[index,'OpportunityRatio'] = 10 * row.NoOf_Schools\n",
    "    else:\n",
    "        df_master.at[index,'OpportunityRatio'] = row.NoOf_Schools / row.NoOf_IceCreamShops\n",
    "     "
   ]
  },
  {
   "cell_type": "code",
   "execution_count": 197,
   "metadata": {},
   "outputs": [],
   "source": [
    "df_master.sort_values('OpportunityRatio', inplace=True, ascending=False)"
   ]
  },
  {
   "cell_type": "code",
   "execution_count": 199,
   "metadata": {},
   "outputs": [
    {
     "data": {
      "text/html": [
       "<div>\n",
       "<style scoped>\n",
       "    .dataframe tbody tr th:only-of-type {\n",
       "        vertical-align: middle;\n",
       "    }\n",
       "\n",
       "    .dataframe tbody tr th {\n",
       "        vertical-align: top;\n",
       "    }\n",
       "\n",
       "    .dataframe thead th {\n",
       "        text-align: right;\n",
       "    }\n",
       "</style>\n",
       "<table border=\"1\" class=\"dataframe\">\n",
       "  <thead>\n",
       "    <tr style=\"text-align: right;\">\n",
       "      <th></th>\n",
       "      <th>Area</th>\n",
       "      <th>Commercial_Rates</th>\n",
       "      <th>Longitude</th>\n",
       "      <th>Latitude</th>\n",
       "      <th>NoOf_Schools</th>\n",
       "      <th>NoOf_IceCreamShops</th>\n",
       "      <th>OpportunityRatio</th>\n",
       "    </tr>\n",
       "  </thead>\n",
       "  <tbody>\n",
       "    <tr>\n",
       "      <th>23</th>\n",
       "      <td>Vittal Mallya Rd</td>\n",
       "      <td>15000.0</td>\n",
       "      <td>77.5948</td>\n",
       "      <td>12.9671</td>\n",
       "      <td>7</td>\n",
       "      <td>0</td>\n",
       "      <td>70</td>\n",
       "    </tr>\n",
       "    <tr>\n",
       "      <th>27</th>\n",
       "      <td>Rajaram Mohan Roy Rd</td>\n",
       "      <td>10000.0</td>\n",
       "      <td>77.5968</td>\n",
       "      <td>12.9648</td>\n",
       "      <td>6</td>\n",
       "      <td>0</td>\n",
       "      <td>60</td>\n",
       "    </tr>\n",
       "    <tr>\n",
       "      <th>63</th>\n",
       "      <td>HMT Layout</td>\n",
       "      <td>4000.0</td>\n",
       "      <td>77.5921</td>\n",
       "      <td>13.0277</td>\n",
       "      <td>6</td>\n",
       "      <td>0</td>\n",
       "      <td>60</td>\n",
       "    </tr>\n",
       "    <tr>\n",
       "      <th>18</th>\n",
       "      <td>Richmond Town</td>\n",
       "      <td>8000.0</td>\n",
       "      <td>77.6042</td>\n",
       "      <td>12.9627</td>\n",
       "      <td>5</td>\n",
       "      <td>0</td>\n",
       "      <td>50</td>\n",
       "    </tr>\n",
       "    <tr>\n",
       "      <th>153</th>\n",
       "      <td>Mission Rd</td>\n",
       "      <td>8000.0</td>\n",
       "      <td>77.5969</td>\n",
       "      <td>12.9646</td>\n",
       "      <td>5</td>\n",
       "      <td>0</td>\n",
       "      <td>50</td>\n",
       "    </tr>\n",
       "    <tr>\n",
       "      <th>4</th>\n",
       "      <td>Church Street</td>\n",
       "      <td>15000.0</td>\n",
       "      <td>77.6525</td>\n",
       "      <td>12.9743</td>\n",
       "      <td>4</td>\n",
       "      <td>0</td>\n",
       "      <td>40</td>\n",
       "    </tr>\n",
       "    <tr>\n",
       "      <th>102</th>\n",
       "      <td>Hennur Rd</td>\n",
       "      <td>3500.0</td>\n",
       "      <td>77.6305</td>\n",
       "      <td>13.0258</td>\n",
       "      <td>4</td>\n",
       "      <td>0</td>\n",
       "      <td>40</td>\n",
       "    </tr>\n",
       "    <tr>\n",
       "      <th>79</th>\n",
       "      <td>Sanjaynagar</td>\n",
       "      <td>5000.0</td>\n",
       "      <td>77.5844</td>\n",
       "      <td>13.023</td>\n",
       "      <td>3</td>\n",
       "      <td>0</td>\n",
       "      <td>30</td>\n",
       "    </tr>\n",
       "    <tr>\n",
       "      <th>14</th>\n",
       "      <td>Millers Rd</td>\n",
       "      <td>10000.0</td>\n",
       "      <td>77.5892</td>\n",
       "      <td>12.9857</td>\n",
       "      <td>3</td>\n",
       "      <td>0</td>\n",
       "      <td>30</td>\n",
       "    </tr>\n",
       "    <tr>\n",
       "      <th>129</th>\n",
       "      <td>Promenade Road</td>\n",
       "      <td>10000.0</td>\n",
       "      <td>77.6178</td>\n",
       "      <td>12.9899</td>\n",
       "      <td>3</td>\n",
       "      <td>0</td>\n",
       "      <td>30</td>\n",
       "    </tr>\n",
       "  </tbody>\n",
       "</table>\n",
       "</div>"
      ],
      "text/plain": [
       "                     Area  Commercial_Rates Longitude Latitude NoOf_Schools  \\\n",
       "23       Vittal Mallya Rd           15000.0   77.5948  12.9671            7   \n",
       "27   Rajaram Mohan Roy Rd           10000.0   77.5968  12.9648            6   \n",
       "63             HMT Layout            4000.0   77.5921  13.0277            6   \n",
       "18          Richmond Town            8000.0   77.6042  12.9627            5   \n",
       "153            Mission Rd            8000.0   77.5969  12.9646            5   \n",
       "4           Church Street           15000.0   77.6525  12.9743            4   \n",
       "102             Hennur Rd            3500.0   77.6305  13.0258            4   \n",
       "79            Sanjaynagar            5000.0   77.5844   13.023            3   \n",
       "14             Millers Rd           10000.0   77.5892  12.9857            3   \n",
       "129        Promenade Road           10000.0   77.6178  12.9899            3   \n",
       "\n",
       "    NoOf_IceCreamShops OpportunityRatio  \n",
       "23                   0               70  \n",
       "27                   0               60  \n",
       "63                   0               60  \n",
       "18                   0               50  \n",
       "153                  0               50  \n",
       "4                    0               40  \n",
       "102                  0               40  \n",
       "79                   0               30  \n",
       "14                   0               30  \n",
       "129                  0               30  "
      ]
     },
     "execution_count": 199,
     "metadata": {},
     "output_type": "execute_result"
    }
   ],
   "source": [
    "df_master.head(10)"
   ]
  },
  {
   "cell_type": "markdown",
   "metadata": {},
   "source": [
    "### Data Normalization"
   ]
  },
  {
   "cell_type": "markdown",
   "metadata": {},
   "source": [
    "##### Finally, any outcome should be affordable thus we need to consider one more factor into consideration\n",
    "\n",
    "##### Our final decision of choosing the right Area will be based upon two factors \n",
    "##### 1. Area with __high Opportunity Ratio__\n",
    "##### 2. Area with __low Commercial Rate__"
   ]
  },
  {
   "cell_type": "markdown",
   "metadata": {},
   "source": [
    "For, doing the same we need to normalize both __Commercial_Rates__ and __OpportunityRatio__ so that they are easily comparable. "
   ]
  },
  {
   "cell_type": "markdown",
   "metadata": {},
   "source": [
    "Normalization is the process of transforming values of several variables into a similar range. Typical in normalizations value ranges from 0 to 1"
   ]
  },
  {
   "cell_type": "code",
   "execution_count": 201,
   "metadata": {},
   "outputs": [],
   "source": [
    "#Normalizing master dataframe\n",
    "df_master['Commercial_Rates'] = df_master['Commercial_Rates']/df_master['Commercial_Rates'].max()\n",
    "df_master['OpportunityRatio'] = df_master['OpportunityRatio']/df_master['OpportunityRatio'].max()"
   ]
  },
  {
   "cell_type": "markdown",
   "metadata": {},
   "source": [
    "##### Let's check the result"
   ]
  },
  {
   "cell_type": "code",
   "execution_count": 202,
   "metadata": {},
   "outputs": [],
   "source": [
    "df_final = df_master[['Area', 'Commercial_Rates','OpportunityRatio']]"
   ]
  },
  {
   "cell_type": "code",
   "execution_count": 204,
   "metadata": {},
   "outputs": [
    {
     "data": {
      "text/html": [
       "<div>\n",
       "<style scoped>\n",
       "    .dataframe tbody tr th:only-of-type {\n",
       "        vertical-align: middle;\n",
       "    }\n",
       "\n",
       "    .dataframe tbody tr th {\n",
       "        vertical-align: top;\n",
       "    }\n",
       "\n",
       "    .dataframe thead th {\n",
       "        text-align: right;\n",
       "    }\n",
       "</style>\n",
       "<table border=\"1\" class=\"dataframe\">\n",
       "  <thead>\n",
       "    <tr style=\"text-align: right;\">\n",
       "      <th></th>\n",
       "      <th>Commercial_Rates</th>\n",
       "      <th>OpportunityRatio</th>\n",
       "    </tr>\n",
       "    <tr>\n",
       "      <th>Area</th>\n",
       "      <th></th>\n",
       "      <th></th>\n",
       "    </tr>\n",
       "  </thead>\n",
       "  <tbody>\n",
       "    <tr>\n",
       "      <th>Vittal Mallya Rd</th>\n",
       "      <td>0.60</td>\n",
       "      <td>1</td>\n",
       "    </tr>\n",
       "    <tr>\n",
       "      <th>Rajaram Mohan Roy Rd</th>\n",
       "      <td>0.40</td>\n",
       "      <td>0.857143</td>\n",
       "    </tr>\n",
       "    <tr>\n",
       "      <th>HMT Layout</th>\n",
       "      <td>0.16</td>\n",
       "      <td>0.857143</td>\n",
       "    </tr>\n",
       "    <tr>\n",
       "      <th>Richmond Town</th>\n",
       "      <td>0.32</td>\n",
       "      <td>0.714286</td>\n",
       "    </tr>\n",
       "    <tr>\n",
       "      <th>Mission Rd</th>\n",
       "      <td>0.32</td>\n",
       "      <td>0.714286</td>\n",
       "    </tr>\n",
       "    <tr>\n",
       "      <th>...</th>\n",
       "      <td>...</td>\n",
       "      <td>...</td>\n",
       "    </tr>\n",
       "    <tr>\n",
       "      <th>Chandra Layout</th>\n",
       "      <td>0.16</td>\n",
       "      <td>0</td>\n",
       "    </tr>\n",
       "    <tr>\n",
       "      <th>Viveknagar</th>\n",
       "      <td>0.16</td>\n",
       "      <td>0</td>\n",
       "    </tr>\n",
       "    <tr>\n",
       "      <th>Kamanahalli</th>\n",
       "      <td>0.16</td>\n",
       "      <td>0</td>\n",
       "    </tr>\n",
       "    <tr>\n",
       "      <th>Bannerghatta Rd</th>\n",
       "      <td>0.18</td>\n",
       "      <td>0</td>\n",
       "    </tr>\n",
       "    <tr>\n",
       "      <th>Peenya</th>\n",
       "      <td>0.06</td>\n",
       "      <td>0</td>\n",
       "    </tr>\n",
       "  </tbody>\n",
       "</table>\n",
       "<p>118 rows × 2 columns</p>\n",
       "</div>"
      ],
      "text/plain": [
       "                      Commercial_Rates OpportunityRatio\n",
       "Area                                                   \n",
       "Vittal Mallya Rd                  0.60                1\n",
       "Rajaram Mohan Roy Rd              0.40         0.857143\n",
       "HMT Layout                        0.16         0.857143\n",
       "Richmond Town                     0.32         0.714286\n",
       "Mission Rd                        0.32         0.714286\n",
       "...                                ...              ...\n",
       "Chandra Layout                    0.16                0\n",
       "Viveknagar                        0.16                0\n",
       "Kamanahalli                       0.16                0\n",
       "Bannerghatta Rd                   0.18                0\n",
       "Peenya                            0.06                0\n",
       "\n",
       "[118 rows x 2 columns]"
      ]
     },
     "execution_count": 204,
     "metadata": {},
     "output_type": "execute_result"
    }
   ],
   "source": [
    "df_final.reset_index()\n",
    "df_final.set_index('Area')"
   ]
  },
  {
   "cell_type": "code",
   "execution_count": 207,
   "metadata": {},
   "outputs": [
    {
     "data": {
      "image/png": "[encoded data removed]",
      "text/plain": [
       "<Figure size 2160x720 with 1 Axes>"
      ]
     },
     "metadata": {},
     "output_type": "display_data"
    }
   ],
   "source": [
    "# generate graph to understand the relationship between number of shops v/s schools\n",
    "df_final.plot(kind='bar', figsize=(30, 10))\n",
    "\n",
    "plt.title('Graph to depict relation between Commercial_Rates v/s OpportunityRatio')\n",
    "plt.ylabel('Count')\n",
    "plt.xlabel('Area')\n",
    "\n",
    "plt.show()"
   ]
  },
  {
   "cell_type": "code",
   "execution_count": 209,
   "metadata": {},
   "outputs": [
    {
     "data": {
      "text/html": [
       "<div>\n",
       "<style scoped>\n",
       "    .dataframe tbody tr th:only-of-type {\n",
       "        vertical-align: middle;\n",
       "    }\n",
       "\n",
       "    .dataframe tbody tr th {\n",
       "        vertical-align: top;\n",
       "    }\n",
       "\n",
       "    .dataframe thead th {\n",
       "        text-align: right;\n",
       "    }\n",
       "</style>\n",
       "<table border=\"1\" class=\"dataframe\">\n",
       "  <thead>\n",
       "    <tr style=\"text-align: right;\">\n",
       "      <th></th>\n",
       "      <th>Area</th>\n",
       "      <th>Commercial_Rates</th>\n",
       "      <th>OpportunityRatio</th>\n",
       "    </tr>\n",
       "  </thead>\n",
       "  <tbody>\n",
       "    <tr>\n",
       "      <th>23</th>\n",
       "      <td>Vittal Mallya Rd</td>\n",
       "      <td>0.60</td>\n",
       "      <td>1</td>\n",
       "    </tr>\n",
       "    <tr>\n",
       "      <th>63</th>\n",
       "      <td>HMT Layout</td>\n",
       "      <td>0.16</td>\n",
       "      <td>0.857143</td>\n",
       "    </tr>\n",
       "    <tr>\n",
       "      <th>27</th>\n",
       "      <td>Rajaram Mohan Roy Rd</td>\n",
       "      <td>0.40</td>\n",
       "      <td>0.857143</td>\n",
       "    </tr>\n",
       "    <tr>\n",
       "      <th>18</th>\n",
       "      <td>Richmond Town</td>\n",
       "      <td>0.32</td>\n",
       "      <td>0.714286</td>\n",
       "    </tr>\n",
       "    <tr>\n",
       "      <th>153</th>\n",
       "      <td>Mission Rd</td>\n",
       "      <td>0.32</td>\n",
       "      <td>0.714286</td>\n",
       "    </tr>\n",
       "    <tr>\n",
       "      <th>102</th>\n",
       "      <td>Hennur Rd</td>\n",
       "      <td>0.14</td>\n",
       "      <td>0.571429</td>\n",
       "    </tr>\n",
       "    <tr>\n",
       "      <th>4</th>\n",
       "      <td>Church Street</td>\n",
       "      <td>0.60</td>\n",
       "      <td>0.571429</td>\n",
       "    </tr>\n",
       "    <tr>\n",
       "      <th>65</th>\n",
       "      <td>Jalahalli</td>\n",
       "      <td>0.12</td>\n",
       "      <td>0.428571</td>\n",
       "    </tr>\n",
       "    <tr>\n",
       "      <th>70</th>\n",
       "      <td>Sahakarnagar</td>\n",
       "      <td>0.12</td>\n",
       "      <td>0.428571</td>\n",
       "    </tr>\n",
       "    <tr>\n",
       "      <th>92</th>\n",
       "      <td>Lingarajpuram</td>\n",
       "      <td>0.14</td>\n",
       "      <td>0.428571</td>\n",
       "    </tr>\n",
       "  </tbody>\n",
       "</table>\n",
       "</div>"
      ],
      "text/plain": [
       "                     Area  Commercial_Rates OpportunityRatio\n",
       "23       Vittal Mallya Rd              0.60                1\n",
       "63             HMT Layout              0.16         0.857143\n",
       "27   Rajaram Mohan Roy Rd              0.40         0.857143\n",
       "18          Richmond Town              0.32         0.714286\n",
       "153            Mission Rd              0.32         0.714286\n",
       "102             Hennur Rd              0.14         0.571429\n",
       "4           Church Street              0.60         0.571429\n",
       "65              Jalahalli              0.12         0.428571\n",
       "70           Sahakarnagar              0.12         0.428571\n",
       "92          Lingarajpuram              0.14         0.428571"
      ]
     },
     "execution_count": 209,
     "metadata": {},
     "output_type": "execute_result"
    }
   ],
   "source": [
    "dt = df_final.sort_values(by=['OpportunityRatio','Commercial_Rates'],  ascending=[False,True])\n",
    "dt.head(10)"
   ]
  },
  {
   "cell_type": "markdown",
   "metadata": {},
   "source": [
    "## Results and Discussion <a name=\"results\"></a>"
   ]
  },
  {
   "cell_type": "markdown",
   "metadata": {},
   "source": [
    "We have started with collecting the data of real estate values of most famous area/neighborhoods in the city of Bangalore. Bangalore is a big city having a large number schools and also ice cream outlets. We have focused our study only on most famous areas and avoided other regions. Thought process behind this decision is to avoid those regions where we expect less profit margins and which have less scope of future growth.\n",
    "\n",
    "Our study is based upon the thumb rule that, kids and youngsters are more attracted towards ice cream compared to other age groups. So opening a store near to a place where the density of this age group is high will help outlet to maximize its consumer base.\n",
    "\n",
    "Having said that, on analysing the given dataset we have marked the Areas with maximum potential of growth. We have noticed that area __HMT Layout__ can be potential candidate for our future venture. As, it  possess both the characteristics of high 'Opportunity Ratio' and low industrial cost compare to other areas. There are other options also available for the business person to choose from."
   ]
  },
  {
   "cell_type": "markdown",
   "metadata": {},
   "source": [
    "## Conclusion <a name=\"conclusion\"></a>"
   ]
  },
  {
   "cell_type": "markdown",
   "metadata": {},
   "source": [
    "It is evident from our study that the combination with maximum opportunity ration (i.e. the Area which has a high number of schools to number of ice cream shops ratio) and least expenditure cost will be an ideal choice for the business person to open a new ice cream outlet. "
   ]
  },
  {
   "cell_type": "code",
   "execution_count": null,
   "metadata": {},
   "outputs": [],
   "source": []
  }
 ],
 "metadata": {
  "kernelspec": {
   "display_name": "Python",
   "language": "python",
   "name": "conda-env-python-py"
  },
  "language_info": {
   "codemirror_mode": {
    "name": "ipython",
    "version": 3
   },
   "file_extension": ".py",
   "mimetype": "text/x-python",
   "name": "python",
   "nbconvert_exporter": "python",
   "pygments_lexer": "ipython3",
   "version": "3.6.10"
  }
 },
 "nbformat": 4,
 "nbformat_minor": 4
}
